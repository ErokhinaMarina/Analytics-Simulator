{
 "cells": [
  {
   "cell_type": "markdown",
   "id": "01c327ca",
   "metadata": {
    "toc": true
   },
   "source": [
    "<h1>Содержание<span class=\"tocSkip\"></span></h1>\n",
    "<div class=\"toc\"><ul class=\"toc-item\"><li><span><a href=\"#Лента-новостей---основное\" data-toc-modified-id=\"Лента-новостей---основное-1\"><span class=\"toc-item-num\">1&nbsp;&nbsp;</span>Лента новостей - основное</a></span><ul class=\"toc-item\"><li><span><a href=\"#Аудиторные-данные\" data-toc-modified-id=\"Аудиторные-данные-1.1\"><span class=\"toc-item-num\">1.1&nbsp;&nbsp;</span>Аудиторные данные</a></span><ul class=\"toc-item\"><li><span><a href=\"#DAU\" data-toc-modified-id=\"DAU-1.1.1\"><span class=\"toc-item-num\">1.1.1&nbsp;&nbsp;</span>DAU</a></span></li><li><span><a href=\"#WAU\" data-toc-modified-id=\"WAU-1.1.2\"><span class=\"toc-item-num\">1.1.2&nbsp;&nbsp;</span>WAU</a></span></li><li><span><a href=\"#MAU\" data-toc-modified-id=\"MAU-1.1.3\"><span class=\"toc-item-num\">1.1.3&nbsp;&nbsp;</span>MAU</a></span></li></ul></li><li><span><a href=\"#Основные-события\" data-toc-modified-id=\"Основные-события-1.2\"><span class=\"toc-item-num\">1.2&nbsp;&nbsp;</span>Основные события</a></span><ul class=\"toc-item\"><li><span><a href=\"#Лайки-и-просмотры\" data-toc-modified-id=\"Лайки-и-просмотры-1.2.1\"><span class=\"toc-item-num\">1.2.1&nbsp;&nbsp;</span>Лайки и просмотры</a></span></li><li><span><a href=\"#CTR\" data-toc-modified-id=\"CTR-1.2.2\"><span class=\"toc-item-num\">1.2.2&nbsp;&nbsp;</span>CTR</a></span></li><li><span><a href=\"#Топ-постов\" data-toc-modified-id=\"Топ-постов-1.2.3\"><span class=\"toc-item-num\">1.2.3&nbsp;&nbsp;</span>Топ постов</a></span></li></ul></li></ul></li><li><span><a href=\"#Взаимодействие-двух-сервисов-—-лента-и-месседжер\" data-toc-modified-id=\"Взаимодействие-двух-сервисов-—-лента-и-месседжер-2\"><span class=\"toc-item-num\">2&nbsp;&nbsp;</span>Взаимодействие двух сервисов — лента и месседжер</a></span><ul class=\"toc-item\"><li><span><a href=\"#Общая-информация-и-фильтры\" data-toc-modified-id=\"Общая-информация-и-фильтры-2.1\"><span class=\"toc-item-num\">2.1&nbsp;&nbsp;</span>Общая информация и фильтры</a></span><ul class=\"toc-item\"><li><span><a href=\"#Пользователи-ленты\" data-toc-modified-id=\"Пользователи-ленты-2.1.1\"><span class=\"toc-item-num\">2.1.1&nbsp;&nbsp;</span>Пользователи ленты</a></span></li><li><span><a href=\"#Пользователи-месседжера\" data-toc-modified-id=\"Пользователи-месседжера-2.1.2\"><span class=\"toc-item-num\">2.1.2&nbsp;&nbsp;</span>Пользователи месседжера</a></span></li><li><span><a href=\"#Количество-постов\" data-toc-modified-id=\"Количество-постов-2.1.3\"><span class=\"toc-item-num\">2.1.3&nbsp;&nbsp;</span>Количество постов</a></span></li><li><span><a href=\"#Отправлено-сообщений\" data-toc-modified-id=\"Отправлено-сообщений-2.1.4\"><span class=\"toc-item-num\">2.1.4&nbsp;&nbsp;</span>Отправлено сообщений</a></span></li></ul></li><li><span><a href=\"#Аудиторные-данные\" data-toc-modified-id=\"Аудиторные-данные-2.2\"><span class=\"toc-item-num\">2.2&nbsp;&nbsp;</span>Аудиторные данные</a></span><ul class=\"toc-item\"><li><span><a href=\"#DAU\" data-toc-modified-id=\"DAU-2.2.1\"><span class=\"toc-item-num\">2.2.1&nbsp;&nbsp;</span>DAU</a></span></li><li><span><a href=\"#WAU\" data-toc-modified-id=\"WAU-2.2.2\"><span class=\"toc-item-num\">2.2.2&nbsp;&nbsp;</span>WAU</a></span></li><li><span><a href=\"#MAU\" data-toc-modified-id=\"MAU-2.2.3\"><span class=\"toc-item-num\">2.2.3&nbsp;&nbsp;</span>MAU</a></span></li></ul></li><li><span><a href=\"#Основные-события\" data-toc-modified-id=\"Основные-события-2.3\"><span class=\"toc-item-num\">2.3&nbsp;&nbsp;</span>Основные события</a></span><ul class=\"toc-item\"><li><span><a href=\"#Пользователи,-только-пользующиеся-лентой-новостей\" data-toc-modified-id=\"Пользователи,-только-пользующиеся-лентой-новостей-2.3.1\"><span class=\"toc-item-num\">2.3.1&nbsp;&nbsp;</span>Пользователи, только пользующиеся лентой новостей</a></span></li><li><span><a href=\"#Пользователи,-только-отправляющие-сообщения\" data-toc-modified-id=\"Пользователи,-только-отправляющие-сообщения-2.3.2\"><span class=\"toc-item-num\">2.3.2&nbsp;&nbsp;</span>Пользователи, только отправляющие сообщения</a></span></li><li><span><a href=\"#Использование-сервисов-пользователями\" data-toc-modified-id=\"Использование-сервисов-пользователями-2.3.3\"><span class=\"toc-item-num\">2.3.3&nbsp;&nbsp;</span>Использование сервисов пользователями</a></span></li></ul></li></ul></li></ul></div>"
   ]
  },
  {
   "cell_type": "markdown",
   "id": "3df818f6",
   "metadata": {},
   "source": [
    "## Лента новостей - основное"
   ]
  },
  {
   "cell_type": "markdown",
   "id": "22beb6b9",
   "metadata": {},
   "source": [
    "### Аудиторные данные"
   ]
  },
  {
   "cell_type": "markdown",
   "id": "aa79b55d",
   "metadata": {},
   "source": [
    "#### DAU"
   ]
  },
  {
   "cell_type": "code",
   "execution_count": null,
   "id": "c0681777",
   "metadata": {},
   "outputs": [],
   "source": [
    "SELECT toStartOfDay(toDateTime(time)) AS __timestamp,\n",
    "       count(DISTINCT user_id) AS \"Уникальные пользователи\"\n",
    "FROM feed_actions\n",
    "GROUP BY toStartOfDay(toDateTime(time))\n",
    "ORDER BY \"Уникальные пользователи\" DESC\n",
    "LIMIT 50000;"
   ]
  },
  {
   "cell_type": "markdown",
   "id": "07fb5ef7",
   "metadata": {},
   "source": [
    "#### WAU"
   ]
  },
  {
   "cell_type": "code",
   "execution_count": null,
   "id": "cf705fa3",
   "metadata": {},
   "outputs": [],
   "source": [
    "SELECT toMonday(toDateTime(time)) AS __timestamp,\n",
    "       count(DISTINCT user_id) AS \"Уникальные пользователи\"\n",
    "FROM feed_actions\n",
    "GROUP BY toMonday(toDateTime(time))\n",
    "ORDER BY \"Уникальные пользователи\" DESC\n",
    "LIMIT 50000;"
   ]
  },
  {
   "cell_type": "markdown",
   "id": "80fbe6eb",
   "metadata": {},
   "source": [
    "#### MAU"
   ]
  },
  {
   "cell_type": "code",
   "execution_count": null,
   "id": "1c8eeeab",
   "metadata": {},
   "outputs": [],
   "source": [
    "SELECT toStartOfMonth(toDateTime(time)) AS __timestamp,\n",
    "       count(DISTINCT user_id) AS \"Уникальные пользователи\"\n",
    "FROM feed_actions\n",
    "GROUP BY toStartOfMonth(toDateTime(time))\n",
    "ORDER BY \"Уникальные пользователи\" DESC\n",
    "LIMIT 50000;"
   ]
  },
  {
   "cell_type": "markdown",
   "id": "8946a2ab",
   "metadata": {},
   "source": [
    "### Основные события"
   ]
  },
  {
   "cell_type": "markdown",
   "id": "c563e6da",
   "metadata": {},
   "source": [
    "#### Лайки и просмотры"
   ]
  },
  {
   "cell_type": "code",
   "execution_count": null,
   "id": "07b2ba66",
   "metadata": {},
   "outputs": [],
   "source": [
    "SELECT toStartOfDay(toDateTime(time)) AS __timestamp,\n",
    "       action AS action,\n",
    "       count(user_id) AS \"События\"\n",
    "FROM feed_actions\n",
    "GROUP BY action,\n",
    "         toStartOfDay(toDateTime(time))\n",
    "ORDER BY \"События\" DESC\n",
    "LIMIT 50000;"
   ]
  },
  {
   "cell_type": "markdown",
   "id": "37eac9c1",
   "metadata": {},
   "source": [
    "#### CTR"
   ]
  },
  {
   "cell_type": "code",
   "execution_count": null,
   "id": "9a0cf291",
   "metadata": {},
   "outputs": [],
   "source": [
    "SELECT toStartOfDay(toDateTime(time)) AS __timestamp,\n",
    "       countIf(user_id, action='like')/countIf(user_id, action='view') AS \"CTR\"\n",
    "FROM feed_actions\n",
    "GROUP BY toStartOfDay(toDateTime(time))\n",
    "ORDER BY \"CTR\" DESC\n",
    "LIMIT 50000;"
   ]
  },
  {
   "cell_type": "markdown",
   "id": "926fd90a",
   "metadata": {},
   "source": [
    "#### Топ постов"
   ]
  },
  {
   "cell_type": "code",
   "execution_count": null,
   "id": "d733728c",
   "metadata": {},
   "outputs": [],
   "source": [
    "SELECT post_id AS post_id,\n",
    "       countIf(action='view') AS \"Просмотры\",\n",
    "       countIf(action='like') AS \"Лайки\",\n",
    "       countIf(user_id, action='like')/countIf(user_id, action='view') AS \"CTR\",\n",
    "       count(DISTINCT user_id) AS \"Охват\"\n",
    "FROM feed_actions\n",
    "GROUP BY post_id\n",
    "ORDER BY \"Просмотры\" DESC\n",
    "LIMIT 250;"
   ]
  },
  {
   "cell_type": "markdown",
   "id": "a1d6f6a6",
   "metadata": {},
   "source": [
    "## Взаимодействие двух сервисов — лента и месседжер"
   ]
  },
  {
   "cell_type": "markdown",
   "id": "f61f324c",
   "metadata": {},
   "source": [
    "### Общая информация и фильтры"
   ]
  },
  {
   "cell_type": "markdown",
   "id": "67330c04",
   "metadata": {},
   "source": [
    "#### Пользователи ленты"
   ]
  },
  {
   "cell_type": "code",
   "execution_count": null,
   "id": "e236d9a0",
   "metadata": {},
   "outputs": [],
   "source": [
    "SELECT count(DISTINCT user_id) AS \"Пользователи ленты\"\n",
    "FROM feed_actions;"
   ]
  },
  {
   "cell_type": "markdown",
   "id": "238c43c6",
   "metadata": {},
   "source": [
    "#### Пользователи месседжера"
   ]
  },
  {
   "cell_type": "code",
   "execution_count": null,
   "id": "adb556b0",
   "metadata": {},
   "outputs": [],
   "source": [
    "SELECT count(DISTINCT user_id) AS \"Пользователи месседжера\"\n",
    "FROM message_actions;"
   ]
  },
  {
   "cell_type": "markdown",
   "id": "66b6d4d8",
   "metadata": {},
   "source": [
    "#### Количество постов"
   ]
  },
  {
   "cell_type": "code",
   "execution_count": null,
   "id": "0ccd3074",
   "metadata": {},
   "outputs": [],
   "source": [
    "SELECT count(DISTINCT post_id) AS \"Количество постов\"\n",
    "FROM feed_actions;"
   ]
  },
  {
   "cell_type": "markdown",
   "id": "61b2a9bd",
   "metadata": {},
   "source": [
    "#### Отправлено сообщений"
   ]
  },
  {
   "cell_type": "code",
   "execution_count": null,
   "id": "57edde4f",
   "metadata": {},
   "outputs": [],
   "source": [
    "SELECT count(user_id) AS receiver\n",
    "FROM message_actions;"
   ]
  },
  {
   "cell_type": "markdown",
   "id": "4e66f589",
   "metadata": {},
   "source": [
    "### Аудиторные данные"
   ]
  },
  {
   "cell_type": "markdown",
   "id": "872eb80d",
   "metadata": {},
   "source": [
    "#### DAU"
   ]
  },
  {
   "cell_type": "code",
   "execution_count": null,
   "id": "3315bad7",
   "metadata": {},
   "outputs": [],
   "source": [
    "SELECT toStartOfDay(toDateTime(time)) AS __timestamp,\n",
    "       countIf(action == 'message') AS \"месседжер\",\n",
    "       countIf(action == 'feed') AS \"лента новостей\"\n",
    "FROM\n",
    "  (SELECT *\n",
    "   FROM\n",
    "     (SELECT user_id,\n",
    "             time,\n",
    "             gender,\n",
    "             age,\n",
    "             country,\n",
    "             city,\n",
    "             os,\n",
    "             source,\n",
    "             'message' as action\n",
    "      FROM message_actions\n",
    "      UNION ALL SELECT user_id,\n",
    "                       time,\n",
    "                       gender,\n",
    "                       age,\n",
    "                       country,\n",
    "                       city,\n",
    "                       os,\n",
    "                       source,\n",
    "                       'feed' as action\n",
    "      FROM feed_actions)) AS virtual_table\n",
    "GROUP BY toStartOfDay(toDateTime(time))\n",
    "ORDER BY \"месседжер\" DESC\n",
    "LIMIT 1000;"
   ]
  },
  {
   "cell_type": "markdown",
   "id": "a8ae2d27",
   "metadata": {},
   "source": [
    "#### WAU"
   ]
  },
  {
   "cell_type": "code",
   "execution_count": null,
   "id": "4f17042a",
   "metadata": {},
   "outputs": [],
   "source": [
    "SELECT toMonday(toDateTime(time)) AS __timestamp,\n",
    "       countIf(action == 'message') AS \"месседжер\",\n",
    "       countIf(action == 'feed') AS \"лента новостей\"\n",
    "FROM\n",
    "  (SELECT *\n",
    "   FROM\n",
    "     (SELECT user_id,\n",
    "             time,\n",
    "             gender,\n",
    "             age,\n",
    "             country,\n",
    "             city,\n",
    "             os,\n",
    "             source,\n",
    "             'message' as action\n",
    "      FROM message_actions\n",
    "      UNION ALL SELECT user_id,\n",
    "                       time,\n",
    "                       gender,\n",
    "                       age,\n",
    "                       country,\n",
    "                       city,\n",
    "                       os,\n",
    "                       source,\n",
    "                       'feed' as action\n",
    "      FROM feed_actions)) AS virtual_table\n",
    "GROUP BY toMonday(toDateTime(time))\n",
    "ORDER BY \"месседжер\" DESC\n",
    "LIMIT 1000;"
   ]
  },
  {
   "cell_type": "markdown",
   "id": "4344c1e7",
   "metadata": {},
   "source": [
    "#### MAU"
   ]
  },
  {
   "cell_type": "code",
   "execution_count": null,
   "id": "05cabe6c",
   "metadata": {},
   "outputs": [],
   "source": [
    "SELECT toStartOfMonth(toDateTime(time)) AS __timestamp,\n",
    "       countIf(action == 'message') AS \"месседжер\",\n",
    "       countIf(action == 'feed') AS \"лента новостей\"\n",
    "FROM\n",
    "  (SELECT *\n",
    "   FROM\n",
    "     (SELECT user_id,\n",
    "             time,\n",
    "             gender,\n",
    "             age,\n",
    "             country,\n",
    "             city,\n",
    "             os,\n",
    "             source,\n",
    "             'message' as action\n",
    "      FROM message_actions\n",
    "      UNION ALL SELECT user_id,\n",
    "                       time,\n",
    "                       gender,\n",
    "                       age,\n",
    "                       country,\n",
    "                       city,\n",
    "                       os,\n",
    "                       source,\n",
    "                       'feed' as action\n",
    "      FROM feed_actions)) AS virtual_table\n",
    "GROUP BY toStartOfMonth(toDateTime(time))\n",
    "ORDER BY \"месседжер\" DESC\n",
    "LIMIT 1000;"
   ]
  },
  {
   "cell_type": "markdown",
   "id": "8c5f8dd8",
   "metadata": {},
   "source": [
    "### Основные события"
   ]
  },
  {
   "cell_type": "markdown",
   "id": "baed1c04",
   "metadata": {},
   "source": [
    "#### Пользователи, только пользующиеся лентой новостей"
   ]
  },
  {
   "cell_type": "code",
   "execution_count": null,
   "id": "d895c7c1",
   "metadata": {},
   "outputs": [],
   "source": [
    "SELECT toStartOfDay(toDateTime(time)) AS __timestamp,\n",
    "       count(DISTINCT user_id) AS \"Уникальные пользователи\"\n",
    "FROM\n",
    "  (SELECT user_id,\n",
    "          time::date AS time,\n",
    "          action\n",
    "   FROM\n",
    "     (SELECT user_id,\n",
    "             time,\n",
    "             'feed' AS action\n",
    "      FROM feed_actions) t1 LEFT ANTI\n",
    "   JOIN\n",
    "     (SELECT user_id\n",
    "      FROM message_actions) t2 USING user_id) AS virtual_table\n",
    "GROUP BY toStartOfDay(toDateTime(time))\n",
    "ORDER BY \"Уникальные пользователи\" DESC\n",
    "LIMIT 1000;"
   ]
  },
  {
   "cell_type": "markdown",
   "id": "7c337916",
   "metadata": {},
   "source": [
    "#### Пользователи, только отправляющие сообщения"
   ]
  },
  {
   "cell_type": "code",
   "execution_count": null,
   "id": "f93642aa",
   "metadata": {},
   "outputs": [],
   "source": [
    "SELECT toStartOfDay(toDateTime(time)) AS __timestamp,\n",
    "       count(DISTINCT user_id) AS \"Уникальные пользователи\"\n",
    "FROM\n",
    "  (SELECT user_id,\n",
    "          time::date AS time,\n",
    "          action\n",
    "   FROM\n",
    "     (SELECT user_id,\n",
    "             time,\n",
    "             'message' AS action\n",
    "      FROM message_actions) t1 LEFT ANTI\n",
    "   JOIN\n",
    "     (SELECT user_id\n",
    "      FROM feed_actions) t2 USING user_id) AS virtual_table\n",
    "GROUP BY toStartOfDay(toDateTime(time))\n",
    "ORDER BY \"Уникальные пользователи\" DESC\n",
    "LIMIT 1000;"
   ]
  },
  {
   "cell_type": "markdown",
   "id": "45440552",
   "metadata": {},
   "source": [
    "#### Использование сервисов пользователями"
   ]
  },
  {
   "cell_type": "code",
   "execution_count": null,
   "id": "6a053a7b",
   "metadata": {},
   "outputs": [],
   "source": [
    "SELECT action AS action,\n",
    "       count(DISTINCT user_id) AS \"Уникальные пользователи\"\n",
    "FROM\n",
    "  (SELECT user_id,\n",
    "          time,\n",
    "          action\n",
    "   FROM\n",
    "     (SELECT user_id,\n",
    "             time::date AS time,\n",
    "             'лента' AS action\n",
    "      FROM feed_actions AS t1\n",
    "      WHERE t1.user_id NOT IN\n",
    "          (select user_id\n",
    "           FROM message_actions)\n",
    "      UNION ALL SELECT user_id,\n",
    "                       time::date AS time,\n",
    "                       'месседжер' AS action\n",
    "      FROM message_actions AS t2\n",
    "      WHERE t2.user_id NOT IN\n",
    "          (select user_id\n",
    "           FROM feed_actions)\n",
    "      UNION ALL SELECT user_id,\n",
    "                       time::date AS time,\n",
    "                       'лента+месседжер' AS action\n",
    "      FROM message_actions AS t3\n",
    "      WHERE t3.user_id IN\n",
    "          (select user_id\n",
    "           FROM feed_actions))) AS virtual_table\n",
    "GROUP BY action\n",
    "ORDER BY \"Уникальные пользователи\" DESC\n",
    "LIMIT 1000;"
   ]
  }
 ],
 "metadata": {
  "kernelspec": {
   "display_name": "Python 3 (ipykernel)",
   "language": "python",
   "name": "python3"
  },
  "language_info": {
   "codemirror_mode": {
    "name": "ipython",
    "version": 3
   },
   "file_extension": ".py",
   "mimetype": "text/x-python",
   "name": "python",
   "nbconvert_exporter": "python",
   "pygments_lexer": "ipython3",
   "version": "3.11.3"
  },
  "toc": {
   "base_numbering": 1,
   "nav_menu": {},
   "number_sections": true,
   "sideBar": true,
   "skip_h1_title": true,
   "title_cell": "Table of Contents",
   "title_sidebar": "Contents",
   "toc_cell": true,
   "toc_position": {},
   "toc_section_display": true,
   "toc_window_display": false
  }
 },
 "nbformat": 4,
 "nbformat_minor": 5
}
