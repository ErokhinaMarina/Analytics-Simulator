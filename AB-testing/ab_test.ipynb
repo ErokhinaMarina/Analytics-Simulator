{
 "cells": [
  {
   "cell_type": "markdown",
   "id": "2478c27c-a732-4996-adae-0af837945d7d",
   "metadata": {
    "tags": []
   },
   "source": [
    "# Задание 2"
   ]
  },
  {
   "cell_type": "markdown",
   "id": "fd8ffa86-c843-47b0-92bb-83b5576e8bd0",
   "metadata": {},
   "source": [
    "## Описание данных"
   ]
  },
  {
   "cell_type": "markdown",
   "id": "05646bda-f30a-43a6-acc6-342ca042e72e",
   "metadata": {},
   "source": [
    "Пришло время проанализировать результаты эксперимента, который мы провели вместе с командой дата сайентистов. Эксперимент проходил с 2024-09-27 по 2024-10-03 включительно. Для эксперимента были задействованы 2 и 1 группы. \n",
    "\n",
    "В группе 2 был использован один из новых алгоритмов рекомендации постов, группа 1 использовалась в качестве контроля. \n",
    "\n",
    "Основная гипотеза заключается в том, что новый алгоритм во 2-й группе приведет к увеличению CTR. \n",
    "\n",
    "**Задача** — проанализировать данные А/B-теста. "
   ]
  },
  {
   "cell_type": "markdown",
   "id": "31c67f46-08a0-4fc5-9fc6-de3fb13d3943",
   "metadata": {},
   "source": [
    "**Ход действий:**\n",
    "\n",
    "1. Выбрать метод анализа и сравнить CTR в двух группах (t-тест, Пуассоновский бутстреп, тест Манна-Уитни, t-тест на сглаженном ctr (α=5) а также t-тест и тест Манна-Уитни поверх бакетного преобразования).\n",
    "\n",
    "2. Сравнить данные этими тестами. Посмотрить на распределения глазами. Почему тесты сработали именно так?\n",
    "\n",
    "3. Описать потенциальную ситуацию, когда такое изменение могло произойти. \n",
    "\n",
    "4. Написать рекомендацию, будем ли мы раскатывать новый алгоритм на всех новых пользователей или все-таки не стоит. "
   ]
  },
  {
   "cell_type": "markdown",
   "id": "35f337d8-60b0-4ab3-b5a1-7e06162a8aaa",
   "metadata": {},
   "source": [
    "## Основная часть работы"
   ]
  },
  {
   "cell_type": "markdown",
   "id": "a53576da-7cfa-4cca-9495-3169a391f469",
   "metadata": {},
   "source": [
    "Импортируем все необходимые библиотеки."
   ]
  },
  {
   "cell_type": "code",
   "execution_count": 1,
   "id": "17959f63-f156-4d02-a661-7d6d65a0d95a",
   "metadata": {},
   "outputs": [],
   "source": [
    "import swifter\n",
    "import hashlib\n",
    "import pandas as pd\n",
    "import pandahouse as ph\n",
    "import numpy as np\n",
    "import matplotlib.pyplot as plt\n",
    "import seaborn as sns\n",
    "from scipy import stats"
   ]
  },
  {
   "cell_type": "markdown",
   "id": "7d3f3790-f004-4f4a-8bc5-8a23ac7e0171",
   "metadata": {},
   "source": [
    "Подключимся к базе данных."
   ]
  },
  {
   "cell_type": "code",
   "execution_count": 2,
   "id": "1e8291b2-7938-41ce-8239-bc488b7a73f5",
   "metadata": {},
   "outputs": [],
   "source": [
    "connection = {\n",
    "    'host': 'https://clickhouse.lab.karpov.courses',\n",
    "    'password': 'dpo_python_2020',\n",
    "    'user': 'student',\n",
    "    'database': 'simulator_20241020'\n",
    "}"
   ]
  },
  {
   "cell_type": "markdown",
   "id": "79411c33-4433-4e1a-a66a-bb1c3af8ce05",
   "metadata": {},
   "source": [
    "Отберем из базы данных интересующие нас группы и время проведения эксперимента, а также посчитаем лайки, просмотры и ctr. Сохраним результат в датафрейм df."
   ]
  },
  {
   "cell_type": "code",
   "execution_count": 3,
   "id": "91e87714-6231-47ba-9828-b074d4a4fb33",
   "metadata": {},
   "outputs": [],
   "source": [
    "q= \"\"\"\n",
    "SELECT exp_group,\n",
    "        user_id,\n",
    "        sum(action='like') as likes, \n",
    "        sum(action='view') as views,\n",
    "        likes/views as ctr\n",
    "FROM simulator_20241020.feed_actions\n",
    "WHERE toDate(time) BETWEEN '2024-09-27' AND '2024-10-03' \n",
    "      AND exp_group IN (1,2)\n",
    "GROUP BY  exp_group, user_id    \n",
    "\"\"\"\n",
    "df = ph.read_clickhouse(q, connection=connection)"
   ]
  },
  {
   "cell_type": "markdown",
   "id": "6249b0bd-bcfa-4364-8caf-d93f68574fd7",
   "metadata": {},
   "source": [
    "Выведем первые пять строк датафрейма df."
   ]
  },
  {
   "cell_type": "code",
   "execution_count": 4,
   "id": "159bb9de-cf8d-493a-bfa1-7dc84547089a",
   "metadata": {},
   "outputs": [
    {
     "data": {
      "text/html": [
       "<div>\n",
       "<style scoped>\n",
       "    .dataframe tbody tr th:only-of-type {\n",
       "        vertical-align: middle;\n",
       "    }\n",
       "\n",
       "    .dataframe tbody tr th {\n",
       "        vertical-align: top;\n",
       "    }\n",
       "\n",
       "    .dataframe thead th {\n",
       "        text-align: right;\n",
       "    }\n",
       "</style>\n",
       "<table border=\"1\" class=\"dataframe\">\n",
       "  <thead>\n",
       "    <tr style=\"text-align: right;\">\n",
       "      <th></th>\n",
       "      <th>exp_group</th>\n",
       "      <th>user_id</th>\n",
       "      <th>likes</th>\n",
       "      <th>views</th>\n",
       "      <th>ctr</th>\n",
       "    </tr>\n",
       "  </thead>\n",
       "  <tbody>\n",
       "    <tr>\n",
       "      <th>0</th>\n",
       "      <td>1</td>\n",
       "      <td>109963</td>\n",
       "      <td>3</td>\n",
       "      <td>15</td>\n",
       "      <td>0.200000</td>\n",
       "    </tr>\n",
       "    <tr>\n",
       "      <th>1</th>\n",
       "      <td>1</td>\n",
       "      <td>26117</td>\n",
       "      <td>32</td>\n",
       "      <td>141</td>\n",
       "      <td>0.226950</td>\n",
       "    </tr>\n",
       "    <tr>\n",
       "      <th>2</th>\n",
       "      <td>1</td>\n",
       "      <td>138232</td>\n",
       "      <td>18</td>\n",
       "      <td>73</td>\n",
       "      <td>0.246575</td>\n",
       "    </tr>\n",
       "    <tr>\n",
       "      <th>3</th>\n",
       "      <td>1</td>\n",
       "      <td>26295</td>\n",
       "      <td>39</td>\n",
       "      <td>141</td>\n",
       "      <td>0.276596</td>\n",
       "    </tr>\n",
       "    <tr>\n",
       "      <th>4</th>\n",
       "      <td>1</td>\n",
       "      <td>18392</td>\n",
       "      <td>7</td>\n",
       "      <td>32</td>\n",
       "      <td>0.218750</td>\n",
       "    </tr>\n",
       "  </tbody>\n",
       "</table>\n",
       "</div>"
      ],
      "text/plain": [
       "   exp_group  user_id  likes  views       ctr\n",
       "0          1   109963      3     15  0.200000\n",
       "1          1    26117     32    141  0.226950\n",
       "2          1   138232     18     73  0.246575\n",
       "3          1    26295     39    141  0.276596\n",
       "4          1    18392      7     32  0.218750"
      ]
     },
     "execution_count": 4,
     "metadata": {},
     "output_type": "execute_result"
    }
   ],
   "source": [
    "df.head()"
   ]
  },
  {
   "cell_type": "markdown",
   "id": "0d4f509f-3250-4a5d-8f66-0cc985b1eccd",
   "metadata": {},
   "source": [
    "Посчитаем количество человек в каждой группе."
   ]
  },
  {
   "cell_type": "code",
   "execution_count": 5,
   "id": "14a4f974-cde8-4120-9a15-0f914e23ff21",
   "metadata": {},
   "outputs": [
    {
     "data": {
      "text/plain": [
       "exp_group\n",
       "1    10020\n",
       "2     9877\n",
       "Name: user_id, dtype: int64"
      ]
     },
     "execution_count": 5,
     "metadata": {},
     "output_type": "execute_result"
    }
   ],
   "source": [
    "df.groupby('exp_group')['user_id'].nunique()"
   ]
  },
  {
   "cell_type": "markdown",
   "id": "b572486c-58e9-4c88-8990-7e94552f35fa",
   "metadata": {},
   "source": [
    "У нас примерно одинаковое количество пользователей в группе 1 и 2."
   ]
  },
  {
   "cell_type": "markdown",
   "id": "be47f4f1-ff1c-4d94-8c24-fd5de59a50b2",
   "metadata": {},
   "source": [
    "Проверим при помощи гистограммы, что пользователи в наших группах статистически эквивалентны, а иммено что показатель ctr имеет приблизительно одинакового значения в двух группах."
   ]
  },
  {
   "cell_type": "markdown",
   "id": "627d03a8-65db-42b8-8e4e-7fd641cd9166",
   "metadata": {},
   "source": [
    "Для начала изменим размер графика. "
   ]
  },
  {
   "cell_type": "code",
   "execution_count": 8,
   "id": "00b1f70b-238a-4df3-97f8-8c31655ebd03",
   "metadata": {
    "tags": []
   },
   "outputs": [],
   "source": [
    "sns.set(rc={'figure.figsize':(12,10)})"
   ]
  },
  {
   "cell_type": "markdown",
   "id": "ed921de8-c344-40cc-becd-7cd32905c605",
   "metadata": {},
   "source": [
    "Построим график, на котором отобразим значения ctr по оси x, количество таких ctr по оси y для каждой группы отдельно, чтобы увидеть схожесть или различие между группами."
   ]
  },
  {
   "cell_type": "code",
   "execution_count": 9,
   "id": "c158c7ff-097d-42ba-b51d-3a90c7fd5d9a",
   "metadata": {
    "tags": []
   },
   "outputs": [
    {
     "data": {
      "image/png": "[encoded data removed]",
      "text/plain": [
       "<Figure size 864x720 with 1 Axes>"
      ]
     },
     "metadata": {},
     "output_type": "display_data"
    }
   ],
   "source": [
    "groups = sns.histplot(data = df, \n",
    "              x='ctr', \n",
    "              hue='exp_group', \n",
    "              palette = ['r', 'b'],\n",
    "              alpha=0.5,\n",
    "              kde=False)\n",
    "plt.title('Сравнение CTR  между группами')\n",
    "plt.xlabel('CTR')\n",
    "plt.ylabel('Количество');"
   ]
  },
  {
   "cell_type": "markdown",
   "id": "8d653b38-59ae-433e-958e-db3220f6387b",
   "metadata": {},
   "source": [
    "Распределения ctr в группах получились очень разные. В группе 1 распределение имеет вид нормального, одномодального, а в группе 2 наблюдаем два горба т.е. распределение бимодальное и имеется небольшой перекос в правую сторону (есть выбросы). Получается, что пользователи на группы были разделены не совсем верно."
   ]
  },
  {
   "cell_type": "markdown",
   "id": "a828c77e-4675-4cc1-a303-39531a6cb383",
   "metadata": {},
   "source": [
    "Так как распределения у нас носят разный характер, то использовать t-тест будет неверно. Но для наглядности и выводов можно его провести."
   ]
  },
  {
   "cell_type": "markdown",
   "id": "ce19a725-3269-42e1-ba37-ee38d7bad080",
   "metadata": {},
   "source": [
    "**t-критерий Стьюдента**"
   ]
  },
  {
   "cell_type": "markdown",
   "id": "71f9b489-9a1a-46eb-b24d-3d8d87281e0e",
   "metadata": {},
   "source": [
    "Выберем уровень α = 0.05."
   ]
  },
  {
   "cell_type": "code",
   "execution_count": 10,
   "id": "ef7692e9-01fd-476a-a4cd-a7f1827da0cd",
   "metadata": {
    "tags": []
   },
   "outputs": [
    {
     "data": {
      "text/plain": [
       "Ttest_indResult(statistic=0.4051491913112757, pvalue=0.685373331140751)"
      ]
     },
     "execution_count": 10,
     "metadata": {},
     "output_type": "execute_result"
    }
   ],
   "source": [
    "stats.ttest_ind(df[df.exp_group == 1].ctr,\n",
    "                df[df.exp_group == 2].ctr,\n",
    "                equal_var=False)"
   ]
  },
  {
   "cell_type": "markdown",
   "id": "c51d4e2f-0dfb-4589-9e3c-7e9c718c68f3",
   "metadata": {},
   "source": [
    "Значение pvalue > α, следовательно наш t-тест не нашел никаких различий между группами."
   ]
  },
  {
   "cell_type": "markdown",
   "id": "31e6fec6-e3f0-4f0f-bf82-082331e38269",
   "metadata": {},
   "source": [
    "Так как наглядно мы выявили различия в распределение ctr между группами, то и t-тест должен был зафиксировать их. Как ранее уже говрилось, распределения ctr в группах у нас носят разный характер: в группе 1 распределение одномодальное, а в группе 2 - бимодальное и имеются выбросы, поэтому t-тест не годится для наших данных."
   ]
  },
  {
   "cell_type": "markdown",
   "id": "c5724484-2f2c-4b14-a56e-9a3d21231426",
   "metadata": {},
   "source": [
    "**Тест Манна-Уитни**"
   ]
  },
  {
   "cell_type": "markdown",
   "id": "2ba29dd0-e65d-41b3-817a-4667570a6023",
   "metadata": {},
   "source": [
    "У нас есть две выборки с разными респределениями. Нам нужно проверить следующее: если мы возьмем значение ctr из одной выборки и значение ctr из другой выборки (случайное), то вероятность того, что первое значение будет больше второго, равна вероятности, что второе значение будет больше первого."
   ]
  },
  {
   "cell_type": "markdown",
   "id": "729d0d9c-c82d-45ac-856c-e39ed176d5f1",
   "metadata": {},
   "source": [
    "Уровень α у нас такой же, равен 0.05."
   ]
  },
  {
   "cell_type": "code",
   "execution_count": 11,
   "id": "14dc444a-2a89-4b0e-9c59-24bfdcb4c444",
   "metadata": {},
   "outputs": [
    {
     "data": {
      "text/plain": [
       "MannwhitneyuResult(statistic=55189913.0, pvalue=4.632205841806026e-45)"
      ]
     },
     "execution_count": 11,
     "metadata": {},
     "output_type": "execute_result"
    }
   ],
   "source": [
    "stats.mannwhitneyu(df[df.exp_group == 1].ctr, \n",
    "                   df[df.exp_group == 2].ctr,\n",
    "                   alternative = 'two-sided')"
   ]
  },
  {
   "cell_type": "markdown",
   "id": "152ccaed-4d94-4b43-8b93-d1d6ec5192b2",
   "metadata": {},
   "source": [
    "Значение pvalue < α, следовательно тест Манна-Уитни нашел различия между распределениями ctr между группами."
   ]
  },
  {
   "cell_type": "markdown",
   "id": "52e8e298-7c5f-4b1f-9dda-6a957cb3d64f",
   "metadata": {},
   "source": [
    "**Бутстреп**"
   ]
  },
  {
   "cell_type": "markdown",
   "id": "803ff60c-f879-4210-883e-7a6dc1e76266",
   "metadata": {
    "tags": []
   },
   "source": [
    "**1.**\n",
    "* Возьмем выборку из группы 1 (user_id с его views и clicksc).\n",
    "* Из распределения Пуассона генерируем «сколько раз этот пользователь попал в псевдовыборку». Получается колонка, отражающая «вес» пользователя. \n",
    "* Считаем глобальный ctr по псевдовыборке для группы 1. \n",
    "\n",
    "**2.** \n",
    "* Возьмем выборку из группы 2 (user_id с его views и clicks).\n",
    "* Из распределения Пуассона генерируем «сколько раз этот пользователь попал в псевдовыборку». Получается колонка, отражающая «вес» пользователя. \n",
    "* Считаем глобальный ctr по псевдовыборке для группы 2.\n",
    "\n",
    "**3.**\n",
    "Считаем разницу между ctr\n",
    "\n",
    "**4.**\n",
    "Повторяем процедуру 2000 раз"
   ]
  },
  {
   "cell_type": "markdown",
   "id": "31bc9f51-ea04-480e-82ab-230f1913bcfe",
   "metadata": {},
   "source": [
    "Напишем функцию и проделаем все то, что описано выше."
   ]
  },
  {
   "cell_type": "code",
   "execution_count": 12,
   "id": "1c4e99a8-276d-4025-b14b-2ffabda85d6c",
   "metadata": {},
   "outputs": [],
   "source": [
    "def bootstrap(likes1, views1, likes2, views2, n_bootstrap=2000):\n",
    "\n",
    "    poisson_bootstraps1 = stats.poisson(1).rvs(\n",
    "        (n_bootstrap, len(likes1))).astype(np.int64)\n",
    "\n",
    "    poisson_bootstraps2 = stats.poisson(1).rvs(\n",
    "            (n_bootstrap, len(likes2))).astype(np.int64)\n",
    "    \n",
    "    globalCTR1 = (poisson_bootstraps1*likes1).sum(axis=1)/(poisson_bootstraps1*views1).sum(axis=1)\n",
    "    \n",
    "    globalCTR2 = (poisson_bootstraps2*likes2).sum(axis=1)/(poisson_bootstraps2*views2).sum(axis=1)\n",
    "\n",
    "    return globalCTR1, globalCTR2"
   ]
  },
  {
   "cell_type": "markdown",
   "id": "668c5832-15ff-4398-83c4-3127ba9c3a57",
   "metadata": {},
   "source": [
    "Отделим лайки и просмотры для группы 1 и 2."
   ]
  },
  {
   "cell_type": "code",
   "execution_count": 13,
   "id": "5cdf64d7-1d4f-4e73-ab25-0f3f017d2af2",
   "metadata": {
    "tags": []
   },
   "outputs": [],
   "source": [
    "likes1 = df[df.exp_group == 1].likes.to_numpy()\n",
    "views1 = df[df.exp_group == 1].views.to_numpy()\n",
    "likes2 = df[df.exp_group == 2].likes.to_numpy()\n",
    "views2 = df[df.exp_group == 2].views.to_numpy()"
   ]
  },
  {
   "cell_type": "markdown",
   "id": "efef5aba-61ce-434f-b17d-c17d6d6d9062",
   "metadata": {},
   "source": [
    "Получим распределение глобальных ctr."
   ]
  },
  {
   "cell_type": "code",
   "execution_count": 14,
   "id": "22edfcc9-5d57-4312-bec4-262eb510aa4c",
   "metadata": {
    "tags": []
   },
   "outputs": [],
   "source": [
    "ctr1, ctr2 = bootstrap(likes1, views1, likes2, views2)"
   ]
  },
  {
   "cell_type": "markdown",
   "id": "3f4f8824-bc52-40ff-a2f8-06bc0c5040fb",
   "metadata": {},
   "source": [
    "Построим на одном графике гистограммы распределения глобальных ctr."
   ]
  },
  {
   "cell_type": "code",
   "execution_count": 15,
   "id": "c1c6103a-4bdf-4059-8fc0-74dfeae4d014",
   "metadata": {},
   "outputs": [
    {
     "data": {
      "image/png": "[encoded data removed]",
      "text/plain": [
       "<Figure size 864x720 with 1 Axes>"
      ]
     },
     "metadata": {},
     "output_type": "display_data"
    }
   ],
   "source": [
    "sns.histplot(ctr1)\n",
    "sns.histplot(ctr2)\n",
    "plt.title('Сравнение глобальных CTR  между группами 1 и 2')\n",
    "plt.xlabel('CTR')\n",
    "plt.ylabel('Количество');"
   ]
  },
  {
   "cell_type": "markdown",
   "id": "3a53780b-6791-4ba3-a4b5-ffe220fb505b",
   "metadata": {},
   "source": [
    "Распределение глобальных ctr групп 1 и 2 не пересекается между собой."
   ]
  },
  {
   "cell_type": "markdown",
   "id": "f4b26290-fcd9-4093-8e41-6379d440fa17",
   "metadata": {},
   "source": [
    "Построим распределение разницы ctr с помощью гистограммы."
   ]
  },
  {
   "cell_type": "code",
   "execution_count": 16,
   "id": "d968b1db-2ade-49e7-83f6-b354b7ca158f",
   "metadata": {},
   "outputs": [
    {
     "data": {
      "image/png": "[encoded data removed]",
      "text/plain": [
       "<Figure size 864x720 with 1 Axes>"
      ]
     },
     "metadata": {},
     "output_type": "display_data"
    }
   ],
   "source": [
    "sns.histplot(ctr2 - ctr1)\n",
    "plt.title('Разница между глобальными CTR ')\n",
    "plt.xlabel('CTR')\n",
    "plt.ylabel('Количество');"
   ]
  },
  {
   "cell_type": "markdown",
   "id": "8de5253d-275c-456a-bc6d-7eee2c594b27",
   "metadata": {},
   "source": [
    "Гистограмма разницы ctr не превышает ноль, а это значит, что одна группа больше другой. Разница между распределениями отрицательная, а значит, что с помощью бустрепа мы можем утверждать, что группа 1 показала лучшие результаты чем группа 2."
   ]
  },
  {
   "cell_type": "markdown",
   "id": "dd50e623-522d-4936-8601-fd3e297f1af8",
   "metadata": {},
   "source": [
    "**Бакетное преобразование**"
   ]
  },
  {
   "cell_type": "markdown",
   "id": "c3541a3d-441c-40e4-afa4-108f8a7dab76",
   "metadata": {},
   "source": [
    "Поделим нашу исходную выборку на 50 бакетов и посчитаем в каждом бакете 90% квантиль ctr и средний ctr, чтобы получить выборку из 50-ти значений 90% квантиля ctr и 50-ти значений среднего ctr по этим «метапользователям».  "
   ]
  },
  {
   "cell_type": "markdown",
   "id": "25a50d1d-10b8-47db-b66f-4b974fd10dde",
   "metadata": {},
   "source": [
    "Отберем из базы данных интересующие нас группы и время проведения эксперимента, а также посчитаем лайки, просмотры, а также бакетный ctr и значения 90% квантиля ctr. Сохраним результат в датафрейм df_1."
   ]
  },
  {
   "cell_type": "code",
   "execution_count": 17,
   "id": "771a67da-fa81-4115-bea3-df44b47f9b64",
   "metadata": {},
   "outputs": [],
   "source": [
    "p = \"\"\"\n",
    "\n",
    "SELECT exp_group, bucket,\n",
    "    sum(likes)/sum(views) as bucket_ctr,\n",
    "    quantileExact(0.9)(ctr) as ctr9\n",
    "FROM (SELECT exp_group, \n",
    "        xxHash64(user_id)%50 as bucket,\n",
    "        user_id,\n",
    "        sum(action = 'like') as likes,\n",
    "        sum(action = 'view') as views,\n",
    "        likes/views as ctr\n",
    "    FROM simulator_20241020.feed_actions \n",
    "    WHERE toDate(time) between '2024-09-27' AND '2024-10-03' \n",
    "        and exp_group in (1,2)\n",
    "    GROUP BY exp_group, bucket, user_id)\n",
    "GROUP BY exp_group, bucket\n",
    "\"\"\"\n",
    "\n",
    "df_1 = ph.read_clickhouse(p, connection=connection)"
   ]
  },
  {
   "cell_type": "markdown",
   "id": "f18ee0ba-3b5a-437e-b628-8a083e544a6f",
   "metadata": {},
   "source": [
    "Выведем 5 строк датафрейма df_1."
   ]
  },
  {
   "cell_type": "code",
   "execution_count": 18,
   "id": "ddb1b5cb-a88c-4e09-aee0-61826a8ba0b9",
   "metadata": {},
   "outputs": [
    {
     "data": {
      "text/html": [
       "<div>\n",
       "<style scoped>\n",
       "    .dataframe tbody tr th:only-of-type {\n",
       "        vertical-align: middle;\n",
       "    }\n",
       "\n",
       "    .dataframe tbody tr th {\n",
       "        vertical-align: top;\n",
       "    }\n",
       "\n",
       "    .dataframe thead th {\n",
       "        text-align: right;\n",
       "    }\n",
       "</style>\n",
       "<table border=\"1\" class=\"dataframe\">\n",
       "  <thead>\n",
       "    <tr style=\"text-align: right;\">\n",
       "      <th></th>\n",
       "      <th>exp_group</th>\n",
       "      <th>bucket</th>\n",
       "      <th>bucket_ctr</th>\n",
       "      <th>ctr9</th>\n",
       "    </tr>\n",
       "  </thead>\n",
       "  <tbody>\n",
       "    <tr>\n",
       "      <th>0</th>\n",
       "      <td>1</td>\n",
       "      <td>0</td>\n",
       "      <td>0.200592</td>\n",
       "      <td>0.305556</td>\n",
       "    </tr>\n",
       "    <tr>\n",
       "      <th>1</th>\n",
       "      <td>2</td>\n",
       "      <td>0</td>\n",
       "      <td>0.196510</td>\n",
       "      <td>0.385321</td>\n",
       "    </tr>\n",
       "    <tr>\n",
       "      <th>2</th>\n",
       "      <td>1</td>\n",
       "      <td>1</td>\n",
       "      <td>0.208799</td>\n",
       "      <td>0.311111</td>\n",
       "    </tr>\n",
       "    <tr>\n",
       "      <th>3</th>\n",
       "      <td>2</td>\n",
       "      <td>1</td>\n",
       "      <td>0.210375</td>\n",
       "      <td>0.485714</td>\n",
       "    </tr>\n",
       "    <tr>\n",
       "      <th>4</th>\n",
       "      <td>1</td>\n",
       "      <td>2</td>\n",
       "      <td>0.204632</td>\n",
       "      <td>0.314286</td>\n",
       "    </tr>\n",
       "  </tbody>\n",
       "</table>\n",
       "</div>"
      ],
      "text/plain": [
       "   exp_group  bucket  bucket_ctr      ctr9\n",
       "0          1       0    0.200592  0.305556\n",
       "1          2       0    0.196510  0.385321\n",
       "2          1       1    0.208799  0.311111\n",
       "3          2       1    0.210375  0.485714\n",
       "4          1       2    0.204632  0.314286"
      ]
     },
     "execution_count": 18,
     "metadata": {},
     "output_type": "execute_result"
    }
   ],
   "source": [
    "df_1.head()"
   ]
  },
  {
   "cell_type": "markdown",
   "id": "ccff3626-a6b9-4afa-a07c-e4fafc92989b",
   "metadata": {},
   "source": [
    "Поверх бакетного преобразования, применим тест Манна-Уитни, так как проведя наглядное сравнение групп, тест Манна-Уитни и бутстреп мы убедились в различии групп 1 и 2 и том, что распределение их ctr  носит разный характер."
   ]
  },
  {
   "cell_type": "markdown",
   "id": "e8456743-8152-4f60-aade-4b449a8fb946",
   "metadata": {},
   "source": [
    "Сначала посмотрим на бакетный ctr."
   ]
  },
  {
   "cell_type": "code",
   "execution_count": 19,
   "id": "946d8766-5032-4e80-8d49-7894663bf308",
   "metadata": {},
   "outputs": [
    {
     "data": {
      "text/plain": [
       "MannwhitneyuResult(statistic=1997.0, pvalue=2.6576427804010095e-07)"
      ]
     },
     "execution_count": 19,
     "metadata": {},
     "output_type": "execute_result"
    }
   ],
   "source": [
    "stats.mannwhitneyu(df_1[df_1.exp_group == 1].bucket_ctr, \n",
    "                   df_1[df_1.exp_group == 2].bucket_ctr, \n",
    "                   alternative = 'two-sided')"
   ]
  },
  {
   "cell_type": "markdown",
   "id": "e5e785e4-d36e-49a6-a4bc-d2226c29942b",
   "metadata": {},
   "source": [
    "Значение pvalue < α, следовательно тест Манна-Уитни нашел различия между распределениями бакетных ctr между группами 1 и 2."
   ]
  },
  {
   "cell_type": "markdown",
   "id": "70cb4343-5dcc-4a8d-8451-a87d1e16a8da",
   "metadata": {},
   "source": [
    "Построим гистограммы бакетных ctr отдельно для группы 1 и 2."
   ]
  },
  {
   "cell_type": "code",
   "execution_count": 20,
   "id": "15e2156c-f712-4bac-8d8f-379dbf202a85",
   "metadata": {},
   "outputs": [
    {
     "data": {
      "image/png": "[encoded data removed]",
      "text/plain": [
       "<Figure size 864x720 with 1 Axes>"
      ]
     },
     "metadata": {},
     "output_type": "display_data"
    }
   ],
   "source": [
    "sns.histplot(df_1[df_1.exp_group == 1].bucket_ctr)\n",
    "plt.title('Распределение средних ctr группы 1')\n",
    "plt.xlabel('Средний CTR')\n",
    "plt.ylabel('Количество');"
   ]
  },
  {
   "cell_type": "code",
   "execution_count": 21,
   "id": "89cbf38e-3fdf-434b-aaf9-0062af1c09f5",
   "metadata": {},
   "outputs": [
    {
     "data": {
      "image/png": "[encoded data removed]",
      "text/plain": [
       "<Figure size 864x720 with 1 Axes>"
      ]
     },
     "metadata": {},
     "output_type": "display_data"
    }
   ],
   "source": [
    "sns.histplot(df_1[df_1.exp_group == 2].bucket_ctr)\n",
    "plt.title('Распределение средних ctr группы 2')\n",
    "plt.xlabel('Средний CTR')\n",
    "plt.ylabel('Количество');"
   ]
  },
  {
   "cell_type": "markdown",
   "id": "5c8aa69b-f1e2-42ee-8221-2942eed94d10",
   "metadata": {},
   "source": [
    "Распределение бакетных ctr напоминает нормальное, но скошено в разные стороны."
   ]
  },
  {
   "cell_type": "markdown",
   "id": "637e385a-98ee-4108-91ea-929d79520da7",
   "metadata": {},
   "source": [
    "Проверим 90% квантиль ctr между группами 1 и 2."
   ]
  },
  {
   "cell_type": "code",
   "execution_count": 22,
   "id": "4090c5bf-2eb8-4af0-9346-f0c775e08f04",
   "metadata": {
    "tags": []
   },
   "outputs": [
    {
     "data": {
      "text/plain": [
       "MannwhitneyuResult(statistic=0.0, pvalue=6.7601631082665925e-18)"
      ]
     },
     "execution_count": 22,
     "metadata": {},
     "output_type": "execute_result"
    }
   ],
   "source": [
    "stats.mannwhitneyu(df_1[df_1.exp_group == 1].ctr9, \n",
    "                   df_1[df_1.exp_group == 2].ctr9, \n",
    "                   alternative = 'two-sided')"
   ]
  },
  {
   "cell_type": "markdown",
   "id": "73e42295-d750-43be-826d-d11e008a4304",
   "metadata": {},
   "source": [
    "Значение pvalue < α, следовательно тест Манна-Уитни нашел различия между распределениями 90% квантиля ctr между группами 1 и 2."
   ]
  },
  {
   "cell_type": "markdown",
   "id": "018eff36-7981-4367-b96a-aa6328ecc647",
   "metadata": {},
   "source": [
    "Построим гистограммы 90% квантиля ctr отдельно для группы 1 и 2."
   ]
  },
  {
   "cell_type": "code",
   "execution_count": 23,
   "id": "ec687cd7-9763-4af2-bf19-199d56d79054",
   "metadata": {},
   "outputs": [
    {
     "data": {
      "image/png": "[encoded data removed]",
      "text/plain": [
       "<Figure size 864x720 with 1 Axes>"
      ]
     },
     "metadata": {},
     "output_type": "display_data"
    }
   ],
   "source": [
    "sns.histplot(df_1[df_1.exp_group == 1].ctr9)\n",
    "plt.title('Распределение 90% квантилей ctr группы 1')\n",
    "plt.xlabel('90% квантиль CTR')\n",
    "plt.ylabel('Количество');"
   ]
  },
  {
   "cell_type": "code",
   "execution_count": 24,
   "id": "5db19ba3-50e6-4390-8170-68cda21f7127",
   "metadata": {},
   "outputs": [
    {
     "data": {
      "image/png": "[encoded data removed]",
      "text/plain": [
       "<Figure size 864x720 with 1 Axes>"
      ]
     },
     "metadata": {},
     "output_type": "display_data"
    }
   ],
   "source": [
    "sns.histplot(df_1[df_1.exp_group == 2].ctr9)\n",
    "plt.title('Распределение 90% квантилей ctr группы 2')\n",
    "plt.xlabel('90% квантиль CTR')\n",
    "plt.ylabel('Количество');"
   ]
  },
  {
   "cell_type": "markdown",
   "id": "2ec18061-b309-42a2-acf7-4ec2ec208583",
   "metadata": {},
   "source": [
    "Распределение 90% квантиля ctr в группе 1 немного напоминает нормальное, в группе 2 оно тоже похоже на нормальное, но имеет ряд выбросов. Распределения не похожи между собой."
   ]
  },
  {
   "cell_type": "markdown",
   "id": "b59c7ec4-a980-4f3d-a483-565d55044f49",
   "metadata": {},
   "source": [
    "## Выводы и рекомендации"
   ]
  },
  {
   "cell_type": "markdown",
   "id": "cbc5c3e9-7180-470d-8c99-23390168c40b",
   "metadata": {},
   "source": [
    "Проведя наглядное сравнение групп, и воспользовавшись различными статистическими тестами, приходим к выводу, что группа 1 и 2 имеют статистически значимые отличия. Причем у контрольной группы показатели лучше, чем у тестовой. Я бы не рекомендовала использовать новый алгоритм рекомендации постов. Возможно пользователи были разбиты на группы неправильно, из-за чего эксперимет стал провальным, а возможно пользователям не понравился новый алгоритм рекомендации постов, что скорее более верно. "
   ]
  }
 ],
 "metadata": {
  "kernelspec": {
   "display_name": "Python 3 (ipykernel)",
   "language": "python",
   "name": "python3"
  },
  "language_info": {
   "codemirror_mode": {
    "name": "ipython",
    "version": 3
   },
   "file_extension": ".py",
   "mimetype": "text/x-python",
   "name": "python",
   "nbconvert_exporter": "python",
   "pygments_lexer": "ipython3",
   "version": "3.8.10"
  }
 },
 "nbformat": 4,
 "nbformat_minor": 5
}
