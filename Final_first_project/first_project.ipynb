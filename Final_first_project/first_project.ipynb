{
 "cells": [
  {
   "cell_type": "markdown",
   "metadata": {},
   "source": [
    "# Проект e-commerce"
   ]
  },
  {
   "cell_type": "markdown",
   "metadata": {},
   "source": [
    "## Описание проекта"
   ]
  },
  {
   "cell_type": "markdown",
   "metadata": {},
   "source": [
    "Продакт-менеджер Василий попросил проанализировать совершенные покупки и ответить на следующие вопросы:\n",
    "\n",
    "1. Сколько у нас пользователей, которые совершили покупку только один раз?\n",
    "\n",
    "2. Сколько заказов в месяц в среднем не доставляется по разным причинам (вывести детализацию по причинам)?\n",
    "\n",
    "3. По каждому товару определить, в какой день недели товар чаще всего покупается.\n",
    "\n",
    "4. Сколько у каждого из пользователей в среднем покупок в неделю (по месяцам)? \n",
    "\n",
    "5. Выполнить когортный анализ пользователей. В период с января по декабрь выявить когорту с самым высоким retention на 3-й месяц. \n",
    "\n",
    "6. Используя python, построй RFM-сегментацию пользователей, чтобы качественно оценить свою аудиторию.\n"
   ]
  },
  {
   "cell_type": "markdown",
   "metadata": {},
   "source": [
    "## Загрузка данных из файла в датафрейм и изучение общей информации"
   ]
  },
  {
   "cell_type": "markdown",
   "metadata": {},
   "source": [
    "Импортируем все необходимые библиотеки."
   ]
  },
  {
   "cell_type": "code",
   "execution_count": 1,
   "metadata": {},
   "outputs": [],
   "source": [
    "import pandas as pd\n",
    "import seaborn as sns\n",
    "import matplotlib.pyplot as plt\n",
    "import numpy as np"
   ]
  },
  {
   "cell_type": "markdown",
   "metadata": {},
   "source": [
    "Откроем файл с данными и выведем на экран первые 10 строчек датафрейма olist_customers_dataset."
   ]
  },
  {
   "cell_type": "code",
   "execution_count": 2,
   "metadata": {},
   "outputs": [
    {
     "data": {
      "text/html": [
       "<div>\n",
       "<style scoped>\n",
       "    .dataframe tbody tr th:only-of-type {\n",
       "        vertical-align: middle;\n",
       "    }\n",
       "\n",
       "    .dataframe tbody tr th {\n",
       "        vertical-align: top;\n",
       "    }\n",
       "\n",
       "    .dataframe thead th {\n",
       "        text-align: right;\n",
       "    }\n",
       "</style>\n",
       "<table border=\"1\" class=\"dataframe\">\n",
       "  <thead>\n",
       "    <tr style=\"text-align: right;\">\n",
       "      <th></th>\n",
       "      <th>customer_id</th>\n",
       "      <th>customer_unique_id</th>\n",
       "      <th>customer_zip_code_prefix</th>\n",
       "      <th>customer_city</th>\n",
       "      <th>customer_state</th>\n",
       "    </tr>\n",
       "  </thead>\n",
       "  <tbody>\n",
       "    <tr>\n",
       "      <th>0</th>\n",
       "      <td>06b8999e2fba1a1fbc88172c00ba8bc7</td>\n",
       "      <td>861eff4711a542e4b93843c6dd7febb0</td>\n",
       "      <td>14409</td>\n",
       "      <td>franca</td>\n",
       "      <td>SP</td>\n",
       "    </tr>\n",
       "    <tr>\n",
       "      <th>1</th>\n",
       "      <td>18955e83d337fd6b2def6b18a428ac77</td>\n",
       "      <td>290c77bc529b7ac935b93aa66c333dc3</td>\n",
       "      <td>9790</td>\n",
       "      <td>sao bernardo do campo</td>\n",
       "      <td>SP</td>\n",
       "    </tr>\n",
       "    <tr>\n",
       "      <th>2</th>\n",
       "      <td>4e7b3e00288586ebd08712fdd0374a03</td>\n",
       "      <td>060e732b5b29e8181a18229c7b0b2b5e</td>\n",
       "      <td>1151</td>\n",
       "      <td>sao paulo</td>\n",
       "      <td>SP</td>\n",
       "    </tr>\n",
       "    <tr>\n",
       "      <th>3</th>\n",
       "      <td>b2b6027bc5c5109e529d4dc6358b12c3</td>\n",
       "      <td>259dac757896d24d7702b9acbbff3f3c</td>\n",
       "      <td>8775</td>\n",
       "      <td>mogi das cruzes</td>\n",
       "      <td>SP</td>\n",
       "    </tr>\n",
       "    <tr>\n",
       "      <th>4</th>\n",
       "      <td>4f2d8ab171c80ec8364f7c12e35b23ad</td>\n",
       "      <td>345ecd01c38d18a9036ed96c73b8d066</td>\n",
       "      <td>13056</td>\n",
       "      <td>campinas</td>\n",
       "      <td>SP</td>\n",
       "    </tr>\n",
       "    <tr>\n",
       "      <th>5</th>\n",
       "      <td>879864dab9bc3047522c92c82e1212b8</td>\n",
       "      <td>4c93744516667ad3b8f1fb645a3116a4</td>\n",
       "      <td>89254</td>\n",
       "      <td>jaragua do sul</td>\n",
       "      <td>SC</td>\n",
       "    </tr>\n",
       "    <tr>\n",
       "      <th>6</th>\n",
       "      <td>fd826e7cf63160e536e0908c76c3f441</td>\n",
       "      <td>addec96d2e059c80c30fe6871d30d177</td>\n",
       "      <td>4534</td>\n",
       "      <td>sao paulo</td>\n",
       "      <td>SP</td>\n",
       "    </tr>\n",
       "    <tr>\n",
       "      <th>7</th>\n",
       "      <td>5e274e7a0c3809e14aba7ad5aae0d407</td>\n",
       "      <td>57b2a98a409812fe9618067b6b8ebe4f</td>\n",
       "      <td>35182</td>\n",
       "      <td>timoteo</td>\n",
       "      <td>MG</td>\n",
       "    </tr>\n",
       "    <tr>\n",
       "      <th>8</th>\n",
       "      <td>5adf08e34b2e993982a47070956c5c65</td>\n",
       "      <td>1175e95fb47ddff9de6b2b06188f7e0d</td>\n",
       "      <td>81560</td>\n",
       "      <td>curitiba</td>\n",
       "      <td>PR</td>\n",
       "    </tr>\n",
       "    <tr>\n",
       "      <th>9</th>\n",
       "      <td>4b7139f34592b3a31687243a302fa75b</td>\n",
       "      <td>9afe194fb833f79e300e37e580171f22</td>\n",
       "      <td>30575</td>\n",
       "      <td>belo horizonte</td>\n",
       "      <td>MG</td>\n",
       "    </tr>\n",
       "  </tbody>\n",
       "</table>\n",
       "</div>"
      ],
      "text/plain": [
       "                        customer_id                customer_unique_id  \\\n",
       "0  06b8999e2fba1a1fbc88172c00ba8bc7  861eff4711a542e4b93843c6dd7febb0   \n",
       "1  18955e83d337fd6b2def6b18a428ac77  290c77bc529b7ac935b93aa66c333dc3   \n",
       "2  4e7b3e00288586ebd08712fdd0374a03  060e732b5b29e8181a18229c7b0b2b5e   \n",
       "3  b2b6027bc5c5109e529d4dc6358b12c3  259dac757896d24d7702b9acbbff3f3c   \n",
       "4  4f2d8ab171c80ec8364f7c12e35b23ad  345ecd01c38d18a9036ed96c73b8d066   \n",
       "5  879864dab9bc3047522c92c82e1212b8  4c93744516667ad3b8f1fb645a3116a4   \n",
       "6  fd826e7cf63160e536e0908c76c3f441  addec96d2e059c80c30fe6871d30d177   \n",
       "7  5e274e7a0c3809e14aba7ad5aae0d407  57b2a98a409812fe9618067b6b8ebe4f   \n",
       "8  5adf08e34b2e993982a47070956c5c65  1175e95fb47ddff9de6b2b06188f7e0d   \n",
       "9  4b7139f34592b3a31687243a302fa75b  9afe194fb833f79e300e37e580171f22   \n",
       "\n",
       "   customer_zip_code_prefix          customer_city customer_state  \n",
       "0                     14409                 franca             SP  \n",
       "1                      9790  sao bernardo do campo             SP  \n",
       "2                      1151              sao paulo             SP  \n",
       "3                      8775        mogi das cruzes             SP  \n",
       "4                     13056               campinas             SP  \n",
       "5                     89254         jaragua do sul             SC  \n",
       "6                      4534              sao paulo             SP  \n",
       "7                     35182                timoteo             MG  \n",
       "8                     81560               curitiba             PR  \n",
       "9                     30575         belo horizonte             MG  "
      ]
     },
     "execution_count": 2,
     "metadata": {},
     "output_type": "execute_result"
    }
   ],
   "source": [
    "olist_customers_dataset = pd.read_csv\\\n",
    "                          ('olist_customers_dataset.csv')\n",
    "olist_customers_dataset.head(10)"
   ]
  },
  {
   "cell_type": "markdown",
   "metadata": {},
   "source": [
    "Откроем файл с данными и выведем на экран первые 10 строчек датафрейма olist_order_items_dataset."
   ]
  },
  {
   "cell_type": "code",
   "execution_count": 3,
   "metadata": {},
   "outputs": [
    {
     "data": {
      "text/html": [
       "<div>\n",
       "<style scoped>\n",
       "    .dataframe tbody tr th:only-of-type {\n",
       "        vertical-align: middle;\n",
       "    }\n",
       "\n",
       "    .dataframe tbody tr th {\n",
       "        vertical-align: top;\n",
       "    }\n",
       "\n",
       "    .dataframe thead th {\n",
       "        text-align: right;\n",
       "    }\n",
       "</style>\n",
       "<table border=\"1\" class=\"dataframe\">\n",
       "  <thead>\n",
       "    <tr style=\"text-align: right;\">\n",
       "      <th></th>\n",
       "      <th>order_id</th>\n",
       "      <th>order_item_id</th>\n",
       "      <th>product_id</th>\n",
       "      <th>seller_id</th>\n",
       "      <th>shipping_limit_date</th>\n",
       "      <th>price</th>\n",
       "      <th>freight_value</th>\n",
       "    </tr>\n",
       "  </thead>\n",
       "  <tbody>\n",
       "    <tr>\n",
       "      <th>0</th>\n",
       "      <td>00010242fe8c5a6d1ba2dd792cb16214</td>\n",
       "      <td>1</td>\n",
       "      <td>4244733e06e7ecb4970a6e2683c13e61</td>\n",
       "      <td>48436dade18ac8b2bce089ec2a041202</td>\n",
       "      <td>2017-09-19 09:45:35</td>\n",
       "      <td>58.90</td>\n",
       "      <td>13.29</td>\n",
       "    </tr>\n",
       "    <tr>\n",
       "      <th>1</th>\n",
       "      <td>00018f77f2f0320c557190d7a144bdd3</td>\n",
       "      <td>1</td>\n",
       "      <td>e5f2d52b802189ee658865ca93d83a8f</td>\n",
       "      <td>dd7ddc04e1b6c2c614352b383efe2d36</td>\n",
       "      <td>2017-05-03 11:05:13</td>\n",
       "      <td>239.90</td>\n",
       "      <td>19.93</td>\n",
       "    </tr>\n",
       "    <tr>\n",
       "      <th>2</th>\n",
       "      <td>000229ec398224ef6ca0657da4fc703e</td>\n",
       "      <td>1</td>\n",
       "      <td>c777355d18b72b67abbeef9df44fd0fd</td>\n",
       "      <td>5b51032eddd242adc84c38acab88f23d</td>\n",
       "      <td>2018-01-18 14:48:30</td>\n",
       "      <td>199.00</td>\n",
       "      <td>17.87</td>\n",
       "    </tr>\n",
       "    <tr>\n",
       "      <th>3</th>\n",
       "      <td>00024acbcdf0a6daa1e931b038114c75</td>\n",
       "      <td>1</td>\n",
       "      <td>7634da152a4610f1595efa32f14722fc</td>\n",
       "      <td>9d7a1d34a5052409006425275ba1c2b4</td>\n",
       "      <td>2018-08-15 10:10:18</td>\n",
       "      <td>12.99</td>\n",
       "      <td>12.79</td>\n",
       "    </tr>\n",
       "    <tr>\n",
       "      <th>4</th>\n",
       "      <td>00042b26cf59d7ce69dfabb4e55b4fd9</td>\n",
       "      <td>1</td>\n",
       "      <td>ac6c3623068f30de03045865e4e10089</td>\n",
       "      <td>df560393f3a51e74553ab94004ba5c87</td>\n",
       "      <td>2017-02-13 13:57:51</td>\n",
       "      <td>199.90</td>\n",
       "      <td>18.14</td>\n",
       "    </tr>\n",
       "    <tr>\n",
       "      <th>5</th>\n",
       "      <td>00048cc3ae777c65dbb7d2a0634bc1ea</td>\n",
       "      <td>1</td>\n",
       "      <td>ef92defde845ab8450f9d70c526ef70f</td>\n",
       "      <td>6426d21aca402a131fc0a5d0960a3c90</td>\n",
       "      <td>2017-05-23 03:55:27</td>\n",
       "      <td>21.90</td>\n",
       "      <td>12.69</td>\n",
       "    </tr>\n",
       "    <tr>\n",
       "      <th>6</th>\n",
       "      <td>00054e8431b9d7675808bcb819fb4a32</td>\n",
       "      <td>1</td>\n",
       "      <td>8d4f2bb7e93e6710a28f34fa83ee7d28</td>\n",
       "      <td>7040e82f899a04d1b434b795a43b4617</td>\n",
       "      <td>2017-12-14 12:10:31</td>\n",
       "      <td>19.90</td>\n",
       "      <td>11.85</td>\n",
       "    </tr>\n",
       "    <tr>\n",
       "      <th>7</th>\n",
       "      <td>000576fe39319847cbb9d288c5617fa6</td>\n",
       "      <td>1</td>\n",
       "      <td>557d850972a7d6f792fd18ae1400d9b6</td>\n",
       "      <td>5996cddab893a4652a15592fb58ab8db</td>\n",
       "      <td>2018-07-10 12:30:45</td>\n",
       "      <td>810.00</td>\n",
       "      <td>70.75</td>\n",
       "    </tr>\n",
       "    <tr>\n",
       "      <th>8</th>\n",
       "      <td>0005a1a1728c9d785b8e2b08b904576c</td>\n",
       "      <td>1</td>\n",
       "      <td>310ae3c140ff94b03219ad0adc3c778f</td>\n",
       "      <td>a416b6a846a11724393025641d4edd5e</td>\n",
       "      <td>2018-03-26 18:31:29</td>\n",
       "      <td>145.95</td>\n",
       "      <td>11.65</td>\n",
       "    </tr>\n",
       "    <tr>\n",
       "      <th>9</th>\n",
       "      <td>0005f50442cb953dcd1d21e1fb923495</td>\n",
       "      <td>1</td>\n",
       "      <td>4535b0e1091c278dfd193e5a1d63b39f</td>\n",
       "      <td>ba143b05f0110f0dc71ad71b4466ce92</td>\n",
       "      <td>2018-07-06 14:10:56</td>\n",
       "      <td>53.99</td>\n",
       "      <td>11.40</td>\n",
       "    </tr>\n",
       "  </tbody>\n",
       "</table>\n",
       "</div>"
      ],
      "text/plain": [
       "                           order_id  order_item_id  \\\n",
       "0  00010242fe8c5a6d1ba2dd792cb16214              1   \n",
       "1  00018f77f2f0320c557190d7a144bdd3              1   \n",
       "2  000229ec398224ef6ca0657da4fc703e              1   \n",
       "3  00024acbcdf0a6daa1e931b038114c75              1   \n",
       "4  00042b26cf59d7ce69dfabb4e55b4fd9              1   \n",
       "5  00048cc3ae777c65dbb7d2a0634bc1ea              1   \n",
       "6  00054e8431b9d7675808bcb819fb4a32              1   \n",
       "7  000576fe39319847cbb9d288c5617fa6              1   \n",
       "8  0005a1a1728c9d785b8e2b08b904576c              1   \n",
       "9  0005f50442cb953dcd1d21e1fb923495              1   \n",
       "\n",
       "                         product_id                         seller_id  \\\n",
       "0  4244733e06e7ecb4970a6e2683c13e61  48436dade18ac8b2bce089ec2a041202   \n",
       "1  e5f2d52b802189ee658865ca93d83a8f  dd7ddc04e1b6c2c614352b383efe2d36   \n",
       "2  c777355d18b72b67abbeef9df44fd0fd  5b51032eddd242adc84c38acab88f23d   \n",
       "3  7634da152a4610f1595efa32f14722fc  9d7a1d34a5052409006425275ba1c2b4   \n",
       "4  ac6c3623068f30de03045865e4e10089  df560393f3a51e74553ab94004ba5c87   \n",
       "5  ef92defde845ab8450f9d70c526ef70f  6426d21aca402a131fc0a5d0960a3c90   \n",
       "6  8d4f2bb7e93e6710a28f34fa83ee7d28  7040e82f899a04d1b434b795a43b4617   \n",
       "7  557d850972a7d6f792fd18ae1400d9b6  5996cddab893a4652a15592fb58ab8db   \n",
       "8  310ae3c140ff94b03219ad0adc3c778f  a416b6a846a11724393025641d4edd5e   \n",
       "9  4535b0e1091c278dfd193e5a1d63b39f  ba143b05f0110f0dc71ad71b4466ce92   \n",
       "\n",
       "   shipping_limit_date   price  freight_value  \n",
       "0  2017-09-19 09:45:35   58.90          13.29  \n",
       "1  2017-05-03 11:05:13  239.90          19.93  \n",
       "2  2018-01-18 14:48:30  199.00          17.87  \n",
       "3  2018-08-15 10:10:18   12.99          12.79  \n",
       "4  2017-02-13 13:57:51  199.90          18.14  \n",
       "5  2017-05-23 03:55:27   21.90          12.69  \n",
       "6  2017-12-14 12:10:31   19.90          11.85  \n",
       "7  2018-07-10 12:30:45  810.00          70.75  \n",
       "8  2018-03-26 18:31:29  145.95          11.65  \n",
       "9  2018-07-06 14:10:56   53.99          11.40  "
      ]
     },
     "execution_count": 3,
     "metadata": {},
     "output_type": "execute_result"
    }
   ],
   "source": [
    "olist_order_items_dataset = pd.read_csv\\\n",
    "                          ('olist_order_items_dataset.csv')\n",
    "olist_order_items_dataset.head(10)"
   ]
  },
  {
   "cell_type": "markdown",
   "metadata": {},
   "source": [
    "Откроем файл с данными и выведем на экран первые 10 строчек датафрейма olist_orders_dataset."
   ]
  },
  {
   "cell_type": "code",
   "execution_count": 4,
   "metadata": {
    "scrolled": false
   },
   "outputs": [
    {
     "data": {
      "text/html": [
       "<div>\n",
       "<style scoped>\n",
       "    .dataframe tbody tr th:only-of-type {\n",
       "        vertical-align: middle;\n",
       "    }\n",
       "\n",
       "    .dataframe tbody tr th {\n",
       "        vertical-align: top;\n",
       "    }\n",
       "\n",
       "    .dataframe thead th {\n",
       "        text-align: right;\n",
       "    }\n",
       "</style>\n",
       "<table border=\"1\" class=\"dataframe\">\n",
       "  <thead>\n",
       "    <tr style=\"text-align: right;\">\n",
       "      <th></th>\n",
       "      <th>order_id</th>\n",
       "      <th>customer_id</th>\n",
       "      <th>order_status</th>\n",
       "      <th>order_purchase_timestamp</th>\n",
       "      <th>order_approved_at</th>\n",
       "      <th>order_delivered_carrier_date</th>\n",
       "      <th>order_delivered_customer_date</th>\n",
       "      <th>order_estimated_delivery_date</th>\n",
       "    </tr>\n",
       "  </thead>\n",
       "  <tbody>\n",
       "    <tr>\n",
       "      <th>0</th>\n",
       "      <td>e481f51cbdc54678b7cc49136f2d6af7</td>\n",
       "      <td>9ef432eb6251297304e76186b10a928d</td>\n",
       "      <td>delivered</td>\n",
       "      <td>2017-10-02 10:56:33</td>\n",
       "      <td>2017-10-02 11:07:15</td>\n",
       "      <td>2017-10-04 19:55:00</td>\n",
       "      <td>2017-10-10 21:25:13</td>\n",
       "      <td>2017-10-18 00:00:00</td>\n",
       "    </tr>\n",
       "    <tr>\n",
       "      <th>1</th>\n",
       "      <td>53cdb2fc8bc7dce0b6741e2150273451</td>\n",
       "      <td>b0830fb4747a6c6d20dea0b8c802d7ef</td>\n",
       "      <td>delivered</td>\n",
       "      <td>2018-07-24 20:41:37</td>\n",
       "      <td>2018-07-26 03:24:27</td>\n",
       "      <td>2018-07-26 14:31:00</td>\n",
       "      <td>2018-08-07 15:27:45</td>\n",
       "      <td>2018-08-13 00:00:00</td>\n",
       "    </tr>\n",
       "    <tr>\n",
       "      <th>2</th>\n",
       "      <td>47770eb9100c2d0c44946d9cf07ec65d</td>\n",
       "      <td>41ce2a54c0b03bf3443c3d931a367089</td>\n",
       "      <td>delivered</td>\n",
       "      <td>2018-08-08 08:38:49</td>\n",
       "      <td>2018-08-08 08:55:23</td>\n",
       "      <td>2018-08-08 13:50:00</td>\n",
       "      <td>2018-08-17 18:06:29</td>\n",
       "      <td>2018-09-04 00:00:00</td>\n",
       "    </tr>\n",
       "    <tr>\n",
       "      <th>3</th>\n",
       "      <td>949d5b44dbf5de918fe9c16f97b45f8a</td>\n",
       "      <td>f88197465ea7920adcdbec7375364d82</td>\n",
       "      <td>delivered</td>\n",
       "      <td>2017-11-18 19:28:06</td>\n",
       "      <td>2017-11-18 19:45:59</td>\n",
       "      <td>2017-11-22 13:39:59</td>\n",
       "      <td>2017-12-02 00:28:42</td>\n",
       "      <td>2017-12-15 00:00:00</td>\n",
       "    </tr>\n",
       "    <tr>\n",
       "      <th>4</th>\n",
       "      <td>ad21c59c0840e6cb83a9ceb5573f8159</td>\n",
       "      <td>8ab97904e6daea8866dbdbc4fb7aad2c</td>\n",
       "      <td>delivered</td>\n",
       "      <td>2018-02-13 21:18:39</td>\n",
       "      <td>2018-02-13 22:20:29</td>\n",
       "      <td>2018-02-14 19:46:34</td>\n",
       "      <td>2018-02-16 18:17:02</td>\n",
       "      <td>2018-02-26 00:00:00</td>\n",
       "    </tr>\n",
       "    <tr>\n",
       "      <th>5</th>\n",
       "      <td>a4591c265e18cb1dcee52889e2d8acc3</td>\n",
       "      <td>503740e9ca751ccdda7ba28e9ab8f608</td>\n",
       "      <td>delivered</td>\n",
       "      <td>2017-07-09 21:57:05</td>\n",
       "      <td>2017-07-09 22:10:13</td>\n",
       "      <td>2017-07-11 14:58:04</td>\n",
       "      <td>2017-07-26 10:57:55</td>\n",
       "      <td>2017-08-01 00:00:00</td>\n",
       "    </tr>\n",
       "    <tr>\n",
       "      <th>6</th>\n",
       "      <td>136cce7faa42fdb2cefd53fdc79a6098</td>\n",
       "      <td>ed0271e0b7da060a393796590e7b737a</td>\n",
       "      <td>invoiced</td>\n",
       "      <td>2017-04-11 12:22:08</td>\n",
       "      <td>2017-04-13 13:25:17</td>\n",
       "      <td>NaN</td>\n",
       "      <td>NaN</td>\n",
       "      <td>2017-05-09 00:00:00</td>\n",
       "    </tr>\n",
       "    <tr>\n",
       "      <th>7</th>\n",
       "      <td>6514b8ad8028c9f2cc2374ded245783f</td>\n",
       "      <td>9bdf08b4b3b52b5526ff42d37d47f222</td>\n",
       "      <td>delivered</td>\n",
       "      <td>2017-05-16 13:10:30</td>\n",
       "      <td>2017-05-16 13:22:11</td>\n",
       "      <td>2017-05-22 10:07:46</td>\n",
       "      <td>2017-05-26 12:55:51</td>\n",
       "      <td>2017-06-07 00:00:00</td>\n",
       "    </tr>\n",
       "    <tr>\n",
       "      <th>8</th>\n",
       "      <td>76c6e866289321a7c93b82b54852dc33</td>\n",
       "      <td>f54a9f0e6b351c431402b8461ea51999</td>\n",
       "      <td>delivered</td>\n",
       "      <td>2017-01-23 18:29:09</td>\n",
       "      <td>2017-01-25 02:50:47</td>\n",
       "      <td>2017-01-26 14:16:31</td>\n",
       "      <td>2017-02-02 14:08:10</td>\n",
       "      <td>2017-03-06 00:00:00</td>\n",
       "    </tr>\n",
       "    <tr>\n",
       "      <th>9</th>\n",
       "      <td>e69bfb5eb88e0ed6a785585b27e16dbf</td>\n",
       "      <td>31ad1d1b63eb9962463f764d4e6e0c9d</td>\n",
       "      <td>delivered</td>\n",
       "      <td>2017-07-29 11:55:02</td>\n",
       "      <td>2017-07-29 12:05:32</td>\n",
       "      <td>2017-08-10 19:45:24</td>\n",
       "      <td>2017-08-16 17:14:30</td>\n",
       "      <td>2017-08-23 00:00:00</td>\n",
       "    </tr>\n",
       "  </tbody>\n",
       "</table>\n",
       "</div>"
      ],
      "text/plain": [
       "                           order_id                       customer_id  \\\n",
       "0  e481f51cbdc54678b7cc49136f2d6af7  9ef432eb6251297304e76186b10a928d   \n",
       "1  53cdb2fc8bc7dce0b6741e2150273451  b0830fb4747a6c6d20dea0b8c802d7ef   \n",
       "2  47770eb9100c2d0c44946d9cf07ec65d  41ce2a54c0b03bf3443c3d931a367089   \n",
       "3  949d5b44dbf5de918fe9c16f97b45f8a  f88197465ea7920adcdbec7375364d82   \n",
       "4  ad21c59c0840e6cb83a9ceb5573f8159  8ab97904e6daea8866dbdbc4fb7aad2c   \n",
       "5  a4591c265e18cb1dcee52889e2d8acc3  503740e9ca751ccdda7ba28e9ab8f608   \n",
       "6  136cce7faa42fdb2cefd53fdc79a6098  ed0271e0b7da060a393796590e7b737a   \n",
       "7  6514b8ad8028c9f2cc2374ded245783f  9bdf08b4b3b52b5526ff42d37d47f222   \n",
       "8  76c6e866289321a7c93b82b54852dc33  f54a9f0e6b351c431402b8461ea51999   \n",
       "9  e69bfb5eb88e0ed6a785585b27e16dbf  31ad1d1b63eb9962463f764d4e6e0c9d   \n",
       "\n",
       "  order_status order_purchase_timestamp    order_approved_at  \\\n",
       "0    delivered      2017-10-02 10:56:33  2017-10-02 11:07:15   \n",
       "1    delivered      2018-07-24 20:41:37  2018-07-26 03:24:27   \n",
       "2    delivered      2018-08-08 08:38:49  2018-08-08 08:55:23   \n",
       "3    delivered      2017-11-18 19:28:06  2017-11-18 19:45:59   \n",
       "4    delivered      2018-02-13 21:18:39  2018-02-13 22:20:29   \n",
       "5    delivered      2017-07-09 21:57:05  2017-07-09 22:10:13   \n",
       "6     invoiced      2017-04-11 12:22:08  2017-04-13 13:25:17   \n",
       "7    delivered      2017-05-16 13:10:30  2017-05-16 13:22:11   \n",
       "8    delivered      2017-01-23 18:29:09  2017-01-25 02:50:47   \n",
       "9    delivered      2017-07-29 11:55:02  2017-07-29 12:05:32   \n",
       "\n",
       "  order_delivered_carrier_date order_delivered_customer_date  \\\n",
       "0          2017-10-04 19:55:00           2017-10-10 21:25:13   \n",
       "1          2018-07-26 14:31:00           2018-08-07 15:27:45   \n",
       "2          2018-08-08 13:50:00           2018-08-17 18:06:29   \n",
       "3          2017-11-22 13:39:59           2017-12-02 00:28:42   \n",
       "4          2018-02-14 19:46:34           2018-02-16 18:17:02   \n",
       "5          2017-07-11 14:58:04           2017-07-26 10:57:55   \n",
       "6                          NaN                           NaN   \n",
       "7          2017-05-22 10:07:46           2017-05-26 12:55:51   \n",
       "8          2017-01-26 14:16:31           2017-02-02 14:08:10   \n",
       "9          2017-08-10 19:45:24           2017-08-16 17:14:30   \n",
       "\n",
       "  order_estimated_delivery_date  \n",
       "0           2017-10-18 00:00:00  \n",
       "1           2018-08-13 00:00:00  \n",
       "2           2018-09-04 00:00:00  \n",
       "3           2017-12-15 00:00:00  \n",
       "4           2018-02-26 00:00:00  \n",
       "5           2017-08-01 00:00:00  \n",
       "6           2017-05-09 00:00:00  \n",
       "7           2017-06-07 00:00:00  \n",
       "8           2017-03-06 00:00:00  \n",
       "9           2017-08-23 00:00:00  "
      ]
     },
     "execution_count": 4,
     "metadata": {},
     "output_type": "execute_result"
    }
   ],
   "source": [
    "olist_orders_dataset = pd.read_csv\\\n",
    "                          ('olist_orders_dataset.csv')\n",
    "olist_orders_dataset.head(10)"
   ]
  },
  {
   "cell_type": "markdown",
   "metadata": {},
   "source": [
    "### Общая информация"
   ]
  },
  {
   "cell_type": "markdown",
   "metadata": {},
   "source": [
    "Посмотрим общие данные, выведя основную информацию о датафрейме olist_customers_dataset с помощью метода info()."
   ]
  },
  {
   "cell_type": "code",
   "execution_count": 5,
   "metadata": {
    "scrolled": true
   },
   "outputs": [
    {
     "name": "stdout",
     "output_type": "stream",
     "text": [
      "<class 'pandas.core.frame.DataFrame'>\n",
      "RangeIndex: 99441 entries, 0 to 99440\n",
      "Data columns (total 5 columns):\n",
      " #   Column                    Non-Null Count  Dtype \n",
      "---  ------                    --------------  ----- \n",
      " 0   customer_id               99441 non-null  object\n",
      " 1   customer_unique_id        99441 non-null  object\n",
      " 2   customer_zip_code_prefix  99441 non-null  int64 \n",
      " 3   customer_city             99441 non-null  object\n",
      " 4   customer_state            99441 non-null  object\n",
      "dtypes: int64(1), object(4)\n",
      "memory usage: 3.8+ MB\n"
     ]
    }
   ],
   "source": [
    "olist_customers_dataset.info()"
   ]
  },
  {
   "cell_type": "markdown",
   "metadata": {},
   "source": [
    "Датафрейм olist_customers_dataset содержит 5 колонок и 99441 строку. Пропусков в данных нет."
   ]
  },
  {
   "cell_type": "markdown",
   "metadata": {},
   "source": [
    "Посмотрим общие данные, выведя основную информацию о датафрейме olist_order_items_dataset с помощью метода info()."
   ]
  },
  {
   "cell_type": "code",
   "execution_count": 6,
   "metadata": {},
   "outputs": [
    {
     "name": "stdout",
     "output_type": "stream",
     "text": [
      "<class 'pandas.core.frame.DataFrame'>\n",
      "RangeIndex: 112650 entries, 0 to 112649\n",
      "Data columns (total 7 columns):\n",
      " #   Column               Non-Null Count   Dtype  \n",
      "---  ------               --------------   -----  \n",
      " 0   order_id             112650 non-null  object \n",
      " 1   order_item_id        112650 non-null  int64  \n",
      " 2   product_id           112650 non-null  object \n",
      " 3   seller_id            112650 non-null  object \n",
      " 4   shipping_limit_date  112650 non-null  object \n",
      " 5   price                112650 non-null  float64\n",
      " 6   freight_value        112650 non-null  float64\n",
      "dtypes: float64(2), int64(1), object(4)\n",
      "memory usage: 6.0+ MB\n"
     ]
    }
   ],
   "source": [
    "olist_order_items_dataset.info()"
   ]
  },
  {
   "cell_type": "markdown",
   "metadata": {},
   "source": [
    "Датафрейм olist_order_items_dataset содержит 7 колонок и 112650 строк. Пропусков в данных нет."
   ]
  },
  {
   "cell_type": "markdown",
   "metadata": {},
   "source": [
    "Посмотрим общие данные, выведя основную информацию о датафрейме olist_orders_dataset с помощью метода info()."
   ]
  },
  {
   "cell_type": "code",
   "execution_count": 7,
   "metadata": {},
   "outputs": [
    {
     "name": "stdout",
     "output_type": "stream",
     "text": [
      "<class 'pandas.core.frame.DataFrame'>\n",
      "RangeIndex: 99441 entries, 0 to 99440\n",
      "Data columns (total 8 columns):\n",
      " #   Column                         Non-Null Count  Dtype \n",
      "---  ------                         --------------  ----- \n",
      " 0   order_id                       99441 non-null  object\n",
      " 1   customer_id                    99441 non-null  object\n",
      " 2   order_status                   99441 non-null  object\n",
      " 3   order_purchase_timestamp       99441 non-null  object\n",
      " 4   order_approved_at              99281 non-null  object\n",
      " 5   order_delivered_carrier_date   97658 non-null  object\n",
      " 6   order_delivered_customer_date  96476 non-null  object\n",
      " 7   order_estimated_delivery_date  99441 non-null  object\n",
      "dtypes: object(8)\n",
      "memory usage: 6.1+ MB\n"
     ]
    }
   ],
   "source": [
    "olist_orders_dataset.info()"
   ]
  },
  {
   "cell_type": "markdown",
   "metadata": {},
   "source": [
    "Датафрейм olist_orders_dataset содержит 8 колонок и 99441 строку. В данных есть пропуски, в столбцах order_approved_at, order_delivered_carrier_date, order_delivered_customer_date."
   ]
  },
  {
   "cell_type": "markdown",
   "metadata": {},
   "source": [
    "Посчитаем количество пропусков в столбцах order_approved_at, order_delivered_carrier_date, order_delivered_customer_date."
   ]
  },
  {
   "cell_type": "code",
   "execution_count": 8,
   "metadata": {},
   "outputs": [
    {
     "data": {
      "text/plain": [
       "order_id                            0\n",
       "customer_id                         0\n",
       "order_status                        0\n",
       "order_purchase_timestamp            0\n",
       "order_approved_at                 160\n",
       "order_delivered_carrier_date     1783\n",
       "order_delivered_customer_date    2965\n",
       "order_estimated_delivery_date       0\n",
       "dtype: int64"
      ]
     },
     "execution_count": 8,
     "metadata": {},
     "output_type": "execute_result"
    }
   ],
   "source": [
    "olist_orders_dataset.isna().sum()"
   ]
  },
  {
   "cell_type": "markdown",
   "metadata": {},
   "source": [
    "Больше всего пропусков в столбце order_delivered_customer_date, и составляют они примерно 3%. Возможно пропуски присутствуют здесь из-за того, что данные заказы были отменены, либо еще не были переданы в службу доставки, либо еще не оплачены, так как пропуски встречаются в столбцах время подтверждения оплаты заказа, время передачи заказа в логистическую службу, время доставки заказа. "
   ]
  },
  {
   "cell_type": "markdown",
   "metadata": {},
   "source": [
    "### Замена типа данных"
   ]
  },
  {
   "cell_type": "markdown",
   "metadata": {},
   "source": [
    "Заменем тип данных в столбцах order_purchase_timestamp, order_approved_at, order_delivered_carrier_date, order_delivered_customer_date, order_estimated_delivery_date датафрейма olist_orders_dataset с object на datetime.  "
   ]
  },
  {
   "cell_type": "code",
   "execution_count": 9,
   "metadata": {},
   "outputs": [],
   "source": [
    "olist_orders_dataset[['order_purchase_timestamp', 'order_approved_at', \\\n",
    "                      'order_delivered_carrier_date', 'order_delivered_customer_date', \\\n",
    "                      'order_estimated_delivery_date']] = olist_orders_dataset[['order_purchase_timestamp', \\\n",
    "                                                                                'order_approved_at', \\\n",
    "                                                                                'order_delivered_carrier_date', \\\n",
    "                                                                                'order_delivered_customer_date', \\\n",
    "                                                                                'order_estimated_delivery_date']].apply(pd.to_datetime )"
   ]
  },
  {
   "cell_type": "code",
   "execution_count": 10,
   "metadata": {},
   "outputs": [
    {
     "name": "stdout",
     "output_type": "stream",
     "text": [
      "<class 'pandas.core.frame.DataFrame'>\n",
      "RangeIndex: 99441 entries, 0 to 99440\n",
      "Data columns (total 8 columns):\n",
      " #   Column                         Non-Null Count  Dtype         \n",
      "---  ------                         --------------  -----         \n",
      " 0   order_id                       99441 non-null  object        \n",
      " 1   customer_id                    99441 non-null  object        \n",
      " 2   order_status                   99441 non-null  object        \n",
      " 3   order_purchase_timestamp       99441 non-null  datetime64[ns]\n",
      " 4   order_approved_at              99281 non-null  datetime64[ns]\n",
      " 5   order_delivered_carrier_date   97658 non-null  datetime64[ns]\n",
      " 6   order_delivered_customer_date  96476 non-null  datetime64[ns]\n",
      " 7   order_estimated_delivery_date  99441 non-null  datetime64[ns]\n",
      "dtypes: datetime64[ns](5), object(3)\n",
      "memory usage: 6.1+ MB\n"
     ]
    }
   ],
   "source": [
    "olist_orders_dataset.info()"
   ]
  },
  {
   "cell_type": "markdown",
   "metadata": {},
   "source": [
    "Заменем тип данных в столбце shipping_limit_date датафрейма olist_order_items_dataset с object на datetime."
   ]
  },
  {
   "cell_type": "code",
   "execution_count": 11,
   "metadata": {},
   "outputs": [],
   "source": [
    "olist_order_items_dataset['shipping_limit_date'] = pd.to_datetime(olist_order_items_dataset['shipping_limit_date'])"
   ]
  },
  {
   "cell_type": "code",
   "execution_count": 12,
   "metadata": {
    "scrolled": false
   },
   "outputs": [
    {
     "name": "stdout",
     "output_type": "stream",
     "text": [
      "<class 'pandas.core.frame.DataFrame'>\n",
      "RangeIndex: 112650 entries, 0 to 112649\n",
      "Data columns (total 7 columns):\n",
      " #   Column               Non-Null Count   Dtype         \n",
      "---  ------               --------------   -----         \n",
      " 0   order_id             112650 non-null  object        \n",
      " 1   order_item_id        112650 non-null  int64         \n",
      " 2   product_id           112650 non-null  object        \n",
      " 3   seller_id            112650 non-null  object        \n",
      " 4   shipping_limit_date  112650 non-null  datetime64[ns]\n",
      " 5   price                112650 non-null  float64       \n",
      " 6   freight_value        112650 non-null  float64       \n",
      "dtypes: datetime64[ns](1), float64(2), int64(1), object(3)\n",
      "memory usage: 6.0+ MB\n"
     ]
    }
   ],
   "source": [
    "olist_order_items_dataset.info()"
   ]
  },
  {
   "cell_type": "markdown",
   "metadata": {},
   "source": [
    "### Проверка на наличие дублей"
   ]
  },
  {
   "cell_type": "markdown",
   "metadata": {},
   "source": [
    "Проверим данные на наличие дублей. Вызовем метод duplicated() и сразу подсчитаем их количество с помощью sum():"
   ]
  },
  {
   "cell_type": "code",
   "execution_count": 13,
   "metadata": {},
   "outputs": [
    {
     "name": "stdout",
     "output_type": "stream",
     "text": [
      "Количество дублей в датафрейме olist_customers_dataset: 0\n"
     ]
    }
   ],
   "source": [
    "duplicate_customers = olist_customers_dataset.duplicated().sum()\n",
    "print(f'Количество дублей в датафрейме olist_customers_dataset: {duplicate_customers}')"
   ]
  },
  {
   "cell_type": "code",
   "execution_count": 14,
   "metadata": {},
   "outputs": [
    {
     "name": "stdout",
     "output_type": "stream",
     "text": [
      "Количество дублей в датафрейме olist_orders_dataset: 0\n"
     ]
    }
   ],
   "source": [
    "duplicate_orders = olist_orders_dataset.duplicated().sum()\n",
    "print(f'Количество дублей в датафрейме olist_orders_dataset: {duplicate_orders}')"
   ]
  },
  {
   "cell_type": "code",
   "execution_count": 15,
   "metadata": {
    "scrolled": false
   },
   "outputs": [
    {
     "name": "stdout",
     "output_type": "stream",
     "text": [
      "Количество дублей в датафрейме olist_order_items_dataset: 0\n"
     ]
    }
   ],
   "source": [
    "duplicate_order_items = olist_order_items_dataset.duplicated().sum()\n",
    "print(f'Количество дублей в датафрейме olist_order_items_dataset: {duplicate_order_items}')"
   ]
  },
  {
   "cell_type": "markdown",
   "metadata": {},
   "source": [
    "**Выводы:** Просмотрена общая информация о датафреймах, изменены типы данных. Найдены пропущенные значения в датафрейме olist_orders_dataset."
   ]
  },
  {
   "cell_type": "markdown",
   "metadata": {},
   "source": [
    "## Предварительное исследование"
   ]
  },
  {
   "cell_type": "markdown",
   "metadata": {},
   "source": [
    "Для решения задачи проведем предварительное исследование данных и сформулируем, что должно считаться покупкой. "
   ]
  },
  {
   "cell_type": "markdown",
   "metadata": {},
   "source": [
    "Рассмотрим два столбца: статусы заказов и время подтверждения оплаты заказа. Считаю, что анализ этих столбцов поможет разобраться, что является покупкой."
   ]
  },
  {
   "cell_type": "markdown",
   "metadata": {},
   "source": [
    "Посмотрим какие статусы заказов у нас встречаются. "
   ]
  },
  {
   "cell_type": "code",
   "execution_count": 16,
   "metadata": {},
   "outputs": [
    {
     "data": {
      "text/plain": [
       "array(['delivered', 'invoiced', 'shipped', 'processing', 'unavailable',\n",
       "       'canceled', 'created', 'approved'], dtype=object)"
      ]
     },
     "execution_count": 16,
     "metadata": {},
     "output_type": "execute_result"
    }
   ],
   "source": [
    "olist_orders_dataset['order_status'].unique()"
   ]
  },
  {
   "cell_type": "markdown",
   "metadata": {},
   "source": [
    "Заказы со статусами unavailable — недоступен, canceled — отменён сразу можно не учитывать. Разберемся с остальными статусами."
   ]
  },
  {
   "cell_type": "markdown",
   "metadata": {},
   "source": [
    "Можно было бы опираться только на статус delivered — доставлен пользователю, так как доставленные товар означает, что покупка точно была совершена, но тогда мы бы убрали некоторые данные, так как не все заказы доставлены пользователям, а могут быть, например, только на этапе сборки и отгрузки. Поэтому считаю, что заказы со статусами approved, invoiced, processing, shipped также можно считать за покупку."
   ]
  },
  {
   "cell_type": "markdown",
   "metadata": {},
   "source": [
    "Считать же заказы со статусом created тоже не совсем понятно как, так как не ясно, оплатит ли заказ пользователь или отменит его. Думаю, что нужно посмотреть на данные со стороны столбца order_approved_at, может тогда станет понятнее как поступить с заказами со статусом created."
   ]
  },
  {
   "cell_type": "markdown",
   "metadata": {},
   "source": [
    "На данный момент я бы считала за покупку заказы со стаусами: approved, invoiced, processing, shipped, delivered."
   ]
  },
  {
   "cell_type": "markdown",
   "metadata": {},
   "source": [
    "Посмотрим теперь на столбец order_approved_at — время подтверждения оплаты заказа."
   ]
  },
  {
   "cell_type": "markdown",
   "metadata": {},
   "source": [
    "Так как ранее в столбце order_approved_at были обнаружены пропуски, то с помощью фильтров отберем только те строки, в которых их нет."
   ]
  },
  {
   "cell_type": "code",
   "execution_count": 17,
   "metadata": {},
   "outputs": [
    {
     "data": {
      "text/html": [
       "<div>\n",
       "<style scoped>\n",
       "    .dataframe tbody tr th:only-of-type {\n",
       "        vertical-align: middle;\n",
       "    }\n",
       "\n",
       "    .dataframe tbody tr th {\n",
       "        vertical-align: top;\n",
       "    }\n",
       "\n",
       "    .dataframe thead th {\n",
       "        text-align: right;\n",
       "    }\n",
       "</style>\n",
       "<table border=\"1\" class=\"dataframe\">\n",
       "  <thead>\n",
       "    <tr style=\"text-align: right;\">\n",
       "      <th></th>\n",
       "      <th>order_id</th>\n",
       "      <th>customer_id</th>\n",
       "      <th>order_status</th>\n",
       "      <th>order_purchase_timestamp</th>\n",
       "      <th>order_approved_at</th>\n",
       "      <th>order_delivered_carrier_date</th>\n",
       "      <th>order_delivered_customer_date</th>\n",
       "      <th>order_estimated_delivery_date</th>\n",
       "    </tr>\n",
       "  </thead>\n",
       "  <tbody>\n",
       "    <tr>\n",
       "      <th>0</th>\n",
       "      <td>e481f51cbdc54678b7cc49136f2d6af7</td>\n",
       "      <td>9ef432eb6251297304e76186b10a928d</td>\n",
       "      <td>delivered</td>\n",
       "      <td>2017-10-02 10:56:33</td>\n",
       "      <td>2017-10-02 11:07:15</td>\n",
       "      <td>2017-10-04 19:55:00</td>\n",
       "      <td>2017-10-10 21:25:13</td>\n",
       "      <td>2017-10-18</td>\n",
       "    </tr>\n",
       "    <tr>\n",
       "      <th>1</th>\n",
       "      <td>53cdb2fc8bc7dce0b6741e2150273451</td>\n",
       "      <td>b0830fb4747a6c6d20dea0b8c802d7ef</td>\n",
       "      <td>delivered</td>\n",
       "      <td>2018-07-24 20:41:37</td>\n",
       "      <td>2018-07-26 03:24:27</td>\n",
       "      <td>2018-07-26 14:31:00</td>\n",
       "      <td>2018-08-07 15:27:45</td>\n",
       "      <td>2018-08-13</td>\n",
       "    </tr>\n",
       "    <tr>\n",
       "      <th>2</th>\n",
       "      <td>47770eb9100c2d0c44946d9cf07ec65d</td>\n",
       "      <td>41ce2a54c0b03bf3443c3d931a367089</td>\n",
       "      <td>delivered</td>\n",
       "      <td>2018-08-08 08:38:49</td>\n",
       "      <td>2018-08-08 08:55:23</td>\n",
       "      <td>2018-08-08 13:50:00</td>\n",
       "      <td>2018-08-17 18:06:29</td>\n",
       "      <td>2018-09-04</td>\n",
       "    </tr>\n",
       "    <tr>\n",
       "      <th>3</th>\n",
       "      <td>949d5b44dbf5de918fe9c16f97b45f8a</td>\n",
       "      <td>f88197465ea7920adcdbec7375364d82</td>\n",
       "      <td>delivered</td>\n",
       "      <td>2017-11-18 19:28:06</td>\n",
       "      <td>2017-11-18 19:45:59</td>\n",
       "      <td>2017-11-22 13:39:59</td>\n",
       "      <td>2017-12-02 00:28:42</td>\n",
       "      <td>2017-12-15</td>\n",
       "    </tr>\n",
       "    <tr>\n",
       "      <th>4</th>\n",
       "      <td>ad21c59c0840e6cb83a9ceb5573f8159</td>\n",
       "      <td>8ab97904e6daea8866dbdbc4fb7aad2c</td>\n",
       "      <td>delivered</td>\n",
       "      <td>2018-02-13 21:18:39</td>\n",
       "      <td>2018-02-13 22:20:29</td>\n",
       "      <td>2018-02-14 19:46:34</td>\n",
       "      <td>2018-02-16 18:17:02</td>\n",
       "      <td>2018-02-26</td>\n",
       "    </tr>\n",
       "  </tbody>\n",
       "</table>\n",
       "</div>"
      ],
      "text/plain": [
       "                           order_id                       customer_id  \\\n",
       "0  e481f51cbdc54678b7cc49136f2d6af7  9ef432eb6251297304e76186b10a928d   \n",
       "1  53cdb2fc8bc7dce0b6741e2150273451  b0830fb4747a6c6d20dea0b8c802d7ef   \n",
       "2  47770eb9100c2d0c44946d9cf07ec65d  41ce2a54c0b03bf3443c3d931a367089   \n",
       "3  949d5b44dbf5de918fe9c16f97b45f8a  f88197465ea7920adcdbec7375364d82   \n",
       "4  ad21c59c0840e6cb83a9ceb5573f8159  8ab97904e6daea8866dbdbc4fb7aad2c   \n",
       "\n",
       "  order_status order_purchase_timestamp   order_approved_at  \\\n",
       "0    delivered      2017-10-02 10:56:33 2017-10-02 11:07:15   \n",
       "1    delivered      2018-07-24 20:41:37 2018-07-26 03:24:27   \n",
       "2    delivered      2018-08-08 08:38:49 2018-08-08 08:55:23   \n",
       "3    delivered      2017-11-18 19:28:06 2017-11-18 19:45:59   \n",
       "4    delivered      2018-02-13 21:18:39 2018-02-13 22:20:29   \n",
       "\n",
       "  order_delivered_carrier_date order_delivered_customer_date  \\\n",
       "0          2017-10-04 19:55:00           2017-10-10 21:25:13   \n",
       "1          2018-07-26 14:31:00           2018-08-07 15:27:45   \n",
       "2          2018-08-08 13:50:00           2018-08-17 18:06:29   \n",
       "3          2017-11-22 13:39:59           2017-12-02 00:28:42   \n",
       "4          2018-02-14 19:46:34           2018-02-16 18:17:02   \n",
       "\n",
       "  order_estimated_delivery_date  \n",
       "0                    2017-10-18  \n",
       "1                    2018-08-13  \n",
       "2                    2018-09-04  \n",
       "3                    2017-12-15  \n",
       "4                    2018-02-26  "
      ]
     },
     "execution_count": 17,
     "metadata": {},
     "output_type": "execute_result"
    }
   ],
   "source": [
    "olist_orders_dataset_not_nan = olist_orders_dataset.query('order_approved_at != \"NaN\"')\n",
    "olist_orders_dataset_not_nan.head()"
   ]
  },
  {
   "cell_type": "markdown",
   "metadata": {},
   "source": [
    "Теперь посмотрим на статусы заказов."
   ]
  },
  {
   "cell_type": "code",
   "execution_count": 18,
   "metadata": {},
   "outputs": [
    {
     "data": {
      "text/plain": [
       "array(['delivered', 'invoiced', 'shipped', 'processing', 'unavailable',\n",
       "       'canceled', 'approved'], dtype=object)"
      ]
     },
     "execution_count": 18,
     "metadata": {},
     "output_type": "execute_result"
    }
   ],
   "source": [
    "olist_orders_dataset_not_nan['order_status'].unique()"
   ]
  },
  {
   "cell_type": "markdown",
   "metadata": {},
   "source": [
    "После фильтрации наблюдаем изменения в статусах. Статус created — создан пропал из таблицы без пропусков. "
   ]
  },
  {
   "cell_type": "markdown",
   "metadata": {},
   "source": [
    "Посмотрим какие статусы и какое количество приходятся на пропущенные данные в столбце order_approved_at."
   ]
  },
  {
   "cell_type": "code",
   "execution_count": 19,
   "metadata": {
    "scrolled": false
   },
   "outputs": [
    {
     "data": {
      "text/html": [
       "<div>\n",
       "<style scoped>\n",
       "    .dataframe tbody tr th:only-of-type {\n",
       "        vertical-align: middle;\n",
       "    }\n",
       "\n",
       "    .dataframe tbody tr th {\n",
       "        vertical-align: top;\n",
       "    }\n",
       "\n",
       "    .dataframe thead th {\n",
       "        text-align: right;\n",
       "    }\n",
       "</style>\n",
       "<table border=\"1\" class=\"dataframe\">\n",
       "  <thead>\n",
       "    <tr style=\"text-align: right;\">\n",
       "      <th></th>\n",
       "      <th>order_id</th>\n",
       "      <th>customer_id</th>\n",
       "      <th>order_status</th>\n",
       "      <th>order_purchase_timestamp</th>\n",
       "      <th>order_approved_at</th>\n",
       "      <th>order_delivered_carrier_date</th>\n",
       "      <th>order_delivered_customer_date</th>\n",
       "      <th>order_estimated_delivery_date</th>\n",
       "    </tr>\n",
       "  </thead>\n",
       "  <tbody>\n",
       "    <tr>\n",
       "      <th>1130</th>\n",
       "      <td>00b1cb0320190ca0daa2c88b35206009</td>\n",
       "      <td>3532ba38a3fd242259a514ac2b6ae6b6</td>\n",
       "      <td>canceled</td>\n",
       "      <td>2018-08-28 15:26:39</td>\n",
       "      <td>NaT</td>\n",
       "      <td>NaT</td>\n",
       "      <td>NaT</td>\n",
       "      <td>2018-09-12</td>\n",
       "    </tr>\n",
       "    <tr>\n",
       "      <th>1801</th>\n",
       "      <td>ed3efbd3a87bea76c2812c66a0b32219</td>\n",
       "      <td>191984a8ba4cbb2145acb4fe35b69664</td>\n",
       "      <td>canceled</td>\n",
       "      <td>2018-09-20 13:54:16</td>\n",
       "      <td>NaT</td>\n",
       "      <td>NaT</td>\n",
       "      <td>NaT</td>\n",
       "      <td>2018-10-17</td>\n",
       "    </tr>\n",
       "    <tr>\n",
       "      <th>1868</th>\n",
       "      <td>df8282afe61008dc26c6c31011474d02</td>\n",
       "      <td>aa797b187b5466bc6925aaaa4bb3bed1</td>\n",
       "      <td>canceled</td>\n",
       "      <td>2017-03-04 12:14:30</td>\n",
       "      <td>NaT</td>\n",
       "      <td>NaT</td>\n",
       "      <td>NaT</td>\n",
       "      <td>2017-04-10</td>\n",
       "    </tr>\n",
       "    <tr>\n",
       "      <th>2029</th>\n",
       "      <td>8d4c637f1accf7a88a4555f02741e606</td>\n",
       "      <td>b1dd715db389a2077f43174e7a675d07</td>\n",
       "      <td>canceled</td>\n",
       "      <td>2018-08-29 16:27:49</td>\n",
       "      <td>NaT</td>\n",
       "      <td>NaT</td>\n",
       "      <td>NaT</td>\n",
       "      <td>2018-09-13</td>\n",
       "    </tr>\n",
       "    <tr>\n",
       "      <th>2161</th>\n",
       "      <td>7a9d4c7f9b068337875b95465330f2fc</td>\n",
       "      <td>7f71ae48074c0cfec9195f88fcbfac55</td>\n",
       "      <td>canceled</td>\n",
       "      <td>2017-05-01 16:12:39</td>\n",
       "      <td>NaT</td>\n",
       "      <td>NaT</td>\n",
       "      <td>NaT</td>\n",
       "      <td>2017-05-30</td>\n",
       "    </tr>\n",
       "  </tbody>\n",
       "</table>\n",
       "</div>"
      ],
      "text/plain": [
       "                              order_id                       customer_id  \\\n",
       "1130  00b1cb0320190ca0daa2c88b35206009  3532ba38a3fd242259a514ac2b6ae6b6   \n",
       "1801  ed3efbd3a87bea76c2812c66a0b32219  191984a8ba4cbb2145acb4fe35b69664   \n",
       "1868  df8282afe61008dc26c6c31011474d02  aa797b187b5466bc6925aaaa4bb3bed1   \n",
       "2029  8d4c637f1accf7a88a4555f02741e606  b1dd715db389a2077f43174e7a675d07   \n",
       "2161  7a9d4c7f9b068337875b95465330f2fc  7f71ae48074c0cfec9195f88fcbfac55   \n",
       "\n",
       "     order_status order_purchase_timestamp order_approved_at  \\\n",
       "1130     canceled      2018-08-28 15:26:39               NaT   \n",
       "1801     canceled      2018-09-20 13:54:16               NaT   \n",
       "1868     canceled      2017-03-04 12:14:30               NaT   \n",
       "2029     canceled      2018-08-29 16:27:49               NaT   \n",
       "2161     canceled      2017-05-01 16:12:39               NaT   \n",
       "\n",
       "     order_delivered_carrier_date order_delivered_customer_date  \\\n",
       "1130                          NaT                           NaT   \n",
       "1801                          NaT                           NaT   \n",
       "1868                          NaT                           NaT   \n",
       "2029                          NaT                           NaT   \n",
       "2161                          NaT                           NaT   \n",
       "\n",
       "     order_estimated_delivery_date  \n",
       "1130                    2018-09-12  \n",
       "1801                    2018-10-17  \n",
       "1868                    2017-04-10  \n",
       "2029                    2018-09-13  \n",
       "2161                    2017-05-30  "
      ]
     },
     "execution_count": 19,
     "metadata": {},
     "output_type": "execute_result"
    }
   ],
   "source": [
    "olist_orders_dataset_nan = olist_orders_dataset.query('order_approved_at == \"NaN\"')\n",
    "olist_orders_dataset_nan.head()"
   ]
  },
  {
   "cell_type": "markdown",
   "metadata": {},
   "source": [
    "Посмотрим какие статусы заказов стречаются здесь."
   ]
  },
  {
   "cell_type": "code",
   "execution_count": 20,
   "metadata": {},
   "outputs": [
    {
     "data": {
      "text/plain": [
       "array(['canceled', 'delivered', 'created'], dtype=object)"
      ]
     },
     "execution_count": 20,
     "metadata": {},
     "output_type": "execute_result"
    }
   ],
   "source": [
    "olist_orders_dataset_nan['order_status'].unique()"
   ]
  },
  {
   "cell_type": "markdown",
   "metadata": {},
   "source": [
    "Посчитаем сколько заказов приходятся на разные статусы."
   ]
  },
  {
   "cell_type": "code",
   "execution_count": 21,
   "metadata": {
    "scrolled": true
   },
   "outputs": [
    {
     "data": {
      "text/plain": [
       "canceled     141\n",
       "delivered     14\n",
       "created        5\n",
       "Name: order_status, dtype: int64"
      ]
     },
     "execution_count": 21,
     "metadata": {},
     "output_type": "execute_result"
    }
   ],
   "source": [
    "olist_orders_dataset_nan['order_status'].value_counts()"
   ]
  },
  {
   "cell_type": "markdown",
   "metadata": {},
   "source": [
    "Наблюдаем очень интересную ситуацию, так как в заказах, где отсутствует время подтверждения оплаты заказа встречается статус доставлено. Рассмотрим эти заказы отдельно."
   ]
  },
  {
   "cell_type": "code",
   "execution_count": 22,
   "metadata": {
    "scrolled": false
   },
   "outputs": [
    {
     "data": {
      "text/html": [
       "<div>\n",
       "<style scoped>\n",
       "    .dataframe tbody tr th:only-of-type {\n",
       "        vertical-align: middle;\n",
       "    }\n",
       "\n",
       "    .dataframe tbody tr th {\n",
       "        vertical-align: top;\n",
       "    }\n",
       "\n",
       "    .dataframe thead th {\n",
       "        text-align: right;\n",
       "    }\n",
       "</style>\n",
       "<table border=\"1\" class=\"dataframe\">\n",
       "  <thead>\n",
       "    <tr style=\"text-align: right;\">\n",
       "      <th></th>\n",
       "      <th>order_id</th>\n",
       "      <th>customer_id</th>\n",
       "      <th>order_status</th>\n",
       "      <th>order_purchase_timestamp</th>\n",
       "      <th>order_approved_at</th>\n",
       "      <th>order_delivered_carrier_date</th>\n",
       "      <th>order_delivered_customer_date</th>\n",
       "      <th>order_estimated_delivery_date</th>\n",
       "    </tr>\n",
       "  </thead>\n",
       "  <tbody>\n",
       "    <tr>\n",
       "      <th>5323</th>\n",
       "      <td>e04abd8149ef81b95221e88f6ed9ab6a</td>\n",
       "      <td>2127dc6603ac33544953ef05ec155771</td>\n",
       "      <td>delivered</td>\n",
       "      <td>2017-02-18 14:40:00</td>\n",
       "      <td>NaT</td>\n",
       "      <td>2017-02-23 12:04:47</td>\n",
       "      <td>2017-03-01 13:25:33</td>\n",
       "      <td>2017-03-17</td>\n",
       "    </tr>\n",
       "    <tr>\n",
       "      <th>16567</th>\n",
       "      <td>8a9adc69528e1001fc68dd0aaebbb54a</td>\n",
       "      <td>4c1ccc74e00993733742a3c786dc3c1f</td>\n",
       "      <td>delivered</td>\n",
       "      <td>2017-02-18 12:45:31</td>\n",
       "      <td>NaT</td>\n",
       "      <td>2017-02-23 09:01:52</td>\n",
       "      <td>2017-03-02 10:05:06</td>\n",
       "      <td>2017-03-21</td>\n",
       "    </tr>\n",
       "    <tr>\n",
       "      <th>19031</th>\n",
       "      <td>7013bcfc1c97fe719a7b5e05e61c12db</td>\n",
       "      <td>2941af76d38100e0f8740a374f1a5dc3</td>\n",
       "      <td>delivered</td>\n",
       "      <td>2017-02-18 13:29:47</td>\n",
       "      <td>NaT</td>\n",
       "      <td>2017-02-22 16:25:25</td>\n",
       "      <td>2017-03-01 08:07:38</td>\n",
       "      <td>2017-03-17</td>\n",
       "    </tr>\n",
       "    <tr>\n",
       "      <th>22663</th>\n",
       "      <td>5cf925b116421afa85ee25e99b4c34fb</td>\n",
       "      <td>29c35fc91fc13fb5073c8f30505d860d</td>\n",
       "      <td>delivered</td>\n",
       "      <td>2017-02-18 16:48:35</td>\n",
       "      <td>NaT</td>\n",
       "      <td>2017-02-22 11:23:10</td>\n",
       "      <td>2017-03-09 07:28:47</td>\n",
       "      <td>2017-03-31</td>\n",
       "    </tr>\n",
       "    <tr>\n",
       "      <th>23156</th>\n",
       "      <td>12a95a3c06dbaec84bcfb0e2da5d228a</td>\n",
       "      <td>1e101e0daffaddce8159d25a8e53f2b2</td>\n",
       "      <td>delivered</td>\n",
       "      <td>2017-02-17 13:05:55</td>\n",
       "      <td>NaT</td>\n",
       "      <td>2017-02-22 11:23:11</td>\n",
       "      <td>2017-03-02 11:09:19</td>\n",
       "      <td>2017-03-20</td>\n",
       "    </tr>\n",
       "    <tr>\n",
       "      <th>26800</th>\n",
       "      <td>c1d4211b3dae76144deccd6c74144a88</td>\n",
       "      <td>684cb238dc5b5d6366244e0e0776b450</td>\n",
       "      <td>delivered</td>\n",
       "      <td>2017-01-19 12:48:08</td>\n",
       "      <td>NaT</td>\n",
       "      <td>2017-01-25 14:56:50</td>\n",
       "      <td>2017-01-30 18:16:01</td>\n",
       "      <td>2017-03-01</td>\n",
       "    </tr>\n",
       "    <tr>\n",
       "      <th>38290</th>\n",
       "      <td>d69e5d356402adc8cf17e08b5033acfb</td>\n",
       "      <td>68d081753ad4fe22fc4d410a9eb1ca01</td>\n",
       "      <td>delivered</td>\n",
       "      <td>2017-02-19 01:28:47</td>\n",
       "      <td>NaT</td>\n",
       "      <td>2017-02-23 03:11:48</td>\n",
       "      <td>2017-03-02 03:41:58</td>\n",
       "      <td>2017-03-27</td>\n",
       "    </tr>\n",
       "    <tr>\n",
       "      <th>39334</th>\n",
       "      <td>d77031d6a3c8a52f019764e68f211c69</td>\n",
       "      <td>0bf35cac6cc7327065da879e2d90fae8</td>\n",
       "      <td>delivered</td>\n",
       "      <td>2017-02-18 11:04:19</td>\n",
       "      <td>NaT</td>\n",
       "      <td>2017-02-23 07:23:36</td>\n",
       "      <td>2017-03-02 16:15:23</td>\n",
       "      <td>2017-03-22</td>\n",
       "    </tr>\n",
       "    <tr>\n",
       "      <th>48401</th>\n",
       "      <td>7002a78c79c519ac54022d4f8a65e6e8</td>\n",
       "      <td>d5de688c321096d15508faae67a27051</td>\n",
       "      <td>delivered</td>\n",
       "      <td>2017-01-19 22:26:59</td>\n",
       "      <td>NaT</td>\n",
       "      <td>2017-01-27 11:08:05</td>\n",
       "      <td>2017-02-06 14:22:19</td>\n",
       "      <td>2017-03-16</td>\n",
       "    </tr>\n",
       "    <tr>\n",
       "      <th>61743</th>\n",
       "      <td>2eecb0d85f281280f79fa00f9cec1a95</td>\n",
       "      <td>a3d3c38e58b9d2dfb9207cab690b6310</td>\n",
       "      <td>delivered</td>\n",
       "      <td>2017-02-17 17:21:55</td>\n",
       "      <td>NaT</td>\n",
       "      <td>2017-02-22 11:42:51</td>\n",
       "      <td>2017-03-03 12:16:03</td>\n",
       "      <td>2017-03-20</td>\n",
       "    </tr>\n",
       "    <tr>\n",
       "      <th>63052</th>\n",
       "      <td>51eb2eebd5d76a24625b31c33dd41449</td>\n",
       "      <td>07a2a7e0f63fd8cb757ed77d4245623c</td>\n",
       "      <td>delivered</td>\n",
       "      <td>2017-02-18 15:52:27</td>\n",
       "      <td>NaT</td>\n",
       "      <td>2017-02-23 03:09:14</td>\n",
       "      <td>2017-03-07 13:57:47</td>\n",
       "      <td>2017-03-29</td>\n",
       "    </tr>\n",
       "    <tr>\n",
       "      <th>67697</th>\n",
       "      <td>88083e8f64d95b932164187484d90212</td>\n",
       "      <td>f67cd1a215aae2a1074638bbd35a223a</td>\n",
       "      <td>delivered</td>\n",
       "      <td>2017-02-18 22:49:19</td>\n",
       "      <td>NaT</td>\n",
       "      <td>2017-02-22 11:31:06</td>\n",
       "      <td>2017-03-02 12:06:06</td>\n",
       "      <td>2017-03-21</td>\n",
       "    </tr>\n",
       "    <tr>\n",
       "      <th>72407</th>\n",
       "      <td>3c0b8706b065f9919d0505d3b3343881</td>\n",
       "      <td>d85919cb3c0529589c6fa617f5f43281</td>\n",
       "      <td>delivered</td>\n",
       "      <td>2017-02-17 15:53:27</td>\n",
       "      <td>NaT</td>\n",
       "      <td>2017-02-22 11:31:30</td>\n",
       "      <td>2017-03-03 11:47:47</td>\n",
       "      <td>2017-03-23</td>\n",
       "    </tr>\n",
       "    <tr>\n",
       "      <th>84999</th>\n",
       "      <td>2babbb4b15e6d2dfe95e2de765c97bce</td>\n",
       "      <td>74bebaf46603f9340e3b50c6b086f992</td>\n",
       "      <td>delivered</td>\n",
       "      <td>2017-02-18 17:15:03</td>\n",
       "      <td>NaT</td>\n",
       "      <td>2017-02-22 11:23:11</td>\n",
       "      <td>2017-03-03 18:43:43</td>\n",
       "      <td>2017-03-31</td>\n",
       "    </tr>\n",
       "  </tbody>\n",
       "</table>\n",
       "</div>"
      ],
      "text/plain": [
       "                               order_id                       customer_id  \\\n",
       "5323   e04abd8149ef81b95221e88f6ed9ab6a  2127dc6603ac33544953ef05ec155771   \n",
       "16567  8a9adc69528e1001fc68dd0aaebbb54a  4c1ccc74e00993733742a3c786dc3c1f   \n",
       "19031  7013bcfc1c97fe719a7b5e05e61c12db  2941af76d38100e0f8740a374f1a5dc3   \n",
       "22663  5cf925b116421afa85ee25e99b4c34fb  29c35fc91fc13fb5073c8f30505d860d   \n",
       "23156  12a95a3c06dbaec84bcfb0e2da5d228a  1e101e0daffaddce8159d25a8e53f2b2   \n",
       "26800  c1d4211b3dae76144deccd6c74144a88  684cb238dc5b5d6366244e0e0776b450   \n",
       "38290  d69e5d356402adc8cf17e08b5033acfb  68d081753ad4fe22fc4d410a9eb1ca01   \n",
       "39334  d77031d6a3c8a52f019764e68f211c69  0bf35cac6cc7327065da879e2d90fae8   \n",
       "48401  7002a78c79c519ac54022d4f8a65e6e8  d5de688c321096d15508faae67a27051   \n",
       "61743  2eecb0d85f281280f79fa00f9cec1a95  a3d3c38e58b9d2dfb9207cab690b6310   \n",
       "63052  51eb2eebd5d76a24625b31c33dd41449  07a2a7e0f63fd8cb757ed77d4245623c   \n",
       "67697  88083e8f64d95b932164187484d90212  f67cd1a215aae2a1074638bbd35a223a   \n",
       "72407  3c0b8706b065f9919d0505d3b3343881  d85919cb3c0529589c6fa617f5f43281   \n",
       "84999  2babbb4b15e6d2dfe95e2de765c97bce  74bebaf46603f9340e3b50c6b086f992   \n",
       "\n",
       "      order_status order_purchase_timestamp order_approved_at  \\\n",
       "5323     delivered      2017-02-18 14:40:00               NaT   \n",
       "16567    delivered      2017-02-18 12:45:31               NaT   \n",
       "19031    delivered      2017-02-18 13:29:47               NaT   \n",
       "22663    delivered      2017-02-18 16:48:35               NaT   \n",
       "23156    delivered      2017-02-17 13:05:55               NaT   \n",
       "26800    delivered      2017-01-19 12:48:08               NaT   \n",
       "38290    delivered      2017-02-19 01:28:47               NaT   \n",
       "39334    delivered      2017-02-18 11:04:19               NaT   \n",
       "48401    delivered      2017-01-19 22:26:59               NaT   \n",
       "61743    delivered      2017-02-17 17:21:55               NaT   \n",
       "63052    delivered      2017-02-18 15:52:27               NaT   \n",
       "67697    delivered      2017-02-18 22:49:19               NaT   \n",
       "72407    delivered      2017-02-17 15:53:27               NaT   \n",
       "84999    delivered      2017-02-18 17:15:03               NaT   \n",
       "\n",
       "      order_delivered_carrier_date order_delivered_customer_date  \\\n",
       "5323           2017-02-23 12:04:47           2017-03-01 13:25:33   \n",
       "16567          2017-02-23 09:01:52           2017-03-02 10:05:06   \n",
       "19031          2017-02-22 16:25:25           2017-03-01 08:07:38   \n",
       "22663          2017-02-22 11:23:10           2017-03-09 07:28:47   \n",
       "23156          2017-02-22 11:23:11           2017-03-02 11:09:19   \n",
       "26800          2017-01-25 14:56:50           2017-01-30 18:16:01   \n",
       "38290          2017-02-23 03:11:48           2017-03-02 03:41:58   \n",
       "39334          2017-02-23 07:23:36           2017-03-02 16:15:23   \n",
       "48401          2017-01-27 11:08:05           2017-02-06 14:22:19   \n",
       "61743          2017-02-22 11:42:51           2017-03-03 12:16:03   \n",
       "63052          2017-02-23 03:09:14           2017-03-07 13:57:47   \n",
       "67697          2017-02-22 11:31:06           2017-03-02 12:06:06   \n",
       "72407          2017-02-22 11:31:30           2017-03-03 11:47:47   \n",
       "84999          2017-02-22 11:23:11           2017-03-03 18:43:43   \n",
       "\n",
       "      order_estimated_delivery_date  \n",
       "5323                     2017-03-17  \n",
       "16567                    2017-03-21  \n",
       "19031                    2017-03-17  \n",
       "22663                    2017-03-31  \n",
       "23156                    2017-03-20  \n",
       "26800                    2017-03-01  \n",
       "38290                    2017-03-27  \n",
       "39334                    2017-03-22  \n",
       "48401                    2017-03-16  \n",
       "61743                    2017-03-20  \n",
       "63052                    2017-03-29  \n",
       "67697                    2017-03-21  \n",
       "72407                    2017-03-23  \n",
       "84999                    2017-03-31  "
      ]
     },
     "execution_count": 22,
     "metadata": {},
     "output_type": "execute_result"
    }
   ],
   "source": [
    "olist_orders_dataset_nan.query('order_status == \"delivered\"')"
   ]
  },
  {
   "cell_type": "markdown",
   "metadata": {},
   "source": [
    "Наблюдаем, что у нас отсутствует время подтверждения оплаты заказа, но есть время передачи заказа в логистическую службу и время доставки заказа. Возможно случилась какая-то ошибка при обработке платежа. Думаю, что эти данные мы не будем брать в расчет и все-таки за покупку будем считать заказы, у которых статус - processing, shipped, delivered, с применением фильтра в столбце order_approved_at (все значения кроме пропусков). "
   ]
  },
  {
   "cell_type": "markdown",
   "metadata": {},
   "source": [
    "**Выводы:** За покупку будем считать заказы, у которых статус - approved, invoiced, processing, shipped, delivered и присутствует время подтверждения оплаты заказа."
   ]
  },
  {
   "cell_type": "markdown",
   "metadata": {},
   "source": [
    "## 1. Количество пользователей, которые совершили покупку только один раз"
   ]
  },
  {
   "cell_type": "markdown",
   "metadata": {},
   "source": [
    "Для начала нам нужно объеденить датафреймы olist_customers_dataset и olist_orders_dataset, чтобы узнать информацию о пользователях."
   ]
  },
  {
   "cell_type": "markdown",
   "metadata": {},
   "source": [
    "Воспользуемся способом объединения inner join, при котором объединяются только те значения, которые можно найти в обеих таблицах, так как нам не нужны пропуски в данных. Объединять будем по столбцу customer_id."
   ]
  },
  {
   "cell_type": "code",
   "execution_count": 23,
   "metadata": {},
   "outputs": [
    {
     "data": {
      "text/html": [
       "<div>\n",
       "<style scoped>\n",
       "    .dataframe tbody tr th:only-of-type {\n",
       "        vertical-align: middle;\n",
       "    }\n",
       "\n",
       "    .dataframe tbody tr th {\n",
       "        vertical-align: top;\n",
       "    }\n",
       "\n",
       "    .dataframe thead th {\n",
       "        text-align: right;\n",
       "    }\n",
       "</style>\n",
       "<table border=\"1\" class=\"dataframe\">\n",
       "  <thead>\n",
       "    <tr style=\"text-align: right;\">\n",
       "      <th></th>\n",
       "      <th>order_id</th>\n",
       "      <th>customer_id</th>\n",
       "      <th>order_status</th>\n",
       "      <th>order_purchase_timestamp</th>\n",
       "      <th>order_approved_at</th>\n",
       "      <th>order_delivered_carrier_date</th>\n",
       "      <th>order_delivered_customer_date</th>\n",
       "      <th>order_estimated_delivery_date</th>\n",
       "      <th>customer_unique_id</th>\n",
       "      <th>customer_zip_code_prefix</th>\n",
       "      <th>customer_city</th>\n",
       "      <th>customer_state</th>\n",
       "    </tr>\n",
       "  </thead>\n",
       "  <tbody>\n",
       "    <tr>\n",
       "      <th>0</th>\n",
       "      <td>e481f51cbdc54678b7cc49136f2d6af7</td>\n",
       "      <td>9ef432eb6251297304e76186b10a928d</td>\n",
       "      <td>delivered</td>\n",
       "      <td>2017-10-02 10:56:33</td>\n",
       "      <td>2017-10-02 11:07:15</td>\n",
       "      <td>2017-10-04 19:55:00</td>\n",
       "      <td>2017-10-10 21:25:13</td>\n",
       "      <td>2017-10-18</td>\n",
       "      <td>7c396fd4830fd04220f754e42b4e5bff</td>\n",
       "      <td>3149</td>\n",
       "      <td>sao paulo</td>\n",
       "      <td>SP</td>\n",
       "    </tr>\n",
       "    <tr>\n",
       "      <th>1</th>\n",
       "      <td>53cdb2fc8bc7dce0b6741e2150273451</td>\n",
       "      <td>b0830fb4747a6c6d20dea0b8c802d7ef</td>\n",
       "      <td>delivered</td>\n",
       "      <td>2018-07-24 20:41:37</td>\n",
       "      <td>2018-07-26 03:24:27</td>\n",
       "      <td>2018-07-26 14:31:00</td>\n",
       "      <td>2018-08-07 15:27:45</td>\n",
       "      <td>2018-08-13</td>\n",
       "      <td>af07308b275d755c9edb36a90c618231</td>\n",
       "      <td>47813</td>\n",
       "      <td>barreiras</td>\n",
       "      <td>BA</td>\n",
       "    </tr>\n",
       "    <tr>\n",
       "      <th>2</th>\n",
       "      <td>47770eb9100c2d0c44946d9cf07ec65d</td>\n",
       "      <td>41ce2a54c0b03bf3443c3d931a367089</td>\n",
       "      <td>delivered</td>\n",
       "      <td>2018-08-08 08:38:49</td>\n",
       "      <td>2018-08-08 08:55:23</td>\n",
       "      <td>2018-08-08 13:50:00</td>\n",
       "      <td>2018-08-17 18:06:29</td>\n",
       "      <td>2018-09-04</td>\n",
       "      <td>3a653a41f6f9fc3d2a113cf8398680e8</td>\n",
       "      <td>75265</td>\n",
       "      <td>vianopolis</td>\n",
       "      <td>GO</td>\n",
       "    </tr>\n",
       "    <tr>\n",
       "      <th>3</th>\n",
       "      <td>949d5b44dbf5de918fe9c16f97b45f8a</td>\n",
       "      <td>f88197465ea7920adcdbec7375364d82</td>\n",
       "      <td>delivered</td>\n",
       "      <td>2017-11-18 19:28:06</td>\n",
       "      <td>2017-11-18 19:45:59</td>\n",
       "      <td>2017-11-22 13:39:59</td>\n",
       "      <td>2017-12-02 00:28:42</td>\n",
       "      <td>2017-12-15</td>\n",
       "      <td>7c142cf63193a1473d2e66489a9ae977</td>\n",
       "      <td>59296</td>\n",
       "      <td>sao goncalo do amarante</td>\n",
       "      <td>RN</td>\n",
       "    </tr>\n",
       "    <tr>\n",
       "      <th>4</th>\n",
       "      <td>ad21c59c0840e6cb83a9ceb5573f8159</td>\n",
       "      <td>8ab97904e6daea8866dbdbc4fb7aad2c</td>\n",
       "      <td>delivered</td>\n",
       "      <td>2018-02-13 21:18:39</td>\n",
       "      <td>2018-02-13 22:20:29</td>\n",
       "      <td>2018-02-14 19:46:34</td>\n",
       "      <td>2018-02-16 18:17:02</td>\n",
       "      <td>2018-02-26</td>\n",
       "      <td>72632f0f9dd73dfee390c9b22eb56dd6</td>\n",
       "      <td>9195</td>\n",
       "      <td>santo andre</td>\n",
       "      <td>SP</td>\n",
       "    </tr>\n",
       "  </tbody>\n",
       "</table>\n",
       "</div>"
      ],
      "text/plain": [
       "                           order_id                       customer_id  \\\n",
       "0  e481f51cbdc54678b7cc49136f2d6af7  9ef432eb6251297304e76186b10a928d   \n",
       "1  53cdb2fc8bc7dce0b6741e2150273451  b0830fb4747a6c6d20dea0b8c802d7ef   \n",
       "2  47770eb9100c2d0c44946d9cf07ec65d  41ce2a54c0b03bf3443c3d931a367089   \n",
       "3  949d5b44dbf5de918fe9c16f97b45f8a  f88197465ea7920adcdbec7375364d82   \n",
       "4  ad21c59c0840e6cb83a9ceb5573f8159  8ab97904e6daea8866dbdbc4fb7aad2c   \n",
       "\n",
       "  order_status order_purchase_timestamp   order_approved_at  \\\n",
       "0    delivered      2017-10-02 10:56:33 2017-10-02 11:07:15   \n",
       "1    delivered      2018-07-24 20:41:37 2018-07-26 03:24:27   \n",
       "2    delivered      2018-08-08 08:38:49 2018-08-08 08:55:23   \n",
       "3    delivered      2017-11-18 19:28:06 2017-11-18 19:45:59   \n",
       "4    delivered      2018-02-13 21:18:39 2018-02-13 22:20:29   \n",
       "\n",
       "  order_delivered_carrier_date order_delivered_customer_date  \\\n",
       "0          2017-10-04 19:55:00           2017-10-10 21:25:13   \n",
       "1          2018-07-26 14:31:00           2018-08-07 15:27:45   \n",
       "2          2018-08-08 13:50:00           2018-08-17 18:06:29   \n",
       "3          2017-11-22 13:39:59           2017-12-02 00:28:42   \n",
       "4          2018-02-14 19:46:34           2018-02-16 18:17:02   \n",
       "\n",
       "  order_estimated_delivery_date                customer_unique_id  \\\n",
       "0                    2017-10-18  7c396fd4830fd04220f754e42b4e5bff   \n",
       "1                    2018-08-13  af07308b275d755c9edb36a90c618231   \n",
       "2                    2018-09-04  3a653a41f6f9fc3d2a113cf8398680e8   \n",
       "3                    2017-12-15  7c142cf63193a1473d2e66489a9ae977   \n",
       "4                    2018-02-26  72632f0f9dd73dfee390c9b22eb56dd6   \n",
       "\n",
       "   customer_zip_code_prefix            customer_city customer_state  \n",
       "0                      3149                sao paulo             SP  \n",
       "1                     47813                barreiras             BA  \n",
       "2                     75265               vianopolis             GO  \n",
       "3                     59296  sao goncalo do amarante             RN  \n",
       "4                      9195              santo andre             SP  "
      ]
     },
     "execution_count": 23,
     "metadata": {},
     "output_type": "execute_result"
    }
   ],
   "source": [
    "orders_customers = olist_orders_dataset.merge(olist_customers_dataset, how = 'inner', on = 'customer_id')\n",
    "orders_customers.head()"
   ]
  },
  {
   "cell_type": "markdown",
   "metadata": {},
   "source": [
    "Отфильтруем датафрейм orders_customers по условиям, которые обосновали в прошлом шаге, чтобы оставить только те заказы, которые считаем покупками."
   ]
  },
  {
   "cell_type": "code",
   "execution_count": 24,
   "metadata": {
    "scrolled": true
   },
   "outputs": [
    {
     "data": {
      "text/html": [
       "<div>\n",
       "<style scoped>\n",
       "    .dataframe tbody tr th:only-of-type {\n",
       "        vertical-align: middle;\n",
       "    }\n",
       "\n",
       "    .dataframe tbody tr th {\n",
       "        vertical-align: top;\n",
       "    }\n",
       "\n",
       "    .dataframe thead th {\n",
       "        text-align: right;\n",
       "    }\n",
       "</style>\n",
       "<table border=\"1\" class=\"dataframe\">\n",
       "  <thead>\n",
       "    <tr style=\"text-align: right;\">\n",
       "      <th></th>\n",
       "      <th>order_id</th>\n",
       "      <th>customer_id</th>\n",
       "      <th>order_status</th>\n",
       "      <th>order_purchase_timestamp</th>\n",
       "      <th>order_approved_at</th>\n",
       "      <th>order_delivered_carrier_date</th>\n",
       "      <th>order_delivered_customer_date</th>\n",
       "      <th>order_estimated_delivery_date</th>\n",
       "      <th>customer_unique_id</th>\n",
       "      <th>customer_zip_code_prefix</th>\n",
       "      <th>customer_city</th>\n",
       "      <th>customer_state</th>\n",
       "    </tr>\n",
       "  </thead>\n",
       "  <tbody>\n",
       "    <tr>\n",
       "      <th>0</th>\n",
       "      <td>e481f51cbdc54678b7cc49136f2d6af7</td>\n",
       "      <td>9ef432eb6251297304e76186b10a928d</td>\n",
       "      <td>delivered</td>\n",
       "      <td>2017-10-02 10:56:33</td>\n",
       "      <td>2017-10-02 11:07:15</td>\n",
       "      <td>2017-10-04 19:55:00</td>\n",
       "      <td>2017-10-10 21:25:13</td>\n",
       "      <td>2017-10-18</td>\n",
       "      <td>7c396fd4830fd04220f754e42b4e5bff</td>\n",
       "      <td>3149</td>\n",
       "      <td>sao paulo</td>\n",
       "      <td>SP</td>\n",
       "    </tr>\n",
       "    <tr>\n",
       "      <th>1</th>\n",
       "      <td>53cdb2fc8bc7dce0b6741e2150273451</td>\n",
       "      <td>b0830fb4747a6c6d20dea0b8c802d7ef</td>\n",
       "      <td>delivered</td>\n",
       "      <td>2018-07-24 20:41:37</td>\n",
       "      <td>2018-07-26 03:24:27</td>\n",
       "      <td>2018-07-26 14:31:00</td>\n",
       "      <td>2018-08-07 15:27:45</td>\n",
       "      <td>2018-08-13</td>\n",
       "      <td>af07308b275d755c9edb36a90c618231</td>\n",
       "      <td>47813</td>\n",
       "      <td>barreiras</td>\n",
       "      <td>BA</td>\n",
       "    </tr>\n",
       "    <tr>\n",
       "      <th>2</th>\n",
       "      <td>47770eb9100c2d0c44946d9cf07ec65d</td>\n",
       "      <td>41ce2a54c0b03bf3443c3d931a367089</td>\n",
       "      <td>delivered</td>\n",
       "      <td>2018-08-08 08:38:49</td>\n",
       "      <td>2018-08-08 08:55:23</td>\n",
       "      <td>2018-08-08 13:50:00</td>\n",
       "      <td>2018-08-17 18:06:29</td>\n",
       "      <td>2018-09-04</td>\n",
       "      <td>3a653a41f6f9fc3d2a113cf8398680e8</td>\n",
       "      <td>75265</td>\n",
       "      <td>vianopolis</td>\n",
       "      <td>GO</td>\n",
       "    </tr>\n",
       "    <tr>\n",
       "      <th>3</th>\n",
       "      <td>949d5b44dbf5de918fe9c16f97b45f8a</td>\n",
       "      <td>f88197465ea7920adcdbec7375364d82</td>\n",
       "      <td>delivered</td>\n",
       "      <td>2017-11-18 19:28:06</td>\n",
       "      <td>2017-11-18 19:45:59</td>\n",
       "      <td>2017-11-22 13:39:59</td>\n",
       "      <td>2017-12-02 00:28:42</td>\n",
       "      <td>2017-12-15</td>\n",
       "      <td>7c142cf63193a1473d2e66489a9ae977</td>\n",
       "      <td>59296</td>\n",
       "      <td>sao goncalo do amarante</td>\n",
       "      <td>RN</td>\n",
       "    </tr>\n",
       "    <tr>\n",
       "      <th>4</th>\n",
       "      <td>ad21c59c0840e6cb83a9ceb5573f8159</td>\n",
       "      <td>8ab97904e6daea8866dbdbc4fb7aad2c</td>\n",
       "      <td>delivered</td>\n",
       "      <td>2018-02-13 21:18:39</td>\n",
       "      <td>2018-02-13 22:20:29</td>\n",
       "      <td>2018-02-14 19:46:34</td>\n",
       "      <td>2018-02-16 18:17:02</td>\n",
       "      <td>2018-02-26</td>\n",
       "      <td>72632f0f9dd73dfee390c9b22eb56dd6</td>\n",
       "      <td>9195</td>\n",
       "      <td>santo andre</td>\n",
       "      <td>SP</td>\n",
       "    </tr>\n",
       "  </tbody>\n",
       "</table>\n",
       "</div>"
      ],
      "text/plain": [
       "                           order_id                       customer_id  \\\n",
       "0  e481f51cbdc54678b7cc49136f2d6af7  9ef432eb6251297304e76186b10a928d   \n",
       "1  53cdb2fc8bc7dce0b6741e2150273451  b0830fb4747a6c6d20dea0b8c802d7ef   \n",
       "2  47770eb9100c2d0c44946d9cf07ec65d  41ce2a54c0b03bf3443c3d931a367089   \n",
       "3  949d5b44dbf5de918fe9c16f97b45f8a  f88197465ea7920adcdbec7375364d82   \n",
       "4  ad21c59c0840e6cb83a9ceb5573f8159  8ab97904e6daea8866dbdbc4fb7aad2c   \n",
       "\n",
       "  order_status order_purchase_timestamp   order_approved_at  \\\n",
       "0    delivered      2017-10-02 10:56:33 2017-10-02 11:07:15   \n",
       "1    delivered      2018-07-24 20:41:37 2018-07-26 03:24:27   \n",
       "2    delivered      2018-08-08 08:38:49 2018-08-08 08:55:23   \n",
       "3    delivered      2017-11-18 19:28:06 2017-11-18 19:45:59   \n",
       "4    delivered      2018-02-13 21:18:39 2018-02-13 22:20:29   \n",
       "\n",
       "  order_delivered_carrier_date order_delivered_customer_date  \\\n",
       "0          2017-10-04 19:55:00           2017-10-10 21:25:13   \n",
       "1          2018-07-26 14:31:00           2018-08-07 15:27:45   \n",
       "2          2018-08-08 13:50:00           2018-08-17 18:06:29   \n",
       "3          2017-11-22 13:39:59           2017-12-02 00:28:42   \n",
       "4          2018-02-14 19:46:34           2018-02-16 18:17:02   \n",
       "\n",
       "  order_estimated_delivery_date                customer_unique_id  \\\n",
       "0                    2017-10-18  7c396fd4830fd04220f754e42b4e5bff   \n",
       "1                    2018-08-13  af07308b275d755c9edb36a90c618231   \n",
       "2                    2018-09-04  3a653a41f6f9fc3d2a113cf8398680e8   \n",
       "3                    2017-12-15  7c142cf63193a1473d2e66489a9ae977   \n",
       "4                    2018-02-26  72632f0f9dd73dfee390c9b22eb56dd6   \n",
       "\n",
       "   customer_zip_code_prefix            customer_city customer_state  \n",
       "0                      3149                sao paulo             SP  \n",
       "1                     47813                barreiras             BA  \n",
       "2                     75265               vianopolis             GO  \n",
       "3                     59296  sao goncalo do amarante             RN  \n",
       "4                      9195              santo andre             SP  "
      ]
     },
     "execution_count": 24,
     "metadata": {},
     "output_type": "execute_result"
    }
   ],
   "source": [
    "customers_purchases = orders_customers.query('order_status != [\"canceled\",\"unavailable\"] & order_approved_at != \"NaN\"')\n",
    "customers_purchases.head()"
   ]
  },
  {
   "cell_type": "markdown",
   "metadata": {},
   "source": [
    "Теперь отберем только тех пользователей, которые совершили только одну покупку. Для начала сгруппируем данные по customer_unique_id — уникальному идентификатору пользователя, и посчитаем сколько заказов приходится на каждого пользователя. Также изменим название столбца с order_id на count_orders. Отсортируем данные по количеству заказов."
   ]
  },
  {
   "cell_type": "code",
   "execution_count": 25,
   "metadata": {},
   "outputs": [
    {
     "data": {
      "text/html": [
       "<div>\n",
       "<style scoped>\n",
       "    .dataframe tbody tr th:only-of-type {\n",
       "        vertical-align: middle;\n",
       "    }\n",
       "\n",
       "    .dataframe tbody tr th {\n",
       "        vertical-align: top;\n",
       "    }\n",
       "\n",
       "    .dataframe thead th {\n",
       "        text-align: right;\n",
       "    }\n",
       "</style>\n",
       "<table border=\"1\" class=\"dataframe\">\n",
       "  <thead>\n",
       "    <tr style=\"text-align: right;\">\n",
       "      <th></th>\n",
       "      <th>customer_unique_id</th>\n",
       "      <th>count_orders</th>\n",
       "    </tr>\n",
       "  </thead>\n",
       "  <tbody>\n",
       "    <tr>\n",
       "      <th>0</th>\n",
       "      <td>0000366f3b9a7992bf8c76cfdf3221e2</td>\n",
       "      <td>1</td>\n",
       "    </tr>\n",
       "    <tr>\n",
       "      <th>62851</th>\n",
       "      <td>a9311df21a0a446cd8a0a749d08c77ac</td>\n",
       "      <td>1</td>\n",
       "    </tr>\n",
       "    <tr>\n",
       "      <th>62850</th>\n",
       "      <td>a930016dbc02c5ec1f9703a25414aabb</td>\n",
       "      <td>1</td>\n",
       "    </tr>\n",
       "    <tr>\n",
       "      <th>62849</th>\n",
       "      <td>a92f6790027e4cb823b2a1423382433d</td>\n",
       "      <td>1</td>\n",
       "    </tr>\n",
       "    <tr>\n",
       "      <th>62848</th>\n",
       "      <td>a92e1b33fc90178753e232b12bfc1667</td>\n",
       "      <td>1</td>\n",
       "    </tr>\n",
       "  </tbody>\n",
       "</table>\n",
       "</div>"
      ],
      "text/plain": [
       "                     customer_unique_id  count_orders\n",
       "0      0000366f3b9a7992bf8c76cfdf3221e2             1\n",
       "62851  a9311df21a0a446cd8a0a749d08c77ac             1\n",
       "62850  a930016dbc02c5ec1f9703a25414aabb             1\n",
       "62849  a92f6790027e4cb823b2a1423382433d             1\n",
       "62848  a92e1b33fc90178753e232b12bfc1667             1"
      ]
     },
     "execution_count": 25,
     "metadata": {},
     "output_type": "execute_result"
    }
   ],
   "source": [
    "count_orders_by_customers = customers_purchases.groupby('customer_unique_id', as_index=False)\\\n",
    "                            .agg({'order_id':'count'}).sort_values('order_id').rename(columns = {'order_id':'count_orders'})\n",
    "count_orders_by_customers.head()"
   ]
  },
  {
   "cell_type": "markdown",
   "metadata": {},
   "source": [
    "Далее отфильтруем данные и оставим только пользователей, которые совершили только одну покупку и посчитаем их количество."
   ]
  },
  {
   "cell_type": "code",
   "execution_count": 26,
   "metadata": {
    "scrolled": false
   },
   "outputs": [
    {
     "name": "stdout",
     "output_type": "stream",
     "text": [
      "Количество пользователей, совершивших одну покупку: 92087\n"
     ]
    }
   ],
   "source": [
    "count_customer_one_purchase = len(count_orders_by_customers.query('count_orders == 1').count_orders)\n",
    "print(f'Количество пользователей, совершивших одну покупку: {count_customer_one_purchase}')"
   ]
  },
  {
   "cell_type": "markdown",
   "metadata": {},
   "source": [
    "Создадим таблицу, в которой посмотрим какое количество пользователей сколько заказов делают."
   ]
  },
  {
   "cell_type": "code",
   "execution_count": 27,
   "metadata": {
    "scrolled": true
   },
   "outputs": [
    {
     "data": {
      "text/html": [
       "<div>\n",
       "<style scoped>\n",
       "    .dataframe tbody tr th:only-of-type {\n",
       "        vertical-align: middle;\n",
       "    }\n",
       "\n",
       "    .dataframe tbody tr th {\n",
       "        vertical-align: top;\n",
       "    }\n",
       "\n",
       "    .dataframe thead th {\n",
       "        text-align: right;\n",
       "    }\n",
       "</style>\n",
       "<table border=\"1\" class=\"dataframe\">\n",
       "  <thead>\n",
       "    <tr style=\"text-align: right;\">\n",
       "      <th></th>\n",
       "      <th>count_orders</th>\n",
       "      <th>count_customers</th>\n",
       "    </tr>\n",
       "  </thead>\n",
       "  <tbody>\n",
       "    <tr>\n",
       "      <th>0</th>\n",
       "      <td>1</td>\n",
       "      <td>92087</td>\n",
       "    </tr>\n",
       "    <tr>\n",
       "      <th>1</th>\n",
       "      <td>2</td>\n",
       "      <td>2650</td>\n",
       "    </tr>\n",
       "    <tr>\n",
       "      <th>2</th>\n",
       "      <td>3</td>\n",
       "      <td>188</td>\n",
       "    </tr>\n",
       "    <tr>\n",
       "      <th>3</th>\n",
       "      <td>4</td>\n",
       "      <td>29</td>\n",
       "    </tr>\n",
       "    <tr>\n",
       "      <th>4</th>\n",
       "      <td>5</td>\n",
       "      <td>9</td>\n",
       "    </tr>\n",
       "    <tr>\n",
       "      <th>5</th>\n",
       "      <td>6</td>\n",
       "      <td>5</td>\n",
       "    </tr>\n",
       "    <tr>\n",
       "      <th>6</th>\n",
       "      <td>7</td>\n",
       "      <td>3</td>\n",
       "    </tr>\n",
       "    <tr>\n",
       "      <th>7</th>\n",
       "      <td>9</td>\n",
       "      <td>1</td>\n",
       "    </tr>\n",
       "    <tr>\n",
       "      <th>8</th>\n",
       "      <td>16</td>\n",
       "      <td>1</td>\n",
       "    </tr>\n",
       "  </tbody>\n",
       "</table>\n",
       "</div>"
      ],
      "text/plain": [
       "   count_orders  count_customers\n",
       "0             1            92087\n",
       "1             2             2650\n",
       "2             3              188\n",
       "3             4               29\n",
       "4             5                9\n",
       "5             6                5\n",
       "6             7                3\n",
       "7             9                1\n",
       "8            16                1"
      ]
     },
     "execution_count": 27,
     "metadata": {},
     "output_type": "execute_result"
    }
   ],
   "source": [
    "count_orders = count_orders_by_customers.groupby('count_orders', as_index=False).agg({'customer_unique_id':'count'})\\\n",
    "                                        .rename(columns = {'customer_unique_id':'count_customers'})\n",
    "count_orders"
   ]
  },
  {
   "cell_type": "markdown",
   "metadata": {},
   "source": [
    "Построим график для наглядности, хотя и по таблице видно, что чаще всего пользователи делают только один заказ."
   ]
  },
  {
   "cell_type": "code",
   "execution_count": 28,
   "metadata": {},
   "outputs": [
    {
     "data": {
      "image/png": "[encoded data removed]",
      "text/plain": [
       "<Figure size 1080x720 with 1 Axes>"
      ]
     },
     "metadata": {
      "needs_background": "light"
     },
     "output_type": "display_data"
    }
   ],
   "source": [
    "plt.figure(figsize=(15,10))\n",
    "sns.barplot(x='count_orders', y='count_customers', data=count_orders)\n",
    "plt.title('Распределение пользователей по количеству покупок')\n",
    "plt.xlabel('Количество покупок')\n",
    "plt.ylabel('Количество пользователей');"
   ]
  },
  {
   "cell_type": "markdown",
   "metadata": {},
   "source": [
    "**Выводы:** Количество пользователей, которые совершили покупку только один раз - 92087."
   ]
  },
  {
   "cell_type": "markdown",
   "metadata": {},
   "source": [
    "## 2. Количество заказов в месяц в среднем, которые не доставляются по разным причинам"
   ]
  },
  {
   "cell_type": "markdown",
   "metadata": {},
   "source": [
    "Отберем заказы, в которых отсутствует время доставки заказа в столбце order_delivered_customer_date."
   ]
  },
  {
   "cell_type": "code",
   "execution_count": 29,
   "metadata": {},
   "outputs": [
    {
     "data": {
      "text/html": [
       "<div>\n",
       "<style scoped>\n",
       "    .dataframe tbody tr th:only-of-type {\n",
       "        vertical-align: middle;\n",
       "    }\n",
       "\n",
       "    .dataframe tbody tr th {\n",
       "        vertical-align: top;\n",
       "    }\n",
       "\n",
       "    .dataframe thead th {\n",
       "        text-align: right;\n",
       "    }\n",
       "</style>\n",
       "<table border=\"1\" class=\"dataframe\">\n",
       "  <thead>\n",
       "    <tr style=\"text-align: right;\">\n",
       "      <th></th>\n",
       "      <th>order_id</th>\n",
       "      <th>customer_id</th>\n",
       "      <th>order_status</th>\n",
       "      <th>order_purchase_timestamp</th>\n",
       "      <th>order_approved_at</th>\n",
       "      <th>order_delivered_carrier_date</th>\n",
       "      <th>order_delivered_customer_date</th>\n",
       "      <th>order_estimated_delivery_date</th>\n",
       "    </tr>\n",
       "  </thead>\n",
       "  <tbody>\n",
       "    <tr>\n",
       "      <th>6</th>\n",
       "      <td>136cce7faa42fdb2cefd53fdc79a6098</td>\n",
       "      <td>ed0271e0b7da060a393796590e7b737a</td>\n",
       "      <td>invoiced</td>\n",
       "      <td>2017-04-11 12:22:08</td>\n",
       "      <td>2017-04-13 13:25:17</td>\n",
       "      <td>NaT</td>\n",
       "      <td>NaT</td>\n",
       "      <td>2017-05-09</td>\n",
       "    </tr>\n",
       "    <tr>\n",
       "      <th>44</th>\n",
       "      <td>ee64d42b8cf066f35eac1cf57de1aa85</td>\n",
       "      <td>caded193e8e47b8362864762a83db3c5</td>\n",
       "      <td>shipped</td>\n",
       "      <td>2018-06-04 16:44:48</td>\n",
       "      <td>2018-06-05 04:31:18</td>\n",
       "      <td>2018-06-05 14:32:00</td>\n",
       "      <td>NaT</td>\n",
       "      <td>2018-06-28</td>\n",
       "    </tr>\n",
       "    <tr>\n",
       "      <th>103</th>\n",
       "      <td>0760a852e4e9d89eb77bf631eaaf1c84</td>\n",
       "      <td>d2a79636084590b7465af8ab374a8cf5</td>\n",
       "      <td>invoiced</td>\n",
       "      <td>2018-08-03 17:44:42</td>\n",
       "      <td>2018-08-07 06:15:14</td>\n",
       "      <td>NaT</td>\n",
       "      <td>NaT</td>\n",
       "      <td>2018-08-21</td>\n",
       "    </tr>\n",
       "    <tr>\n",
       "      <th>128</th>\n",
       "      <td>15bed8e2fec7fdbadb186b57c46c92f2</td>\n",
       "      <td>f3f0e613e0bdb9c7cee75504f0f90679</td>\n",
       "      <td>processing</td>\n",
       "      <td>2017-09-03 14:22:03</td>\n",
       "      <td>2017-09-03 14:30:09</td>\n",
       "      <td>NaT</td>\n",
       "      <td>NaT</td>\n",
       "      <td>2017-10-03</td>\n",
       "    </tr>\n",
       "    <tr>\n",
       "      <th>154</th>\n",
       "      <td>6942b8da583c2f9957e990d028607019</td>\n",
       "      <td>52006a9383bf149a4fb24226b173106f</td>\n",
       "      <td>shipped</td>\n",
       "      <td>2018-01-10 11:33:07</td>\n",
       "      <td>2018-01-11 02:32:30</td>\n",
       "      <td>2018-01-11 19:39:23</td>\n",
       "      <td>NaT</td>\n",
       "      <td>2018-02-07</td>\n",
       "    </tr>\n",
       "  </tbody>\n",
       "</table>\n",
       "</div>"
      ],
      "text/plain": [
       "                             order_id                       customer_id  \\\n",
       "6    136cce7faa42fdb2cefd53fdc79a6098  ed0271e0b7da060a393796590e7b737a   \n",
       "44   ee64d42b8cf066f35eac1cf57de1aa85  caded193e8e47b8362864762a83db3c5   \n",
       "103  0760a852e4e9d89eb77bf631eaaf1c84  d2a79636084590b7465af8ab374a8cf5   \n",
       "128  15bed8e2fec7fdbadb186b57c46c92f2  f3f0e613e0bdb9c7cee75504f0f90679   \n",
       "154  6942b8da583c2f9957e990d028607019  52006a9383bf149a4fb24226b173106f   \n",
       "\n",
       "    order_status order_purchase_timestamp   order_approved_at  \\\n",
       "6       invoiced      2017-04-11 12:22:08 2017-04-13 13:25:17   \n",
       "44       shipped      2018-06-04 16:44:48 2018-06-05 04:31:18   \n",
       "103     invoiced      2018-08-03 17:44:42 2018-08-07 06:15:14   \n",
       "128   processing      2017-09-03 14:22:03 2017-09-03 14:30:09   \n",
       "154      shipped      2018-01-10 11:33:07 2018-01-11 02:32:30   \n",
       "\n",
       "    order_delivered_carrier_date order_delivered_customer_date  \\\n",
       "6                            NaT                           NaT   \n",
       "44           2018-06-05 14:32:00                           NaT   \n",
       "103                          NaT                           NaT   \n",
       "128                          NaT                           NaT   \n",
       "154          2018-01-11 19:39:23                           NaT   \n",
       "\n",
       "    order_estimated_delivery_date  \n",
       "6                      2017-05-09  \n",
       "44                     2018-06-28  \n",
       "103                    2018-08-21  \n",
       "128                    2017-10-03  \n",
       "154                    2018-02-07  "
      ]
     },
     "execution_count": 29,
     "metadata": {},
     "output_type": "execute_result"
    }
   ],
   "source": [
    "orders_not_delivered = olist_orders_dataset.query('order_delivered_customer_date == \"NaN\"')\n",
    "orders_not_delivered.head()"
   ]
  },
  {
   "cell_type": "markdown",
   "metadata": {},
   "source": [
    "Не доставлеными будем считать заказы, которые имеют статус canceled и unavailable. В остальных случаях мы не можем сказать, что заказ не был доставлен, так как он может быть на этапе сборки или в пути."
   ]
  },
  {
   "cell_type": "code",
   "execution_count": 30,
   "metadata": {},
   "outputs": [
    {
     "data": {
      "text/html": [
       "<div>\n",
       "<style scoped>\n",
       "    .dataframe tbody tr th:only-of-type {\n",
       "        vertical-align: middle;\n",
       "    }\n",
       "\n",
       "    .dataframe tbody tr th {\n",
       "        vertical-align: top;\n",
       "    }\n",
       "\n",
       "    .dataframe thead th {\n",
       "        text-align: right;\n",
       "    }\n",
       "</style>\n",
       "<table border=\"1\" class=\"dataframe\">\n",
       "  <thead>\n",
       "    <tr style=\"text-align: right;\">\n",
       "      <th></th>\n",
       "      <th>order_id</th>\n",
       "      <th>customer_id</th>\n",
       "      <th>order_status</th>\n",
       "      <th>order_purchase_timestamp</th>\n",
       "      <th>order_approved_at</th>\n",
       "      <th>order_delivered_carrier_date</th>\n",
       "      <th>order_delivered_customer_date</th>\n",
       "      <th>order_estimated_delivery_date</th>\n",
       "    </tr>\n",
       "  </thead>\n",
       "  <tbody>\n",
       "    <tr>\n",
       "      <th>266</th>\n",
       "      <td>8e24261a7e58791d10cb1bf9da94df5c</td>\n",
       "      <td>64a254d30eed42cd0e6c36dddb88adf0</td>\n",
       "      <td>unavailable</td>\n",
       "      <td>2017-11-16 15:09:28</td>\n",
       "      <td>2017-11-16 15:26:57</td>\n",
       "      <td>NaT</td>\n",
       "      <td>NaT</td>\n",
       "      <td>2017-12-05</td>\n",
       "    </tr>\n",
       "    <tr>\n",
       "      <th>397</th>\n",
       "      <td>1b9ecfe83cdc259250e1a8aca174f0ad</td>\n",
       "      <td>6d6b50b66d79f80827b6d96751528d30</td>\n",
       "      <td>canceled</td>\n",
       "      <td>2018-08-04 14:29:27</td>\n",
       "      <td>2018-08-07 04:10:26</td>\n",
       "      <td>NaT</td>\n",
       "      <td>NaT</td>\n",
       "      <td>2018-08-14</td>\n",
       "    </tr>\n",
       "    <tr>\n",
       "      <th>586</th>\n",
       "      <td>c272bcd21c287498b4883c7512019702</td>\n",
       "      <td>9582c5bbecc65eb568e2c1d839b5cba1</td>\n",
       "      <td>unavailable</td>\n",
       "      <td>2018-01-31 11:31:37</td>\n",
       "      <td>2018-01-31 14:23:50</td>\n",
       "      <td>NaT</td>\n",
       "      <td>NaT</td>\n",
       "      <td>2018-02-16</td>\n",
       "    </tr>\n",
       "    <tr>\n",
       "      <th>613</th>\n",
       "      <td>714fb133a6730ab81fa1d3c1b2007291</td>\n",
       "      <td>e3fe72696c4713d64d3c10afe71e75ed</td>\n",
       "      <td>canceled</td>\n",
       "      <td>2018-01-26 21:34:08</td>\n",
       "      <td>2018-01-26 21:58:39</td>\n",
       "      <td>2018-01-29 22:33:25</td>\n",
       "      <td>NaT</td>\n",
       "      <td>2018-02-22</td>\n",
       "    </tr>\n",
       "    <tr>\n",
       "      <th>687</th>\n",
       "      <td>37553832a3a89c9b2db59701c357ca67</td>\n",
       "      <td>7607cd563696c27ede287e515812d528</td>\n",
       "      <td>unavailable</td>\n",
       "      <td>2017-08-14 17:38:02</td>\n",
       "      <td>2017-08-17 00:15:18</td>\n",
       "      <td>NaT</td>\n",
       "      <td>NaT</td>\n",
       "      <td>2017-09-05</td>\n",
       "    </tr>\n",
       "  </tbody>\n",
       "</table>\n",
       "</div>"
      ],
      "text/plain": [
       "                             order_id                       customer_id  \\\n",
       "266  8e24261a7e58791d10cb1bf9da94df5c  64a254d30eed42cd0e6c36dddb88adf0   \n",
       "397  1b9ecfe83cdc259250e1a8aca174f0ad  6d6b50b66d79f80827b6d96751528d30   \n",
       "586  c272bcd21c287498b4883c7512019702  9582c5bbecc65eb568e2c1d839b5cba1   \n",
       "613  714fb133a6730ab81fa1d3c1b2007291  e3fe72696c4713d64d3c10afe71e75ed   \n",
       "687  37553832a3a89c9b2db59701c357ca67  7607cd563696c27ede287e515812d528   \n",
       "\n",
       "    order_status order_purchase_timestamp   order_approved_at  \\\n",
       "266  unavailable      2017-11-16 15:09:28 2017-11-16 15:26:57   \n",
       "397     canceled      2018-08-04 14:29:27 2018-08-07 04:10:26   \n",
       "586  unavailable      2018-01-31 11:31:37 2018-01-31 14:23:50   \n",
       "613     canceled      2018-01-26 21:34:08 2018-01-26 21:58:39   \n",
       "687  unavailable      2017-08-14 17:38:02 2017-08-17 00:15:18   \n",
       "\n",
       "    order_delivered_carrier_date order_delivered_customer_date  \\\n",
       "266                          NaT                           NaT   \n",
       "397                          NaT                           NaT   \n",
       "586                          NaT                           NaT   \n",
       "613          2018-01-29 22:33:25                           NaT   \n",
       "687                          NaT                           NaT   \n",
       "\n",
       "    order_estimated_delivery_date  \n",
       "266                    2017-12-05  \n",
       "397                    2018-08-14  \n",
       "586                    2018-02-16  \n",
       "613                    2018-02-22  \n",
       "687                    2017-09-05  "
      ]
     },
     "execution_count": 30,
     "metadata": {},
     "output_type": "execute_result"
    }
   ],
   "source": [
    "orders_not_delivered = orders_not_delivered.query('order_status ==[\"canceled\",\"unavailable\"]')\n",
    "orders_not_delivered.head()"
   ]
  },
  {
   "cell_type": "markdown",
   "metadata": {},
   "source": [
    "Посмотрим какое количество заказов не доставляются в разрезе по статусам."
   ]
  },
  {
   "cell_type": "code",
   "execution_count": 31,
   "metadata": {},
   "outputs": [
    {
     "data": {
      "text/plain": [
       "canceled       619\n",
       "unavailable    609\n",
       "Name: order_status, dtype: int64"
      ]
     },
     "execution_count": 31,
     "metadata": {},
     "output_type": "execute_result"
    }
   ],
   "source": [
    "orders_not_delivered.order_status.value_counts()"
   ]
  },
  {
   "cell_type": "markdown",
   "metadata": {},
   "source": [
    "Так как у нас в данных есть только полная дата, а нас спрашивают сколько в среднем в месяц не доставляются товары, то нужно создать новый столбец с месяцем. Так как нас интересуют те заказы, которые не были доставлены, то логично будет использовать в качестве даты столбец order_purchase_timestamp — время создания заказа."
   ]
  },
  {
   "cell_type": "code",
   "execution_count": 32,
   "metadata": {
    "scrolled": true
   },
   "outputs": [
    {
     "data": {
      "text/html": [
       "<div>\n",
       "<style scoped>\n",
       "    .dataframe tbody tr th:only-of-type {\n",
       "        vertical-align: middle;\n",
       "    }\n",
       "\n",
       "    .dataframe tbody tr th {\n",
       "        vertical-align: top;\n",
       "    }\n",
       "\n",
       "    .dataframe thead th {\n",
       "        text-align: right;\n",
       "    }\n",
       "</style>\n",
       "<table border=\"1\" class=\"dataframe\">\n",
       "  <thead>\n",
       "    <tr style=\"text-align: right;\">\n",
       "      <th></th>\n",
       "      <th>order_id</th>\n",
       "      <th>customer_id</th>\n",
       "      <th>order_status</th>\n",
       "      <th>order_purchase_timestamp</th>\n",
       "      <th>order_approved_at</th>\n",
       "      <th>order_delivered_carrier_date</th>\n",
       "      <th>order_delivered_customer_date</th>\n",
       "      <th>order_estimated_delivery_date</th>\n",
       "      <th>month_year</th>\n",
       "    </tr>\n",
       "  </thead>\n",
       "  <tbody>\n",
       "    <tr>\n",
       "      <th>266</th>\n",
       "      <td>8e24261a7e58791d10cb1bf9da94df5c</td>\n",
       "      <td>64a254d30eed42cd0e6c36dddb88adf0</td>\n",
       "      <td>unavailable</td>\n",
       "      <td>2017-11-16 15:09:28</td>\n",
       "      <td>2017-11-16 15:26:57</td>\n",
       "      <td>NaT</td>\n",
       "      <td>NaT</td>\n",
       "      <td>2017-12-05</td>\n",
       "      <td>2017-11</td>\n",
       "    </tr>\n",
       "    <tr>\n",
       "      <th>397</th>\n",
       "      <td>1b9ecfe83cdc259250e1a8aca174f0ad</td>\n",
       "      <td>6d6b50b66d79f80827b6d96751528d30</td>\n",
       "      <td>canceled</td>\n",
       "      <td>2018-08-04 14:29:27</td>\n",
       "      <td>2018-08-07 04:10:26</td>\n",
       "      <td>NaT</td>\n",
       "      <td>NaT</td>\n",
       "      <td>2018-08-14</td>\n",
       "      <td>2018-08</td>\n",
       "    </tr>\n",
       "    <tr>\n",
       "      <th>586</th>\n",
       "      <td>c272bcd21c287498b4883c7512019702</td>\n",
       "      <td>9582c5bbecc65eb568e2c1d839b5cba1</td>\n",
       "      <td>unavailable</td>\n",
       "      <td>2018-01-31 11:31:37</td>\n",
       "      <td>2018-01-31 14:23:50</td>\n",
       "      <td>NaT</td>\n",
       "      <td>NaT</td>\n",
       "      <td>2018-02-16</td>\n",
       "      <td>2018-01</td>\n",
       "    </tr>\n",
       "    <tr>\n",
       "      <th>613</th>\n",
       "      <td>714fb133a6730ab81fa1d3c1b2007291</td>\n",
       "      <td>e3fe72696c4713d64d3c10afe71e75ed</td>\n",
       "      <td>canceled</td>\n",
       "      <td>2018-01-26 21:34:08</td>\n",
       "      <td>2018-01-26 21:58:39</td>\n",
       "      <td>2018-01-29 22:33:25</td>\n",
       "      <td>NaT</td>\n",
       "      <td>2018-02-22</td>\n",
       "      <td>2018-01</td>\n",
       "    </tr>\n",
       "    <tr>\n",
       "      <th>687</th>\n",
       "      <td>37553832a3a89c9b2db59701c357ca67</td>\n",
       "      <td>7607cd563696c27ede287e515812d528</td>\n",
       "      <td>unavailable</td>\n",
       "      <td>2017-08-14 17:38:02</td>\n",
       "      <td>2017-08-17 00:15:18</td>\n",
       "      <td>NaT</td>\n",
       "      <td>NaT</td>\n",
       "      <td>2017-09-05</td>\n",
       "      <td>2017-08</td>\n",
       "    </tr>\n",
       "  </tbody>\n",
       "</table>\n",
       "</div>"
      ],
      "text/plain": [
       "                             order_id                       customer_id  \\\n",
       "266  8e24261a7e58791d10cb1bf9da94df5c  64a254d30eed42cd0e6c36dddb88adf0   \n",
       "397  1b9ecfe83cdc259250e1a8aca174f0ad  6d6b50b66d79f80827b6d96751528d30   \n",
       "586  c272bcd21c287498b4883c7512019702  9582c5bbecc65eb568e2c1d839b5cba1   \n",
       "613  714fb133a6730ab81fa1d3c1b2007291  e3fe72696c4713d64d3c10afe71e75ed   \n",
       "687  37553832a3a89c9b2db59701c357ca67  7607cd563696c27ede287e515812d528   \n",
       "\n",
       "    order_status order_purchase_timestamp   order_approved_at  \\\n",
       "266  unavailable      2017-11-16 15:09:28 2017-11-16 15:26:57   \n",
       "397     canceled      2018-08-04 14:29:27 2018-08-07 04:10:26   \n",
       "586  unavailable      2018-01-31 11:31:37 2018-01-31 14:23:50   \n",
       "613     canceled      2018-01-26 21:34:08 2018-01-26 21:58:39   \n",
       "687  unavailable      2017-08-14 17:38:02 2017-08-17 00:15:18   \n",
       "\n",
       "    order_delivered_carrier_date order_delivered_customer_date  \\\n",
       "266                          NaT                           NaT   \n",
       "397                          NaT                           NaT   \n",
       "586                          NaT                           NaT   \n",
       "613          2018-01-29 22:33:25                           NaT   \n",
       "687                          NaT                           NaT   \n",
       "\n",
       "    order_estimated_delivery_date month_year  \n",
       "266                    2017-12-05    2017-11  \n",
       "397                    2018-08-14    2018-08  \n",
       "586                    2018-02-16    2018-01  \n",
       "613                    2018-02-22    2018-01  \n",
       "687                    2017-09-05    2017-08  "
      ]
     },
     "execution_count": 32,
     "metadata": {},
     "output_type": "execute_result"
    }
   ],
   "source": [
    "orders_not_delivered['month_year'] = orders_not_delivered['order_purchase_timestamp'].dt.strftime('%Y-%m')\n",
    "orders_not_delivered.head()"
   ]
  },
  {
   "cell_type": "markdown",
   "metadata": {},
   "source": [
    "Сгруппируем данные по статусу заказа и месяцу создания заказа. Посчитаем количество заказов. "
   ]
  },
  {
   "cell_type": "code",
   "execution_count": 33,
   "metadata": {
    "scrolled": true
   },
   "outputs": [
    {
     "data": {
      "text/html": [
       "<div>\n",
       "<style scoped>\n",
       "    .dataframe tbody tr th:only-of-type {\n",
       "        vertical-align: middle;\n",
       "    }\n",
       "\n",
       "    .dataframe tbody tr th {\n",
       "        vertical-align: top;\n",
       "    }\n",
       "\n",
       "    .dataframe thead th {\n",
       "        text-align: right;\n",
       "    }\n",
       "</style>\n",
       "<table border=\"1\" class=\"dataframe\">\n",
       "  <thead>\n",
       "    <tr style=\"text-align: right;\">\n",
       "      <th></th>\n",
       "      <th>order_status</th>\n",
       "      <th>month_year</th>\n",
       "      <th>count_orders</th>\n",
       "    </tr>\n",
       "  </thead>\n",
       "  <tbody>\n",
       "    <tr>\n",
       "      <th>0</th>\n",
       "      <td>canceled</td>\n",
       "      <td>2016-09</td>\n",
       "      <td>2</td>\n",
       "    </tr>\n",
       "    <tr>\n",
       "      <th>1</th>\n",
       "      <td>canceled</td>\n",
       "      <td>2016-10</td>\n",
       "      <td>19</td>\n",
       "    </tr>\n",
       "    <tr>\n",
       "      <th>2</th>\n",
       "      <td>canceled</td>\n",
       "      <td>2017-01</td>\n",
       "      <td>3</td>\n",
       "    </tr>\n",
       "    <tr>\n",
       "      <th>3</th>\n",
       "      <td>canceled</td>\n",
       "      <td>2017-02</td>\n",
       "      <td>17</td>\n",
       "    </tr>\n",
       "    <tr>\n",
       "      <th>4</th>\n",
       "      <td>canceled</td>\n",
       "      <td>2017-03</td>\n",
       "      <td>33</td>\n",
       "    </tr>\n",
       "  </tbody>\n",
       "</table>\n",
       "</div>"
      ],
      "text/plain": [
       "  order_status month_year  count_orders\n",
       "0     canceled    2016-09             2\n",
       "1     canceled    2016-10            19\n",
       "2     canceled    2017-01             3\n",
       "3     canceled    2017-02            17\n",
       "4     canceled    2017-03            33"
      ]
     },
     "execution_count": 33,
     "metadata": {},
     "output_type": "execute_result"
    }
   ],
   "source": [
    "count_orders_not_delivered = orders_not_delivered.groupby(['order_status','month_year'],as_index=False)\\\n",
    "                    .agg({'order_id':'count'}).rename(columns = {'order_id':'count_orders'})\n",
    "count_orders_not_delivered.head()"
   ]
  },
  {
   "cell_type": "markdown",
   "metadata": {},
   "source": [
    "Посчитаем среднее количество недоставленных заказов."
   ]
  },
  {
   "cell_type": "code",
   "execution_count": 34,
   "metadata": {},
   "outputs": [
    {
     "data": {
      "text/plain": [
       "27.29"
      ]
     },
     "execution_count": 34,
     "metadata": {},
     "output_type": "execute_result"
    }
   ],
   "source": [
    "round(count_orders_not_delivered['count_orders'].mean(), 2)"
   ]
  },
  {
   "cell_type": "markdown",
   "metadata": {},
   "source": [
    "Построим график, где отобразим как меняется количество недоставленных заказов в разные месяцы в зависимости от статуса заказа."
   ]
  },
  {
   "cell_type": "code",
   "execution_count": 35,
   "metadata": {
    "scrolled": false
   },
   "outputs": [
    {
     "data": {
      "image/png": "[encoded data removed]",
      "text/plain": [
       "<Figure size 1080x720 with 1 Axes>"
      ]
     },
     "metadata": {
      "needs_background": "light"
     },
     "output_type": "display_data"
    }
   ],
   "source": [
    "plt.figure(figsize=(15,10))\n",
    "sns.lineplot(\n",
    "    x=\"month_year\", \n",
    "    y=\"count_orders\",\n",
    "    data=count_orders_not_delivered,\n",
    "    palette='bright',\n",
    "    hue='order_status')\n",
    "plt.xticks(rotation=45)\n",
    "plt.title('Распределение пользователей по количеству покупок по месяцам')\n",
    "plt.xlabel('Год-месяц')\n",
    "plt.ylabel('Количество пользователей');\n"
   ]
  },
  {
   "cell_type": "markdown",
   "metadata": {},
   "source": [
    "Наблюдаем, что пик количества отмененных заказов приходится на октябрь 2017 года, а пик недоступных заказов на февраль и август 2018 года. Возможно в это время случился какой-то сбой. "
   ]
  },
  {
   "cell_type": "markdown",
   "metadata": {},
   "source": [
    "Сгруппируем данные еще раз по статусу заказа и посчитаем среднее по количеству заказов."
   ]
  },
  {
   "cell_type": "code",
   "execution_count": 36,
   "metadata": {},
   "outputs": [
    {
     "data": {
      "text/html": [
       "<div>\n",
       "<style scoped>\n",
       "    .dataframe tbody tr th:only-of-type {\n",
       "        vertical-align: middle;\n",
       "    }\n",
       "\n",
       "    .dataframe tbody tr th {\n",
       "        vertical-align: top;\n",
       "    }\n",
       "\n",
       "    .dataframe thead th {\n",
       "        text-align: right;\n",
       "    }\n",
       "</style>\n",
       "<table border=\"1\" class=\"dataframe\">\n",
       "  <thead>\n",
       "    <tr style=\"text-align: right;\">\n",
       "      <th></th>\n",
       "      <th>order_status</th>\n",
       "      <th>mean_count</th>\n",
       "    </tr>\n",
       "  </thead>\n",
       "  <tbody>\n",
       "    <tr>\n",
       "      <th>0</th>\n",
       "      <td>canceled</td>\n",
       "      <td>25.791667</td>\n",
       "    </tr>\n",
       "    <tr>\n",
       "      <th>1</th>\n",
       "      <td>unavailable</td>\n",
       "      <td>29.000000</td>\n",
       "    </tr>\n",
       "  </tbody>\n",
       "</table>\n",
       "</div>"
      ],
      "text/plain": [
       "  order_status  mean_count\n",
       "0     canceled   25.791667\n",
       "1  unavailable   29.000000"
      ]
     },
     "execution_count": 36,
     "metadata": {},
     "output_type": "execute_result"
    }
   ],
   "source": [
    "mean_count_orders_not_delivered = count_orders_not_delivered.groupby('order_status',as_index=False)\\\n",
    "                                                            .agg({'count_orders':'mean'})\\\n",
    "                                                            .rename(columns = {'count_orders':'mean_count'})\n",
    "mean_count_orders_not_delivered"
   ]
  },
  {
   "cell_type": "markdown",
   "metadata": {},
   "source": [
    "Округлим среднее до двух знаков после точки."
   ]
  },
  {
   "cell_type": "code",
   "execution_count": 37,
   "metadata": {
    "scrolled": true
   },
   "outputs": [
    {
     "data": {
      "text/html": [
       "<div>\n",
       "<style scoped>\n",
       "    .dataframe tbody tr th:only-of-type {\n",
       "        vertical-align: middle;\n",
       "    }\n",
       "\n",
       "    .dataframe tbody tr th {\n",
       "        vertical-align: top;\n",
       "    }\n",
       "\n",
       "    .dataframe thead th {\n",
       "        text-align: right;\n",
       "    }\n",
       "</style>\n",
       "<table border=\"1\" class=\"dataframe\">\n",
       "  <thead>\n",
       "    <tr style=\"text-align: right;\">\n",
       "      <th></th>\n",
       "      <th>order_status</th>\n",
       "      <th>mean_count</th>\n",
       "    </tr>\n",
       "  </thead>\n",
       "  <tbody>\n",
       "    <tr>\n",
       "      <th>0</th>\n",
       "      <td>canceled</td>\n",
       "      <td>25.79</td>\n",
       "    </tr>\n",
       "    <tr>\n",
       "      <th>1</th>\n",
       "      <td>unavailable</td>\n",
       "      <td>29.00</td>\n",
       "    </tr>\n",
       "  </tbody>\n",
       "</table>\n",
       "</div>"
      ],
      "text/plain": [
       "  order_status  mean_count\n",
       "0     canceled       25.79\n",
       "1  unavailable       29.00"
      ]
     },
     "execution_count": 37,
     "metadata": {},
     "output_type": "execute_result"
    }
   ],
   "source": [
    "mean_count_orders_not_delivered['mean_count'] = round(mean_count_orders_not_delivered['mean_count'], 2)\n",
    "mean_count_orders_not_delivered"
   ]
  },
  {
   "cell_type": "markdown",
   "metadata": {},
   "source": [
    "**Выводы:** Количество заказов, которые не были доставлены по причине отмены заказа равняется 25.79 в месяц в среднем, а по причине недоступен - 29.00. "
   ]
  },
  {
   "cell_type": "markdown",
   "metadata": {},
   "source": [
    "## 3. По каждому товару определить, в какой день недели товар чаще всего покупается"
   ]
  },
  {
   "cell_type": "markdown",
   "metadata": {},
   "source": [
    "Воспользуемся способом объединения inner join, при котором объединяются только те значения, которые можно найти в обеих таблицах, так как нам не нужны пропуски в данных. Объединять будем по столбцу order_id.\n",
    "\n"
   ]
  },
  {
   "cell_type": "code",
   "execution_count": 38,
   "metadata": {},
   "outputs": [
    {
     "data": {
      "text/html": [
       "<div>\n",
       "<style scoped>\n",
       "    .dataframe tbody tr th:only-of-type {\n",
       "        vertical-align: middle;\n",
       "    }\n",
       "\n",
       "    .dataframe tbody tr th {\n",
       "        vertical-align: top;\n",
       "    }\n",
       "\n",
       "    .dataframe thead th {\n",
       "        text-align: right;\n",
       "    }\n",
       "</style>\n",
       "<table border=\"1\" class=\"dataframe\">\n",
       "  <thead>\n",
       "    <tr style=\"text-align: right;\">\n",
       "      <th></th>\n",
       "      <th>order_id</th>\n",
       "      <th>order_item_id</th>\n",
       "      <th>product_id</th>\n",
       "      <th>seller_id</th>\n",
       "      <th>shipping_limit_date</th>\n",
       "      <th>price</th>\n",
       "      <th>freight_value</th>\n",
       "      <th>customer_id</th>\n",
       "      <th>order_status</th>\n",
       "      <th>order_purchase_timestamp</th>\n",
       "      <th>order_approved_at</th>\n",
       "      <th>order_delivered_carrier_date</th>\n",
       "      <th>order_delivered_customer_date</th>\n",
       "      <th>order_estimated_delivery_date</th>\n",
       "    </tr>\n",
       "  </thead>\n",
       "  <tbody>\n",
       "    <tr>\n",
       "      <th>0</th>\n",
       "      <td>00010242fe8c5a6d1ba2dd792cb16214</td>\n",
       "      <td>1</td>\n",
       "      <td>4244733e06e7ecb4970a6e2683c13e61</td>\n",
       "      <td>48436dade18ac8b2bce089ec2a041202</td>\n",
       "      <td>2017-09-19 09:45:35</td>\n",
       "      <td>58.90</td>\n",
       "      <td>13.29</td>\n",
       "      <td>3ce436f183e68e07877b285a838db11a</td>\n",
       "      <td>delivered</td>\n",
       "      <td>2017-09-13 08:59:02</td>\n",
       "      <td>2017-09-13 09:45:35</td>\n",
       "      <td>2017-09-19 18:34:16</td>\n",
       "      <td>2017-09-20 23:43:48</td>\n",
       "      <td>2017-09-29</td>\n",
       "    </tr>\n",
       "    <tr>\n",
       "      <th>1</th>\n",
       "      <td>00018f77f2f0320c557190d7a144bdd3</td>\n",
       "      <td>1</td>\n",
       "      <td>e5f2d52b802189ee658865ca93d83a8f</td>\n",
       "      <td>dd7ddc04e1b6c2c614352b383efe2d36</td>\n",
       "      <td>2017-05-03 11:05:13</td>\n",
       "      <td>239.90</td>\n",
       "      <td>19.93</td>\n",
       "      <td>f6dd3ec061db4e3987629fe6b26e5cce</td>\n",
       "      <td>delivered</td>\n",
       "      <td>2017-04-26 10:53:06</td>\n",
       "      <td>2017-04-26 11:05:13</td>\n",
       "      <td>2017-05-04 14:35:00</td>\n",
       "      <td>2017-05-12 16:04:24</td>\n",
       "      <td>2017-05-15</td>\n",
       "    </tr>\n",
       "    <tr>\n",
       "      <th>2</th>\n",
       "      <td>000229ec398224ef6ca0657da4fc703e</td>\n",
       "      <td>1</td>\n",
       "      <td>c777355d18b72b67abbeef9df44fd0fd</td>\n",
       "      <td>5b51032eddd242adc84c38acab88f23d</td>\n",
       "      <td>2018-01-18 14:48:30</td>\n",
       "      <td>199.00</td>\n",
       "      <td>17.87</td>\n",
       "      <td>6489ae5e4333f3693df5ad4372dab6d3</td>\n",
       "      <td>delivered</td>\n",
       "      <td>2018-01-14 14:33:31</td>\n",
       "      <td>2018-01-14 14:48:30</td>\n",
       "      <td>2018-01-16 12:36:48</td>\n",
       "      <td>2018-01-22 13:19:16</td>\n",
       "      <td>2018-02-05</td>\n",
       "    </tr>\n",
       "    <tr>\n",
       "      <th>3</th>\n",
       "      <td>00024acbcdf0a6daa1e931b038114c75</td>\n",
       "      <td>1</td>\n",
       "      <td>7634da152a4610f1595efa32f14722fc</td>\n",
       "      <td>9d7a1d34a5052409006425275ba1c2b4</td>\n",
       "      <td>2018-08-15 10:10:18</td>\n",
       "      <td>12.99</td>\n",
       "      <td>12.79</td>\n",
       "      <td>d4eb9395c8c0431ee92fce09860c5a06</td>\n",
       "      <td>delivered</td>\n",
       "      <td>2018-08-08 10:00:35</td>\n",
       "      <td>2018-08-08 10:10:18</td>\n",
       "      <td>2018-08-10 13:28:00</td>\n",
       "      <td>2018-08-14 13:32:39</td>\n",
       "      <td>2018-08-20</td>\n",
       "    </tr>\n",
       "    <tr>\n",
       "      <th>4</th>\n",
       "      <td>00042b26cf59d7ce69dfabb4e55b4fd9</td>\n",
       "      <td>1</td>\n",
       "      <td>ac6c3623068f30de03045865e4e10089</td>\n",
       "      <td>df560393f3a51e74553ab94004ba5c87</td>\n",
       "      <td>2017-02-13 13:57:51</td>\n",
       "      <td>199.90</td>\n",
       "      <td>18.14</td>\n",
       "      <td>58dbd0b2d70206bf40e62cd34e84d795</td>\n",
       "      <td>delivered</td>\n",
       "      <td>2017-02-04 13:57:51</td>\n",
       "      <td>2017-02-04 14:10:13</td>\n",
       "      <td>2017-02-16 09:46:09</td>\n",
       "      <td>2017-03-01 16:42:31</td>\n",
       "      <td>2017-03-17</td>\n",
       "    </tr>\n",
       "  </tbody>\n",
       "</table>\n",
       "</div>"
      ],
      "text/plain": [
       "                           order_id  order_item_id  \\\n",
       "0  00010242fe8c5a6d1ba2dd792cb16214              1   \n",
       "1  00018f77f2f0320c557190d7a144bdd3              1   \n",
       "2  000229ec398224ef6ca0657da4fc703e              1   \n",
       "3  00024acbcdf0a6daa1e931b038114c75              1   \n",
       "4  00042b26cf59d7ce69dfabb4e55b4fd9              1   \n",
       "\n",
       "                         product_id                         seller_id  \\\n",
       "0  4244733e06e7ecb4970a6e2683c13e61  48436dade18ac8b2bce089ec2a041202   \n",
       "1  e5f2d52b802189ee658865ca93d83a8f  dd7ddc04e1b6c2c614352b383efe2d36   \n",
       "2  c777355d18b72b67abbeef9df44fd0fd  5b51032eddd242adc84c38acab88f23d   \n",
       "3  7634da152a4610f1595efa32f14722fc  9d7a1d34a5052409006425275ba1c2b4   \n",
       "4  ac6c3623068f30de03045865e4e10089  df560393f3a51e74553ab94004ba5c87   \n",
       "\n",
       "  shipping_limit_date   price  freight_value  \\\n",
       "0 2017-09-19 09:45:35   58.90          13.29   \n",
       "1 2017-05-03 11:05:13  239.90          19.93   \n",
       "2 2018-01-18 14:48:30  199.00          17.87   \n",
       "3 2018-08-15 10:10:18   12.99          12.79   \n",
       "4 2017-02-13 13:57:51  199.90          18.14   \n",
       "\n",
       "                        customer_id order_status order_purchase_timestamp  \\\n",
       "0  3ce436f183e68e07877b285a838db11a    delivered      2017-09-13 08:59:02   \n",
       "1  f6dd3ec061db4e3987629fe6b26e5cce    delivered      2017-04-26 10:53:06   \n",
       "2  6489ae5e4333f3693df5ad4372dab6d3    delivered      2018-01-14 14:33:31   \n",
       "3  d4eb9395c8c0431ee92fce09860c5a06    delivered      2018-08-08 10:00:35   \n",
       "4  58dbd0b2d70206bf40e62cd34e84d795    delivered      2017-02-04 13:57:51   \n",
       "\n",
       "    order_approved_at order_delivered_carrier_date  \\\n",
       "0 2017-09-13 09:45:35          2017-09-19 18:34:16   \n",
       "1 2017-04-26 11:05:13          2017-05-04 14:35:00   \n",
       "2 2018-01-14 14:48:30          2018-01-16 12:36:48   \n",
       "3 2018-08-08 10:10:18          2018-08-10 13:28:00   \n",
       "4 2017-02-04 14:10:13          2017-02-16 09:46:09   \n",
       "\n",
       "  order_delivered_customer_date order_estimated_delivery_date  \n",
       "0           2017-09-20 23:43:48                    2017-09-29  \n",
       "1           2017-05-12 16:04:24                    2017-05-15  \n",
       "2           2018-01-22 13:19:16                    2018-02-05  \n",
       "3           2018-08-14 13:32:39                    2018-08-20  \n",
       "4           2017-03-01 16:42:31                    2017-03-17  "
      ]
     },
     "execution_count": 38,
     "metadata": {},
     "output_type": "execute_result"
    }
   ],
   "source": [
    "order_items = olist_order_items_dataset.merge(olist_orders_dataset, how = 'inner', on = 'order_id')\n",
    "order_items.head()"
   ]
  },
  {
   "cell_type": "markdown",
   "metadata": {},
   "source": [
    "Отфильтруем датафрейм order_items по условиям, которые обосновали в прошлом шаге, чтобы оставить только те заказы, которые считаем покупками."
   ]
  },
  {
   "cell_type": "code",
   "execution_count": 39,
   "metadata": {
    "scrolled": false
   },
   "outputs": [
    {
     "data": {
      "text/html": [
       "<div>\n",
       "<style scoped>\n",
       "    .dataframe tbody tr th:only-of-type {\n",
       "        vertical-align: middle;\n",
       "    }\n",
       "\n",
       "    .dataframe tbody tr th {\n",
       "        vertical-align: top;\n",
       "    }\n",
       "\n",
       "    .dataframe thead th {\n",
       "        text-align: right;\n",
       "    }\n",
       "</style>\n",
       "<table border=\"1\" class=\"dataframe\">\n",
       "  <thead>\n",
       "    <tr style=\"text-align: right;\">\n",
       "      <th></th>\n",
       "      <th>order_id</th>\n",
       "      <th>order_item_id</th>\n",
       "      <th>product_id</th>\n",
       "      <th>seller_id</th>\n",
       "      <th>shipping_limit_date</th>\n",
       "      <th>price</th>\n",
       "      <th>freight_value</th>\n",
       "      <th>customer_id</th>\n",
       "      <th>order_status</th>\n",
       "      <th>order_purchase_timestamp</th>\n",
       "      <th>order_approved_at</th>\n",
       "      <th>order_delivered_carrier_date</th>\n",
       "      <th>order_delivered_customer_date</th>\n",
       "      <th>order_estimated_delivery_date</th>\n",
       "    </tr>\n",
       "  </thead>\n",
       "  <tbody>\n",
       "    <tr>\n",
       "      <th>0</th>\n",
       "      <td>00010242fe8c5a6d1ba2dd792cb16214</td>\n",
       "      <td>1</td>\n",
       "      <td>4244733e06e7ecb4970a6e2683c13e61</td>\n",
       "      <td>48436dade18ac8b2bce089ec2a041202</td>\n",
       "      <td>2017-09-19 09:45:35</td>\n",
       "      <td>58.90</td>\n",
       "      <td>13.29</td>\n",
       "      <td>3ce436f183e68e07877b285a838db11a</td>\n",
       "      <td>delivered</td>\n",
       "      <td>2017-09-13 08:59:02</td>\n",
       "      <td>2017-09-13 09:45:35</td>\n",
       "      <td>2017-09-19 18:34:16</td>\n",
       "      <td>2017-09-20 23:43:48</td>\n",
       "      <td>2017-09-29</td>\n",
       "    </tr>\n",
       "    <tr>\n",
       "      <th>1</th>\n",
       "      <td>00018f77f2f0320c557190d7a144bdd3</td>\n",
       "      <td>1</td>\n",
       "      <td>e5f2d52b802189ee658865ca93d83a8f</td>\n",
       "      <td>dd7ddc04e1b6c2c614352b383efe2d36</td>\n",
       "      <td>2017-05-03 11:05:13</td>\n",
       "      <td>239.90</td>\n",
       "      <td>19.93</td>\n",
       "      <td>f6dd3ec061db4e3987629fe6b26e5cce</td>\n",
       "      <td>delivered</td>\n",
       "      <td>2017-04-26 10:53:06</td>\n",
       "      <td>2017-04-26 11:05:13</td>\n",
       "      <td>2017-05-04 14:35:00</td>\n",
       "      <td>2017-05-12 16:04:24</td>\n",
       "      <td>2017-05-15</td>\n",
       "    </tr>\n",
       "    <tr>\n",
       "      <th>2</th>\n",
       "      <td>000229ec398224ef6ca0657da4fc703e</td>\n",
       "      <td>1</td>\n",
       "      <td>c777355d18b72b67abbeef9df44fd0fd</td>\n",
       "      <td>5b51032eddd242adc84c38acab88f23d</td>\n",
       "      <td>2018-01-18 14:48:30</td>\n",
       "      <td>199.00</td>\n",
       "      <td>17.87</td>\n",
       "      <td>6489ae5e4333f3693df5ad4372dab6d3</td>\n",
       "      <td>delivered</td>\n",
       "      <td>2018-01-14 14:33:31</td>\n",
       "      <td>2018-01-14 14:48:30</td>\n",
       "      <td>2018-01-16 12:36:48</td>\n",
       "      <td>2018-01-22 13:19:16</td>\n",
       "      <td>2018-02-05</td>\n",
       "    </tr>\n",
       "    <tr>\n",
       "      <th>3</th>\n",
       "      <td>00024acbcdf0a6daa1e931b038114c75</td>\n",
       "      <td>1</td>\n",
       "      <td>7634da152a4610f1595efa32f14722fc</td>\n",
       "      <td>9d7a1d34a5052409006425275ba1c2b4</td>\n",
       "      <td>2018-08-15 10:10:18</td>\n",
       "      <td>12.99</td>\n",
       "      <td>12.79</td>\n",
       "      <td>d4eb9395c8c0431ee92fce09860c5a06</td>\n",
       "      <td>delivered</td>\n",
       "      <td>2018-08-08 10:00:35</td>\n",
       "      <td>2018-08-08 10:10:18</td>\n",
       "      <td>2018-08-10 13:28:00</td>\n",
       "      <td>2018-08-14 13:32:39</td>\n",
       "      <td>2018-08-20</td>\n",
       "    </tr>\n",
       "    <tr>\n",
       "      <th>4</th>\n",
       "      <td>00042b26cf59d7ce69dfabb4e55b4fd9</td>\n",
       "      <td>1</td>\n",
       "      <td>ac6c3623068f30de03045865e4e10089</td>\n",
       "      <td>df560393f3a51e74553ab94004ba5c87</td>\n",
       "      <td>2017-02-13 13:57:51</td>\n",
       "      <td>199.90</td>\n",
       "      <td>18.14</td>\n",
       "      <td>58dbd0b2d70206bf40e62cd34e84d795</td>\n",
       "      <td>delivered</td>\n",
       "      <td>2017-02-04 13:57:51</td>\n",
       "      <td>2017-02-04 14:10:13</td>\n",
       "      <td>2017-02-16 09:46:09</td>\n",
       "      <td>2017-03-01 16:42:31</td>\n",
       "      <td>2017-03-17</td>\n",
       "    </tr>\n",
       "  </tbody>\n",
       "</table>\n",
       "</div>"
      ],
      "text/plain": [
       "                           order_id  order_item_id  \\\n",
       "0  00010242fe8c5a6d1ba2dd792cb16214              1   \n",
       "1  00018f77f2f0320c557190d7a144bdd3              1   \n",
       "2  000229ec398224ef6ca0657da4fc703e              1   \n",
       "3  00024acbcdf0a6daa1e931b038114c75              1   \n",
       "4  00042b26cf59d7ce69dfabb4e55b4fd9              1   \n",
       "\n",
       "                         product_id                         seller_id  \\\n",
       "0  4244733e06e7ecb4970a6e2683c13e61  48436dade18ac8b2bce089ec2a041202   \n",
       "1  e5f2d52b802189ee658865ca93d83a8f  dd7ddc04e1b6c2c614352b383efe2d36   \n",
       "2  c777355d18b72b67abbeef9df44fd0fd  5b51032eddd242adc84c38acab88f23d   \n",
       "3  7634da152a4610f1595efa32f14722fc  9d7a1d34a5052409006425275ba1c2b4   \n",
       "4  ac6c3623068f30de03045865e4e10089  df560393f3a51e74553ab94004ba5c87   \n",
       "\n",
       "  shipping_limit_date   price  freight_value  \\\n",
       "0 2017-09-19 09:45:35   58.90          13.29   \n",
       "1 2017-05-03 11:05:13  239.90          19.93   \n",
       "2 2018-01-18 14:48:30  199.00          17.87   \n",
       "3 2018-08-15 10:10:18   12.99          12.79   \n",
       "4 2017-02-13 13:57:51  199.90          18.14   \n",
       "\n",
       "                        customer_id order_status order_purchase_timestamp  \\\n",
       "0  3ce436f183e68e07877b285a838db11a    delivered      2017-09-13 08:59:02   \n",
       "1  f6dd3ec061db4e3987629fe6b26e5cce    delivered      2017-04-26 10:53:06   \n",
       "2  6489ae5e4333f3693df5ad4372dab6d3    delivered      2018-01-14 14:33:31   \n",
       "3  d4eb9395c8c0431ee92fce09860c5a06    delivered      2018-08-08 10:00:35   \n",
       "4  58dbd0b2d70206bf40e62cd34e84d795    delivered      2017-02-04 13:57:51   \n",
       "\n",
       "    order_approved_at order_delivered_carrier_date  \\\n",
       "0 2017-09-13 09:45:35          2017-09-19 18:34:16   \n",
       "1 2017-04-26 11:05:13          2017-05-04 14:35:00   \n",
       "2 2018-01-14 14:48:30          2018-01-16 12:36:48   \n",
       "3 2018-08-08 10:10:18          2018-08-10 13:28:00   \n",
       "4 2017-02-04 14:10:13          2017-02-16 09:46:09   \n",
       "\n",
       "  order_delivered_customer_date order_estimated_delivery_date  \n",
       "0           2017-09-20 23:43:48                    2017-09-29  \n",
       "1           2017-05-12 16:04:24                    2017-05-15  \n",
       "2           2018-01-22 13:19:16                    2018-02-05  \n",
       "3           2018-08-14 13:32:39                    2018-08-20  \n",
       "4           2017-03-01 16:42:31                    2017-03-17  "
      ]
     },
     "execution_count": 39,
     "metadata": {},
     "output_type": "execute_result"
    }
   ],
   "source": [
    "order_items = order_items.query('order_status != [\"canceled\",\"unavailable\"] & order_approved_at != \"NaN\"')\n",
    "order_items.head()"
   ]
  },
  {
   "cell_type": "markdown",
   "metadata": {},
   "source": [
    "Создадим столбец с днями недели."
   ]
  },
  {
   "cell_type": "code",
   "execution_count": 40,
   "metadata": {
    "scrolled": true
   },
   "outputs": [
    {
     "data": {
      "text/html": [
       "<div>\n",
       "<style scoped>\n",
       "    .dataframe tbody tr th:only-of-type {\n",
       "        vertical-align: middle;\n",
       "    }\n",
       "\n",
       "    .dataframe tbody tr th {\n",
       "        vertical-align: top;\n",
       "    }\n",
       "\n",
       "    .dataframe thead th {\n",
       "        text-align: right;\n",
       "    }\n",
       "</style>\n",
       "<table border=\"1\" class=\"dataframe\">\n",
       "  <thead>\n",
       "    <tr style=\"text-align: right;\">\n",
       "      <th></th>\n",
       "      <th>order_id</th>\n",
       "      <th>order_item_id</th>\n",
       "      <th>product_id</th>\n",
       "      <th>seller_id</th>\n",
       "      <th>shipping_limit_date</th>\n",
       "      <th>price</th>\n",
       "      <th>freight_value</th>\n",
       "      <th>customer_id</th>\n",
       "      <th>order_status</th>\n",
       "      <th>order_purchase_timestamp</th>\n",
       "      <th>order_approved_at</th>\n",
       "      <th>order_delivered_carrier_date</th>\n",
       "      <th>order_delivered_customer_date</th>\n",
       "      <th>order_estimated_delivery_date</th>\n",
       "      <th>day_week</th>\n",
       "    </tr>\n",
       "  </thead>\n",
       "  <tbody>\n",
       "    <tr>\n",
       "      <th>0</th>\n",
       "      <td>00010242fe8c5a6d1ba2dd792cb16214</td>\n",
       "      <td>1</td>\n",
       "      <td>4244733e06e7ecb4970a6e2683c13e61</td>\n",
       "      <td>48436dade18ac8b2bce089ec2a041202</td>\n",
       "      <td>2017-09-19 09:45:35</td>\n",
       "      <td>58.90</td>\n",
       "      <td>13.29</td>\n",
       "      <td>3ce436f183e68e07877b285a838db11a</td>\n",
       "      <td>delivered</td>\n",
       "      <td>2017-09-13 08:59:02</td>\n",
       "      <td>2017-09-13 09:45:35</td>\n",
       "      <td>2017-09-19 18:34:16</td>\n",
       "      <td>2017-09-20 23:43:48</td>\n",
       "      <td>2017-09-29</td>\n",
       "      <td>Wednesday</td>\n",
       "    </tr>\n",
       "    <tr>\n",
       "      <th>1</th>\n",
       "      <td>00018f77f2f0320c557190d7a144bdd3</td>\n",
       "      <td>1</td>\n",
       "      <td>e5f2d52b802189ee658865ca93d83a8f</td>\n",
       "      <td>dd7ddc04e1b6c2c614352b383efe2d36</td>\n",
       "      <td>2017-05-03 11:05:13</td>\n",
       "      <td>239.90</td>\n",
       "      <td>19.93</td>\n",
       "      <td>f6dd3ec061db4e3987629fe6b26e5cce</td>\n",
       "      <td>delivered</td>\n",
       "      <td>2017-04-26 10:53:06</td>\n",
       "      <td>2017-04-26 11:05:13</td>\n",
       "      <td>2017-05-04 14:35:00</td>\n",
       "      <td>2017-05-12 16:04:24</td>\n",
       "      <td>2017-05-15</td>\n",
       "      <td>Wednesday</td>\n",
       "    </tr>\n",
       "    <tr>\n",
       "      <th>2</th>\n",
       "      <td>000229ec398224ef6ca0657da4fc703e</td>\n",
       "      <td>1</td>\n",
       "      <td>c777355d18b72b67abbeef9df44fd0fd</td>\n",
       "      <td>5b51032eddd242adc84c38acab88f23d</td>\n",
       "      <td>2018-01-18 14:48:30</td>\n",
       "      <td>199.00</td>\n",
       "      <td>17.87</td>\n",
       "      <td>6489ae5e4333f3693df5ad4372dab6d3</td>\n",
       "      <td>delivered</td>\n",
       "      <td>2018-01-14 14:33:31</td>\n",
       "      <td>2018-01-14 14:48:30</td>\n",
       "      <td>2018-01-16 12:36:48</td>\n",
       "      <td>2018-01-22 13:19:16</td>\n",
       "      <td>2018-02-05</td>\n",
       "      <td>Sunday</td>\n",
       "    </tr>\n",
       "    <tr>\n",
       "      <th>3</th>\n",
       "      <td>00024acbcdf0a6daa1e931b038114c75</td>\n",
       "      <td>1</td>\n",
       "      <td>7634da152a4610f1595efa32f14722fc</td>\n",
       "      <td>9d7a1d34a5052409006425275ba1c2b4</td>\n",
       "      <td>2018-08-15 10:10:18</td>\n",
       "      <td>12.99</td>\n",
       "      <td>12.79</td>\n",
       "      <td>d4eb9395c8c0431ee92fce09860c5a06</td>\n",
       "      <td>delivered</td>\n",
       "      <td>2018-08-08 10:00:35</td>\n",
       "      <td>2018-08-08 10:10:18</td>\n",
       "      <td>2018-08-10 13:28:00</td>\n",
       "      <td>2018-08-14 13:32:39</td>\n",
       "      <td>2018-08-20</td>\n",
       "      <td>Wednesday</td>\n",
       "    </tr>\n",
       "    <tr>\n",
       "      <th>4</th>\n",
       "      <td>00042b26cf59d7ce69dfabb4e55b4fd9</td>\n",
       "      <td>1</td>\n",
       "      <td>ac6c3623068f30de03045865e4e10089</td>\n",
       "      <td>df560393f3a51e74553ab94004ba5c87</td>\n",
       "      <td>2017-02-13 13:57:51</td>\n",
       "      <td>199.90</td>\n",
       "      <td>18.14</td>\n",
       "      <td>58dbd0b2d70206bf40e62cd34e84d795</td>\n",
       "      <td>delivered</td>\n",
       "      <td>2017-02-04 13:57:51</td>\n",
       "      <td>2017-02-04 14:10:13</td>\n",
       "      <td>2017-02-16 09:46:09</td>\n",
       "      <td>2017-03-01 16:42:31</td>\n",
       "      <td>2017-03-17</td>\n",
       "      <td>Saturday</td>\n",
       "    </tr>\n",
       "  </tbody>\n",
       "</table>\n",
       "</div>"
      ],
      "text/plain": [
       "                           order_id  order_item_id  \\\n",
       "0  00010242fe8c5a6d1ba2dd792cb16214              1   \n",
       "1  00018f77f2f0320c557190d7a144bdd3              1   \n",
       "2  000229ec398224ef6ca0657da4fc703e              1   \n",
       "3  00024acbcdf0a6daa1e931b038114c75              1   \n",
       "4  00042b26cf59d7ce69dfabb4e55b4fd9              1   \n",
       "\n",
       "                         product_id                         seller_id  \\\n",
       "0  4244733e06e7ecb4970a6e2683c13e61  48436dade18ac8b2bce089ec2a041202   \n",
       "1  e5f2d52b802189ee658865ca93d83a8f  dd7ddc04e1b6c2c614352b383efe2d36   \n",
       "2  c777355d18b72b67abbeef9df44fd0fd  5b51032eddd242adc84c38acab88f23d   \n",
       "3  7634da152a4610f1595efa32f14722fc  9d7a1d34a5052409006425275ba1c2b4   \n",
       "4  ac6c3623068f30de03045865e4e10089  df560393f3a51e74553ab94004ba5c87   \n",
       "\n",
       "  shipping_limit_date   price  freight_value  \\\n",
       "0 2017-09-19 09:45:35   58.90          13.29   \n",
       "1 2017-05-03 11:05:13  239.90          19.93   \n",
       "2 2018-01-18 14:48:30  199.00          17.87   \n",
       "3 2018-08-15 10:10:18   12.99          12.79   \n",
       "4 2017-02-13 13:57:51  199.90          18.14   \n",
       "\n",
       "                        customer_id order_status order_purchase_timestamp  \\\n",
       "0  3ce436f183e68e07877b285a838db11a    delivered      2017-09-13 08:59:02   \n",
       "1  f6dd3ec061db4e3987629fe6b26e5cce    delivered      2017-04-26 10:53:06   \n",
       "2  6489ae5e4333f3693df5ad4372dab6d3    delivered      2018-01-14 14:33:31   \n",
       "3  d4eb9395c8c0431ee92fce09860c5a06    delivered      2018-08-08 10:00:35   \n",
       "4  58dbd0b2d70206bf40e62cd34e84d795    delivered      2017-02-04 13:57:51   \n",
       "\n",
       "    order_approved_at order_delivered_carrier_date  \\\n",
       "0 2017-09-13 09:45:35          2017-09-19 18:34:16   \n",
       "1 2017-04-26 11:05:13          2017-05-04 14:35:00   \n",
       "2 2018-01-14 14:48:30          2018-01-16 12:36:48   \n",
       "3 2018-08-08 10:10:18          2018-08-10 13:28:00   \n",
       "4 2017-02-04 14:10:13          2017-02-16 09:46:09   \n",
       "\n",
       "  order_delivered_customer_date order_estimated_delivery_date   day_week  \n",
       "0           2017-09-20 23:43:48                    2017-09-29  Wednesday  \n",
       "1           2017-05-12 16:04:24                    2017-05-15  Wednesday  \n",
       "2           2018-01-22 13:19:16                    2018-02-05     Sunday  \n",
       "3           2018-08-14 13:32:39                    2018-08-20  Wednesday  \n",
       "4           2017-03-01 16:42:31                    2017-03-17   Saturday  "
      ]
     },
     "execution_count": 40,
     "metadata": {},
     "output_type": "execute_result"
    }
   ],
   "source": [
    "order_items['day_week'] = order_items.order_purchase_timestamp.dt.day_name()\n",
    "order_items.head()"
   ]
  },
  {
   "cell_type": "markdown",
   "metadata": {},
   "source": [
    "Создадим таблицу, в которой сгруппируем данные по id продукта и дню недели, посчитаем количество продукта, приходящегося на конкретный день недели. Отсортируем данные по количеству продукта от большего к меньшему."
   ]
  },
  {
   "cell_type": "code",
   "execution_count": 41,
   "metadata": {
    "scrolled": false
   },
   "outputs": [
    {
     "data": {
      "text/html": [
       "<div>\n",
       "<style scoped>\n",
       "    .dataframe tbody tr th:only-of-type {\n",
       "        vertical-align: middle;\n",
       "    }\n",
       "\n",
       "    .dataframe tbody tr th {\n",
       "        vertical-align: top;\n",
       "    }\n",
       "\n",
       "    .dataframe thead th {\n",
       "        text-align: right;\n",
       "    }\n",
       "</style>\n",
       "<table border=\"1\" class=\"dataframe\">\n",
       "  <thead>\n",
       "    <tr style=\"text-align: right;\">\n",
       "      <th></th>\n",
       "      <th>product_id</th>\n",
       "      <th>day_week</th>\n",
       "      <th>count_product</th>\n",
       "    </tr>\n",
       "  </thead>\n",
       "  <tbody>\n",
       "    <tr>\n",
       "      <th>15812</th>\n",
       "      <td>422879e10f46682990de24d770e7f83d</td>\n",
       "      <td>Wednesday</td>\n",
       "      <td>93</td>\n",
       "    </tr>\n",
       "    <tr>\n",
       "      <th>36305</th>\n",
       "      <td>99a4788cb24856965c36a24e339b6058</td>\n",
       "      <td>Monday</td>\n",
       "      <td>92</td>\n",
       "    </tr>\n",
       "    <tr>\n",
       "      <th>40819</th>\n",
       "      <td>aca2eb7d00ea1a7b8ebd4e68314663af</td>\n",
       "      <td>Thursday</td>\n",
       "      <td>89</td>\n",
       "    </tr>\n",
       "    <tr>\n",
       "      <th>40815</th>\n",
       "      <td>aca2eb7d00ea1a7b8ebd4e68314663af</td>\n",
       "      <td>Friday</td>\n",
       "      <td>87</td>\n",
       "    </tr>\n",
       "    <tr>\n",
       "      <th>40820</th>\n",
       "      <td>aca2eb7d00ea1a7b8ebd4e68314663af</td>\n",
       "      <td>Tuesday</td>\n",
       "      <td>85</td>\n",
       "    </tr>\n",
       "  </tbody>\n",
       "</table>\n",
       "</div>"
      ],
      "text/plain": [
       "                             product_id   day_week  count_product\n",
       "15812  422879e10f46682990de24d770e7f83d  Wednesday             93\n",
       "36305  99a4788cb24856965c36a24e339b6058     Monday             92\n",
       "40819  aca2eb7d00ea1a7b8ebd4e68314663af   Thursday             89\n",
       "40815  aca2eb7d00ea1a7b8ebd4e68314663af     Friday             87\n",
       "40820  aca2eb7d00ea1a7b8ebd4e68314663af    Tuesday             85"
      ]
     },
     "execution_count": 41,
     "metadata": {},
     "output_type": "execute_result"
    }
   ],
   "source": [
    "quantity_product_by_day_week = order_items.groupby(['product_id','day_week'], as_index=False)\\\n",
    "           .agg({'order_item_id':'count'}).sort_values('order_item_id', ascending=False)\\\n",
    "           .rename(columns = {'order_item_id':'count_product'})\n",
    "quantity_product_by_day_week.head()"
   ]
  },
  {
   "cell_type": "markdown",
   "metadata": {},
   "source": [
    "В полученной таблице у нас один и тот же продукт встречается несколько раз, потому что группировка работает еще и по дню недели. А нам интересно узнать в какой день недели каждый из товаров заказывается большее количество раз. Необходимо отставить данные только с наибольшем количеством заказов продукта и тогда мы сможем понять в какой день этот продукт заказывают чаще."
   ]
  },
  {
   "cell_type": "markdown",
   "metadata": {},
   "source": [
    "Посчитаем максимальное количество продукта для каждого уникального товара."
   ]
  },
  {
   "cell_type": "code",
   "execution_count": 42,
   "metadata": {
    "scrolled": false
   },
   "outputs": [
    {
     "data": {
      "text/html": [
       "<div>\n",
       "<style scoped>\n",
       "    .dataframe tbody tr th:only-of-type {\n",
       "        vertical-align: middle;\n",
       "    }\n",
       "\n",
       "    .dataframe tbody tr th {\n",
       "        vertical-align: top;\n",
       "    }\n",
       "\n",
       "    .dataframe thead th {\n",
       "        text-align: right;\n",
       "    }\n",
       "</style>\n",
       "<table border=\"1\" class=\"dataframe\">\n",
       "  <thead>\n",
       "    <tr style=\"text-align: right;\">\n",
       "      <th></th>\n",
       "      <th>product_id</th>\n",
       "      <th>day_week</th>\n",
       "      <th>count_product_max</th>\n",
       "    </tr>\n",
       "  </thead>\n",
       "  <tbody>\n",
       "    <tr>\n",
       "      <th>15812</th>\n",
       "      <td>422879e10f46682990de24d770e7f83d</td>\n",
       "      <td>Wednesday</td>\n",
       "      <td>93</td>\n",
       "    </tr>\n",
       "    <tr>\n",
       "      <th>36305</th>\n",
       "      <td>99a4788cb24856965c36a24e339b6058</td>\n",
       "      <td>Monday</td>\n",
       "      <td>92</td>\n",
       "    </tr>\n",
       "    <tr>\n",
       "      <th>40819</th>\n",
       "      <td>aca2eb7d00ea1a7b8ebd4e68314663af</td>\n",
       "      <td>Thursday</td>\n",
       "      <td>89</td>\n",
       "    </tr>\n",
       "    <tr>\n",
       "      <th>40815</th>\n",
       "      <td>aca2eb7d00ea1a7b8ebd4e68314663af</td>\n",
       "      <td>Friday</td>\n",
       "      <td>87</td>\n",
       "    </tr>\n",
       "    <tr>\n",
       "      <th>40820</th>\n",
       "      <td>aca2eb7d00ea1a7b8ebd4e68314663af</td>\n",
       "      <td>Tuesday</td>\n",
       "      <td>85</td>\n",
       "    </tr>\n",
       "  </tbody>\n",
       "</table>\n",
       "</div>"
      ],
      "text/plain": [
       "                             product_id   day_week  count_product_max\n",
       "15812  422879e10f46682990de24d770e7f83d  Wednesday                 93\n",
       "36305  99a4788cb24856965c36a24e339b6058     Monday                 92\n",
       "40819  aca2eb7d00ea1a7b8ebd4e68314663af   Thursday                 89\n",
       "40815  aca2eb7d00ea1a7b8ebd4e68314663af     Friday                 87\n",
       "40820  aca2eb7d00ea1a7b8ebd4e68314663af    Tuesday                 85"
      ]
     },
     "execution_count": 42,
     "metadata": {},
     "output_type": "execute_result"
    }
   ],
   "source": [
    "quantity_product_max=quantity_product_by_day_week.groupby(['product_id','day_week'], as_index=False)\\\n",
    "                                                 .agg({'count_product':'max'})\\\n",
    "                                                 .rename(columns = {'count_product':'count_product_max'})\n",
    "quantity_product_max.sort_values('count_product_max', ascending=False).head()"
   ]
  },
  {
   "cell_type": "markdown",
   "metadata": {},
   "source": [
    "Посмотрим количество уникальных продуктов."
   ]
  },
  {
   "cell_type": "code",
   "execution_count": 43,
   "metadata": {},
   "outputs": [
    {
     "name": "stdout",
     "output_type": "stream",
     "text": [
      "Количество уникальных продуктов: 32726\n"
     ]
    }
   ],
   "source": [
    "nunique_products = quantity_product_max.product_id.nunique()\n",
    "print(f'Количество уникальных продуктов: {nunique_products}')"
   ]
  },
  {
   "cell_type": "markdown",
   "metadata": {},
   "source": [
    "Можно построить график и посмотреть наглядно в какой день сколько товаров покупается.\n",
    "Для начала создадим таблицу, в которой сгруппируем данные по дню недели и посчитаем какое количество продукта приходится на каждый из них."
   ]
  },
  {
   "cell_type": "code",
   "execution_count": 44,
   "metadata": {},
   "outputs": [
    {
     "data": {
      "text/html": [
       "<div>\n",
       "<style scoped>\n",
       "    .dataframe tbody tr th:only-of-type {\n",
       "        vertical-align: middle;\n",
       "    }\n",
       "\n",
       "    .dataframe tbody tr th {\n",
       "        vertical-align: top;\n",
       "    }\n",
       "\n",
       "    .dataframe thead th {\n",
       "        text-align: right;\n",
       "    }\n",
       "</style>\n",
       "<table border=\"1\" class=\"dataframe\">\n",
       "  <thead>\n",
       "    <tr style=\"text-align: right;\">\n",
       "      <th></th>\n",
       "      <th>day_week</th>\n",
       "      <th>count_products</th>\n",
       "    </tr>\n",
       "  </thead>\n",
       "  <tbody>\n",
       "    <tr>\n",
       "      <th>2</th>\n",
       "      <td>Saturday</td>\n",
       "      <td>7152</td>\n",
       "    </tr>\n",
       "    <tr>\n",
       "      <th>3</th>\n",
       "      <td>Sunday</td>\n",
       "      <td>7674</td>\n",
       "    </tr>\n",
       "    <tr>\n",
       "      <th>0</th>\n",
       "      <td>Friday</td>\n",
       "      <td>8745</td>\n",
       "    </tr>\n",
       "    <tr>\n",
       "      <th>4</th>\n",
       "      <td>Thursday</td>\n",
       "      <td>8902</td>\n",
       "    </tr>\n",
       "    <tr>\n",
       "      <th>6</th>\n",
       "      <td>Wednesday</td>\n",
       "      <td>9411</td>\n",
       "    </tr>\n",
       "    <tr>\n",
       "      <th>5</th>\n",
       "      <td>Tuesday</td>\n",
       "      <td>9433</td>\n",
       "    </tr>\n",
       "    <tr>\n",
       "      <th>1</th>\n",
       "      <td>Monday</td>\n",
       "      <td>9564</td>\n",
       "    </tr>\n",
       "  </tbody>\n",
       "</table>\n",
       "</div>"
      ],
      "text/plain": [
       "    day_week  count_products\n",
       "2   Saturday            7152\n",
       "3     Sunday            7674\n",
       "0     Friday            8745\n",
       "4   Thursday            8902\n",
       "6  Wednesday            9411\n",
       "5    Tuesday            9433\n",
       "1     Monday            9564"
      ]
     },
     "execution_count": 44,
     "metadata": {},
     "output_type": "execute_result"
    }
   ],
   "source": [
    "count_product_by_day_week = quantity_product_max.groupby('day_week', as_index=False) \\\n",
    "                                                .agg({'product_id': 'count'})\\\n",
    "                                                .rename(columns={'product_id': 'count_products'})\\\n",
    "                                                .sort_values('count_products')\n",
    "\n",
    "count_product_by_day_week"
   ]
  },
  {
   "cell_type": "markdown",
   "metadata": {},
   "source": [
    "Построим график распределения количества товара от дня недели."
   ]
  },
  {
   "cell_type": "code",
   "execution_count": 45,
   "metadata": {},
   "outputs": [
    {
     "data": {
      "image/png": "[encoded data removed]",
      "text/plain": [
       "<Figure size 1080x720 with 1 Axes>"
      ]
     },
     "metadata": {
      "needs_background": "light"
     },
     "output_type": "display_data"
    }
   ],
   "source": [
    "plt.figure(figsize=(15,10))\n",
    "sns.barplot(x='day_week', y='count_products', data=count_product_by_day_week, palette='Set2')\n",
    "plt.title('Распределение количества товара от дня недели')\n",
    "plt.xlabel('День недели')\n",
    "plt.ylabel('Количество товара');"
   ]
  },
  {
   "cell_type": "markdown",
   "metadata": {},
   "source": [
    "**Выводы:** Определили по каждому товару, в какой день недели товар чаще всего покупается."
   ]
  },
  {
   "cell_type": "markdown",
   "metadata": {},
   "source": [
    "## 4. Среднее количество покупок в неделю (по месяцам) у каждого из пользователей "
   ]
  },
  {
   "cell_type": "markdown",
   "metadata": {},
   "source": [
    "Чтобы ответить на данный вопрос будем использовать датафрейм, который мы сделали в первом пункте, в результате  объединения и фильтрации."
   ]
  },
  {
   "cell_type": "markdown",
   "metadata": {},
   "source": [
    "Так как при выполнении задания у нас появляется предупреждение SettingWithCopyWarning, будем использовать копию датафрейма customers_purchases."
   ]
  },
  {
   "cell_type": "code",
   "execution_count": 46,
   "metadata": {},
   "outputs": [],
   "source": [
    "customers_purchases_copy=customers_purchases.copy(deep=True)"
   ]
  },
  {
   "cell_type": "markdown",
   "metadata": {},
   "source": [
    "Создадим столбец year_month с месяцем создания заказа."
   ]
  },
  {
   "cell_type": "code",
   "execution_count": 47,
   "metadata": {},
   "outputs": [
    {
     "data": {
      "text/html": [
       "<div>\n",
       "<style scoped>\n",
       "    .dataframe tbody tr th:only-of-type {\n",
       "        vertical-align: middle;\n",
       "    }\n",
       "\n",
       "    .dataframe tbody tr th {\n",
       "        vertical-align: top;\n",
       "    }\n",
       "\n",
       "    .dataframe thead th {\n",
       "        text-align: right;\n",
       "    }\n",
       "</style>\n",
       "<table border=\"1\" class=\"dataframe\">\n",
       "  <thead>\n",
       "    <tr style=\"text-align: right;\">\n",
       "      <th></th>\n",
       "      <th>order_id</th>\n",
       "      <th>customer_id</th>\n",
       "      <th>order_status</th>\n",
       "      <th>order_purchase_timestamp</th>\n",
       "      <th>order_approved_at</th>\n",
       "      <th>order_delivered_carrier_date</th>\n",
       "      <th>order_delivered_customer_date</th>\n",
       "      <th>order_estimated_delivery_date</th>\n",
       "      <th>customer_unique_id</th>\n",
       "      <th>customer_zip_code_prefix</th>\n",
       "      <th>customer_city</th>\n",
       "      <th>customer_state</th>\n",
       "      <th>year_month</th>\n",
       "    </tr>\n",
       "  </thead>\n",
       "  <tbody>\n",
       "    <tr>\n",
       "      <th>0</th>\n",
       "      <td>e481f51cbdc54678b7cc49136f2d6af7</td>\n",
       "      <td>9ef432eb6251297304e76186b10a928d</td>\n",
       "      <td>delivered</td>\n",
       "      <td>2017-10-02 10:56:33</td>\n",
       "      <td>2017-10-02 11:07:15</td>\n",
       "      <td>2017-10-04 19:55:00</td>\n",
       "      <td>2017-10-10 21:25:13</td>\n",
       "      <td>2017-10-18</td>\n",
       "      <td>7c396fd4830fd04220f754e42b4e5bff</td>\n",
       "      <td>3149</td>\n",
       "      <td>sao paulo</td>\n",
       "      <td>SP</td>\n",
       "      <td>2017-10</td>\n",
       "    </tr>\n",
       "    <tr>\n",
       "      <th>1</th>\n",
       "      <td>53cdb2fc8bc7dce0b6741e2150273451</td>\n",
       "      <td>b0830fb4747a6c6d20dea0b8c802d7ef</td>\n",
       "      <td>delivered</td>\n",
       "      <td>2018-07-24 20:41:37</td>\n",
       "      <td>2018-07-26 03:24:27</td>\n",
       "      <td>2018-07-26 14:31:00</td>\n",
       "      <td>2018-08-07 15:27:45</td>\n",
       "      <td>2018-08-13</td>\n",
       "      <td>af07308b275d755c9edb36a90c618231</td>\n",
       "      <td>47813</td>\n",
       "      <td>barreiras</td>\n",
       "      <td>BA</td>\n",
       "      <td>2018-07</td>\n",
       "    </tr>\n",
       "    <tr>\n",
       "      <th>2</th>\n",
       "      <td>47770eb9100c2d0c44946d9cf07ec65d</td>\n",
       "      <td>41ce2a54c0b03bf3443c3d931a367089</td>\n",
       "      <td>delivered</td>\n",
       "      <td>2018-08-08 08:38:49</td>\n",
       "      <td>2018-08-08 08:55:23</td>\n",
       "      <td>2018-08-08 13:50:00</td>\n",
       "      <td>2018-08-17 18:06:29</td>\n",
       "      <td>2018-09-04</td>\n",
       "      <td>3a653a41f6f9fc3d2a113cf8398680e8</td>\n",
       "      <td>75265</td>\n",
       "      <td>vianopolis</td>\n",
       "      <td>GO</td>\n",
       "      <td>2018-08</td>\n",
       "    </tr>\n",
       "    <tr>\n",
       "      <th>3</th>\n",
       "      <td>949d5b44dbf5de918fe9c16f97b45f8a</td>\n",
       "      <td>f88197465ea7920adcdbec7375364d82</td>\n",
       "      <td>delivered</td>\n",
       "      <td>2017-11-18 19:28:06</td>\n",
       "      <td>2017-11-18 19:45:59</td>\n",
       "      <td>2017-11-22 13:39:59</td>\n",
       "      <td>2017-12-02 00:28:42</td>\n",
       "      <td>2017-12-15</td>\n",
       "      <td>7c142cf63193a1473d2e66489a9ae977</td>\n",
       "      <td>59296</td>\n",
       "      <td>sao goncalo do amarante</td>\n",
       "      <td>RN</td>\n",
       "      <td>2017-11</td>\n",
       "    </tr>\n",
       "    <tr>\n",
       "      <th>4</th>\n",
       "      <td>ad21c59c0840e6cb83a9ceb5573f8159</td>\n",
       "      <td>8ab97904e6daea8866dbdbc4fb7aad2c</td>\n",
       "      <td>delivered</td>\n",
       "      <td>2018-02-13 21:18:39</td>\n",
       "      <td>2018-02-13 22:20:29</td>\n",
       "      <td>2018-02-14 19:46:34</td>\n",
       "      <td>2018-02-16 18:17:02</td>\n",
       "      <td>2018-02-26</td>\n",
       "      <td>72632f0f9dd73dfee390c9b22eb56dd6</td>\n",
       "      <td>9195</td>\n",
       "      <td>santo andre</td>\n",
       "      <td>SP</td>\n",
       "      <td>2018-02</td>\n",
       "    </tr>\n",
       "  </tbody>\n",
       "</table>\n",
       "</div>"
      ],
      "text/plain": [
       "                           order_id                       customer_id  \\\n",
       "0  e481f51cbdc54678b7cc49136f2d6af7  9ef432eb6251297304e76186b10a928d   \n",
       "1  53cdb2fc8bc7dce0b6741e2150273451  b0830fb4747a6c6d20dea0b8c802d7ef   \n",
       "2  47770eb9100c2d0c44946d9cf07ec65d  41ce2a54c0b03bf3443c3d931a367089   \n",
       "3  949d5b44dbf5de918fe9c16f97b45f8a  f88197465ea7920adcdbec7375364d82   \n",
       "4  ad21c59c0840e6cb83a9ceb5573f8159  8ab97904e6daea8866dbdbc4fb7aad2c   \n",
       "\n",
       "  order_status order_purchase_timestamp   order_approved_at  \\\n",
       "0    delivered      2017-10-02 10:56:33 2017-10-02 11:07:15   \n",
       "1    delivered      2018-07-24 20:41:37 2018-07-26 03:24:27   \n",
       "2    delivered      2018-08-08 08:38:49 2018-08-08 08:55:23   \n",
       "3    delivered      2017-11-18 19:28:06 2017-11-18 19:45:59   \n",
       "4    delivered      2018-02-13 21:18:39 2018-02-13 22:20:29   \n",
       "\n",
       "  order_delivered_carrier_date order_delivered_customer_date  \\\n",
       "0          2017-10-04 19:55:00           2017-10-10 21:25:13   \n",
       "1          2018-07-26 14:31:00           2018-08-07 15:27:45   \n",
       "2          2018-08-08 13:50:00           2018-08-17 18:06:29   \n",
       "3          2017-11-22 13:39:59           2017-12-02 00:28:42   \n",
       "4          2018-02-14 19:46:34           2018-02-16 18:17:02   \n",
       "\n",
       "  order_estimated_delivery_date                customer_unique_id  \\\n",
       "0                    2017-10-18  7c396fd4830fd04220f754e42b4e5bff   \n",
       "1                    2018-08-13  af07308b275d755c9edb36a90c618231   \n",
       "2                    2018-09-04  3a653a41f6f9fc3d2a113cf8398680e8   \n",
       "3                    2017-12-15  7c142cf63193a1473d2e66489a9ae977   \n",
       "4                    2018-02-26  72632f0f9dd73dfee390c9b22eb56dd6   \n",
       "\n",
       "   customer_zip_code_prefix            customer_city customer_state year_month  \n",
       "0                      3149                sao paulo             SP    2017-10  \n",
       "1                     47813                barreiras             BA    2018-07  \n",
       "2                     75265               vianopolis             GO    2018-08  \n",
       "3                     59296  sao goncalo do amarante             RN    2017-11  \n",
       "4                      9195              santo andre             SP    2018-02  "
      ]
     },
     "execution_count": 47,
     "metadata": {},
     "output_type": "execute_result"
    }
   ],
   "source": [
    "customers_purchases_copy['year_month'] = customers_purchases_copy['order_purchase_timestamp'].dt.strftime('%Y-%m')\n",
    "customers_purchases_copy.head()"
   ]
  },
  {
   "cell_type": "markdown",
   "metadata": {},
   "source": [
    "Также не стоит забывать, что внутри месяца может быть не целое количество недель. Создадим столбец count_weeks с количеством недель в месяце."
   ]
  },
  {
   "cell_type": "code",
   "execution_count": 48,
   "metadata": {
    "scrolled": true
   },
   "outputs": [
    {
     "data": {
      "text/html": [
       "<div>\n",
       "<style scoped>\n",
       "    .dataframe tbody tr th:only-of-type {\n",
       "        vertical-align: middle;\n",
       "    }\n",
       "\n",
       "    .dataframe tbody tr th {\n",
       "        vertical-align: top;\n",
       "    }\n",
       "\n",
       "    .dataframe thead th {\n",
       "        text-align: right;\n",
       "    }\n",
       "</style>\n",
       "<table border=\"1\" class=\"dataframe\">\n",
       "  <thead>\n",
       "    <tr style=\"text-align: right;\">\n",
       "      <th></th>\n",
       "      <th>order_id</th>\n",
       "      <th>customer_id</th>\n",
       "      <th>order_status</th>\n",
       "      <th>order_purchase_timestamp</th>\n",
       "      <th>order_approved_at</th>\n",
       "      <th>order_delivered_carrier_date</th>\n",
       "      <th>order_delivered_customer_date</th>\n",
       "      <th>order_estimated_delivery_date</th>\n",
       "      <th>customer_unique_id</th>\n",
       "      <th>customer_zip_code_prefix</th>\n",
       "      <th>customer_city</th>\n",
       "      <th>customer_state</th>\n",
       "      <th>year_month</th>\n",
       "      <th>count_weeks</th>\n",
       "    </tr>\n",
       "  </thead>\n",
       "  <tbody>\n",
       "    <tr>\n",
       "      <th>0</th>\n",
       "      <td>e481f51cbdc54678b7cc49136f2d6af7</td>\n",
       "      <td>9ef432eb6251297304e76186b10a928d</td>\n",
       "      <td>delivered</td>\n",
       "      <td>2017-10-02 10:56:33</td>\n",
       "      <td>2017-10-02 11:07:15</td>\n",
       "      <td>2017-10-04 19:55:00</td>\n",
       "      <td>2017-10-10 21:25:13</td>\n",
       "      <td>2017-10-18</td>\n",
       "      <td>7c396fd4830fd04220f754e42b4e5bff</td>\n",
       "      <td>3149</td>\n",
       "      <td>sao paulo</td>\n",
       "      <td>SP</td>\n",
       "      <td>2017-10</td>\n",
       "      <td>4.43</td>\n",
       "    </tr>\n",
       "    <tr>\n",
       "      <th>1</th>\n",
       "      <td>53cdb2fc8bc7dce0b6741e2150273451</td>\n",
       "      <td>b0830fb4747a6c6d20dea0b8c802d7ef</td>\n",
       "      <td>delivered</td>\n",
       "      <td>2018-07-24 20:41:37</td>\n",
       "      <td>2018-07-26 03:24:27</td>\n",
       "      <td>2018-07-26 14:31:00</td>\n",
       "      <td>2018-08-07 15:27:45</td>\n",
       "      <td>2018-08-13</td>\n",
       "      <td>af07308b275d755c9edb36a90c618231</td>\n",
       "      <td>47813</td>\n",
       "      <td>barreiras</td>\n",
       "      <td>BA</td>\n",
       "      <td>2018-07</td>\n",
       "      <td>4.43</td>\n",
       "    </tr>\n",
       "    <tr>\n",
       "      <th>2</th>\n",
       "      <td>47770eb9100c2d0c44946d9cf07ec65d</td>\n",
       "      <td>41ce2a54c0b03bf3443c3d931a367089</td>\n",
       "      <td>delivered</td>\n",
       "      <td>2018-08-08 08:38:49</td>\n",
       "      <td>2018-08-08 08:55:23</td>\n",
       "      <td>2018-08-08 13:50:00</td>\n",
       "      <td>2018-08-17 18:06:29</td>\n",
       "      <td>2018-09-04</td>\n",
       "      <td>3a653a41f6f9fc3d2a113cf8398680e8</td>\n",
       "      <td>75265</td>\n",
       "      <td>vianopolis</td>\n",
       "      <td>GO</td>\n",
       "      <td>2018-08</td>\n",
       "      <td>4.43</td>\n",
       "    </tr>\n",
       "    <tr>\n",
       "      <th>3</th>\n",
       "      <td>949d5b44dbf5de918fe9c16f97b45f8a</td>\n",
       "      <td>f88197465ea7920adcdbec7375364d82</td>\n",
       "      <td>delivered</td>\n",
       "      <td>2017-11-18 19:28:06</td>\n",
       "      <td>2017-11-18 19:45:59</td>\n",
       "      <td>2017-11-22 13:39:59</td>\n",
       "      <td>2017-12-02 00:28:42</td>\n",
       "      <td>2017-12-15</td>\n",
       "      <td>7c142cf63193a1473d2e66489a9ae977</td>\n",
       "      <td>59296</td>\n",
       "      <td>sao goncalo do amarante</td>\n",
       "      <td>RN</td>\n",
       "      <td>2017-11</td>\n",
       "      <td>4.29</td>\n",
       "    </tr>\n",
       "    <tr>\n",
       "      <th>4</th>\n",
       "      <td>ad21c59c0840e6cb83a9ceb5573f8159</td>\n",
       "      <td>8ab97904e6daea8866dbdbc4fb7aad2c</td>\n",
       "      <td>delivered</td>\n",
       "      <td>2018-02-13 21:18:39</td>\n",
       "      <td>2018-02-13 22:20:29</td>\n",
       "      <td>2018-02-14 19:46:34</td>\n",
       "      <td>2018-02-16 18:17:02</td>\n",
       "      <td>2018-02-26</td>\n",
       "      <td>72632f0f9dd73dfee390c9b22eb56dd6</td>\n",
       "      <td>9195</td>\n",
       "      <td>santo andre</td>\n",
       "      <td>SP</td>\n",
       "      <td>2018-02</td>\n",
       "      <td>4.00</td>\n",
       "    </tr>\n",
       "  </tbody>\n",
       "</table>\n",
       "</div>"
      ],
      "text/plain": [
       "                           order_id                       customer_id  \\\n",
       "0  e481f51cbdc54678b7cc49136f2d6af7  9ef432eb6251297304e76186b10a928d   \n",
       "1  53cdb2fc8bc7dce0b6741e2150273451  b0830fb4747a6c6d20dea0b8c802d7ef   \n",
       "2  47770eb9100c2d0c44946d9cf07ec65d  41ce2a54c0b03bf3443c3d931a367089   \n",
       "3  949d5b44dbf5de918fe9c16f97b45f8a  f88197465ea7920adcdbec7375364d82   \n",
       "4  ad21c59c0840e6cb83a9ceb5573f8159  8ab97904e6daea8866dbdbc4fb7aad2c   \n",
       "\n",
       "  order_status order_purchase_timestamp   order_approved_at  \\\n",
       "0    delivered      2017-10-02 10:56:33 2017-10-02 11:07:15   \n",
       "1    delivered      2018-07-24 20:41:37 2018-07-26 03:24:27   \n",
       "2    delivered      2018-08-08 08:38:49 2018-08-08 08:55:23   \n",
       "3    delivered      2017-11-18 19:28:06 2017-11-18 19:45:59   \n",
       "4    delivered      2018-02-13 21:18:39 2018-02-13 22:20:29   \n",
       "\n",
       "  order_delivered_carrier_date order_delivered_customer_date  \\\n",
       "0          2017-10-04 19:55:00           2017-10-10 21:25:13   \n",
       "1          2018-07-26 14:31:00           2018-08-07 15:27:45   \n",
       "2          2018-08-08 13:50:00           2018-08-17 18:06:29   \n",
       "3          2017-11-22 13:39:59           2017-12-02 00:28:42   \n",
       "4          2018-02-14 19:46:34           2018-02-16 18:17:02   \n",
       "\n",
       "  order_estimated_delivery_date                customer_unique_id  \\\n",
       "0                    2017-10-18  7c396fd4830fd04220f754e42b4e5bff   \n",
       "1                    2018-08-13  af07308b275d755c9edb36a90c618231   \n",
       "2                    2018-09-04  3a653a41f6f9fc3d2a113cf8398680e8   \n",
       "3                    2017-12-15  7c142cf63193a1473d2e66489a9ae977   \n",
       "4                    2018-02-26  72632f0f9dd73dfee390c9b22eb56dd6   \n",
       "\n",
       "   customer_zip_code_prefix            customer_city customer_state  \\\n",
       "0                      3149                sao paulo             SP   \n",
       "1                     47813                barreiras             BA   \n",
       "2                     75265               vianopolis             GO   \n",
       "3                     59296  sao goncalo do amarante             RN   \n",
       "4                      9195              santo andre             SP   \n",
       "\n",
       "  year_month  count_weeks  \n",
       "0    2017-10         4.43  \n",
       "1    2018-07         4.43  \n",
       "2    2018-08         4.43  \n",
       "3    2017-11         4.29  \n",
       "4    2018-02         4.00  "
      ]
     },
     "execution_count": 48,
     "metadata": {},
     "output_type": "execute_result"
    }
   ],
   "source": [
    "customers_purchases_copy['count_weeks'] = round(customers_purchases_copy['order_purchase_timestamp'].dt.days_in_month / 7, 2)\n",
    "customers_purchases_copy.head()"
   ]
  },
  {
   "cell_type": "markdown",
   "metadata": {},
   "source": [
    "Создадим новый датафрейм count_purchases_by_weeks. Сгруппируем данные по столбцам customer_unique_id, year_month, count_weeks и посчитаем количество покупок у каждого пользователя в неделю."
   ]
  },
  {
   "cell_type": "code",
   "execution_count": 49,
   "metadata": {
    "scrolled": false
   },
   "outputs": [
    {
     "data": {
      "text/html": [
       "<div>\n",
       "<style scoped>\n",
       "    .dataframe tbody tr th:only-of-type {\n",
       "        vertical-align: middle;\n",
       "    }\n",
       "\n",
       "    .dataframe tbody tr th {\n",
       "        vertical-align: top;\n",
       "    }\n",
       "\n",
       "    .dataframe thead th {\n",
       "        text-align: right;\n",
       "    }\n",
       "</style>\n",
       "<table border=\"1\" class=\"dataframe\">\n",
       "  <thead>\n",
       "    <tr style=\"text-align: right;\">\n",
       "      <th></th>\n",
       "      <th>customer_unique_id</th>\n",
       "      <th>year_month</th>\n",
       "      <th>count_weeks</th>\n",
       "      <th>count_orders</th>\n",
       "    </tr>\n",
       "  </thead>\n",
       "  <tbody>\n",
       "    <tr>\n",
       "      <th>7231</th>\n",
       "      <td>12f5d6e1cbf93dafd9dcc19095df0b3d</td>\n",
       "      <td>2017-01</td>\n",
       "      <td>4.43</td>\n",
       "      <td>6</td>\n",
       "    </tr>\n",
       "    <tr>\n",
       "      <th>14310</th>\n",
       "      <td>25a560b9a6006157838aab1bdbd68624</td>\n",
       "      <td>2017-04</td>\n",
       "      <td>4.29</td>\n",
       "      <td>4</td>\n",
       "    </tr>\n",
       "    <tr>\n",
       "      <th>75857</th>\n",
       "      <td>c8460e4251689ba205045f3ea17884a1</td>\n",
       "      <td>2018-08</td>\n",
       "      <td>4.43</td>\n",
       "      <td>4</td>\n",
       "    </tr>\n",
       "    <tr>\n",
       "      <th>23649</th>\n",
       "      <td>3e43e6105506432c953e165fb2acf44c</td>\n",
       "      <td>2018-02</td>\n",
       "      <td>4.00</td>\n",
       "      <td>4</td>\n",
       "    </tr>\n",
       "    <tr>\n",
       "      <th>50008</th>\n",
       "      <td>83e7958a94bd7f74a9414d8782f87628</td>\n",
       "      <td>2017-01</td>\n",
       "      <td>4.43</td>\n",
       "      <td>4</td>\n",
       "    </tr>\n",
       "  </tbody>\n",
       "</table>\n",
       "</div>"
      ],
      "text/plain": [
       "                     customer_unique_id year_month  count_weeks  count_orders\n",
       "7231   12f5d6e1cbf93dafd9dcc19095df0b3d    2017-01         4.43             6\n",
       "14310  25a560b9a6006157838aab1bdbd68624    2017-04         4.29             4\n",
       "75857  c8460e4251689ba205045f3ea17884a1    2018-08         4.43             4\n",
       "23649  3e43e6105506432c953e165fb2acf44c    2018-02         4.00             4\n",
       "50008  83e7958a94bd7f74a9414d8782f87628    2017-01         4.43             4"
      ]
     },
     "execution_count": 49,
     "metadata": {},
     "output_type": "execute_result"
    }
   ],
   "source": [
    "count_purchases_by_weeks = customers_purchases_copy.groupby(['customer_unique_id', 'year_month', 'count_weeks'], as_index=False)\\\n",
    "                        .agg({'order_id':'count'}).sort_values('order_id', ascending=False)\\\n",
    "                        .rename(columns = {'order_id':'count_orders'})\n",
    "count_purchases_by_weeks.head()"
   ]
  },
  {
   "cell_type": "markdown",
   "metadata": {},
   "source": [
    "Посчитаем среднее количество покупок в неделю по месяцам и внесем получившиеся значения в новый столбец mean_count_purchase."
   ]
  },
  {
   "cell_type": "code",
   "execution_count": 50,
   "metadata": {
    "scrolled": false
   },
   "outputs": [
    {
     "data": {
      "text/html": [
       "<div>\n",
       "<style scoped>\n",
       "    .dataframe tbody tr th:only-of-type {\n",
       "        vertical-align: middle;\n",
       "    }\n",
       "\n",
       "    .dataframe tbody tr th {\n",
       "        vertical-align: top;\n",
       "    }\n",
       "\n",
       "    .dataframe thead th {\n",
       "        text-align: right;\n",
       "    }\n",
       "</style>\n",
       "<table border=\"1\" class=\"dataframe\">\n",
       "  <thead>\n",
       "    <tr style=\"text-align: right;\">\n",
       "      <th></th>\n",
       "      <th>customer_unique_id</th>\n",
       "      <th>year_month</th>\n",
       "      <th>count_weeks</th>\n",
       "      <th>count_orders</th>\n",
       "      <th>mean_count_purchase</th>\n",
       "    </tr>\n",
       "  </thead>\n",
       "  <tbody>\n",
       "    <tr>\n",
       "      <th>7231</th>\n",
       "      <td>12f5d6e1cbf93dafd9dcc19095df0b3d</td>\n",
       "      <td>2017-01</td>\n",
       "      <td>4.43</td>\n",
       "      <td>6</td>\n",
       "      <td>1.35</td>\n",
       "    </tr>\n",
       "    <tr>\n",
       "      <th>14310</th>\n",
       "      <td>25a560b9a6006157838aab1bdbd68624</td>\n",
       "      <td>2017-04</td>\n",
       "      <td>4.29</td>\n",
       "      <td>4</td>\n",
       "      <td>0.93</td>\n",
       "    </tr>\n",
       "    <tr>\n",
       "      <th>75857</th>\n",
       "      <td>c8460e4251689ba205045f3ea17884a1</td>\n",
       "      <td>2018-08</td>\n",
       "      <td>4.43</td>\n",
       "      <td>4</td>\n",
       "      <td>0.90</td>\n",
       "    </tr>\n",
       "    <tr>\n",
       "      <th>23649</th>\n",
       "      <td>3e43e6105506432c953e165fb2acf44c</td>\n",
       "      <td>2018-02</td>\n",
       "      <td>4.00</td>\n",
       "      <td>4</td>\n",
       "      <td>1.00</td>\n",
       "    </tr>\n",
       "    <tr>\n",
       "      <th>50008</th>\n",
       "      <td>83e7958a94bd7f74a9414d8782f87628</td>\n",
       "      <td>2017-01</td>\n",
       "      <td>4.43</td>\n",
       "      <td>4</td>\n",
       "      <td>0.90</td>\n",
       "    </tr>\n",
       "  </tbody>\n",
       "</table>\n",
       "</div>"
      ],
      "text/plain": [
       "                     customer_unique_id year_month  count_weeks  count_orders  \\\n",
       "7231   12f5d6e1cbf93dafd9dcc19095df0b3d    2017-01         4.43             6   \n",
       "14310  25a560b9a6006157838aab1bdbd68624    2017-04         4.29             4   \n",
       "75857  c8460e4251689ba205045f3ea17884a1    2018-08         4.43             4   \n",
       "23649  3e43e6105506432c953e165fb2acf44c    2018-02         4.00             4   \n",
       "50008  83e7958a94bd7f74a9414d8782f87628    2017-01         4.43             4   \n",
       "\n",
       "       mean_count_purchase  \n",
       "7231                  1.35  \n",
       "14310                 0.93  \n",
       "75857                 0.90  \n",
       "23649                 1.00  \n",
       "50008                 0.90  "
      ]
     },
     "execution_count": 50,
     "metadata": {},
     "output_type": "execute_result"
    }
   ],
   "source": [
    "count_purchases_by_weeks['mean_count_purchase'] = round(count_purchases_by_weeks['count_orders'] / count_purchases_by_weeks['count_weeks'], 2)\n",
    "count_purchases_by_weeks.head()"
   ]
  },
  {
   "cell_type": "markdown",
   "metadata": {},
   "source": [
    "Можно построить график и посмотреть наглядно среднее количество покупок по месяцам у каждого из пользователей. Для начала создадим таблицу, в которой сгруппируем данные месяцам и посчитаем среднее количество покупок на каждый из них."
   ]
  },
  {
   "cell_type": "code",
   "execution_count": 51,
   "metadata": {},
   "outputs": [],
   "source": [
    "count_purchases_by_month = count_purchases_by_weeks.groupby('year_month') \\\n",
    "  .agg({'mean_count_purchase': 'mean'}) \\\n",
    "  .sort_values('year_month').reset_index()"
   ]
  },
  {
   "cell_type": "markdown",
   "metadata": {},
   "source": [
    "Построим график распределения среднего количества покупок по месяцам у каждого из пользователей."
   ]
  },
  {
   "cell_type": "code",
   "execution_count": 52,
   "metadata": {},
   "outputs": [
    {
     "data": {
      "image/png": "[encoded data removed]",
      "text/plain": [
       "<Figure size 1080x720 with 1 Axes>"
      ]
     },
     "metadata": {
      "needs_background": "light"
     },
     "output_type": "display_data"
    }
   ],
   "source": [
    "plt.figure(figsize=(15,10))\n",
    "sns.lineplot(\n",
    "    x=\"year_month\", \n",
    "    y=\"mean_count_purchase\",\n",
    "    data=count_purchases_by_month)\n",
    "plt.xticks(rotation=90)\n",
    "plt.title('Распределение среднее количество покупок по месяцам у каждого из пользователей')\n",
    "plt.xlabel('Год-месяц')\n",
    "plt.ylabel('Среднее количество покупок');"
   ]
  },
  {
   "cell_type": "markdown",
   "metadata": {},
   "source": [
    "Наблюдаем два пика в феврале 2017 и феврале 2018. Так как мы не знаем какой у нас товар, но сюдя по графикам можно предположить, что это как-то связано с мужчинами, нацелено на них и чаще всего совершаются покупки на 23 февраля. "
   ]
  },
  {
   "cell_type": "markdown",
   "metadata": {},
   "source": [
    "**Выводы:** Посчитали среднее количество покупок в неделю (по месяцам) у каждого из пользователей.\n"
   ]
  },
  {
   "cell_type": "markdown",
   "metadata": {},
   "source": [
    "## 5.1. Когортный анализ пользователей"
   ]
  },
  {
   "cell_type": "markdown",
   "metadata": {},
   "source": [
    "Сначала узнаем первую и последнюю даты оплат заказов, чтобы узнать весь диапазон, за который были совершены оплаты заказов."
   ]
  },
  {
   "cell_type": "markdown",
   "metadata": {},
   "source": [
    "Посчитаем первую дату оплаты заказа."
   ]
  },
  {
   "cell_type": "code",
   "execution_count": 53,
   "metadata": {},
   "outputs": [
    {
     "name": "stdout",
     "output_type": "stream",
     "text": [
      "Первая дата оплаты заказа: 2016-09-15 12:16:38\n"
     ]
    }
   ],
   "source": [
    "min_order_approved_at = customers_purchases_copy.order_approved_at.min()\n",
    "print(f'Первая дата оплаты заказа: {min_order_approved_at}')"
   ]
  },
  {
   "cell_type": "markdown",
   "metadata": {},
   "source": [
    "Посчитаем последнюю дату оплаты заказа."
   ]
  },
  {
   "cell_type": "code",
   "execution_count": 54,
   "metadata": {},
   "outputs": [
    {
     "name": "stdout",
     "output_type": "stream",
     "text": [
      "Последняя дата оплаты заказа: 2018-09-03 17:40:06\n"
     ]
    }
   ],
   "source": [
    "max_order_approved_at = customers_purchases_copy.order_approved_at.max()\n",
    "print(f'Последняя дата оплаты заказа: {max_order_approved_at}')"
   ]
  },
  {
   "cell_type": "markdown",
   "metadata": {},
   "source": [
    "В данных у нас встречается диапазон дат от 2016-09-15 до 2018-09-03. Полные данные у нас представлены только за 2017 год, значит работать будем с ними. Но чтобы посмотреть на декабрь 2017 года нужно взять чуть больше данных."
   ]
  },
  {
   "cell_type": "code",
   "execution_count": 55,
   "metadata": {},
   "outputs": [],
   "source": [
    "min_date = '2017-01-01'\n",
    "max_date = '2018-04-01'"
   ]
  },
  {
   "cell_type": "markdown",
   "metadata": {},
   "source": [
    "Отфильтруем данные, возьмем только те, которые удовлетворяют условиям, т.е. находятся в диапазоне от min_date до max_date в столбце order_approved_at. Датафрейм используем из прошлых пунктов, он уже отфильтрован по тому, что мы считаем покупкой."
   ]
  },
  {
   "cell_type": "code",
   "execution_count": 56,
   "metadata": {
    "scrolled": false
   },
   "outputs": [
    {
     "data": {
      "text/html": [
       "<div>\n",
       "<style scoped>\n",
       "    .dataframe tbody tr th:only-of-type {\n",
       "        vertical-align: middle;\n",
       "    }\n",
       "\n",
       "    .dataframe tbody tr th {\n",
       "        vertical-align: top;\n",
       "    }\n",
       "\n",
       "    .dataframe thead th {\n",
       "        text-align: right;\n",
       "    }\n",
       "</style>\n",
       "<table border=\"1\" class=\"dataframe\">\n",
       "  <thead>\n",
       "    <tr style=\"text-align: right;\">\n",
       "      <th></th>\n",
       "      <th>order_id</th>\n",
       "      <th>customer_id</th>\n",
       "      <th>order_status</th>\n",
       "      <th>order_purchase_timestamp</th>\n",
       "      <th>order_approved_at</th>\n",
       "      <th>order_delivered_carrier_date</th>\n",
       "      <th>order_delivered_customer_date</th>\n",
       "      <th>order_estimated_delivery_date</th>\n",
       "      <th>customer_unique_id</th>\n",
       "      <th>customer_zip_code_prefix</th>\n",
       "      <th>customer_city</th>\n",
       "      <th>customer_state</th>\n",
       "      <th>year_month</th>\n",
       "      <th>count_weeks</th>\n",
       "    </tr>\n",
       "  </thead>\n",
       "  <tbody>\n",
       "    <tr>\n",
       "      <th>0</th>\n",
       "      <td>e481f51cbdc54678b7cc49136f2d6af7</td>\n",
       "      <td>9ef432eb6251297304e76186b10a928d</td>\n",
       "      <td>delivered</td>\n",
       "      <td>2017-10-02 10:56:33</td>\n",
       "      <td>2017-10-02 11:07:15</td>\n",
       "      <td>2017-10-04 19:55:00</td>\n",
       "      <td>2017-10-10 21:25:13</td>\n",
       "      <td>2017-10-18</td>\n",
       "      <td>7c396fd4830fd04220f754e42b4e5bff</td>\n",
       "      <td>3149</td>\n",
       "      <td>sao paulo</td>\n",
       "      <td>SP</td>\n",
       "      <td>2017-10</td>\n",
       "      <td>4.43</td>\n",
       "    </tr>\n",
       "    <tr>\n",
       "      <th>3</th>\n",
       "      <td>949d5b44dbf5de918fe9c16f97b45f8a</td>\n",
       "      <td>f88197465ea7920adcdbec7375364d82</td>\n",
       "      <td>delivered</td>\n",
       "      <td>2017-11-18 19:28:06</td>\n",
       "      <td>2017-11-18 19:45:59</td>\n",
       "      <td>2017-11-22 13:39:59</td>\n",
       "      <td>2017-12-02 00:28:42</td>\n",
       "      <td>2017-12-15</td>\n",
       "      <td>7c142cf63193a1473d2e66489a9ae977</td>\n",
       "      <td>59296</td>\n",
       "      <td>sao goncalo do amarante</td>\n",
       "      <td>RN</td>\n",
       "      <td>2017-11</td>\n",
       "      <td>4.29</td>\n",
       "    </tr>\n",
       "    <tr>\n",
       "      <th>4</th>\n",
       "      <td>ad21c59c0840e6cb83a9ceb5573f8159</td>\n",
       "      <td>8ab97904e6daea8866dbdbc4fb7aad2c</td>\n",
       "      <td>delivered</td>\n",
       "      <td>2018-02-13 21:18:39</td>\n",
       "      <td>2018-02-13 22:20:29</td>\n",
       "      <td>2018-02-14 19:46:34</td>\n",
       "      <td>2018-02-16 18:17:02</td>\n",
       "      <td>2018-02-26</td>\n",
       "      <td>72632f0f9dd73dfee390c9b22eb56dd6</td>\n",
       "      <td>9195</td>\n",
       "      <td>santo andre</td>\n",
       "      <td>SP</td>\n",
       "      <td>2018-02</td>\n",
       "      <td>4.00</td>\n",
       "    </tr>\n",
       "    <tr>\n",
       "      <th>5</th>\n",
       "      <td>a4591c265e18cb1dcee52889e2d8acc3</td>\n",
       "      <td>503740e9ca751ccdda7ba28e9ab8f608</td>\n",
       "      <td>delivered</td>\n",
       "      <td>2017-07-09 21:57:05</td>\n",
       "      <td>2017-07-09 22:10:13</td>\n",
       "      <td>2017-07-11 14:58:04</td>\n",
       "      <td>2017-07-26 10:57:55</td>\n",
       "      <td>2017-08-01</td>\n",
       "      <td>80bb27c7c16e8f973207a5086ab329e2</td>\n",
       "      <td>86320</td>\n",
       "      <td>congonhinhas</td>\n",
       "      <td>PR</td>\n",
       "      <td>2017-07</td>\n",
       "      <td>4.43</td>\n",
       "    </tr>\n",
       "    <tr>\n",
       "      <th>6</th>\n",
       "      <td>136cce7faa42fdb2cefd53fdc79a6098</td>\n",
       "      <td>ed0271e0b7da060a393796590e7b737a</td>\n",
       "      <td>invoiced</td>\n",
       "      <td>2017-04-11 12:22:08</td>\n",
       "      <td>2017-04-13 13:25:17</td>\n",
       "      <td>NaT</td>\n",
       "      <td>NaT</td>\n",
       "      <td>2017-05-09</td>\n",
       "      <td>36edbb3fb164b1f16485364b6fb04c73</td>\n",
       "      <td>98900</td>\n",
       "      <td>santa rosa</td>\n",
       "      <td>RS</td>\n",
       "      <td>2017-04</td>\n",
       "      <td>4.29</td>\n",
       "    </tr>\n",
       "  </tbody>\n",
       "</table>\n",
       "</div>"
      ],
      "text/plain": [
       "                           order_id                       customer_id  \\\n",
       "0  e481f51cbdc54678b7cc49136f2d6af7  9ef432eb6251297304e76186b10a928d   \n",
       "3  949d5b44dbf5de918fe9c16f97b45f8a  f88197465ea7920adcdbec7375364d82   \n",
       "4  ad21c59c0840e6cb83a9ceb5573f8159  8ab97904e6daea8866dbdbc4fb7aad2c   \n",
       "5  a4591c265e18cb1dcee52889e2d8acc3  503740e9ca751ccdda7ba28e9ab8f608   \n",
       "6  136cce7faa42fdb2cefd53fdc79a6098  ed0271e0b7da060a393796590e7b737a   \n",
       "\n",
       "  order_status order_purchase_timestamp   order_approved_at  \\\n",
       "0    delivered      2017-10-02 10:56:33 2017-10-02 11:07:15   \n",
       "3    delivered      2017-11-18 19:28:06 2017-11-18 19:45:59   \n",
       "4    delivered      2018-02-13 21:18:39 2018-02-13 22:20:29   \n",
       "5    delivered      2017-07-09 21:57:05 2017-07-09 22:10:13   \n",
       "6     invoiced      2017-04-11 12:22:08 2017-04-13 13:25:17   \n",
       "\n",
       "  order_delivered_carrier_date order_delivered_customer_date  \\\n",
       "0          2017-10-04 19:55:00           2017-10-10 21:25:13   \n",
       "3          2017-11-22 13:39:59           2017-12-02 00:28:42   \n",
       "4          2018-02-14 19:46:34           2018-02-16 18:17:02   \n",
       "5          2017-07-11 14:58:04           2017-07-26 10:57:55   \n",
       "6                          NaT                           NaT   \n",
       "\n",
       "  order_estimated_delivery_date                customer_unique_id  \\\n",
       "0                    2017-10-18  7c396fd4830fd04220f754e42b4e5bff   \n",
       "3                    2017-12-15  7c142cf63193a1473d2e66489a9ae977   \n",
       "4                    2018-02-26  72632f0f9dd73dfee390c9b22eb56dd6   \n",
       "5                    2017-08-01  80bb27c7c16e8f973207a5086ab329e2   \n",
       "6                    2017-05-09  36edbb3fb164b1f16485364b6fb04c73   \n",
       "\n",
       "   customer_zip_code_prefix            customer_city customer_state  \\\n",
       "0                      3149                sao paulo             SP   \n",
       "3                     59296  sao goncalo do amarante             RN   \n",
       "4                      9195              santo andre             SP   \n",
       "5                     86320             congonhinhas             PR   \n",
       "6                     98900               santa rosa             RS   \n",
       "\n",
       "  year_month  count_weeks  \n",
       "0    2017-10         4.43  \n",
       "3    2017-11         4.29  \n",
       "4    2018-02         4.00  \n",
       "5    2017-07         4.43  \n",
       "6    2017-04         4.29  "
      ]
     },
     "execution_count": 56,
     "metadata": {},
     "output_type": "execute_result"
    }
   ],
   "source": [
    "customers_purchases_copy = customers_purchases_copy.query('order_approved_at >= @min_date and order_approved_at <= @max_date')\n",
    "customers_purchases_copy.head()"
   ]
  },
  {
   "cell_type": "markdown",
   "metadata": {},
   "source": [
    "Создадим новый датафрейм. Сгруппируем данные по уникальным идентификаторам пользователей и посмотрим на первую дату покупки для каждого пользователя. "
   ]
  },
  {
   "cell_type": "code",
   "execution_count": 57,
   "metadata": {},
   "outputs": [
    {
     "data": {
      "text/html": [
       "<div>\n",
       "<style scoped>\n",
       "    .dataframe tbody tr th:only-of-type {\n",
       "        vertical-align: middle;\n",
       "    }\n",
       "\n",
       "    .dataframe tbody tr th {\n",
       "        vertical-align: top;\n",
       "    }\n",
       "\n",
       "    .dataframe thead th {\n",
       "        text-align: right;\n",
       "    }\n",
       "</style>\n",
       "<table border=\"1\" class=\"dataframe\">\n",
       "  <thead>\n",
       "    <tr style=\"text-align: right;\">\n",
       "      <th></th>\n",
       "      <th>customer_unique_id</th>\n",
       "      <th>first_order_month</th>\n",
       "    </tr>\n",
       "  </thead>\n",
       "  <tbody>\n",
       "    <tr>\n",
       "      <th>0</th>\n",
       "      <td>0000f46a3911fa3c0805444483337064</td>\n",
       "      <td>2017-03</td>\n",
       "    </tr>\n",
       "    <tr>\n",
       "      <th>1</th>\n",
       "      <td>0000f6ccb0745a6a4b88665a16c9f078</td>\n",
       "      <td>2017-10</td>\n",
       "    </tr>\n",
       "    <tr>\n",
       "      <th>2</th>\n",
       "      <td>0004aac84e0df4da2b147fca70cf8255</td>\n",
       "      <td>2017-11</td>\n",
       "    </tr>\n",
       "    <tr>\n",
       "      <th>3</th>\n",
       "      <td>00053a61a98854899e70ed204dd4bafe</td>\n",
       "      <td>2018-02</td>\n",
       "    </tr>\n",
       "    <tr>\n",
       "      <th>4</th>\n",
       "      <td>0005e1862207bf6ccc02e4228effd9a0</td>\n",
       "      <td>2017-03</td>\n",
       "    </tr>\n",
       "  </tbody>\n",
       "</table>\n",
       "</div>"
      ],
      "text/plain": [
       "                 customer_unique_id first_order_month\n",
       "0  0000f46a3911fa3c0805444483337064           2017-03\n",
       "1  0000f6ccb0745a6a4b88665a16c9f078           2017-10\n",
       "2  0004aac84e0df4da2b147fca70cf8255           2017-11\n",
       "3  00053a61a98854899e70ed204dd4bafe           2018-02\n",
       "4  0005e1862207bf6ccc02e4228effd9a0           2017-03"
      ]
     },
     "execution_count": 57,
     "metadata": {},
     "output_type": "execute_result"
    }
   ],
   "source": [
    "first_order_date = customers_purchases_copy.groupby('customer_unique_id', as_index=False) \\\n",
    "  .agg({'year_month': 'min'}).sort_values('customer_unique_id') \\\n",
    "  .rename(columns={'year_month': 'first_order_month'})\n",
    "\n",
    "first_order_date.head()"
   ]
  },
  {
   "cell_type": "markdown",
   "metadata": {},
   "source": [
    "Объединим столбцы customer_unique_id, order_id, year_month из датафрейма customers_purchases_copy с датафреймом first_order_date по столбцу customer_unique_id."
   ]
  },
  {
   "cell_type": "code",
   "execution_count": 58,
   "metadata": {},
   "outputs": [
    {
     "data": {
      "text/html": [
       "<div>\n",
       "<style scoped>\n",
       "    .dataframe tbody tr th:only-of-type {\n",
       "        vertical-align: middle;\n",
       "    }\n",
       "\n",
       "    .dataframe tbody tr th {\n",
       "        vertical-align: top;\n",
       "    }\n",
       "\n",
       "    .dataframe thead th {\n",
       "        text-align: right;\n",
       "    }\n",
       "</style>\n",
       "<table border=\"1\" class=\"dataframe\">\n",
       "  <thead>\n",
       "    <tr style=\"text-align: right;\">\n",
       "      <th></th>\n",
       "      <th>customer_unique_id</th>\n",
       "      <th>order_id</th>\n",
       "      <th>year_month</th>\n",
       "      <th>first_order_month</th>\n",
       "    </tr>\n",
       "  </thead>\n",
       "  <tbody>\n",
       "    <tr>\n",
       "      <th>0</th>\n",
       "      <td>7c396fd4830fd04220f754e42b4e5bff</td>\n",
       "      <td>e481f51cbdc54678b7cc49136f2d6af7</td>\n",
       "      <td>2017-10</td>\n",
       "      <td>2017-09</td>\n",
       "    </tr>\n",
       "    <tr>\n",
       "      <th>1</th>\n",
       "      <td>7c396fd4830fd04220f754e42b4e5bff</td>\n",
       "      <td>69923a4e07ce446644394df37a710286</td>\n",
       "      <td>2017-09</td>\n",
       "      <td>2017-09</td>\n",
       "    </tr>\n",
       "    <tr>\n",
       "      <th>2</th>\n",
       "      <td>7c142cf63193a1473d2e66489a9ae977</td>\n",
       "      <td>949d5b44dbf5de918fe9c16f97b45f8a</td>\n",
       "      <td>2017-11</td>\n",
       "      <td>2017-11</td>\n",
       "    </tr>\n",
       "    <tr>\n",
       "      <th>3</th>\n",
       "      <td>72632f0f9dd73dfee390c9b22eb56dd6</td>\n",
       "      <td>ad21c59c0840e6cb83a9ceb5573f8159</td>\n",
       "      <td>2018-02</td>\n",
       "      <td>2018-02</td>\n",
       "    </tr>\n",
       "    <tr>\n",
       "      <th>4</th>\n",
       "      <td>80bb27c7c16e8f973207a5086ab329e2</td>\n",
       "      <td>a4591c265e18cb1dcee52889e2d8acc3</td>\n",
       "      <td>2017-07</td>\n",
       "      <td>2017-07</td>\n",
       "    </tr>\n",
       "  </tbody>\n",
       "</table>\n",
       "</div>"
      ],
      "text/plain": [
       "                 customer_unique_id                          order_id  \\\n",
       "0  7c396fd4830fd04220f754e42b4e5bff  e481f51cbdc54678b7cc49136f2d6af7   \n",
       "1  7c396fd4830fd04220f754e42b4e5bff  69923a4e07ce446644394df37a710286   \n",
       "2  7c142cf63193a1473d2e66489a9ae977  949d5b44dbf5de918fe9c16f97b45f8a   \n",
       "3  72632f0f9dd73dfee390c9b22eb56dd6  ad21c59c0840e6cb83a9ceb5573f8159   \n",
       "4  80bb27c7c16e8f973207a5086ab329e2  a4591c265e18cb1dcee52889e2d8acc3   \n",
       "\n",
       "  year_month first_order_month  \n",
       "0    2017-10           2017-09  \n",
       "1    2017-09           2017-09  \n",
       "2    2017-11           2017-11  \n",
       "3    2018-02           2018-02  \n",
       "4    2017-07           2017-07  "
      ]
     },
     "execution_count": 58,
     "metadata": {},
     "output_type": "execute_result"
    }
   ],
   "source": [
    "customers_purchases_first_order_date = customers_purchases_copy[['customer_unique_id', 'order_id', 'year_month']]\\\n",
    "                                                               .merge(first_order_date, how='inner',on='customer_unique_id')\n",
    "customers_purchases_first_order_date.head()"
   ]
  },
  {
   "cell_type": "markdown",
   "metadata": {},
   "source": [
    "Теперь у нас есть датафрейм с уникальными идентификаторами пользователей, уникальными идентификаторами заказа, годом и месяцем покупки заказа и годом и месяцем первой даты покупки."
   ]
  },
  {
   "cell_type": "markdown",
   "metadata": {},
   "source": [
    "Посчитаем количество пользователей в разрезе первой даты покупки."
   ]
  },
  {
   "cell_type": "code",
   "execution_count": 59,
   "metadata": {},
   "outputs": [
    {
     "data": {
      "text/html": [
       "<div>\n",
       "<style scoped>\n",
       "    .dataframe tbody tr th:only-of-type {\n",
       "        vertical-align: middle;\n",
       "    }\n",
       "\n",
       "    .dataframe tbody tr th {\n",
       "        vertical-align: top;\n",
       "    }\n",
       "\n",
       "    .dataframe thead th {\n",
       "        text-align: right;\n",
       "    }\n",
       "</style>\n",
       "<table border=\"1\" class=\"dataframe\">\n",
       "  <thead>\n",
       "    <tr style=\"text-align: right;\">\n",
       "      <th></th>\n",
       "      <th>first_order_month</th>\n",
       "      <th>total_count_customers</th>\n",
       "    </tr>\n",
       "  </thead>\n",
       "  <tbody>\n",
       "    <tr>\n",
       "      <th>0</th>\n",
       "      <td>2017-01</td>\n",
       "      <td>751</td>\n",
       "    </tr>\n",
       "    <tr>\n",
       "      <th>1</th>\n",
       "      <td>2017-02</td>\n",
       "      <td>1678</td>\n",
       "    </tr>\n",
       "    <tr>\n",
       "      <th>2</th>\n",
       "      <td>2017-03</td>\n",
       "      <td>2571</td>\n",
       "    </tr>\n",
       "    <tr>\n",
       "      <th>3</th>\n",
       "      <td>2017-04</td>\n",
       "      <td>2326</td>\n",
       "    </tr>\n",
       "    <tr>\n",
       "      <th>4</th>\n",
       "      <td>2017-05</td>\n",
       "      <td>3541</td>\n",
       "    </tr>\n",
       "    <tr>\n",
       "      <th>5</th>\n",
       "      <td>2017-06</td>\n",
       "      <td>3102</td>\n",
       "    </tr>\n",
       "    <tr>\n",
       "      <th>6</th>\n",
       "      <td>2017-07</td>\n",
       "      <td>3823</td>\n",
       "    </tr>\n",
       "    <tr>\n",
       "      <th>7</th>\n",
       "      <td>2017-08</td>\n",
       "      <td>4130</td>\n",
       "    </tr>\n",
       "    <tr>\n",
       "      <th>8</th>\n",
       "      <td>2017-09</td>\n",
       "      <td>4076</td>\n",
       "    </tr>\n",
       "    <tr>\n",
       "      <th>9</th>\n",
       "      <td>2017-10</td>\n",
       "      <td>4393</td>\n",
       "    </tr>\n",
       "    <tr>\n",
       "      <th>10</th>\n",
       "      <td>2017-11</td>\n",
       "      <td>7189</td>\n",
       "    </tr>\n",
       "    <tr>\n",
       "      <th>11</th>\n",
       "      <td>2017-12</td>\n",
       "      <td>5437</td>\n",
       "    </tr>\n",
       "    <tr>\n",
       "      <th>12</th>\n",
       "      <td>2018-01</td>\n",
       "      <td>6952</td>\n",
       "    </tr>\n",
       "    <tr>\n",
       "      <th>13</th>\n",
       "      <td>2018-02</td>\n",
       "      <td>6356</td>\n",
       "    </tr>\n",
       "    <tr>\n",
       "      <th>14</th>\n",
       "      <td>2018-03</td>\n",
       "      <td>6859</td>\n",
       "    </tr>\n",
       "  </tbody>\n",
       "</table>\n",
       "</div>"
      ],
      "text/plain": [
       "   first_order_month  total_count_customers\n",
       "0            2017-01                    751\n",
       "1            2017-02                   1678\n",
       "2            2017-03                   2571\n",
       "3            2017-04                   2326\n",
       "4            2017-05                   3541\n",
       "5            2017-06                   3102\n",
       "6            2017-07                   3823\n",
       "7            2017-08                   4130\n",
       "8            2017-09                   4076\n",
       "9            2017-10                   4393\n",
       "10           2017-11                   7189\n",
       "11           2017-12                   5437\n",
       "12           2018-01                   6952\n",
       "13           2018-02                   6356\n",
       "14           2018-03                   6859"
      ]
     },
     "execution_count": 59,
     "metadata": {},
     "output_type": "execute_result"
    }
   ],
   "source": [
    "total_customers = customers_purchases_first_order_date.groupby('first_order_month', as_index=False)\\\n",
    "                    .agg({'customer_unique_id':'nunique'})\\\n",
    "                    .rename(columns={'customer_unique_id':'total_count_customers'})\n",
    "total_customers"
   ]
  },
  {
   "cell_type": "markdown",
   "metadata": {},
   "source": [
    "Сгруппируем данные по дате первой покупки для каждого пользователя и месяцем покупки и посчитаем уникальное количество пользователей."
   ]
  },
  {
   "cell_type": "code",
   "execution_count": 60,
   "metadata": {
    "scrolled": true
   },
   "outputs": [
    {
     "data": {
      "text/html": [
       "<div>\n",
       "<style scoped>\n",
       "    .dataframe tbody tr th:only-of-type {\n",
       "        vertical-align: middle;\n",
       "    }\n",
       "\n",
       "    .dataframe tbody tr th {\n",
       "        vertical-align: top;\n",
       "    }\n",
       "\n",
       "    .dataframe thead th {\n",
       "        text-align: right;\n",
       "    }\n",
       "</style>\n",
       "<table border=\"1\" class=\"dataframe\">\n",
       "  <thead>\n",
       "    <tr style=\"text-align: right;\">\n",
       "      <th></th>\n",
       "      <th>first_order_month</th>\n",
       "      <th>year_month</th>\n",
       "      <th>count_customers_cohorts</th>\n",
       "    </tr>\n",
       "  </thead>\n",
       "  <tbody>\n",
       "    <tr>\n",
       "      <th>0</th>\n",
       "      <td>2017-01</td>\n",
       "      <td>2017-01</td>\n",
       "      <td>751</td>\n",
       "    </tr>\n",
       "    <tr>\n",
       "      <th>1</th>\n",
       "      <td>2017-01</td>\n",
       "      <td>2017-02</td>\n",
       "      <td>3</td>\n",
       "    </tr>\n",
       "    <tr>\n",
       "      <th>2</th>\n",
       "      <td>2017-01</td>\n",
       "      <td>2017-03</td>\n",
       "      <td>2</td>\n",
       "    </tr>\n",
       "    <tr>\n",
       "      <th>3</th>\n",
       "      <td>2017-01</td>\n",
       "      <td>2017-04</td>\n",
       "      <td>1</td>\n",
       "    </tr>\n",
       "    <tr>\n",
       "      <th>4</th>\n",
       "      <td>2017-01</td>\n",
       "      <td>2017-05</td>\n",
       "      <td>3</td>\n",
       "    </tr>\n",
       "  </tbody>\n",
       "</table>\n",
       "</div>"
      ],
      "text/plain": [
       "  first_order_month year_month  count_customers_cohorts\n",
       "0           2017-01    2017-01                      751\n",
       "1           2017-01    2017-02                        3\n",
       "2           2017-01    2017-03                        2\n",
       "3           2017-01    2017-04                        1\n",
       "4           2017-01    2017-05                        3"
      ]
     },
     "execution_count": 60,
     "metadata": {},
     "output_type": "execute_result"
    }
   ],
   "source": [
    "nunique_count_customers_cohorts = customers_purchases_first_order_date.groupby(['first_order_month', 'year_month'], as_index=False) \\\n",
    "                                              .agg({'customer_unique_id': 'nunique'})\\\n",
    "                                              .rename(columns={'customer_unique_id': 'count_customers_cohorts'})\n",
    " \n",
    "nunique_count_customers_cohorts.head()"
   ]
  },
  {
   "cell_type": "markdown",
   "metadata": {},
   "source": [
    "Объеденим таблицы nunique_count_customers_cohorts и total_customers по столбцу first_order_month."
   ]
  },
  {
   "cell_type": "code",
   "execution_count": 61,
   "metadata": {
    "scrolled": true
   },
   "outputs": [
    {
     "data": {
      "text/html": [
       "<div>\n",
       "<style scoped>\n",
       "    .dataframe tbody tr th:only-of-type {\n",
       "        vertical-align: middle;\n",
       "    }\n",
       "\n",
       "    .dataframe tbody tr th {\n",
       "        vertical-align: top;\n",
       "    }\n",
       "\n",
       "    .dataframe thead th {\n",
       "        text-align: right;\n",
       "    }\n",
       "</style>\n",
       "<table border=\"1\" class=\"dataframe\">\n",
       "  <thead>\n",
       "    <tr style=\"text-align: right;\">\n",
       "      <th></th>\n",
       "      <th>first_order_month</th>\n",
       "      <th>year_month</th>\n",
       "      <th>count_customers_cohorts</th>\n",
       "      <th>total_count_customers</th>\n",
       "    </tr>\n",
       "  </thead>\n",
       "  <tbody>\n",
       "    <tr>\n",
       "      <th>0</th>\n",
       "      <td>2017-01</td>\n",
       "      <td>2017-01</td>\n",
       "      <td>751</td>\n",
       "      <td>751</td>\n",
       "    </tr>\n",
       "    <tr>\n",
       "      <th>1</th>\n",
       "      <td>2017-01</td>\n",
       "      <td>2017-02</td>\n",
       "      <td>3</td>\n",
       "      <td>751</td>\n",
       "    </tr>\n",
       "    <tr>\n",
       "      <th>2</th>\n",
       "      <td>2017-01</td>\n",
       "      <td>2017-03</td>\n",
       "      <td>2</td>\n",
       "      <td>751</td>\n",
       "    </tr>\n",
       "    <tr>\n",
       "      <th>3</th>\n",
       "      <td>2017-01</td>\n",
       "      <td>2017-04</td>\n",
       "      <td>1</td>\n",
       "      <td>751</td>\n",
       "    </tr>\n",
       "    <tr>\n",
       "      <th>4</th>\n",
       "      <td>2017-01</td>\n",
       "      <td>2017-05</td>\n",
       "      <td>3</td>\n",
       "      <td>751</td>\n",
       "    </tr>\n",
       "  </tbody>\n",
       "</table>\n",
       "</div>"
      ],
      "text/plain": [
       "  first_order_month year_month  count_customers_cohorts  total_count_customers\n",
       "0           2017-01    2017-01                      751                    751\n",
       "1           2017-01    2017-02                        3                    751\n",
       "2           2017-01    2017-03                        2                    751\n",
       "3           2017-01    2017-04                        1                    751\n",
       "4           2017-01    2017-05                        3                    751"
      ]
     },
     "execution_count": 61,
     "metadata": {},
     "output_type": "execute_result"
    }
   ],
   "source": [
    "cohorts = nunique_count_customers_cohorts.merge(total_customers, on='first_order_month')\n",
    "cohorts.head()"
   ]
  },
  {
   "cell_type": "markdown",
   "metadata": {},
   "source": [
    "Посчитаем долю клиентов, которые продолжают пользоваться товарами и услугами компании в течение определенного периода. "
   ]
  },
  {
   "cell_type": "code",
   "execution_count": 62,
   "metadata": {},
   "outputs": [
    {
     "data": {
      "text/html": [
       "<div>\n",
       "<style scoped>\n",
       "    .dataframe tbody tr th:only-of-type {\n",
       "        vertical-align: middle;\n",
       "    }\n",
       "\n",
       "    .dataframe tbody tr th {\n",
       "        vertical-align: top;\n",
       "    }\n",
       "\n",
       "    .dataframe thead th {\n",
       "        text-align: right;\n",
       "    }\n",
       "</style>\n",
       "<table border=\"1\" class=\"dataframe\">\n",
       "  <thead>\n",
       "    <tr style=\"text-align: right;\">\n",
       "      <th></th>\n",
       "      <th>first_order_month</th>\n",
       "      <th>year_month</th>\n",
       "      <th>count_customers_cohorts</th>\n",
       "      <th>total_count_customers</th>\n",
       "      <th>CRR</th>\n",
       "    </tr>\n",
       "  </thead>\n",
       "  <tbody>\n",
       "    <tr>\n",
       "      <th>0</th>\n",
       "      <td>2017-01</td>\n",
       "      <td>2017-01</td>\n",
       "      <td>751</td>\n",
       "      <td>751</td>\n",
       "      <td>100.00</td>\n",
       "    </tr>\n",
       "    <tr>\n",
       "      <th>1</th>\n",
       "      <td>2017-01</td>\n",
       "      <td>2017-02</td>\n",
       "      <td>3</td>\n",
       "      <td>751</td>\n",
       "      <td>0.40</td>\n",
       "    </tr>\n",
       "    <tr>\n",
       "      <th>2</th>\n",
       "      <td>2017-01</td>\n",
       "      <td>2017-03</td>\n",
       "      <td>2</td>\n",
       "      <td>751</td>\n",
       "      <td>0.27</td>\n",
       "    </tr>\n",
       "    <tr>\n",
       "      <th>3</th>\n",
       "      <td>2017-01</td>\n",
       "      <td>2017-04</td>\n",
       "      <td>1</td>\n",
       "      <td>751</td>\n",
       "      <td>0.13</td>\n",
       "    </tr>\n",
       "    <tr>\n",
       "      <th>4</th>\n",
       "      <td>2017-01</td>\n",
       "      <td>2017-05</td>\n",
       "      <td>3</td>\n",
       "      <td>751</td>\n",
       "      <td>0.40</td>\n",
       "    </tr>\n",
       "  </tbody>\n",
       "</table>\n",
       "</div>"
      ],
      "text/plain": [
       "  first_order_month year_month  count_customers_cohorts  \\\n",
       "0           2017-01    2017-01                      751   \n",
       "1           2017-01    2017-02                        3   \n",
       "2           2017-01    2017-03                        2   \n",
       "3           2017-01    2017-04                        1   \n",
       "4           2017-01    2017-05                        3   \n",
       "\n",
       "   total_count_customers     CRR  \n",
       "0                    751  100.00  \n",
       "1                    751    0.40  \n",
       "2                    751    0.27  \n",
       "3                    751    0.13  \n",
       "4                    751    0.40  "
      ]
     },
     "execution_count": 62,
     "metadata": {},
     "output_type": "execute_result"
    }
   ],
   "source": [
    "cohorts['CRR']=round(cohorts['count_customers_cohorts'] / cohorts['total_count_customers'] * 100, 2)\n",
    "cohorts.head()"
   ]
  },
  {
   "cell_type": "markdown",
   "metadata": {},
   "source": [
    "Напишем функцию, с помощью которой добавим значение периода когорты."
   ]
  },
  {
   "cell_type": "code",
   "execution_count": 63,
   "metadata": {},
   "outputs": [
    {
     "data": {
      "text/html": [
       "<div>\n",
       "<style scoped>\n",
       "    .dataframe tbody tr th:only-of-type {\n",
       "        vertical-align: middle;\n",
       "    }\n",
       "\n",
       "    .dataframe tbody tr th {\n",
       "        vertical-align: top;\n",
       "    }\n",
       "\n",
       "    .dataframe thead th {\n",
       "        text-align: right;\n",
       "    }\n",
       "</style>\n",
       "<table border=\"1\" class=\"dataframe\">\n",
       "  <thead>\n",
       "    <tr style=\"text-align: right;\">\n",
       "      <th></th>\n",
       "      <th>first_order_month</th>\n",
       "      <th>year_month</th>\n",
       "      <th>count_customers_cohorts</th>\n",
       "      <th>total_count_customers</th>\n",
       "      <th>CRR</th>\n",
       "      <th>cohort_period</th>\n",
       "    </tr>\n",
       "  </thead>\n",
       "  <tbody>\n",
       "    <tr>\n",
       "      <th>0</th>\n",
       "      <td>2017-01</td>\n",
       "      <td>2017-01</td>\n",
       "      <td>751</td>\n",
       "      <td>751</td>\n",
       "      <td>100.00</td>\n",
       "      <td>0</td>\n",
       "    </tr>\n",
       "    <tr>\n",
       "      <th>1</th>\n",
       "      <td>2017-01</td>\n",
       "      <td>2017-02</td>\n",
       "      <td>3</td>\n",
       "      <td>751</td>\n",
       "      <td>0.40</td>\n",
       "      <td>1</td>\n",
       "    </tr>\n",
       "    <tr>\n",
       "      <th>2</th>\n",
       "      <td>2017-01</td>\n",
       "      <td>2017-03</td>\n",
       "      <td>2</td>\n",
       "      <td>751</td>\n",
       "      <td>0.27</td>\n",
       "      <td>2</td>\n",
       "    </tr>\n",
       "    <tr>\n",
       "      <th>3</th>\n",
       "      <td>2017-01</td>\n",
       "      <td>2017-04</td>\n",
       "      <td>1</td>\n",
       "      <td>751</td>\n",
       "      <td>0.13</td>\n",
       "      <td>3</td>\n",
       "    </tr>\n",
       "    <tr>\n",
       "      <th>4</th>\n",
       "      <td>2017-01</td>\n",
       "      <td>2017-05</td>\n",
       "      <td>3</td>\n",
       "      <td>751</td>\n",
       "      <td>0.40</td>\n",
       "      <td>4</td>\n",
       "    </tr>\n",
       "  </tbody>\n",
       "</table>\n",
       "</div>"
      ],
      "text/plain": [
       "  first_order_month year_month  count_customers_cohorts  \\\n",
       "0           2017-01    2017-01                      751   \n",
       "1           2017-01    2017-02                        3   \n",
       "2           2017-01    2017-03                        2   \n",
       "3           2017-01    2017-04                        1   \n",
       "4           2017-01    2017-05                        3   \n",
       "\n",
       "   total_count_customers     CRR  cohort_period  \n",
       "0                    751  100.00              0  \n",
       "1                    751    0.40              1  \n",
       "2                    751    0.27              2  \n",
       "3                    751    0.13              3  \n",
       "4                    751    0.40              4  "
      ]
     },
     "execution_count": 63,
     "metadata": {},
     "output_type": "execute_result"
    }
   ],
   "source": [
    "def cohort_period(df):\n",
    "    df['cohort_period'] = np.arange(len(df))\n",
    "    return df\n",
    "\n",
    "cohorts = cohorts.groupby('first_order_month').apply(cohort_period)\n",
    "\n",
    "cohorts.head()"
   ]
  },
  {
   "cell_type": "markdown",
   "metadata": {},
   "source": [
    "Зададим индексы, используя существующие столбцы."
   ]
  },
  {
   "cell_type": "code",
   "execution_count": 64,
   "metadata": {},
   "outputs": [
    {
     "data": {
      "text/html": [
       "<div>\n",
       "<style scoped>\n",
       "    .dataframe tbody tr th:only-of-type {\n",
       "        vertical-align: middle;\n",
       "    }\n",
       "\n",
       "    .dataframe tbody tr th {\n",
       "        vertical-align: top;\n",
       "    }\n",
       "\n",
       "    .dataframe thead th {\n",
       "        text-align: right;\n",
       "    }\n",
       "</style>\n",
       "<table border=\"1\" class=\"dataframe\">\n",
       "  <thead>\n",
       "    <tr style=\"text-align: right;\">\n",
       "      <th></th>\n",
       "      <th></th>\n",
       "      <th>year_month</th>\n",
       "      <th>count_customers_cohorts</th>\n",
       "      <th>total_count_customers</th>\n",
       "      <th>CRR</th>\n",
       "    </tr>\n",
       "    <tr>\n",
       "      <th>first_order_month</th>\n",
       "      <th>cohort_period</th>\n",
       "      <th></th>\n",
       "      <th></th>\n",
       "      <th></th>\n",
       "      <th></th>\n",
       "    </tr>\n",
       "  </thead>\n",
       "  <tbody>\n",
       "    <tr>\n",
       "      <th rowspan=\"5\" valign=\"top\">2017-01</th>\n",
       "      <th>0</th>\n",
       "      <td>2017-01</td>\n",
       "      <td>751</td>\n",
       "      <td>751</td>\n",
       "      <td>100.00</td>\n",
       "    </tr>\n",
       "    <tr>\n",
       "      <th>1</th>\n",
       "      <td>2017-02</td>\n",
       "      <td>3</td>\n",
       "      <td>751</td>\n",
       "      <td>0.40</td>\n",
       "    </tr>\n",
       "    <tr>\n",
       "      <th>2</th>\n",
       "      <td>2017-03</td>\n",
       "      <td>2</td>\n",
       "      <td>751</td>\n",
       "      <td>0.27</td>\n",
       "    </tr>\n",
       "    <tr>\n",
       "      <th>3</th>\n",
       "      <td>2017-04</td>\n",
       "      <td>1</td>\n",
       "      <td>751</td>\n",
       "      <td>0.13</td>\n",
       "    </tr>\n",
       "    <tr>\n",
       "      <th>4</th>\n",
       "      <td>2017-05</td>\n",
       "      <td>3</td>\n",
       "      <td>751</td>\n",
       "      <td>0.40</td>\n",
       "    </tr>\n",
       "  </tbody>\n",
       "</table>\n",
       "</div>"
      ],
      "text/plain": [
       "                                year_month  count_customers_cohorts  \\\n",
       "first_order_month cohort_period                                       \n",
       "2017-01           0                2017-01                      751   \n",
       "                  1                2017-02                        3   \n",
       "                  2                2017-03                        2   \n",
       "                  3                2017-04                        1   \n",
       "                  4                2017-05                        3   \n",
       "\n",
       "                                 total_count_customers     CRR  \n",
       "first_order_month cohort_period                                 \n",
       "2017-01           0                                751  100.00  \n",
       "                  1                                751    0.40  \n",
       "                  2                                751    0.27  \n",
       "                  3                                751    0.13  \n",
       "                  4                                751    0.40  "
      ]
     },
     "execution_count": 64,
     "metadata": {},
     "output_type": "execute_result"
    }
   ],
   "source": [
    "cohorts.set_index(['first_order_month', 'cohort_period'], inplace=True)\n",
    "cohorts.head()"
   ]
  },
  {
   "cell_type": "markdown",
   "metadata": {},
   "source": [
    "## 5.2. Выявить когорту с самым высоким retention на 3-й месяц в период с января по декабрь "
   ]
  },
  {
   "cell_type": "markdown",
   "metadata": {},
   "source": [
    "Добавим второй уровень индексов."
   ]
  },
  {
   "cell_type": "code",
   "execution_count": 65,
   "metadata": {},
   "outputs": [
    {
     "data": {
      "text/html": [
       "<div>\n",
       "<style scoped>\n",
       "    .dataframe tbody tr th:only-of-type {\n",
       "        vertical-align: middle;\n",
       "    }\n",
       "\n",
       "    .dataframe tbody tr th {\n",
       "        vertical-align: top;\n",
       "    }\n",
       "\n",
       "    .dataframe thead th {\n",
       "        text-align: right;\n",
       "    }\n",
       "</style>\n",
       "<table border=\"1\" class=\"dataframe\">\n",
       "  <thead>\n",
       "    <tr style=\"text-align: right;\">\n",
       "      <th>cohort_period</th>\n",
       "      <th>0</th>\n",
       "      <th>1</th>\n",
       "      <th>2</th>\n",
       "      <th>3</th>\n",
       "      <th>4</th>\n",
       "      <th>5</th>\n",
       "      <th>6</th>\n",
       "      <th>7</th>\n",
       "      <th>8</th>\n",
       "      <th>9</th>\n",
       "      <th>10</th>\n",
       "      <th>11</th>\n",
       "      <th>12</th>\n",
       "      <th>13</th>\n",
       "    </tr>\n",
       "    <tr>\n",
       "      <th>first_order_month</th>\n",
       "      <th></th>\n",
       "      <th></th>\n",
       "      <th></th>\n",
       "      <th></th>\n",
       "      <th></th>\n",
       "      <th></th>\n",
       "      <th></th>\n",
       "      <th></th>\n",
       "      <th></th>\n",
       "      <th></th>\n",
       "      <th></th>\n",
       "      <th></th>\n",
       "      <th></th>\n",
       "      <th></th>\n",
       "    </tr>\n",
       "  </thead>\n",
       "  <tbody>\n",
       "    <tr>\n",
       "      <th>2017-01</th>\n",
       "      <td>100.0</td>\n",
       "      <td>0.40</td>\n",
       "      <td>0.27</td>\n",
       "      <td>0.13</td>\n",
       "      <td>0.40</td>\n",
       "      <td>0.13</td>\n",
       "      <td>0.40</td>\n",
       "      <td>0.13</td>\n",
       "      <td>0.13</td>\n",
       "      <td>0.40</td>\n",
       "      <td>0.13</td>\n",
       "      <td>0.67</td>\n",
       "      <td>0.40</td>\n",
       "      <td>0.13</td>\n",
       "    </tr>\n",
       "    <tr>\n",
       "      <th>2017-02</th>\n",
       "      <td>100.0</td>\n",
       "      <td>0.24</td>\n",
       "      <td>0.30</td>\n",
       "      <td>0.12</td>\n",
       "      <td>0.42</td>\n",
       "      <td>0.12</td>\n",
       "      <td>0.24</td>\n",
       "      <td>0.18</td>\n",
       "      <td>0.06</td>\n",
       "      <td>0.18</td>\n",
       "      <td>0.12</td>\n",
       "      <td>0.30</td>\n",
       "      <td>0.12</td>\n",
       "      <td>0.18</td>\n",
       "    </tr>\n",
       "    <tr>\n",
       "      <th>2017-03</th>\n",
       "      <td>100.0</td>\n",
       "      <td>0.51</td>\n",
       "      <td>0.35</td>\n",
       "      <td>0.39</td>\n",
       "      <td>0.35</td>\n",
       "      <td>0.16</td>\n",
       "      <td>0.16</td>\n",
       "      <td>0.31</td>\n",
       "      <td>0.35</td>\n",
       "      <td>0.08</td>\n",
       "      <td>0.39</td>\n",
       "      <td>0.12</td>\n",
       "      <td>0.23</td>\n",
       "      <td>NaN</td>\n",
       "    </tr>\n",
       "    <tr>\n",
       "      <th>2017-04</th>\n",
       "      <td>100.0</td>\n",
       "      <td>0.60</td>\n",
       "      <td>0.21</td>\n",
       "      <td>0.17</td>\n",
       "      <td>0.30</td>\n",
       "      <td>0.26</td>\n",
       "      <td>0.34</td>\n",
       "      <td>0.30</td>\n",
       "      <td>0.30</td>\n",
       "      <td>0.17</td>\n",
       "      <td>0.26</td>\n",
       "      <td>0.09</td>\n",
       "      <td>NaN</td>\n",
       "      <td>NaN</td>\n",
       "    </tr>\n",
       "    <tr>\n",
       "      <th>2017-05</th>\n",
       "      <td>100.0</td>\n",
       "      <td>0.48</td>\n",
       "      <td>0.48</td>\n",
       "      <td>0.40</td>\n",
       "      <td>0.31</td>\n",
       "      <td>0.34</td>\n",
       "      <td>0.42</td>\n",
       "      <td>0.14</td>\n",
       "      <td>0.25</td>\n",
       "      <td>0.25</td>\n",
       "      <td>0.25</td>\n",
       "      <td>NaN</td>\n",
       "      <td>NaN</td>\n",
       "      <td>NaN</td>\n",
       "    </tr>\n",
       "    <tr>\n",
       "      <th>2017-06</th>\n",
       "      <td>100.0</td>\n",
       "      <td>0.45</td>\n",
       "      <td>0.35</td>\n",
       "      <td>0.39</td>\n",
       "      <td>0.26</td>\n",
       "      <td>0.39</td>\n",
       "      <td>0.35</td>\n",
       "      <td>0.23</td>\n",
       "      <td>0.13</td>\n",
       "      <td>0.23</td>\n",
       "      <td>NaN</td>\n",
       "      <td>NaN</td>\n",
       "      <td>NaN</td>\n",
       "      <td>NaN</td>\n",
       "    </tr>\n",
       "    <tr>\n",
       "      <th>2017-07</th>\n",
       "      <td>100.0</td>\n",
       "      <td>0.52</td>\n",
       "      <td>0.34</td>\n",
       "      <td>0.24</td>\n",
       "      <td>0.29</td>\n",
       "      <td>0.21</td>\n",
       "      <td>0.31</td>\n",
       "      <td>0.10</td>\n",
       "      <td>0.18</td>\n",
       "      <td>NaN</td>\n",
       "      <td>NaN</td>\n",
       "      <td>NaN</td>\n",
       "      <td>NaN</td>\n",
       "      <td>NaN</td>\n",
       "    </tr>\n",
       "    <tr>\n",
       "      <th>2017-08</th>\n",
       "      <td>100.0</td>\n",
       "      <td>0.68</td>\n",
       "      <td>0.34</td>\n",
       "      <td>0.27</td>\n",
       "      <td>0.36</td>\n",
       "      <td>0.53</td>\n",
       "      <td>0.29</td>\n",
       "      <td>0.27</td>\n",
       "      <td>NaN</td>\n",
       "      <td>NaN</td>\n",
       "      <td>NaN</td>\n",
       "      <td>NaN</td>\n",
       "      <td>NaN</td>\n",
       "      <td>NaN</td>\n",
       "    </tr>\n",
       "    <tr>\n",
       "      <th>2017-09</th>\n",
       "      <td>100.0</td>\n",
       "      <td>0.69</td>\n",
       "      <td>0.54</td>\n",
       "      <td>0.29</td>\n",
       "      <td>0.44</td>\n",
       "      <td>0.22</td>\n",
       "      <td>0.22</td>\n",
       "      <td>NaN</td>\n",
       "      <td>NaN</td>\n",
       "      <td>NaN</td>\n",
       "      <td>NaN</td>\n",
       "      <td>NaN</td>\n",
       "      <td>NaN</td>\n",
       "      <td>NaN</td>\n",
       "    </tr>\n",
       "    <tr>\n",
       "      <th>2017-10</th>\n",
       "      <td>100.0</td>\n",
       "      <td>0.71</td>\n",
       "      <td>0.25</td>\n",
       "      <td>0.09</td>\n",
       "      <td>0.23</td>\n",
       "      <td>0.18</td>\n",
       "      <td>NaN</td>\n",
       "      <td>NaN</td>\n",
       "      <td>NaN</td>\n",
       "      <td>NaN</td>\n",
       "      <td>NaN</td>\n",
       "      <td>NaN</td>\n",
       "      <td>NaN</td>\n",
       "      <td>NaN</td>\n",
       "    </tr>\n",
       "    <tr>\n",
       "      <th>2017-11</th>\n",
       "      <td>100.0</td>\n",
       "      <td>0.56</td>\n",
       "      <td>0.39</td>\n",
       "      <td>0.17</td>\n",
       "      <td>0.19</td>\n",
       "      <td>NaN</td>\n",
       "      <td>NaN</td>\n",
       "      <td>NaN</td>\n",
       "      <td>NaN</td>\n",
       "      <td>NaN</td>\n",
       "      <td>NaN</td>\n",
       "      <td>NaN</td>\n",
       "      <td>NaN</td>\n",
       "      <td>NaN</td>\n",
       "    </tr>\n",
       "    <tr>\n",
       "      <th>2017-12</th>\n",
       "      <td>100.0</td>\n",
       "      <td>0.22</td>\n",
       "      <td>0.28</td>\n",
       "      <td>0.35</td>\n",
       "      <td>NaN</td>\n",
       "      <td>NaN</td>\n",
       "      <td>NaN</td>\n",
       "      <td>NaN</td>\n",
       "      <td>NaN</td>\n",
       "      <td>NaN</td>\n",
       "      <td>NaN</td>\n",
       "      <td>NaN</td>\n",
       "      <td>NaN</td>\n",
       "      <td>NaN</td>\n",
       "    </tr>\n",
       "    <tr>\n",
       "      <th>2018-01</th>\n",
       "      <td>100.0</td>\n",
       "      <td>0.33</td>\n",
       "      <td>0.36</td>\n",
       "      <td>NaN</td>\n",
       "      <td>NaN</td>\n",
       "      <td>NaN</td>\n",
       "      <td>NaN</td>\n",
       "      <td>NaN</td>\n",
       "      <td>NaN</td>\n",
       "      <td>NaN</td>\n",
       "      <td>NaN</td>\n",
       "      <td>NaN</td>\n",
       "      <td>NaN</td>\n",
       "      <td>NaN</td>\n",
       "    </tr>\n",
       "    <tr>\n",
       "      <th>2018-02</th>\n",
       "      <td>100.0</td>\n",
       "      <td>0.35</td>\n",
       "      <td>NaN</td>\n",
       "      <td>NaN</td>\n",
       "      <td>NaN</td>\n",
       "      <td>NaN</td>\n",
       "      <td>NaN</td>\n",
       "      <td>NaN</td>\n",
       "      <td>NaN</td>\n",
       "      <td>NaN</td>\n",
       "      <td>NaN</td>\n",
       "      <td>NaN</td>\n",
       "      <td>NaN</td>\n",
       "      <td>NaN</td>\n",
       "    </tr>\n",
       "    <tr>\n",
       "      <th>2018-03</th>\n",
       "      <td>100.0</td>\n",
       "      <td>NaN</td>\n",
       "      <td>NaN</td>\n",
       "      <td>NaN</td>\n",
       "      <td>NaN</td>\n",
       "      <td>NaN</td>\n",
       "      <td>NaN</td>\n",
       "      <td>NaN</td>\n",
       "      <td>NaN</td>\n",
       "      <td>NaN</td>\n",
       "      <td>NaN</td>\n",
       "      <td>NaN</td>\n",
       "      <td>NaN</td>\n",
       "      <td>NaN</td>\n",
       "    </tr>\n",
       "  </tbody>\n",
       "</table>\n",
       "</div>"
      ],
      "text/plain": [
       "cohort_period         0     1     2     3     4     5     6     7     8   \\\n",
       "first_order_month                                                          \n",
       "2017-01            100.0  0.40  0.27  0.13  0.40  0.13  0.40  0.13  0.13   \n",
       "2017-02            100.0  0.24  0.30  0.12  0.42  0.12  0.24  0.18  0.06   \n",
       "2017-03            100.0  0.51  0.35  0.39  0.35  0.16  0.16  0.31  0.35   \n",
       "2017-04            100.0  0.60  0.21  0.17  0.30  0.26  0.34  0.30  0.30   \n",
       "2017-05            100.0  0.48  0.48  0.40  0.31  0.34  0.42  0.14  0.25   \n",
       "2017-06            100.0  0.45  0.35  0.39  0.26  0.39  0.35  0.23  0.13   \n",
       "2017-07            100.0  0.52  0.34  0.24  0.29  0.21  0.31  0.10  0.18   \n",
       "2017-08            100.0  0.68  0.34  0.27  0.36  0.53  0.29  0.27   NaN   \n",
       "2017-09            100.0  0.69  0.54  0.29  0.44  0.22  0.22   NaN   NaN   \n",
       "2017-10            100.0  0.71  0.25  0.09  0.23  0.18   NaN   NaN   NaN   \n",
       "2017-11            100.0  0.56  0.39  0.17  0.19   NaN   NaN   NaN   NaN   \n",
       "2017-12            100.0  0.22  0.28  0.35   NaN   NaN   NaN   NaN   NaN   \n",
       "2018-01            100.0  0.33  0.36   NaN   NaN   NaN   NaN   NaN   NaN   \n",
       "2018-02            100.0  0.35   NaN   NaN   NaN   NaN   NaN   NaN   NaN   \n",
       "2018-03            100.0   NaN   NaN   NaN   NaN   NaN   NaN   NaN   NaN   \n",
       "\n",
       "cohort_period        9     10    11    12    13  \n",
       "first_order_month                                \n",
       "2017-01            0.40  0.13  0.67  0.40  0.13  \n",
       "2017-02            0.18  0.12  0.30  0.12  0.18  \n",
       "2017-03            0.08  0.39  0.12  0.23   NaN  \n",
       "2017-04            0.17  0.26  0.09   NaN   NaN  \n",
       "2017-05            0.25  0.25   NaN   NaN   NaN  \n",
       "2017-06            0.23   NaN   NaN   NaN   NaN  \n",
       "2017-07             NaN   NaN   NaN   NaN   NaN  \n",
       "2017-08             NaN   NaN   NaN   NaN   NaN  \n",
       "2017-09             NaN   NaN   NaN   NaN   NaN  \n",
       "2017-10             NaN   NaN   NaN   NaN   NaN  \n",
       "2017-11             NaN   NaN   NaN   NaN   NaN  \n",
       "2017-12             NaN   NaN   NaN   NaN   NaN  \n",
       "2018-01             NaN   NaN   NaN   NaN   NaN  \n",
       "2018-02             NaN   NaN   NaN   NaN   NaN  \n",
       "2018-03             NaN   NaN   NaN   NaN   NaN  "
      ]
     },
     "execution_count": 65,
     "metadata": {},
     "output_type": "execute_result"
    }
   ],
   "source": [
    "retention=cohorts['CRR'].unstack(1)\n",
    "retention"
   ]
  },
  {
   "cell_type": "markdown",
   "metadata": {},
   "source": [
    "Построим тепловую карту распределения CRR для всех когорт."
   ]
  },
  {
   "cell_type": "code",
   "execution_count": 66,
   "metadata": {
    "scrolled": false
   },
   "outputs": [
    {
     "data": {
      "image/png": "[encoded data removed]",
      "text/plain": [
       "<Figure size 1296x1008 with 2 Axes>"
      ]
     },
     "metadata": {
      "needs_background": "light"
     },
     "output_type": "display_data"
    }
   ],
   "source": [
    "plt.figure(figsize=(18,14))\n",
    "sns.heatmap(retention, annot=True, cmap ='rocket', vmin=0, vmax=1, center= 1, fmt='.2f')\n",
    "plt.title('Retention Rate')\n",
    "plt.ylabel('Дата первой покупки')\n",
    "plt.xlabel('Значение периода когорты');"
   ]
  },
  {
   "cell_type": "markdown",
   "metadata": {},
   "source": [
    "**Выводы:** Из тепловой карты видим, что когорта с самым высоким retention на 3-й месяц наблюдается 2017-05 и составляет 0,40. В целом, наблюдаем не особо высокие значения, самые высокие приходятся на время формирования когорт и первые месяцы после. Удержание пользователей низкое."
   ]
  },
  {
   "cell_type": "markdown",
   "metadata": {},
   "source": [
    "## Используя python, построить RFM-сегментацию пользователей, чтобы качественно оценить свою аудиторию"
   ]
  },
  {
   "cell_type": "markdown",
   "metadata": {},
   "source": [
    "Часто для качественного анализа аудитории используют подходы, основанные на сегментации. Используя python, построим RFM-сегментацию пользователей, чтобы качественно оценить свою аудиторию. "
   ]
  },
  {
   "cell_type": "markdown",
   "metadata": {},
   "source": [
    "Сегментация покупателей с использованием RFM-анализа.\n",
    "Для RFM-анализа нам потребуются определенные данные о каждом из клиентов:\n",
    "\n",
    "R - время от последней покупки пользователя до текущей даты,\n",
    "\n",
    "F - суммарное количество покупок у пользователя за всё время,\n",
    "\n",
    "M - сумма покупок за всё время."
   ]
  },
  {
   "cell_type": "markdown",
   "metadata": {},
   "source": [
    "Объеденим все три датафрейма вместе."
   ]
  },
  {
   "cell_type": "code",
   "execution_count": 67,
   "metadata": {},
   "outputs": [
    {
     "data": {
      "text/html": [
       "<div>\n",
       "<style scoped>\n",
       "    .dataframe tbody tr th:only-of-type {\n",
       "        vertical-align: middle;\n",
       "    }\n",
       "\n",
       "    .dataframe tbody tr th {\n",
       "        vertical-align: top;\n",
       "    }\n",
       "\n",
       "    .dataframe thead th {\n",
       "        text-align: right;\n",
       "    }\n",
       "</style>\n",
       "<table border=\"1\" class=\"dataframe\">\n",
       "  <thead>\n",
       "    <tr style=\"text-align: right;\">\n",
       "      <th></th>\n",
       "      <th>order_id</th>\n",
       "      <th>customer_id</th>\n",
       "      <th>order_status</th>\n",
       "      <th>order_purchase_timestamp</th>\n",
       "      <th>order_approved_at</th>\n",
       "      <th>order_delivered_carrier_date</th>\n",
       "      <th>order_delivered_customer_date</th>\n",
       "      <th>order_estimated_delivery_date</th>\n",
       "      <th>customer_unique_id</th>\n",
       "      <th>customer_zip_code_prefix</th>\n",
       "      <th>customer_city</th>\n",
       "      <th>customer_state</th>\n",
       "      <th>order_item_id</th>\n",
       "      <th>product_id</th>\n",
       "      <th>seller_id</th>\n",
       "      <th>shipping_limit_date</th>\n",
       "      <th>price</th>\n",
       "      <th>freight_value</th>\n",
       "    </tr>\n",
       "  </thead>\n",
       "  <tbody>\n",
       "    <tr>\n",
       "      <th>0</th>\n",
       "      <td>e481f51cbdc54678b7cc49136f2d6af7</td>\n",
       "      <td>9ef432eb6251297304e76186b10a928d</td>\n",
       "      <td>delivered</td>\n",
       "      <td>2017-10-02 10:56:33</td>\n",
       "      <td>2017-10-02 11:07:15</td>\n",
       "      <td>2017-10-04 19:55:00</td>\n",
       "      <td>2017-10-10 21:25:13</td>\n",
       "      <td>2017-10-18</td>\n",
       "      <td>7c396fd4830fd04220f754e42b4e5bff</td>\n",
       "      <td>3149</td>\n",
       "      <td>sao paulo</td>\n",
       "      <td>SP</td>\n",
       "      <td>1</td>\n",
       "      <td>87285b34884572647811a353c7ac498a</td>\n",
       "      <td>3504c0cb71d7fa48d967e0e4c94d59d9</td>\n",
       "      <td>2017-10-06 11:07:15</td>\n",
       "      <td>29.99</td>\n",
       "      <td>8.72</td>\n",
       "    </tr>\n",
       "    <tr>\n",
       "      <th>1</th>\n",
       "      <td>53cdb2fc8bc7dce0b6741e2150273451</td>\n",
       "      <td>b0830fb4747a6c6d20dea0b8c802d7ef</td>\n",
       "      <td>delivered</td>\n",
       "      <td>2018-07-24 20:41:37</td>\n",
       "      <td>2018-07-26 03:24:27</td>\n",
       "      <td>2018-07-26 14:31:00</td>\n",
       "      <td>2018-08-07 15:27:45</td>\n",
       "      <td>2018-08-13</td>\n",
       "      <td>af07308b275d755c9edb36a90c618231</td>\n",
       "      <td>47813</td>\n",
       "      <td>barreiras</td>\n",
       "      <td>BA</td>\n",
       "      <td>1</td>\n",
       "      <td>595fac2a385ac33a80bd5114aec74eb8</td>\n",
       "      <td>289cdb325fb7e7f891c38608bf9e0962</td>\n",
       "      <td>2018-07-30 03:24:27</td>\n",
       "      <td>118.70</td>\n",
       "      <td>22.76</td>\n",
       "    </tr>\n",
       "    <tr>\n",
       "      <th>2</th>\n",
       "      <td>47770eb9100c2d0c44946d9cf07ec65d</td>\n",
       "      <td>41ce2a54c0b03bf3443c3d931a367089</td>\n",
       "      <td>delivered</td>\n",
       "      <td>2018-08-08 08:38:49</td>\n",
       "      <td>2018-08-08 08:55:23</td>\n",
       "      <td>2018-08-08 13:50:00</td>\n",
       "      <td>2018-08-17 18:06:29</td>\n",
       "      <td>2018-09-04</td>\n",
       "      <td>3a653a41f6f9fc3d2a113cf8398680e8</td>\n",
       "      <td>75265</td>\n",
       "      <td>vianopolis</td>\n",
       "      <td>GO</td>\n",
       "      <td>1</td>\n",
       "      <td>aa4383b373c6aca5d8797843e5594415</td>\n",
       "      <td>4869f7a5dfa277a7dca6462dcf3b52b2</td>\n",
       "      <td>2018-08-13 08:55:23</td>\n",
       "      <td>159.90</td>\n",
       "      <td>19.22</td>\n",
       "    </tr>\n",
       "    <tr>\n",
       "      <th>3</th>\n",
       "      <td>949d5b44dbf5de918fe9c16f97b45f8a</td>\n",
       "      <td>f88197465ea7920adcdbec7375364d82</td>\n",
       "      <td>delivered</td>\n",
       "      <td>2017-11-18 19:28:06</td>\n",
       "      <td>2017-11-18 19:45:59</td>\n",
       "      <td>2017-11-22 13:39:59</td>\n",
       "      <td>2017-12-02 00:28:42</td>\n",
       "      <td>2017-12-15</td>\n",
       "      <td>7c142cf63193a1473d2e66489a9ae977</td>\n",
       "      <td>59296</td>\n",
       "      <td>sao goncalo do amarante</td>\n",
       "      <td>RN</td>\n",
       "      <td>1</td>\n",
       "      <td>d0b61bfb1de832b15ba9d266ca96e5b0</td>\n",
       "      <td>66922902710d126a0e7d26b0e3805106</td>\n",
       "      <td>2017-11-23 19:45:59</td>\n",
       "      <td>45.00</td>\n",
       "      <td>27.20</td>\n",
       "    </tr>\n",
       "    <tr>\n",
       "      <th>4</th>\n",
       "      <td>ad21c59c0840e6cb83a9ceb5573f8159</td>\n",
       "      <td>8ab97904e6daea8866dbdbc4fb7aad2c</td>\n",
       "      <td>delivered</td>\n",
       "      <td>2018-02-13 21:18:39</td>\n",
       "      <td>2018-02-13 22:20:29</td>\n",
       "      <td>2018-02-14 19:46:34</td>\n",
       "      <td>2018-02-16 18:17:02</td>\n",
       "      <td>2018-02-26</td>\n",
       "      <td>72632f0f9dd73dfee390c9b22eb56dd6</td>\n",
       "      <td>9195</td>\n",
       "      <td>santo andre</td>\n",
       "      <td>SP</td>\n",
       "      <td>1</td>\n",
       "      <td>65266b2da20d04dbe00c5c2d3bb7859e</td>\n",
       "      <td>2c9e548be18521d1c43cde1c582c6de8</td>\n",
       "      <td>2018-02-19 20:31:37</td>\n",
       "      <td>19.90</td>\n",
       "      <td>8.72</td>\n",
       "    </tr>\n",
       "  </tbody>\n",
       "</table>\n",
       "</div>"
      ],
      "text/plain": [
       "                           order_id                       customer_id  \\\n",
       "0  e481f51cbdc54678b7cc49136f2d6af7  9ef432eb6251297304e76186b10a928d   \n",
       "1  53cdb2fc8bc7dce0b6741e2150273451  b0830fb4747a6c6d20dea0b8c802d7ef   \n",
       "2  47770eb9100c2d0c44946d9cf07ec65d  41ce2a54c0b03bf3443c3d931a367089   \n",
       "3  949d5b44dbf5de918fe9c16f97b45f8a  f88197465ea7920adcdbec7375364d82   \n",
       "4  ad21c59c0840e6cb83a9ceb5573f8159  8ab97904e6daea8866dbdbc4fb7aad2c   \n",
       "\n",
       "  order_status order_purchase_timestamp   order_approved_at  \\\n",
       "0    delivered      2017-10-02 10:56:33 2017-10-02 11:07:15   \n",
       "1    delivered      2018-07-24 20:41:37 2018-07-26 03:24:27   \n",
       "2    delivered      2018-08-08 08:38:49 2018-08-08 08:55:23   \n",
       "3    delivered      2017-11-18 19:28:06 2017-11-18 19:45:59   \n",
       "4    delivered      2018-02-13 21:18:39 2018-02-13 22:20:29   \n",
       "\n",
       "  order_delivered_carrier_date order_delivered_customer_date  \\\n",
       "0          2017-10-04 19:55:00           2017-10-10 21:25:13   \n",
       "1          2018-07-26 14:31:00           2018-08-07 15:27:45   \n",
       "2          2018-08-08 13:50:00           2018-08-17 18:06:29   \n",
       "3          2017-11-22 13:39:59           2017-12-02 00:28:42   \n",
       "4          2018-02-14 19:46:34           2018-02-16 18:17:02   \n",
       "\n",
       "  order_estimated_delivery_date                customer_unique_id  \\\n",
       "0                    2017-10-18  7c396fd4830fd04220f754e42b4e5bff   \n",
       "1                    2018-08-13  af07308b275d755c9edb36a90c618231   \n",
       "2                    2018-09-04  3a653a41f6f9fc3d2a113cf8398680e8   \n",
       "3                    2017-12-15  7c142cf63193a1473d2e66489a9ae977   \n",
       "4                    2018-02-26  72632f0f9dd73dfee390c9b22eb56dd6   \n",
       "\n",
       "   customer_zip_code_prefix            customer_city customer_state  \\\n",
       "0                      3149                sao paulo             SP   \n",
       "1                     47813                barreiras             BA   \n",
       "2                     75265               vianopolis             GO   \n",
       "3                     59296  sao goncalo do amarante             RN   \n",
       "4                      9195              santo andre             SP   \n",
       "\n",
       "   order_item_id                        product_id  \\\n",
       "0              1  87285b34884572647811a353c7ac498a   \n",
       "1              1  595fac2a385ac33a80bd5114aec74eb8   \n",
       "2              1  aa4383b373c6aca5d8797843e5594415   \n",
       "3              1  d0b61bfb1de832b15ba9d266ca96e5b0   \n",
       "4              1  65266b2da20d04dbe00c5c2d3bb7859e   \n",
       "\n",
       "                          seller_id shipping_limit_date   price  freight_value  \n",
       "0  3504c0cb71d7fa48d967e0e4c94d59d9 2017-10-06 11:07:15   29.99           8.72  \n",
       "1  289cdb325fb7e7f891c38608bf9e0962 2018-07-30 03:24:27  118.70          22.76  \n",
       "2  4869f7a5dfa277a7dca6462dcf3b52b2 2018-08-13 08:55:23  159.90          19.22  \n",
       "3  66922902710d126a0e7d26b0e3805106 2017-11-23 19:45:59   45.00          27.20  \n",
       "4  2c9e548be18521d1c43cde1c582c6de8 2018-02-19 20:31:37   19.90           8.72  "
      ]
     },
     "execution_count": 67,
     "metadata": {},
     "output_type": "execute_result"
    }
   ],
   "source": [
    "df_full = olist_orders_dataset.merge(olist_customers_dataset, how = 'inner', on = 'customer_id')\\\n",
    "                              .merge(olist_order_items_dataset, how = 'inner', on = 'order_id')\n",
    "df_full.head()"
   ]
  },
  {
   "cell_type": "markdown",
   "metadata": {},
   "source": [
    "Отфильтруем данные, оставив только те, которые являются покупками. О том как это делали, написано ранее."
   ]
  },
  {
   "cell_type": "code",
   "execution_count": 68,
   "metadata": {
    "scrolled": false
   },
   "outputs": [
    {
     "data": {
      "text/html": [
       "<div>\n",
       "<style scoped>\n",
       "    .dataframe tbody tr th:only-of-type {\n",
       "        vertical-align: middle;\n",
       "    }\n",
       "\n",
       "    .dataframe tbody tr th {\n",
       "        vertical-align: top;\n",
       "    }\n",
       "\n",
       "    .dataframe thead th {\n",
       "        text-align: right;\n",
       "    }\n",
       "</style>\n",
       "<table border=\"1\" class=\"dataframe\">\n",
       "  <thead>\n",
       "    <tr style=\"text-align: right;\">\n",
       "      <th></th>\n",
       "      <th>order_id</th>\n",
       "      <th>customer_id</th>\n",
       "      <th>order_status</th>\n",
       "      <th>order_purchase_timestamp</th>\n",
       "      <th>order_approved_at</th>\n",
       "      <th>order_delivered_carrier_date</th>\n",
       "      <th>order_delivered_customer_date</th>\n",
       "      <th>order_estimated_delivery_date</th>\n",
       "      <th>customer_unique_id</th>\n",
       "      <th>customer_zip_code_prefix</th>\n",
       "      <th>customer_city</th>\n",
       "      <th>customer_state</th>\n",
       "      <th>order_item_id</th>\n",
       "      <th>product_id</th>\n",
       "      <th>seller_id</th>\n",
       "      <th>shipping_limit_date</th>\n",
       "      <th>price</th>\n",
       "      <th>freight_value</th>\n",
       "    </tr>\n",
       "  </thead>\n",
       "  <tbody>\n",
       "    <tr>\n",
       "      <th>0</th>\n",
       "      <td>e481f51cbdc54678b7cc49136f2d6af7</td>\n",
       "      <td>9ef432eb6251297304e76186b10a928d</td>\n",
       "      <td>delivered</td>\n",
       "      <td>2017-10-02 10:56:33</td>\n",
       "      <td>2017-10-02 11:07:15</td>\n",
       "      <td>2017-10-04 19:55:00</td>\n",
       "      <td>2017-10-10 21:25:13</td>\n",
       "      <td>2017-10-18</td>\n",
       "      <td>7c396fd4830fd04220f754e42b4e5bff</td>\n",
       "      <td>3149</td>\n",
       "      <td>sao paulo</td>\n",
       "      <td>SP</td>\n",
       "      <td>1</td>\n",
       "      <td>87285b34884572647811a353c7ac498a</td>\n",
       "      <td>3504c0cb71d7fa48d967e0e4c94d59d9</td>\n",
       "      <td>2017-10-06 11:07:15</td>\n",
       "      <td>29.99</td>\n",
       "      <td>8.72</td>\n",
       "    </tr>\n",
       "    <tr>\n",
       "      <th>1</th>\n",
       "      <td>53cdb2fc8bc7dce0b6741e2150273451</td>\n",
       "      <td>b0830fb4747a6c6d20dea0b8c802d7ef</td>\n",
       "      <td>delivered</td>\n",
       "      <td>2018-07-24 20:41:37</td>\n",
       "      <td>2018-07-26 03:24:27</td>\n",
       "      <td>2018-07-26 14:31:00</td>\n",
       "      <td>2018-08-07 15:27:45</td>\n",
       "      <td>2018-08-13</td>\n",
       "      <td>af07308b275d755c9edb36a90c618231</td>\n",
       "      <td>47813</td>\n",
       "      <td>barreiras</td>\n",
       "      <td>BA</td>\n",
       "      <td>1</td>\n",
       "      <td>595fac2a385ac33a80bd5114aec74eb8</td>\n",
       "      <td>289cdb325fb7e7f891c38608bf9e0962</td>\n",
       "      <td>2018-07-30 03:24:27</td>\n",
       "      <td>118.70</td>\n",
       "      <td>22.76</td>\n",
       "    </tr>\n",
       "    <tr>\n",
       "      <th>2</th>\n",
       "      <td>47770eb9100c2d0c44946d9cf07ec65d</td>\n",
       "      <td>41ce2a54c0b03bf3443c3d931a367089</td>\n",
       "      <td>delivered</td>\n",
       "      <td>2018-08-08 08:38:49</td>\n",
       "      <td>2018-08-08 08:55:23</td>\n",
       "      <td>2018-08-08 13:50:00</td>\n",
       "      <td>2018-08-17 18:06:29</td>\n",
       "      <td>2018-09-04</td>\n",
       "      <td>3a653a41f6f9fc3d2a113cf8398680e8</td>\n",
       "      <td>75265</td>\n",
       "      <td>vianopolis</td>\n",
       "      <td>GO</td>\n",
       "      <td>1</td>\n",
       "      <td>aa4383b373c6aca5d8797843e5594415</td>\n",
       "      <td>4869f7a5dfa277a7dca6462dcf3b52b2</td>\n",
       "      <td>2018-08-13 08:55:23</td>\n",
       "      <td>159.90</td>\n",
       "      <td>19.22</td>\n",
       "    </tr>\n",
       "    <tr>\n",
       "      <th>3</th>\n",
       "      <td>949d5b44dbf5de918fe9c16f97b45f8a</td>\n",
       "      <td>f88197465ea7920adcdbec7375364d82</td>\n",
       "      <td>delivered</td>\n",
       "      <td>2017-11-18 19:28:06</td>\n",
       "      <td>2017-11-18 19:45:59</td>\n",
       "      <td>2017-11-22 13:39:59</td>\n",
       "      <td>2017-12-02 00:28:42</td>\n",
       "      <td>2017-12-15</td>\n",
       "      <td>7c142cf63193a1473d2e66489a9ae977</td>\n",
       "      <td>59296</td>\n",
       "      <td>sao goncalo do amarante</td>\n",
       "      <td>RN</td>\n",
       "      <td>1</td>\n",
       "      <td>d0b61bfb1de832b15ba9d266ca96e5b0</td>\n",
       "      <td>66922902710d126a0e7d26b0e3805106</td>\n",
       "      <td>2017-11-23 19:45:59</td>\n",
       "      <td>45.00</td>\n",
       "      <td>27.20</td>\n",
       "    </tr>\n",
       "    <tr>\n",
       "      <th>4</th>\n",
       "      <td>ad21c59c0840e6cb83a9ceb5573f8159</td>\n",
       "      <td>8ab97904e6daea8866dbdbc4fb7aad2c</td>\n",
       "      <td>delivered</td>\n",
       "      <td>2018-02-13 21:18:39</td>\n",
       "      <td>2018-02-13 22:20:29</td>\n",
       "      <td>2018-02-14 19:46:34</td>\n",
       "      <td>2018-02-16 18:17:02</td>\n",
       "      <td>2018-02-26</td>\n",
       "      <td>72632f0f9dd73dfee390c9b22eb56dd6</td>\n",
       "      <td>9195</td>\n",
       "      <td>santo andre</td>\n",
       "      <td>SP</td>\n",
       "      <td>1</td>\n",
       "      <td>65266b2da20d04dbe00c5c2d3bb7859e</td>\n",
       "      <td>2c9e548be18521d1c43cde1c582c6de8</td>\n",
       "      <td>2018-02-19 20:31:37</td>\n",
       "      <td>19.90</td>\n",
       "      <td>8.72</td>\n",
       "    </tr>\n",
       "  </tbody>\n",
       "</table>\n",
       "</div>"
      ],
      "text/plain": [
       "                           order_id                       customer_id  \\\n",
       "0  e481f51cbdc54678b7cc49136f2d6af7  9ef432eb6251297304e76186b10a928d   \n",
       "1  53cdb2fc8bc7dce0b6741e2150273451  b0830fb4747a6c6d20dea0b8c802d7ef   \n",
       "2  47770eb9100c2d0c44946d9cf07ec65d  41ce2a54c0b03bf3443c3d931a367089   \n",
       "3  949d5b44dbf5de918fe9c16f97b45f8a  f88197465ea7920adcdbec7375364d82   \n",
       "4  ad21c59c0840e6cb83a9ceb5573f8159  8ab97904e6daea8866dbdbc4fb7aad2c   \n",
       "\n",
       "  order_status order_purchase_timestamp   order_approved_at  \\\n",
       "0    delivered      2017-10-02 10:56:33 2017-10-02 11:07:15   \n",
       "1    delivered      2018-07-24 20:41:37 2018-07-26 03:24:27   \n",
       "2    delivered      2018-08-08 08:38:49 2018-08-08 08:55:23   \n",
       "3    delivered      2017-11-18 19:28:06 2017-11-18 19:45:59   \n",
       "4    delivered      2018-02-13 21:18:39 2018-02-13 22:20:29   \n",
       "\n",
       "  order_delivered_carrier_date order_delivered_customer_date  \\\n",
       "0          2017-10-04 19:55:00           2017-10-10 21:25:13   \n",
       "1          2018-07-26 14:31:00           2018-08-07 15:27:45   \n",
       "2          2018-08-08 13:50:00           2018-08-17 18:06:29   \n",
       "3          2017-11-22 13:39:59           2017-12-02 00:28:42   \n",
       "4          2018-02-14 19:46:34           2018-02-16 18:17:02   \n",
       "\n",
       "  order_estimated_delivery_date                customer_unique_id  \\\n",
       "0                    2017-10-18  7c396fd4830fd04220f754e42b4e5bff   \n",
       "1                    2018-08-13  af07308b275d755c9edb36a90c618231   \n",
       "2                    2018-09-04  3a653a41f6f9fc3d2a113cf8398680e8   \n",
       "3                    2017-12-15  7c142cf63193a1473d2e66489a9ae977   \n",
       "4                    2018-02-26  72632f0f9dd73dfee390c9b22eb56dd6   \n",
       "\n",
       "   customer_zip_code_prefix            customer_city customer_state  \\\n",
       "0                      3149                sao paulo             SP   \n",
       "1                     47813                barreiras             BA   \n",
       "2                     75265               vianopolis             GO   \n",
       "3                     59296  sao goncalo do amarante             RN   \n",
       "4                      9195              santo andre             SP   \n",
       "\n",
       "   order_item_id                        product_id  \\\n",
       "0              1  87285b34884572647811a353c7ac498a   \n",
       "1              1  595fac2a385ac33a80bd5114aec74eb8   \n",
       "2              1  aa4383b373c6aca5d8797843e5594415   \n",
       "3              1  d0b61bfb1de832b15ba9d266ca96e5b0   \n",
       "4              1  65266b2da20d04dbe00c5c2d3bb7859e   \n",
       "\n",
       "                          seller_id shipping_limit_date   price  freight_value  \n",
       "0  3504c0cb71d7fa48d967e0e4c94d59d9 2017-10-06 11:07:15   29.99           8.72  \n",
       "1  289cdb325fb7e7f891c38608bf9e0962 2018-07-30 03:24:27  118.70          22.76  \n",
       "2  4869f7a5dfa277a7dca6462dcf3b52b2 2018-08-13 08:55:23  159.90          19.22  \n",
       "3  66922902710d126a0e7d26b0e3805106 2017-11-23 19:45:59   45.00          27.20  \n",
       "4  2c9e548be18521d1c43cde1c582c6de8 2018-02-19 20:31:37   19.90           8.72  "
      ]
     },
     "execution_count": 68,
     "metadata": {},
     "output_type": "execute_result"
    }
   ],
   "source": [
    "df_full = df_full.query('order_status != [\"canceled\",\"unavailable\"] & order_approved_at != \"NaN\"')\n",
    "df_full.head()"
   ]
  },
  {
   "cell_type": "markdown",
   "metadata": {},
   "source": [
    "Посчитаем первую дату оплаты заказа."
   ]
  },
  {
   "cell_type": "code",
   "execution_count": 69,
   "metadata": {},
   "outputs": [
    {
     "name": "stdout",
     "output_type": "stream",
     "text": [
      "Первая дата оплаты заказа: 2016-09-15 12:16:38\n"
     ]
    }
   ],
   "source": [
    "min_order_approved_at = df_full.order_approved_at.min()\n",
    "print(f'Первая дата оплаты заказа: {min_order_approved_at}')"
   ]
  },
  {
   "cell_type": "markdown",
   "metadata": {},
   "source": [
    "Посчитаем последнюю дату оплаты заказа."
   ]
  },
  {
   "cell_type": "code",
   "execution_count": 70,
   "metadata": {},
   "outputs": [
    {
     "name": "stdout",
     "output_type": "stream",
     "text": [
      "Последняя дата оплаты заказа: 2018-09-03 17:40:06\n"
     ]
    }
   ],
   "source": [
    "max_order_approved_at = df_full.order_approved_at.max()\n",
    "print(f'Последняя дата оплаты заказа: {max_order_approved_at}')"
   ]
  },
  {
   "cell_type": "markdown",
   "metadata": {},
   "source": [
    "Так как данные у нас не новые, то за текущую дату будем считать последнюю дату покупки. В датасете последний заказ был сделан 2018-09-03."
   ]
  },
  {
   "cell_type": "code",
   "execution_count": 71,
   "metadata": {},
   "outputs": [
    {
     "data": {
      "text/plain": [
       "Timestamp('2018-09-03 17:40:06')"
      ]
     },
     "execution_count": 71,
     "metadata": {},
     "output_type": "execute_result"
    }
   ],
   "source": [
    "now_data = df_full.order_approved_at.max()\n",
    "now_data"
   ]
  },
  {
   "cell_type": "markdown",
   "metadata": {},
   "source": [
    "Чтобы извлечь эти значения для RFM-анализа, нам понадобятся только следующие столбцы из датасета: customer_unique_id, order_id, order_approved_at и price."
   ]
  },
  {
   "cell_type": "code",
   "execution_count": 72,
   "metadata": {},
   "outputs": [
    {
     "data": {
      "text/html": [
       "<div>\n",
       "<style scoped>\n",
       "    .dataframe tbody tr th:only-of-type {\n",
       "        vertical-align: middle;\n",
       "    }\n",
       "\n",
       "    .dataframe tbody tr th {\n",
       "        vertical-align: top;\n",
       "    }\n",
       "\n",
       "    .dataframe thead th {\n",
       "        text-align: right;\n",
       "    }\n",
       "</style>\n",
       "<table border=\"1\" class=\"dataframe\">\n",
       "  <thead>\n",
       "    <tr style=\"text-align: right;\">\n",
       "      <th></th>\n",
       "      <th>customer_unique_id</th>\n",
       "      <th>recency</th>\n",
       "      <th>frequency</th>\n",
       "      <th>monetary_value</th>\n",
       "    </tr>\n",
       "  </thead>\n",
       "  <tbody>\n",
       "    <tr>\n",
       "      <th>0</th>\n",
       "      <td>0000366f3b9a7992bf8c76cfdf3221e2</td>\n",
       "      <td>116</td>\n",
       "      <td>1</td>\n",
       "      <td>129.90</td>\n",
       "    </tr>\n",
       "    <tr>\n",
       "      <th>1</th>\n",
       "      <td>0000b849f77a49e4a4ce2b2a4ca5be3f</td>\n",
       "      <td>118</td>\n",
       "      <td>1</td>\n",
       "      <td>18.90</td>\n",
       "    </tr>\n",
       "    <tr>\n",
       "      <th>2</th>\n",
       "      <td>0000f46a3911fa3c0805444483337064</td>\n",
       "      <td>541</td>\n",
       "      <td>1</td>\n",
       "      <td>69.00</td>\n",
       "    </tr>\n",
       "    <tr>\n",
       "      <th>3</th>\n",
       "      <td>0000f6ccb0745a6a4b88665a16c9f078</td>\n",
       "      <td>325</td>\n",
       "      <td>1</td>\n",
       "      <td>25.99</td>\n",
       "    </tr>\n",
       "    <tr>\n",
       "      <th>4</th>\n",
       "      <td>0004aac84e0df4da2b147fca70cf8255</td>\n",
       "      <td>292</td>\n",
       "      <td>1</td>\n",
       "      <td>180.00</td>\n",
       "    </tr>\n",
       "  </tbody>\n",
       "</table>\n",
       "</div>"
      ],
      "text/plain": [
       "                 customer_unique_id  recency  frequency  monetary_value\n",
       "0  0000366f3b9a7992bf8c76cfdf3221e2      116          1          129.90\n",
       "1  0000b849f77a49e4a4ce2b2a4ca5be3f      118          1           18.90\n",
       "2  0000f46a3911fa3c0805444483337064      541          1           69.00\n",
       "3  0000f6ccb0745a6a4b88665a16c9f078      325          1           25.99\n",
       "4  0004aac84e0df4da2b147fca70cf8255      292          1          180.00"
      ]
     },
     "execution_count": 72,
     "metadata": {},
     "output_type": "execute_result"
    }
   ],
   "source": [
    "rfm_table = df_full.groupby('customer_unique_id', as_index=False).agg({'order_approved_at': lambda x:(now_data - x.max()).days,\n",
    "                                                                         'order_id': 'count', \n",
    "                                                                         'price': 'sum'})\n",
    "rfm_table = rfm_table.rename(columns = {'order_approved_at': 'recency',\n",
    "                            'order_id': 'frequency',\n",
    "                            'price': 'monetary_value'})\n",
    "\n",
    "rfm_table.head()"
   ]
  },
  {
   "cell_type": "markdown",
   "metadata": {},
   "source": [
    "Расчитаем показатели при помощи квинтилей 0.33, 0.66, чтобы посмотреть как можно разбить пользователей по сегментам."
   ]
  },
  {
   "cell_type": "code",
   "execution_count": 73,
   "metadata": {},
   "outputs": [
    {
     "data": {
      "text/html": [
       "<div>\n",
       "<style scoped>\n",
       "    .dataframe tbody tr th:only-of-type {\n",
       "        vertical-align: middle;\n",
       "    }\n",
       "\n",
       "    .dataframe tbody tr th {\n",
       "        vertical-align: top;\n",
       "    }\n",
       "\n",
       "    .dataframe thead th {\n",
       "        text-align: right;\n",
       "    }\n",
       "</style>\n",
       "<table border=\"1\" class=\"dataframe\">\n",
       "  <thead>\n",
       "    <tr style=\"text-align: right;\">\n",
       "      <th></th>\n",
       "      <th>recency</th>\n",
       "      <th>frequency</th>\n",
       "      <th>monetary_value</th>\n",
       "    </tr>\n",
       "  </thead>\n",
       "  <tbody>\n",
       "    <tr>\n",
       "      <th>0.33</th>\n",
       "      <td>152.0</td>\n",
       "      <td>1.0</td>\n",
       "      <td>57.99</td>\n",
       "    </tr>\n",
       "    <tr>\n",
       "      <th>0.66</th>\n",
       "      <td>291.0</td>\n",
       "      <td>1.0</td>\n",
       "      <td>124.99</td>\n",
       "    </tr>\n",
       "  </tbody>\n",
       "</table>\n",
       "</div>"
      ],
      "text/plain": [
       "      recency  frequency  monetary_value\n",
       "0.33    152.0        1.0           57.99\n",
       "0.66    291.0        1.0          124.99"
      ]
     },
     "execution_count": 73,
     "metadata": {},
     "output_type": "execute_result"
    }
   ],
   "source": [
    "quantiles = rfm_table.quantile(q=[0.33,0.66])\n",
    "quantiles"
   ]
  },
  {
   "cell_type": "markdown",
   "metadata": {},
   "source": [
    "Наблюдаем, что почти для всех квантилей frequency равно единице, что говорит нам о том, что чаще всего пользователи совершают покупку только один раз. "
   ]
  },
  {
   "cell_type": "markdown",
   "metadata": {},
   "source": [
    "Не совсем понятно, что происходит с суммарным количеством покупок у пользователя за всё время. Думаю, стоит посмотреть на описательную статистику и принять решение."
   ]
  },
  {
   "cell_type": "markdown",
   "metadata": {},
   "source": [
    "Посмотрим на описательную статистику rfm_table."
   ]
  },
  {
   "cell_type": "code",
   "execution_count": 74,
   "metadata": {},
   "outputs": [
    {
     "data": {
      "text/html": [
       "<div>\n",
       "<style scoped>\n",
       "    .dataframe tbody tr th:only-of-type {\n",
       "        vertical-align: middle;\n",
       "    }\n",
       "\n",
       "    .dataframe tbody tr th {\n",
       "        vertical-align: top;\n",
       "    }\n",
       "\n",
       "    .dataframe thead th {\n",
       "        text-align: right;\n",
       "    }\n",
       "</style>\n",
       "<table border=\"1\" class=\"dataframe\">\n",
       "  <thead>\n",
       "    <tr style=\"text-align: right;\">\n",
       "      <th></th>\n",
       "      <th>recency</th>\n",
       "      <th>frequency</th>\n",
       "      <th>monetary_value</th>\n",
       "    </tr>\n",
       "  </thead>\n",
       "  <tbody>\n",
       "    <tr>\n",
       "      <th>count</th>\n",
       "      <td>94970.000000</td>\n",
       "      <td>94970.000000</td>\n",
       "      <td>94970.000000</td>\n",
       "    </tr>\n",
       "    <tr>\n",
       "      <th>mean</th>\n",
       "      <td>242.475519</td>\n",
       "      <td>1.180225</td>\n",
       "      <td>142.073605</td>\n",
       "    </tr>\n",
       "    <tr>\n",
       "      <th>std</th>\n",
       "      <td>152.952043</td>\n",
       "      <td>0.620621</td>\n",
       "      <td>216.085833</td>\n",
       "    </tr>\n",
       "    <tr>\n",
       "      <th>min</th>\n",
       "      <td>0.000000</td>\n",
       "      <td>1.000000</td>\n",
       "      <td>0.850000</td>\n",
       "    </tr>\n",
       "    <tr>\n",
       "      <th>25%</th>\n",
       "      <td>118.000000</td>\n",
       "      <td>1.000000</td>\n",
       "      <td>47.900000</td>\n",
       "    </tr>\n",
       "    <tr>\n",
       "      <th>50%</th>\n",
       "      <td>223.000000</td>\n",
       "      <td>1.000000</td>\n",
       "      <td>89.890000</td>\n",
       "    </tr>\n",
       "    <tr>\n",
       "      <th>75%</th>\n",
       "      <td>351.000000</td>\n",
       "      <td>1.000000</td>\n",
       "      <td>155.000000</td>\n",
       "    </tr>\n",
       "    <tr>\n",
       "      <th>max</th>\n",
       "      <td>718.000000</td>\n",
       "      <td>24.000000</td>\n",
       "      <td>13440.000000</td>\n",
       "    </tr>\n",
       "  </tbody>\n",
       "</table>\n",
       "</div>"
      ],
      "text/plain": [
       "            recency     frequency  monetary_value\n",
       "count  94970.000000  94970.000000    94970.000000\n",
       "mean     242.475519      1.180225      142.073605\n",
       "std      152.952043      0.620621      216.085833\n",
       "min        0.000000      1.000000        0.850000\n",
       "25%      118.000000      1.000000       47.900000\n",
       "50%      223.000000      1.000000       89.890000\n",
       "75%      351.000000      1.000000      155.000000\n",
       "max      718.000000     24.000000    13440.000000"
      ]
     },
     "execution_count": 74,
     "metadata": {},
     "output_type": "execute_result"
    }
   ],
   "source": [
    "rfm_table.describe()"
   ]
  },
  {
   "cell_type": "markdown",
   "metadata": {},
   "source": [
    "Разбить пользователей на более точные сегменты нужно вручную (по крайней мере по frequency и monetary_value), так как при использовании метода квинтилей практически у всех сегментов сумарное количество покупок будет равнятся единице, что не совсем верно, и сумма покупок за всё время не будет отображать нужной картины (так как больше 75% данных лежат в промежутке от 0.85 до 155)."
   ]
  },
  {
   "cell_type": "markdown",
   "metadata": {},
   "source": [
    "### Recency - время от последней покупки пользователя до текущей даты"
   ]
  },
  {
   "cell_type": "markdown",
   "metadata": {},
   "source": [
    "Напишем функцию, с помощью которой разделим пользователей по времени от последней покупки до текущей даты на ранги."
   ]
  },
  {
   "cell_type": "code",
   "execution_count": 75,
   "metadata": {},
   "outputs": [],
   "source": [
    "quantiles = quantiles.to_dict()\n",
    "# Arguments (x = value, p = recency)\n",
    "def r_class(x,p,d):\n",
    "    if x <= d[p][0.33]:\n",
    "        return 1\n",
    "    elif x <= d[p][0.66]:\n",
    "        return 2\n",
    "    else:\n",
    "        return 3"
   ]
  },
  {
   "cell_type": "markdown",
   "metadata": {},
   "source": [
    "Добавим ранги в таблицу rfm_table в столбец r."
   ]
  },
  {
   "cell_type": "code",
   "execution_count": 76,
   "metadata": {
    "scrolled": true
   },
   "outputs": [
    {
     "data": {
      "text/html": [
       "<div>\n",
       "<style scoped>\n",
       "    .dataframe tbody tr th:only-of-type {\n",
       "        vertical-align: middle;\n",
       "    }\n",
       "\n",
       "    .dataframe tbody tr th {\n",
       "        vertical-align: top;\n",
       "    }\n",
       "\n",
       "    .dataframe thead th {\n",
       "        text-align: right;\n",
       "    }\n",
       "</style>\n",
       "<table border=\"1\" class=\"dataframe\">\n",
       "  <thead>\n",
       "    <tr style=\"text-align: right;\">\n",
       "      <th></th>\n",
       "      <th>customer_unique_id</th>\n",
       "      <th>recency</th>\n",
       "      <th>frequency</th>\n",
       "      <th>monetary_value</th>\n",
       "      <th>r</th>\n",
       "    </tr>\n",
       "  </thead>\n",
       "  <tbody>\n",
       "    <tr>\n",
       "      <th>0</th>\n",
       "      <td>0000366f3b9a7992bf8c76cfdf3221e2</td>\n",
       "      <td>116</td>\n",
       "      <td>1</td>\n",
       "      <td>129.90</td>\n",
       "      <td>1</td>\n",
       "    </tr>\n",
       "    <tr>\n",
       "      <th>1</th>\n",
       "      <td>0000b849f77a49e4a4ce2b2a4ca5be3f</td>\n",
       "      <td>118</td>\n",
       "      <td>1</td>\n",
       "      <td>18.90</td>\n",
       "      <td>1</td>\n",
       "    </tr>\n",
       "    <tr>\n",
       "      <th>2</th>\n",
       "      <td>0000f46a3911fa3c0805444483337064</td>\n",
       "      <td>541</td>\n",
       "      <td>1</td>\n",
       "      <td>69.00</td>\n",
       "      <td>3</td>\n",
       "    </tr>\n",
       "    <tr>\n",
       "      <th>3</th>\n",
       "      <td>0000f6ccb0745a6a4b88665a16c9f078</td>\n",
       "      <td>325</td>\n",
       "      <td>1</td>\n",
       "      <td>25.99</td>\n",
       "      <td>3</td>\n",
       "    </tr>\n",
       "    <tr>\n",
       "      <th>4</th>\n",
       "      <td>0004aac84e0df4da2b147fca70cf8255</td>\n",
       "      <td>292</td>\n",
       "      <td>1</td>\n",
       "      <td>180.00</td>\n",
       "      <td>3</td>\n",
       "    </tr>\n",
       "  </tbody>\n",
       "</table>\n",
       "</div>"
      ],
      "text/plain": [
       "                 customer_unique_id  recency  frequency  monetary_value  r\n",
       "0  0000366f3b9a7992bf8c76cfdf3221e2      116          1          129.90  1\n",
       "1  0000b849f77a49e4a4ce2b2a4ca5be3f      118          1           18.90  1\n",
       "2  0000f46a3911fa3c0805444483337064      541          1           69.00  3\n",
       "3  0000f6ccb0745a6a4b88665a16c9f078      325          1           25.99  3\n",
       "4  0004aac84e0df4da2b147fca70cf8255      292          1          180.00  3"
      ]
     },
     "execution_count": 76,
     "metadata": {},
     "output_type": "execute_result"
    }
   ],
   "source": [
    "rfm_table['r'] = rfm_table.recency.apply(r_class, args=('recency',quantiles,))\n",
    "rfm_table.head()"
   ]
  },
  {
   "cell_type": "markdown",
   "metadata": {},
   "source": [
    "Посмотрим на количество пользователей разбитых на ранги в столбце r."
   ]
  },
  {
   "cell_type": "code",
   "execution_count": 77,
   "metadata": {
    "scrolled": false
   },
   "outputs": [
    {
     "data": {
      "text/plain": [
       "3    32172\n",
       "1    31516\n",
       "2    31282\n",
       "Name: r, dtype: int64"
      ]
     },
     "execution_count": 77,
     "metadata": {},
     "output_type": "execute_result"
    }
   ],
   "source": [
    "rfm_table.r.value_counts()"
   ]
  },
  {
   "cell_type": "markdown",
   "metadata": {},
   "source": [
    "Разделили пользователей на ранги по recency, где:\n",
    "\n",
    "1 - время от последней покупки пользователя до текущей даты меньше пяти месяцев\n",
    "\n",
    "2 - время от последней покупки пользователя до текущей даты от пяти до десяти месяцев\n",
    "\n",
    "3 - время от последней покупки пользователя до текущей даты больше десяти месяцев"
   ]
  },
  {
   "cell_type": "markdown",
   "metadata": {},
   "source": [
    "### Frequency - суммарное количество покупок у пользователя за всё время"
   ]
  },
  {
   "cell_type": "markdown",
   "metadata": {},
   "source": [
    "Посмотрим какое количество покупок встречается в таблице."
   ]
  },
  {
   "cell_type": "code",
   "execution_count": 78,
   "metadata": {},
   "outputs": [
    {
     "data": {
      "text/plain": [
       "array([ 1,  2,  4,  3,  7,  5,  6, 12, 10,  8, 18, 15,  9, 14, 11, 21, 20,\n",
       "       13, 16, 24])"
      ]
     },
     "execution_count": 78,
     "metadata": {},
     "output_type": "execute_result"
    }
   ],
   "source": [
    "rfm_table.frequency.unique()"
   ]
  },
  {
   "cell_type": "markdown",
   "metadata": {},
   "source": [
    "Теперь посмотрим на то, как часто встречается разное количество покупок."
   ]
  },
  {
   "cell_type": "code",
   "execution_count": 79,
   "metadata": {},
   "outputs": [
    {
     "data": {
      "text/plain": [
       "1     83168\n",
       "2      8948\n",
       "3      1667\n",
       "4       629\n",
       "5       246\n",
       "6       195\n",
       "7        46\n",
       "8        16\n",
       "9        11\n",
       "10       11\n",
       "11       11\n",
       "12        9\n",
       "14        3\n",
       "13        2\n",
       "15        2\n",
       "20        2\n",
       "21        1\n",
       "16        1\n",
       "18        1\n",
       "24        1\n",
       "Name: frequency, dtype: int64"
      ]
     },
     "execution_count": 79,
     "metadata": {},
     "output_type": "execute_result"
    }
   ],
   "source": [
    "rfm_table.frequency.value_counts()"
   ]
  },
  {
   "cell_type": "markdown",
   "metadata": {},
   "source": [
    "Разделим пользователей, используя четыре диапазона. \n",
    "\n",
    "* пользователи, совершившие одну покупку\n",
    "* пользователи совершившие две-три покупки\n",
    "* пользователи совершившие четыре и более покупок"
   ]
  },
  {
   "cell_type": "markdown",
   "metadata": {},
   "source": [
    "Напишем функцию, с помощью которой разделим пользователей по суммарну количеству покупок за всё время на ранги. "
   ]
  },
  {
   "cell_type": "code",
   "execution_count": 80,
   "metadata": {},
   "outputs": [],
   "source": [
    "def f_class(x):\n",
    "  if x == 1:\n",
    "    return 3\n",
    "  elif x == 2 or x == 3:\n",
    "    return 2\n",
    "  else:\n",
    "    return 1"
   ]
  },
  {
   "cell_type": "markdown",
   "metadata": {},
   "source": [
    "Добавим ранги в таблицу rfm_table в столбец f."
   ]
  },
  {
   "cell_type": "code",
   "execution_count": 81,
   "metadata": {},
   "outputs": [
    {
     "data": {
      "text/html": [
       "<div>\n",
       "<style scoped>\n",
       "    .dataframe tbody tr th:only-of-type {\n",
       "        vertical-align: middle;\n",
       "    }\n",
       "\n",
       "    .dataframe tbody tr th {\n",
       "        vertical-align: top;\n",
       "    }\n",
       "\n",
       "    .dataframe thead th {\n",
       "        text-align: right;\n",
       "    }\n",
       "</style>\n",
       "<table border=\"1\" class=\"dataframe\">\n",
       "  <thead>\n",
       "    <tr style=\"text-align: right;\">\n",
       "      <th></th>\n",
       "      <th>customer_unique_id</th>\n",
       "      <th>recency</th>\n",
       "      <th>frequency</th>\n",
       "      <th>monetary_value</th>\n",
       "      <th>r</th>\n",
       "      <th>f</th>\n",
       "    </tr>\n",
       "  </thead>\n",
       "  <tbody>\n",
       "    <tr>\n",
       "      <th>0</th>\n",
       "      <td>0000366f3b9a7992bf8c76cfdf3221e2</td>\n",
       "      <td>116</td>\n",
       "      <td>1</td>\n",
       "      <td>129.90</td>\n",
       "      <td>1</td>\n",
       "      <td>3</td>\n",
       "    </tr>\n",
       "    <tr>\n",
       "      <th>1</th>\n",
       "      <td>0000b849f77a49e4a4ce2b2a4ca5be3f</td>\n",
       "      <td>118</td>\n",
       "      <td>1</td>\n",
       "      <td>18.90</td>\n",
       "      <td>1</td>\n",
       "      <td>3</td>\n",
       "    </tr>\n",
       "    <tr>\n",
       "      <th>2</th>\n",
       "      <td>0000f46a3911fa3c0805444483337064</td>\n",
       "      <td>541</td>\n",
       "      <td>1</td>\n",
       "      <td>69.00</td>\n",
       "      <td>3</td>\n",
       "      <td>3</td>\n",
       "    </tr>\n",
       "    <tr>\n",
       "      <th>3</th>\n",
       "      <td>0000f6ccb0745a6a4b88665a16c9f078</td>\n",
       "      <td>325</td>\n",
       "      <td>1</td>\n",
       "      <td>25.99</td>\n",
       "      <td>3</td>\n",
       "      <td>3</td>\n",
       "    </tr>\n",
       "    <tr>\n",
       "      <th>4</th>\n",
       "      <td>0004aac84e0df4da2b147fca70cf8255</td>\n",
       "      <td>292</td>\n",
       "      <td>1</td>\n",
       "      <td>180.00</td>\n",
       "      <td>3</td>\n",
       "      <td>3</td>\n",
       "    </tr>\n",
       "  </tbody>\n",
       "</table>\n",
       "</div>"
      ],
      "text/plain": [
       "                 customer_unique_id  recency  frequency  monetary_value  r  f\n",
       "0  0000366f3b9a7992bf8c76cfdf3221e2      116          1          129.90  1  3\n",
       "1  0000b849f77a49e4a4ce2b2a4ca5be3f      118          1           18.90  1  3\n",
       "2  0000f46a3911fa3c0805444483337064      541          1           69.00  3  3\n",
       "3  0000f6ccb0745a6a4b88665a16c9f078      325          1           25.99  3  3\n",
       "4  0004aac84e0df4da2b147fca70cf8255      292          1          180.00  3  3"
      ]
     },
     "execution_count": 81,
     "metadata": {},
     "output_type": "execute_result"
    }
   ],
   "source": [
    "rfm_table['f'] = rfm_table.frequency.apply(lambda x: f_class(x))\n",
    "rfm_table.head()"
   ]
  },
  {
   "cell_type": "markdown",
   "metadata": {},
   "source": [
    "Посмотрим на количество пользователей разбитых на ранги в столбце f."
   ]
  },
  {
   "cell_type": "code",
   "execution_count": 82,
   "metadata": {},
   "outputs": [
    {
     "data": {
      "text/plain": [
       "3    83168\n",
       "2    10615\n",
       "1     1187\n",
       "Name: f, dtype: int64"
      ]
     },
     "execution_count": 82,
     "metadata": {},
     "output_type": "execute_result"
    }
   ],
   "source": [
    "rfm_table.f.value_counts()"
   ]
  },
  {
   "cell_type": "markdown",
   "metadata": {},
   "source": [
    "Разделили пользователей на ранги по frequency, где:\n",
    "\n",
    "3 - пользователи, совершившие одну покупку\n",
    "\n",
    "2 - пользователи совершившие две-три покупки\n",
    "\n",
    "1 - пользователи совершившие четыре и более покупок"
   ]
  },
  {
   "cell_type": "markdown",
   "metadata": {},
   "source": [
    "### Monetary_value - сумма покупок за всё время"
   ]
  },
  {
   "cell_type": "markdown",
   "metadata": {},
   "source": [
    "Напишем функцию, с помощью которой разделим пользователей по сумме покупок за всё время на ранги."
   ]
  },
  {
   "cell_type": "code",
   "execution_count": 83,
   "metadata": {},
   "outputs": [],
   "source": [
    " def m_class(x):\n",
    "  if x < 50:\n",
    "    return 3\n",
    "  elif x >= 50 and x <= 150:\n",
    "    return 2\n",
    "  else:\n",
    "    return 1"
   ]
  },
  {
   "cell_type": "markdown",
   "metadata": {},
   "source": [
    "Добавим ранги в таблицу rfm_table в столбец m."
   ]
  },
  {
   "cell_type": "code",
   "execution_count": 84,
   "metadata": {
    "scrolled": true
   },
   "outputs": [
    {
     "data": {
      "text/html": [
       "<div>\n",
       "<style scoped>\n",
       "    .dataframe tbody tr th:only-of-type {\n",
       "        vertical-align: middle;\n",
       "    }\n",
       "\n",
       "    .dataframe tbody tr th {\n",
       "        vertical-align: top;\n",
       "    }\n",
       "\n",
       "    .dataframe thead th {\n",
       "        text-align: right;\n",
       "    }\n",
       "</style>\n",
       "<table border=\"1\" class=\"dataframe\">\n",
       "  <thead>\n",
       "    <tr style=\"text-align: right;\">\n",
       "      <th></th>\n",
       "      <th>customer_unique_id</th>\n",
       "      <th>recency</th>\n",
       "      <th>frequency</th>\n",
       "      <th>monetary_value</th>\n",
       "      <th>r</th>\n",
       "      <th>f</th>\n",
       "      <th>m</th>\n",
       "    </tr>\n",
       "  </thead>\n",
       "  <tbody>\n",
       "    <tr>\n",
       "      <th>0</th>\n",
       "      <td>0000366f3b9a7992bf8c76cfdf3221e2</td>\n",
       "      <td>116</td>\n",
       "      <td>1</td>\n",
       "      <td>129.90</td>\n",
       "      <td>1</td>\n",
       "      <td>3</td>\n",
       "      <td>2</td>\n",
       "    </tr>\n",
       "    <tr>\n",
       "      <th>1</th>\n",
       "      <td>0000b849f77a49e4a4ce2b2a4ca5be3f</td>\n",
       "      <td>118</td>\n",
       "      <td>1</td>\n",
       "      <td>18.90</td>\n",
       "      <td>1</td>\n",
       "      <td>3</td>\n",
       "      <td>3</td>\n",
       "    </tr>\n",
       "    <tr>\n",
       "      <th>2</th>\n",
       "      <td>0000f46a3911fa3c0805444483337064</td>\n",
       "      <td>541</td>\n",
       "      <td>1</td>\n",
       "      <td>69.00</td>\n",
       "      <td>3</td>\n",
       "      <td>3</td>\n",
       "      <td>2</td>\n",
       "    </tr>\n",
       "    <tr>\n",
       "      <th>3</th>\n",
       "      <td>0000f6ccb0745a6a4b88665a16c9f078</td>\n",
       "      <td>325</td>\n",
       "      <td>1</td>\n",
       "      <td>25.99</td>\n",
       "      <td>3</td>\n",
       "      <td>3</td>\n",
       "      <td>3</td>\n",
       "    </tr>\n",
       "    <tr>\n",
       "      <th>4</th>\n",
       "      <td>0004aac84e0df4da2b147fca70cf8255</td>\n",
       "      <td>292</td>\n",
       "      <td>1</td>\n",
       "      <td>180.00</td>\n",
       "      <td>3</td>\n",
       "      <td>3</td>\n",
       "      <td>1</td>\n",
       "    </tr>\n",
       "  </tbody>\n",
       "</table>\n",
       "</div>"
      ],
      "text/plain": [
       "                 customer_unique_id  recency  frequency  monetary_value  r  f  \\\n",
       "0  0000366f3b9a7992bf8c76cfdf3221e2      116          1          129.90  1  3   \n",
       "1  0000b849f77a49e4a4ce2b2a4ca5be3f      118          1           18.90  1  3   \n",
       "2  0000f46a3911fa3c0805444483337064      541          1           69.00  3  3   \n",
       "3  0000f6ccb0745a6a4b88665a16c9f078      325          1           25.99  3  3   \n",
       "4  0004aac84e0df4da2b147fca70cf8255      292          1          180.00  3  3   \n",
       "\n",
       "   m  \n",
       "0  2  \n",
       "1  3  \n",
       "2  2  \n",
       "3  3  \n",
       "4  1  "
      ]
     },
     "execution_count": 84,
     "metadata": {},
     "output_type": "execute_result"
    }
   ],
   "source": [
    "rfm_table['m'] = rfm_table.monetary_value.apply(lambda x: m_class(x))\n",
    "rfm_table.head()"
   ]
  },
  {
   "cell_type": "markdown",
   "metadata": {},
   "source": [
    "Посмотрим на количество пользователей разбитых на ранги в столбце m."
   ]
  },
  {
   "cell_type": "code",
   "execution_count": 85,
   "metadata": {
    "scrolled": true
   },
   "outputs": [
    {
     "data": {
      "text/plain": [
       "2    43324\n",
       "3    27461\n",
       "1    24185\n",
       "Name: m, dtype: int64"
      ]
     },
     "execution_count": 85,
     "metadata": {},
     "output_type": "execute_result"
    }
   ],
   "source": [
    "rfm_table.m.value_counts()"
   ]
  },
  {
   "cell_type": "markdown",
   "metadata": {},
   "source": [
    "Разделили пользователей на ранги по monetary_value, где:\n",
    "\n",
    "3 - сумма покупок пользователя за всё время меньше 50\n",
    "\n",
    "2 - сумма покупок пользователя за всё время от 50 до 150\n",
    "\n",
    "1 - сумма покупок пользователя за всё время больше 150"
   ]
  },
  {
   "cell_type": "markdown",
   "metadata": {},
   "source": [
    "Добавим столбец rfmclass, объединив все ранги."
   ]
  },
  {
   "cell_type": "code",
   "execution_count": 86,
   "metadata": {
    "scrolled": true
   },
   "outputs": [
    {
     "data": {
      "text/html": [
       "<div>\n",
       "<style scoped>\n",
       "    .dataframe tbody tr th:only-of-type {\n",
       "        vertical-align: middle;\n",
       "    }\n",
       "\n",
       "    .dataframe tbody tr th {\n",
       "        vertical-align: top;\n",
       "    }\n",
       "\n",
       "    .dataframe thead th {\n",
       "        text-align: right;\n",
       "    }\n",
       "</style>\n",
       "<table border=\"1\" class=\"dataframe\">\n",
       "  <thead>\n",
       "    <tr style=\"text-align: right;\">\n",
       "      <th></th>\n",
       "      <th>customer_unique_id</th>\n",
       "      <th>recency</th>\n",
       "      <th>frequency</th>\n",
       "      <th>monetary_value</th>\n",
       "      <th>r</th>\n",
       "      <th>f</th>\n",
       "      <th>m</th>\n",
       "      <th>rfmclass</th>\n",
       "    </tr>\n",
       "  </thead>\n",
       "  <tbody>\n",
       "    <tr>\n",
       "      <th>0</th>\n",
       "      <td>0000366f3b9a7992bf8c76cfdf3221e2</td>\n",
       "      <td>116</td>\n",
       "      <td>1</td>\n",
       "      <td>129.90</td>\n",
       "      <td>1</td>\n",
       "      <td>3</td>\n",
       "      <td>2</td>\n",
       "      <td>132</td>\n",
       "    </tr>\n",
       "    <tr>\n",
       "      <th>1</th>\n",
       "      <td>0000b849f77a49e4a4ce2b2a4ca5be3f</td>\n",
       "      <td>118</td>\n",
       "      <td>1</td>\n",
       "      <td>18.90</td>\n",
       "      <td>1</td>\n",
       "      <td>3</td>\n",
       "      <td>3</td>\n",
       "      <td>133</td>\n",
       "    </tr>\n",
       "    <tr>\n",
       "      <th>2</th>\n",
       "      <td>0000f46a3911fa3c0805444483337064</td>\n",
       "      <td>541</td>\n",
       "      <td>1</td>\n",
       "      <td>69.00</td>\n",
       "      <td>3</td>\n",
       "      <td>3</td>\n",
       "      <td>2</td>\n",
       "      <td>332</td>\n",
       "    </tr>\n",
       "    <tr>\n",
       "      <th>3</th>\n",
       "      <td>0000f6ccb0745a6a4b88665a16c9f078</td>\n",
       "      <td>325</td>\n",
       "      <td>1</td>\n",
       "      <td>25.99</td>\n",
       "      <td>3</td>\n",
       "      <td>3</td>\n",
       "      <td>3</td>\n",
       "      <td>333</td>\n",
       "    </tr>\n",
       "    <tr>\n",
       "      <th>4</th>\n",
       "      <td>0004aac84e0df4da2b147fca70cf8255</td>\n",
       "      <td>292</td>\n",
       "      <td>1</td>\n",
       "      <td>180.00</td>\n",
       "      <td>3</td>\n",
       "      <td>3</td>\n",
       "      <td>1</td>\n",
       "      <td>331</td>\n",
       "    </tr>\n",
       "  </tbody>\n",
       "</table>\n",
       "</div>"
      ],
      "text/plain": [
       "                 customer_unique_id  recency  frequency  monetary_value  r  f  \\\n",
       "0  0000366f3b9a7992bf8c76cfdf3221e2      116          1          129.90  1  3   \n",
       "1  0000b849f77a49e4a4ce2b2a4ca5be3f      118          1           18.90  1  3   \n",
       "2  0000f46a3911fa3c0805444483337064      541          1           69.00  3  3   \n",
       "3  0000f6ccb0745a6a4b88665a16c9f078      325          1           25.99  3  3   \n",
       "4  0004aac84e0df4da2b147fca70cf8255      292          1          180.00  3  3   \n",
       "\n",
       "   m rfmclass  \n",
       "0  2      132  \n",
       "1  3      133  \n",
       "2  2      332  \n",
       "3  3      333  \n",
       "4  1      331  "
      ]
     },
     "execution_count": 86,
     "metadata": {},
     "output_type": "execute_result"
    }
   ],
   "source": [
    "rfm_table['rfmclass'] = rfm_table.r.map(str) \\\n",
    "                            + rfm_table.f.map(str) \\\n",
    "                            + rfm_table.m.map(str)\n",
    "rfm_table.head()"
   ]
  },
  {
   "cell_type": "markdown",
   "metadata": {},
   "source": [
    "Посмотрим уникальные значения столбца rfmclass."
   ]
  },
  {
   "cell_type": "code",
   "execution_count": 87,
   "metadata": {},
   "outputs": [
    {
     "data": {
      "text/plain": [
       "array(['132', '133', '332', '333', '331', '131', '221', '232', '233',\n",
       "       '321', '111', '122', '323', '121', '231', '322', '123', '223',\n",
       "       '211', '311', '222', '312', '112', '212', '213', '113', '313'],\n",
       "      dtype=object)"
      ]
     },
     "execution_count": 87,
     "metadata": {},
     "output_type": "execute_result"
    }
   ],
   "source": [
    "rfm_table['rfmclass'].unique()"
   ]
  },
  {
   "cell_type": "markdown",
   "metadata": {},
   "source": [
    "Посмотрим количество уникальных значений столбца rfmclass."
   ]
  },
  {
   "cell_type": "code",
   "execution_count": 88,
   "metadata": {},
   "outputs": [
    {
     "data": {
      "text/plain": [
       "27"
      ]
     },
     "execution_count": 88,
     "metadata": {},
     "output_type": "execute_result"
    }
   ],
   "source": [
    "rfm_table['rfmclass'].nunique()"
   ]
  },
  {
   "cell_type": "markdown",
   "metadata": {},
   "source": [
    "Дадим описание классам, по которым будем разбивать наши классы."
   ]
  },
  {
   "cell_type": "markdown",
   "metadata": {},
   "source": [
    "* Потерянные - Давно не взаимодействуют с компанией.\n",
    "\n",
    "* Уходящие - Когда-то были хорошими покупателями.\n",
    "\n",
    "* Новички - При правильном взаимодействии могут стать постоянными клиентами.\n",
    "\n",
    "* Спящие - Такие покупатели помнят о компании, когда-то совершали покупки, но сейчас перестали это делать.\n",
    "\n",
    "* Киты - Взаимодействуют с компанией нерегулярно, но при этом тратят большие суммы.\n",
    "\n",
    "* Лояльные - Покупатели, которые тратят небольшие деньги, но при этом регулярно делают покупки.\n",
    "\n",
    "* Стратегически важные клиенты - Они регулярно совершают покупки и пользуются услугами."
   ]
  },
  {
   "cell_type": "markdown",
   "metadata": {},
   "source": [
    "Разобъем наши сегменты на более крупные классы, с помощью словаря."
   ]
  },
  {
   "cell_type": "code",
   "execution_count": 89,
   "metadata": {},
   "outputs": [],
   "source": [
    "dictionary = {  \n",
    "   'Потерянные': ['333', '332'],\n",
    "        \n",
    "    'Уходящие': ['331', '323', '322', '233'],\n",
    "      \n",
    "    'Новички': ['133', '132'],\n",
    "                                           \n",
    "    'Спящие': ['312', '313', '222'],\n",
    "    \n",
    "    'Киты': ['311', '321', '211', '221', '231'],\n",
    "    \n",
    "    'Лояльные': ['113', '123', '212', '213', '223', '232' ],\n",
    "    \n",
    "    'Стратегически важные клиенты': ['111', '112', '121', '122', '131'],\n",
    "    \n",
    "}"
   ]
  },
  {
   "cell_type": "markdown",
   "metadata": {},
   "source": [
    "Напишем функцию которая вернет категорию по значению rfmclass."
   ]
  },
  {
   "cell_type": "code",
   "execution_count": 90,
   "metadata": {},
   "outputs": [],
   "source": [
    "def segment(rfmclass):\n",
    "    for segment, items_of_list in dictionary.items():\n",
    "        for item in items_of_list:\n",
    "            if item in rfmclass:\n",
    "                return segment\n",
    "    return segment"
   ]
  },
  {
   "cell_type": "code",
   "execution_count": 91,
   "metadata": {
    "scrolled": false
   },
   "outputs": [
    {
     "data": {
      "text/html": [
       "<div>\n",
       "<style scoped>\n",
       "    .dataframe tbody tr th:only-of-type {\n",
       "        vertical-align: middle;\n",
       "    }\n",
       "\n",
       "    .dataframe tbody tr th {\n",
       "        vertical-align: top;\n",
       "    }\n",
       "\n",
       "    .dataframe thead th {\n",
       "        text-align: right;\n",
       "    }\n",
       "</style>\n",
       "<table border=\"1\" class=\"dataframe\">\n",
       "  <thead>\n",
       "    <tr style=\"text-align: right;\">\n",
       "      <th></th>\n",
       "      <th>customer_unique_id</th>\n",
       "      <th>recency</th>\n",
       "      <th>frequency</th>\n",
       "      <th>monetary_value</th>\n",
       "      <th>r</th>\n",
       "      <th>f</th>\n",
       "      <th>m</th>\n",
       "      <th>rfmclass</th>\n",
       "      <th>segment</th>\n",
       "    </tr>\n",
       "  </thead>\n",
       "  <tbody>\n",
       "    <tr>\n",
       "      <th>0</th>\n",
       "      <td>0000366f3b9a7992bf8c76cfdf3221e2</td>\n",
       "      <td>116</td>\n",
       "      <td>1</td>\n",
       "      <td>129.90</td>\n",
       "      <td>1</td>\n",
       "      <td>3</td>\n",
       "      <td>2</td>\n",
       "      <td>132</td>\n",
       "      <td>Новички</td>\n",
       "    </tr>\n",
       "    <tr>\n",
       "      <th>1</th>\n",
       "      <td>0000b849f77a49e4a4ce2b2a4ca5be3f</td>\n",
       "      <td>118</td>\n",
       "      <td>1</td>\n",
       "      <td>18.90</td>\n",
       "      <td>1</td>\n",
       "      <td>3</td>\n",
       "      <td>3</td>\n",
       "      <td>133</td>\n",
       "      <td>Новички</td>\n",
       "    </tr>\n",
       "    <tr>\n",
       "      <th>2</th>\n",
       "      <td>0000f46a3911fa3c0805444483337064</td>\n",
       "      <td>541</td>\n",
       "      <td>1</td>\n",
       "      <td>69.00</td>\n",
       "      <td>3</td>\n",
       "      <td>3</td>\n",
       "      <td>2</td>\n",
       "      <td>332</td>\n",
       "      <td>Потерянные</td>\n",
       "    </tr>\n",
       "    <tr>\n",
       "      <th>3</th>\n",
       "      <td>0000f6ccb0745a6a4b88665a16c9f078</td>\n",
       "      <td>325</td>\n",
       "      <td>1</td>\n",
       "      <td>25.99</td>\n",
       "      <td>3</td>\n",
       "      <td>3</td>\n",
       "      <td>3</td>\n",
       "      <td>333</td>\n",
       "      <td>Потерянные</td>\n",
       "    </tr>\n",
       "    <tr>\n",
       "      <th>4</th>\n",
       "      <td>0004aac84e0df4da2b147fca70cf8255</td>\n",
       "      <td>292</td>\n",
       "      <td>1</td>\n",
       "      <td>180.00</td>\n",
       "      <td>3</td>\n",
       "      <td>3</td>\n",
       "      <td>1</td>\n",
       "      <td>331</td>\n",
       "      <td>Уходящие</td>\n",
       "    </tr>\n",
       "  </tbody>\n",
       "</table>\n",
       "</div>"
      ],
      "text/plain": [
       "                 customer_unique_id  recency  frequency  monetary_value  r  f  \\\n",
       "0  0000366f3b9a7992bf8c76cfdf3221e2      116          1          129.90  1  3   \n",
       "1  0000b849f77a49e4a4ce2b2a4ca5be3f      118          1           18.90  1  3   \n",
       "2  0000f46a3911fa3c0805444483337064      541          1           69.00  3  3   \n",
       "3  0000f6ccb0745a6a4b88665a16c9f078      325          1           25.99  3  3   \n",
       "4  0004aac84e0df4da2b147fca70cf8255      292          1          180.00  3  3   \n",
       "\n",
       "   m rfmclass     segment  \n",
       "0  2      132     Новички  \n",
       "1  3      133     Новички  \n",
       "2  2      332  Потерянные  \n",
       "3  3      333  Потерянные  \n",
       "4  1      331    Уходящие  "
      ]
     },
     "execution_count": 91,
     "metadata": {},
     "output_type": "execute_result"
    }
   ],
   "source": [
    "rfm_table['segment'] = rfm_table['rfmclass'].apply(segment)\n",
    "rfm_table.head()"
   ]
  },
  {
   "cell_type": "markdown",
   "metadata": {},
   "source": [
    "Объеденим таблицы, для построения графиков."
   ]
  },
  {
   "cell_type": "code",
   "execution_count": 92,
   "metadata": {},
   "outputs": [
    {
     "data": {
      "text/html": [
       "<div>\n",
       "<style scoped>\n",
       "    .dataframe tbody tr th:only-of-type {\n",
       "        vertical-align: middle;\n",
       "    }\n",
       "\n",
       "    .dataframe tbody tr th {\n",
       "        vertical-align: top;\n",
       "    }\n",
       "\n",
       "    .dataframe thead th {\n",
       "        text-align: right;\n",
       "    }\n",
       "</style>\n",
       "<table border=\"1\" class=\"dataframe\">\n",
       "  <thead>\n",
       "    <tr style=\"text-align: right;\">\n",
       "      <th></th>\n",
       "      <th>order_id</th>\n",
       "      <th>customer_id</th>\n",
       "      <th>order_status</th>\n",
       "      <th>order_purchase_timestamp</th>\n",
       "      <th>order_approved_at</th>\n",
       "      <th>order_delivered_carrier_date</th>\n",
       "      <th>order_delivered_customer_date</th>\n",
       "      <th>order_estimated_delivery_date</th>\n",
       "      <th>customer_unique_id</th>\n",
       "      <th>customer_zip_code_prefix</th>\n",
       "      <th>...</th>\n",
       "      <th>price</th>\n",
       "      <th>freight_value</th>\n",
       "      <th>recency</th>\n",
       "      <th>frequency</th>\n",
       "      <th>monetary_value</th>\n",
       "      <th>r</th>\n",
       "      <th>f</th>\n",
       "      <th>m</th>\n",
       "      <th>rfmclass</th>\n",
       "      <th>segment</th>\n",
       "    </tr>\n",
       "  </thead>\n",
       "  <tbody>\n",
       "    <tr>\n",
       "      <th>0</th>\n",
       "      <td>e481f51cbdc54678b7cc49136f2d6af7</td>\n",
       "      <td>9ef432eb6251297304e76186b10a928d</td>\n",
       "      <td>delivered</td>\n",
       "      <td>2017-10-02 10:56:33</td>\n",
       "      <td>2017-10-02 11:07:15</td>\n",
       "      <td>2017-10-04 19:55:00</td>\n",
       "      <td>2017-10-10 21:25:13</td>\n",
       "      <td>2017-10-18</td>\n",
       "      <td>7c396fd4830fd04220f754e42b4e5bff</td>\n",
       "      <td>3149</td>\n",
       "      <td>...</td>\n",
       "      <td>29.99</td>\n",
       "      <td>8.72</td>\n",
       "      <td>336</td>\n",
       "      <td>2</td>\n",
       "      <td>65.38</td>\n",
       "      <td>3</td>\n",
       "      <td>2</td>\n",
       "      <td>2</td>\n",
       "      <td>322</td>\n",
       "      <td>Уходящие</td>\n",
       "    </tr>\n",
       "    <tr>\n",
       "      <th>1</th>\n",
       "      <td>69923a4e07ce446644394df37a710286</td>\n",
       "      <td>31f31efcb333fcbad2b1371c8cf0fa84</td>\n",
       "      <td>delivered</td>\n",
       "      <td>2017-09-04 11:26:38</td>\n",
       "      <td>2017-09-04 11:43:25</td>\n",
       "      <td>2017-09-04 21:22:15</td>\n",
       "      <td>2017-09-05 19:20:20</td>\n",
       "      <td>2017-09-15</td>\n",
       "      <td>7c396fd4830fd04220f754e42b4e5bff</td>\n",
       "      <td>3149</td>\n",
       "      <td>...</td>\n",
       "      <td>35.39</td>\n",
       "      <td>8.72</td>\n",
       "      <td>336</td>\n",
       "      <td>2</td>\n",
       "      <td>65.38</td>\n",
       "      <td>3</td>\n",
       "      <td>2</td>\n",
       "      <td>2</td>\n",
       "      <td>322</td>\n",
       "      <td>Уходящие</td>\n",
       "    </tr>\n",
       "    <tr>\n",
       "      <th>2</th>\n",
       "      <td>53cdb2fc8bc7dce0b6741e2150273451</td>\n",
       "      <td>b0830fb4747a6c6d20dea0b8c802d7ef</td>\n",
       "      <td>delivered</td>\n",
       "      <td>2018-07-24 20:41:37</td>\n",
       "      <td>2018-07-26 03:24:27</td>\n",
       "      <td>2018-07-26 14:31:00</td>\n",
       "      <td>2018-08-07 15:27:45</td>\n",
       "      <td>2018-08-13</td>\n",
       "      <td>af07308b275d755c9edb36a90c618231</td>\n",
       "      <td>47813</td>\n",
       "      <td>...</td>\n",
       "      <td>118.70</td>\n",
       "      <td>22.76</td>\n",
       "      <td>39</td>\n",
       "      <td>1</td>\n",
       "      <td>118.70</td>\n",
       "      <td>1</td>\n",
       "      <td>3</td>\n",
       "      <td>2</td>\n",
       "      <td>132</td>\n",
       "      <td>Новички</td>\n",
       "    </tr>\n",
       "    <tr>\n",
       "      <th>3</th>\n",
       "      <td>47770eb9100c2d0c44946d9cf07ec65d</td>\n",
       "      <td>41ce2a54c0b03bf3443c3d931a367089</td>\n",
       "      <td>delivered</td>\n",
       "      <td>2018-08-08 08:38:49</td>\n",
       "      <td>2018-08-08 08:55:23</td>\n",
       "      <td>2018-08-08 13:50:00</td>\n",
       "      <td>2018-08-17 18:06:29</td>\n",
       "      <td>2018-09-04</td>\n",
       "      <td>3a653a41f6f9fc3d2a113cf8398680e8</td>\n",
       "      <td>75265</td>\n",
       "      <td>...</td>\n",
       "      <td>159.90</td>\n",
       "      <td>19.22</td>\n",
       "      <td>26</td>\n",
       "      <td>1</td>\n",
       "      <td>159.90</td>\n",
       "      <td>1</td>\n",
       "      <td>3</td>\n",
       "      <td>1</td>\n",
       "      <td>131</td>\n",
       "      <td>Стратегически важные клиенты</td>\n",
       "    </tr>\n",
       "    <tr>\n",
       "      <th>4</th>\n",
       "      <td>949d5b44dbf5de918fe9c16f97b45f8a</td>\n",
       "      <td>f88197465ea7920adcdbec7375364d82</td>\n",
       "      <td>delivered</td>\n",
       "      <td>2017-11-18 19:28:06</td>\n",
       "      <td>2017-11-18 19:45:59</td>\n",
       "      <td>2017-11-22 13:39:59</td>\n",
       "      <td>2017-12-02 00:28:42</td>\n",
       "      <td>2017-12-15</td>\n",
       "      <td>7c142cf63193a1473d2e66489a9ae977</td>\n",
       "      <td>59296</td>\n",
       "      <td>...</td>\n",
       "      <td>45.00</td>\n",
       "      <td>27.20</td>\n",
       "      <td>288</td>\n",
       "      <td>1</td>\n",
       "      <td>45.00</td>\n",
       "      <td>2</td>\n",
       "      <td>3</td>\n",
       "      <td>3</td>\n",
       "      <td>233</td>\n",
       "      <td>Уходящие</td>\n",
       "    </tr>\n",
       "  </tbody>\n",
       "</table>\n",
       "<p>5 rows × 26 columns</p>\n",
       "</div>"
      ],
      "text/plain": [
       "                           order_id                       customer_id  \\\n",
       "0  e481f51cbdc54678b7cc49136f2d6af7  9ef432eb6251297304e76186b10a928d   \n",
       "1  69923a4e07ce446644394df37a710286  31f31efcb333fcbad2b1371c8cf0fa84   \n",
       "2  53cdb2fc8bc7dce0b6741e2150273451  b0830fb4747a6c6d20dea0b8c802d7ef   \n",
       "3  47770eb9100c2d0c44946d9cf07ec65d  41ce2a54c0b03bf3443c3d931a367089   \n",
       "4  949d5b44dbf5de918fe9c16f97b45f8a  f88197465ea7920adcdbec7375364d82   \n",
       "\n",
       "  order_status order_purchase_timestamp   order_approved_at  \\\n",
       "0    delivered      2017-10-02 10:56:33 2017-10-02 11:07:15   \n",
       "1    delivered      2017-09-04 11:26:38 2017-09-04 11:43:25   \n",
       "2    delivered      2018-07-24 20:41:37 2018-07-26 03:24:27   \n",
       "3    delivered      2018-08-08 08:38:49 2018-08-08 08:55:23   \n",
       "4    delivered      2017-11-18 19:28:06 2017-11-18 19:45:59   \n",
       "\n",
       "  order_delivered_carrier_date order_delivered_customer_date  \\\n",
       "0          2017-10-04 19:55:00           2017-10-10 21:25:13   \n",
       "1          2017-09-04 21:22:15           2017-09-05 19:20:20   \n",
       "2          2018-07-26 14:31:00           2018-08-07 15:27:45   \n",
       "3          2018-08-08 13:50:00           2018-08-17 18:06:29   \n",
       "4          2017-11-22 13:39:59           2017-12-02 00:28:42   \n",
       "\n",
       "  order_estimated_delivery_date                customer_unique_id  \\\n",
       "0                    2017-10-18  7c396fd4830fd04220f754e42b4e5bff   \n",
       "1                    2017-09-15  7c396fd4830fd04220f754e42b4e5bff   \n",
       "2                    2018-08-13  af07308b275d755c9edb36a90c618231   \n",
       "3                    2018-09-04  3a653a41f6f9fc3d2a113cf8398680e8   \n",
       "4                    2017-12-15  7c142cf63193a1473d2e66489a9ae977   \n",
       "\n",
       "   customer_zip_code_prefix  ...   price freight_value  recency frequency  \\\n",
       "0                      3149  ...   29.99          8.72      336         2   \n",
       "1                      3149  ...   35.39          8.72      336         2   \n",
       "2                     47813  ...  118.70         22.76       39         1   \n",
       "3                     75265  ...  159.90         19.22       26         1   \n",
       "4                     59296  ...   45.00         27.20      288         1   \n",
       "\n",
       "  monetary_value  r  f  m  rfmclass                       segment  \n",
       "0          65.38  3  2  2       322                      Уходящие  \n",
       "1          65.38  3  2  2       322                      Уходящие  \n",
       "2         118.70  1  3  2       132                       Новички  \n",
       "3         159.90  1  3  1       131  Стратегически важные клиенты  \n",
       "4          45.00  2  3  3       233                      Уходящие  \n",
       "\n",
       "[5 rows x 26 columns]"
      ]
     },
     "execution_count": 92,
     "metadata": {},
     "output_type": "execute_result"
    }
   ],
   "source": [
    "df_full_segment = df_full.merge(rfm_table, on='customer_unique_id')\n",
    "df_full_segment.head()"
   ]
  },
  {
   "cell_type": "markdown",
   "metadata": {},
   "source": [
    "### Проведение анализа показателей сегментов покупателей"
   ]
  },
  {
   "cell_type": "markdown",
   "metadata": {},
   "source": [
    "Создадим таблицу, в которой отобразим количество заказов и средний чек в каждом сегменте."
   ]
  },
  {
   "cell_type": "code",
   "execution_count": 93,
   "metadata": {
    "scrolled": false
   },
   "outputs": [
    {
     "data": {
      "text/html": [
       "<div>\n",
       "<style scoped>\n",
       "    .dataframe tbody tr th:only-of-type {\n",
       "        vertical-align: middle;\n",
       "    }\n",
       "\n",
       "    .dataframe tbody tr th {\n",
       "        vertical-align: top;\n",
       "    }\n",
       "\n",
       "    .dataframe thead th {\n",
       "        text-align: right;\n",
       "    }\n",
       "</style>\n",
       "<table border=\"1\" class=\"dataframe\">\n",
       "  <thead>\n",
       "    <tr style=\"text-align: right;\">\n",
       "      <th></th>\n",
       "      <th>segment</th>\n",
       "      <th>count_orders</th>\n",
       "      <th>price</th>\n",
       "      <th>count_customers</th>\n",
       "      <th>mean_cheсk</th>\n",
       "    </tr>\n",
       "  </thead>\n",
       "  <tbody>\n",
       "    <tr>\n",
       "      <th>0</th>\n",
       "      <td>Киты</td>\n",
       "      <td>10853</td>\n",
       "      <td>3283682.56</td>\n",
       "      <td>9628</td>\n",
       "      <td>302.56</td>\n",
       "    </tr>\n",
       "    <tr>\n",
       "      <th>1</th>\n",
       "      <td>Лояльные</td>\n",
       "      <td>13499</td>\n",
       "      <td>1233834.59</td>\n",
       "      <td>13404</td>\n",
       "      <td>91.40</td>\n",
       "    </tr>\n",
       "    <tr>\n",
       "      <th>2</th>\n",
       "      <td>Новички</td>\n",
       "      <td>21391</td>\n",
       "      <td>1493053.40</td>\n",
       "      <td>21391</td>\n",
       "      <td>69.80</td>\n",
       "    </tr>\n",
       "    <tr>\n",
       "      <th>3</th>\n",
       "      <td>Потерянные</td>\n",
       "      <td>21820</td>\n",
       "      <td>1473596.87</td>\n",
       "      <td>21820</td>\n",
       "      <td>67.53</td>\n",
       "    </tr>\n",
       "    <tr>\n",
       "      <th>4</th>\n",
       "      <td>Спящие</td>\n",
       "      <td>1991</td>\n",
       "      <td>164954.56</td>\n",
       "      <td>1642</td>\n",
       "      <td>82.85</td>\n",
       "    </tr>\n",
       "    <tr>\n",
       "      <th>5</th>\n",
       "      <td>Стратегически важные клиенты</td>\n",
       "      <td>10919</td>\n",
       "      <td>3077507.18</td>\n",
       "      <td>9751</td>\n",
       "      <td>281.85</td>\n",
       "    </tr>\n",
       "    <tr>\n",
       "      <th>6</th>\n",
       "      <td>Уходящие</td>\n",
       "      <td>17712</td>\n",
       "      <td>2766101.15</td>\n",
       "      <td>17334</td>\n",
       "      <td>156.17</td>\n",
       "    </tr>\n",
       "  </tbody>\n",
       "</table>\n",
       "</div>"
      ],
      "text/plain": [
       "                        segment  count_orders       price  count_customers  \\\n",
       "0                          Киты         10853  3283682.56             9628   \n",
       "1                      Лояльные         13499  1233834.59            13404   \n",
       "2                       Новички         21391  1493053.40            21391   \n",
       "3                    Потерянные         21820  1473596.87            21820   \n",
       "4                        Спящие          1991   164954.56             1642   \n",
       "5  Стратегически важные клиенты         10919  3077507.18             9751   \n",
       "6                      Уходящие         17712  2766101.15            17334   \n",
       "\n",
       "   mean_cheсk  \n",
       "0      302.56  \n",
       "1       91.40  \n",
       "2       69.80  \n",
       "3       67.53  \n",
       "4       82.85  \n",
       "5      281.85  \n",
       "6      156.17  "
      ]
     },
     "execution_count": 93,
     "metadata": {},
     "output_type": "execute_result"
    }
   ],
   "source": [
    "grouped_segment = df_full_segment.groupby('segment').agg({'order_id':'nunique', 'price':'sum',\\\n",
    "                                                    'customer_unique_id': 'nunique'})\\\n",
    "                                                    .rename(columns = {'order_id': 'count_orders', \\\n",
    "                                                                       'customer_unique_id':'count_customers'})\\\n",
    "                                                    .reset_index()\n",
    "grouped_segment['mean_cheсk'] = (grouped_segment['price']/grouped_segment['count_orders']).round(2)\n",
    "grouped_segment"
   ]
  },
  {
   "cell_type": "markdown",
   "metadata": {},
   "source": [
    "Построим график распределения количества заказов по сегментам покупателей."
   ]
  },
  {
   "cell_type": "code",
   "execution_count": 94,
   "metadata": {},
   "outputs": [
    {
     "data": {
      "image/png": "[encoded data removed]",
      "text/plain": [
       "<Figure size 1080x720 with 1 Axes>"
      ]
     },
     "metadata": {
      "needs_background": "light"
     },
     "output_type": "display_data"
    }
   ],
   "source": [
    "plt.figure(figsize=(15,10))\n",
    "sns.barplot(\n",
    "    x=\"segment\", \n",
    "    y=\"count_orders\",\n",
    "    data=grouped_segment,\n",
    "    palette='Set2')\n",
    "plt.title('Распределение количества заказов по сегментам покупателей')\n",
    "plt.xlabel('Сегменты покупателей')\n",
    "plt.ylabel('Количество заказов');"
   ]
  },
  {
   "cell_type": "markdown",
   "metadata": {},
   "source": [
    "Самое большое количество заказов у потерянных, уходящих и новичков. Самое маленькое у спящих."
   ]
  },
  {
   "cell_type": "markdown",
   "metadata": {},
   "source": [
    "Построим график распределения среднего чека по сегментам покупателей."
   ]
  },
  {
   "cell_type": "code",
   "execution_count": 95,
   "metadata": {},
   "outputs": [
    {
     "data": {
      "image/png": "[encoded data removed]",
      "text/plain": [
       "<Figure size 1080x720 with 1 Axes>"
      ]
     },
     "metadata": {
      "needs_background": "light"
     },
     "output_type": "display_data"
    }
   ],
   "source": [
    "plt.figure(figsize=(15,10))\n",
    "sns.barplot(\n",
    "    x=\"segment\", \n",
    "    y=\"mean_cheсk\",\n",
    "    data=grouped_segment,\n",
    "    palette='Set2')\n",
    "plt.title('Распределение среднего чека по сегментам покупателей')\n",
    "plt.xlabel('Сегменты покупателей')\n",
    "plt.ylabel('Средний чек');"
   ]
  },
  {
   "cell_type": "markdown",
   "metadata": {},
   "source": [
    "Самый большой средний чек у китов и стратегически важных клиентов. Исходя из графиков, считаю, что раздедлили на сегменты верно."
   ]
  },
  {
   "cell_type": "markdown",
   "metadata": {},
   "source": [
    "Посмотрим распределение продаж разных сегментов покупателей по месяцам."
   ]
  },
  {
   "cell_type": "markdown",
   "metadata": {},
   "source": [
    "Добавим в датафрейм df_full_segment столбец year_month."
   ]
  },
  {
   "cell_type": "code",
   "execution_count": 96,
   "metadata": {
    "scrolled": true
   },
   "outputs": [
    {
     "data": {
      "text/html": [
       "<div>\n",
       "<style scoped>\n",
       "    .dataframe tbody tr th:only-of-type {\n",
       "        vertical-align: middle;\n",
       "    }\n",
       "\n",
       "    .dataframe tbody tr th {\n",
       "        vertical-align: top;\n",
       "    }\n",
       "\n",
       "    .dataframe thead th {\n",
       "        text-align: right;\n",
       "    }\n",
       "</style>\n",
       "<table border=\"1\" class=\"dataframe\">\n",
       "  <thead>\n",
       "    <tr style=\"text-align: right;\">\n",
       "      <th></th>\n",
       "      <th>order_id</th>\n",
       "      <th>customer_id</th>\n",
       "      <th>order_status</th>\n",
       "      <th>order_purchase_timestamp</th>\n",
       "      <th>order_approved_at</th>\n",
       "      <th>order_delivered_carrier_date</th>\n",
       "      <th>order_delivered_customer_date</th>\n",
       "      <th>order_estimated_delivery_date</th>\n",
       "      <th>customer_unique_id</th>\n",
       "      <th>customer_zip_code_prefix</th>\n",
       "      <th>...</th>\n",
       "      <th>freight_value</th>\n",
       "      <th>recency</th>\n",
       "      <th>frequency</th>\n",
       "      <th>monetary_value</th>\n",
       "      <th>r</th>\n",
       "      <th>f</th>\n",
       "      <th>m</th>\n",
       "      <th>rfmclass</th>\n",
       "      <th>segment</th>\n",
       "      <th>year_month</th>\n",
       "    </tr>\n",
       "  </thead>\n",
       "  <tbody>\n",
       "    <tr>\n",
       "      <th>0</th>\n",
       "      <td>e481f51cbdc54678b7cc49136f2d6af7</td>\n",
       "      <td>9ef432eb6251297304e76186b10a928d</td>\n",
       "      <td>delivered</td>\n",
       "      <td>2017-10-02 10:56:33</td>\n",
       "      <td>2017-10-02 11:07:15</td>\n",
       "      <td>2017-10-04 19:55:00</td>\n",
       "      <td>2017-10-10 21:25:13</td>\n",
       "      <td>2017-10-18</td>\n",
       "      <td>7c396fd4830fd04220f754e42b4e5bff</td>\n",
       "      <td>3149</td>\n",
       "      <td>...</td>\n",
       "      <td>8.72</td>\n",
       "      <td>336</td>\n",
       "      <td>2</td>\n",
       "      <td>65.38</td>\n",
       "      <td>3</td>\n",
       "      <td>2</td>\n",
       "      <td>2</td>\n",
       "      <td>322</td>\n",
       "      <td>Уходящие</td>\n",
       "      <td>2017-10</td>\n",
       "    </tr>\n",
       "    <tr>\n",
       "      <th>1</th>\n",
       "      <td>69923a4e07ce446644394df37a710286</td>\n",
       "      <td>31f31efcb333fcbad2b1371c8cf0fa84</td>\n",
       "      <td>delivered</td>\n",
       "      <td>2017-09-04 11:26:38</td>\n",
       "      <td>2017-09-04 11:43:25</td>\n",
       "      <td>2017-09-04 21:22:15</td>\n",
       "      <td>2017-09-05 19:20:20</td>\n",
       "      <td>2017-09-15</td>\n",
       "      <td>7c396fd4830fd04220f754e42b4e5bff</td>\n",
       "      <td>3149</td>\n",
       "      <td>...</td>\n",
       "      <td>8.72</td>\n",
       "      <td>336</td>\n",
       "      <td>2</td>\n",
       "      <td>65.38</td>\n",
       "      <td>3</td>\n",
       "      <td>2</td>\n",
       "      <td>2</td>\n",
       "      <td>322</td>\n",
       "      <td>Уходящие</td>\n",
       "      <td>2017-09</td>\n",
       "    </tr>\n",
       "    <tr>\n",
       "      <th>2</th>\n",
       "      <td>53cdb2fc8bc7dce0b6741e2150273451</td>\n",
       "      <td>b0830fb4747a6c6d20dea0b8c802d7ef</td>\n",
       "      <td>delivered</td>\n",
       "      <td>2018-07-24 20:41:37</td>\n",
       "      <td>2018-07-26 03:24:27</td>\n",
       "      <td>2018-07-26 14:31:00</td>\n",
       "      <td>2018-08-07 15:27:45</td>\n",
       "      <td>2018-08-13</td>\n",
       "      <td>af07308b275d755c9edb36a90c618231</td>\n",
       "      <td>47813</td>\n",
       "      <td>...</td>\n",
       "      <td>22.76</td>\n",
       "      <td>39</td>\n",
       "      <td>1</td>\n",
       "      <td>118.70</td>\n",
       "      <td>1</td>\n",
       "      <td>3</td>\n",
       "      <td>2</td>\n",
       "      <td>132</td>\n",
       "      <td>Новички</td>\n",
       "      <td>2018-07</td>\n",
       "    </tr>\n",
       "    <tr>\n",
       "      <th>3</th>\n",
       "      <td>47770eb9100c2d0c44946d9cf07ec65d</td>\n",
       "      <td>41ce2a54c0b03bf3443c3d931a367089</td>\n",
       "      <td>delivered</td>\n",
       "      <td>2018-08-08 08:38:49</td>\n",
       "      <td>2018-08-08 08:55:23</td>\n",
       "      <td>2018-08-08 13:50:00</td>\n",
       "      <td>2018-08-17 18:06:29</td>\n",
       "      <td>2018-09-04</td>\n",
       "      <td>3a653a41f6f9fc3d2a113cf8398680e8</td>\n",
       "      <td>75265</td>\n",
       "      <td>...</td>\n",
       "      <td>19.22</td>\n",
       "      <td>26</td>\n",
       "      <td>1</td>\n",
       "      <td>159.90</td>\n",
       "      <td>1</td>\n",
       "      <td>3</td>\n",
       "      <td>1</td>\n",
       "      <td>131</td>\n",
       "      <td>Стратегически важные клиенты</td>\n",
       "      <td>2018-08</td>\n",
       "    </tr>\n",
       "    <tr>\n",
       "      <th>4</th>\n",
       "      <td>949d5b44dbf5de918fe9c16f97b45f8a</td>\n",
       "      <td>f88197465ea7920adcdbec7375364d82</td>\n",
       "      <td>delivered</td>\n",
       "      <td>2017-11-18 19:28:06</td>\n",
       "      <td>2017-11-18 19:45:59</td>\n",
       "      <td>2017-11-22 13:39:59</td>\n",
       "      <td>2017-12-02 00:28:42</td>\n",
       "      <td>2017-12-15</td>\n",
       "      <td>7c142cf63193a1473d2e66489a9ae977</td>\n",
       "      <td>59296</td>\n",
       "      <td>...</td>\n",
       "      <td>27.20</td>\n",
       "      <td>288</td>\n",
       "      <td>1</td>\n",
       "      <td>45.00</td>\n",
       "      <td>2</td>\n",
       "      <td>3</td>\n",
       "      <td>3</td>\n",
       "      <td>233</td>\n",
       "      <td>Уходящие</td>\n",
       "      <td>2017-11</td>\n",
       "    </tr>\n",
       "  </tbody>\n",
       "</table>\n",
       "<p>5 rows × 27 columns</p>\n",
       "</div>"
      ],
      "text/plain": [
       "                           order_id                       customer_id  \\\n",
       "0  e481f51cbdc54678b7cc49136f2d6af7  9ef432eb6251297304e76186b10a928d   \n",
       "1  69923a4e07ce446644394df37a710286  31f31efcb333fcbad2b1371c8cf0fa84   \n",
       "2  53cdb2fc8bc7dce0b6741e2150273451  b0830fb4747a6c6d20dea0b8c802d7ef   \n",
       "3  47770eb9100c2d0c44946d9cf07ec65d  41ce2a54c0b03bf3443c3d931a367089   \n",
       "4  949d5b44dbf5de918fe9c16f97b45f8a  f88197465ea7920adcdbec7375364d82   \n",
       "\n",
       "  order_status order_purchase_timestamp   order_approved_at  \\\n",
       "0    delivered      2017-10-02 10:56:33 2017-10-02 11:07:15   \n",
       "1    delivered      2017-09-04 11:26:38 2017-09-04 11:43:25   \n",
       "2    delivered      2018-07-24 20:41:37 2018-07-26 03:24:27   \n",
       "3    delivered      2018-08-08 08:38:49 2018-08-08 08:55:23   \n",
       "4    delivered      2017-11-18 19:28:06 2017-11-18 19:45:59   \n",
       "\n",
       "  order_delivered_carrier_date order_delivered_customer_date  \\\n",
       "0          2017-10-04 19:55:00           2017-10-10 21:25:13   \n",
       "1          2017-09-04 21:22:15           2017-09-05 19:20:20   \n",
       "2          2018-07-26 14:31:00           2018-08-07 15:27:45   \n",
       "3          2018-08-08 13:50:00           2018-08-17 18:06:29   \n",
       "4          2017-11-22 13:39:59           2017-12-02 00:28:42   \n",
       "\n",
       "  order_estimated_delivery_date                customer_unique_id  \\\n",
       "0                    2017-10-18  7c396fd4830fd04220f754e42b4e5bff   \n",
       "1                    2017-09-15  7c396fd4830fd04220f754e42b4e5bff   \n",
       "2                    2018-08-13  af07308b275d755c9edb36a90c618231   \n",
       "3                    2018-09-04  3a653a41f6f9fc3d2a113cf8398680e8   \n",
       "4                    2017-12-15  7c142cf63193a1473d2e66489a9ae977   \n",
       "\n",
       "   customer_zip_code_prefix  ... freight_value recency  frequency  \\\n",
       "0                      3149  ...          8.72     336          2   \n",
       "1                      3149  ...          8.72     336          2   \n",
       "2                     47813  ...         22.76      39          1   \n",
       "3                     75265  ...         19.22      26          1   \n",
       "4                     59296  ...         27.20     288          1   \n",
       "\n",
       "  monetary_value  r  f  m  rfmclass                       segment  year_month  \n",
       "0          65.38  3  2  2       322                      Уходящие     2017-10  \n",
       "1          65.38  3  2  2       322                      Уходящие     2017-09  \n",
       "2         118.70  1  3  2       132                       Новички     2018-07  \n",
       "3         159.90  1  3  1       131  Стратегически важные клиенты     2018-08  \n",
       "4          45.00  2  3  3       233                      Уходящие     2017-11  \n",
       "\n",
       "[5 rows x 27 columns]"
      ]
     },
     "execution_count": 96,
     "metadata": {},
     "output_type": "execute_result"
    }
   ],
   "source": [
    "df_full_segment['year_month'] = df_full_segment['order_approved_at'].dt.strftime('%Y-%m')\n",
    "df_full_segment.head()"
   ]
  },
  {
   "cell_type": "markdown",
   "metadata": {},
   "source": [
    "Создадим таблицу, в которой отобразим как распределяются продажи разных сегментов покупателей по месяцам."
   ]
  },
  {
   "cell_type": "code",
   "execution_count": 97,
   "metadata": {
    "scrolled": true
   },
   "outputs": [
    {
     "data": {
      "text/html": [
       "<div>\n",
       "<style scoped>\n",
       "    .dataframe tbody tr th:only-of-type {\n",
       "        vertical-align: middle;\n",
       "    }\n",
       "\n",
       "    .dataframe tbody tr th {\n",
       "        vertical-align: top;\n",
       "    }\n",
       "\n",
       "    .dataframe thead th {\n",
       "        text-align: right;\n",
       "    }\n",
       "</style>\n",
       "<table border=\"1\" class=\"dataframe\">\n",
       "  <thead>\n",
       "    <tr style=\"text-align: right;\">\n",
       "      <th></th>\n",
       "      <th>segment</th>\n",
       "      <th>year_month</th>\n",
       "      <th>price</th>\n",
       "    </tr>\n",
       "  </thead>\n",
       "  <tbody>\n",
       "    <tr>\n",
       "      <th>91</th>\n",
       "      <td>Уходящие</td>\n",
       "      <td>2016-09</td>\n",
       "      <td>134.97</td>\n",
       "    </tr>\n",
       "    <tr>\n",
       "      <th>0</th>\n",
       "      <td>Киты</td>\n",
       "      <td>2016-10</td>\n",
       "      <td>6054.13</td>\n",
       "    </tr>\n",
       "    <tr>\n",
       "      <th>92</th>\n",
       "      <td>Уходящие</td>\n",
       "      <td>2016-10</td>\n",
       "      <td>25681.62</td>\n",
       "    </tr>\n",
       "    <tr>\n",
       "      <th>69</th>\n",
       "      <td>Стратегически важные клиенты</td>\n",
       "      <td>2016-10</td>\n",
       "      <td>366.69</td>\n",
       "    </tr>\n",
       "    <tr>\n",
       "      <th>52</th>\n",
       "      <td>Спящие</td>\n",
       "      <td>2016-10</td>\n",
       "      <td>253.50</td>\n",
       "    </tr>\n",
       "    <tr>\n",
       "      <th>40</th>\n",
       "      <td>Потерянные</td>\n",
       "      <td>2016-10</td>\n",
       "      <td>12224.25</td>\n",
       "    </tr>\n",
       "    <tr>\n",
       "      <th>93</th>\n",
       "      <td>Уходящие</td>\n",
       "      <td>2016-12</td>\n",
       "      <td>10.90</td>\n",
       "    </tr>\n",
       "    <tr>\n",
       "      <th>1</th>\n",
       "      <td>Киты</td>\n",
       "      <td>2017-01</td>\n",
       "      <td>20212.13</td>\n",
       "    </tr>\n",
       "    <tr>\n",
       "      <th>94</th>\n",
       "      <td>Уходящие</td>\n",
       "      <td>2017-01</td>\n",
       "      <td>65308.13</td>\n",
       "    </tr>\n",
       "    <tr>\n",
       "      <th>70</th>\n",
       "      <td>Стратегически важные клиенты</td>\n",
       "      <td>2017-01</td>\n",
       "      <td>769.48</td>\n",
       "    </tr>\n",
       "  </tbody>\n",
       "</table>\n",
       "</div>"
      ],
      "text/plain": [
       "                         segment year_month     price\n",
       "91                      Уходящие    2016-09    134.97\n",
       "0                           Киты    2016-10   6054.13\n",
       "92                      Уходящие    2016-10  25681.62\n",
       "69  Стратегически важные клиенты    2016-10    366.69\n",
       "52                        Спящие    2016-10    253.50\n",
       "40                    Потерянные    2016-10  12224.25\n",
       "93                      Уходящие    2016-12     10.90\n",
       "1                           Киты    2017-01  20212.13\n",
       "94                      Уходящие    2017-01  65308.13\n",
       "70  Стратегически важные клиенты    2017-01    769.48"
      ]
     },
     "execution_count": 97,
     "metadata": {},
     "output_type": "execute_result"
    }
   ],
   "source": [
    "sales_of_different_segment = df_full_segment.groupby(['segment', 'year_month'])\\\n",
    ".agg({'price':'sum'})\\\n",
    ".reset_index().sort_values('year_month', ascending=True)\n",
    "sales_of_different_segment.head(10)"
   ]
  },
  {
   "cell_type": "markdown",
   "metadata": {},
   "source": [
    "Построим график распределения продаж разных сегментов покупателей по месяцам."
   ]
  },
  {
   "cell_type": "code",
   "execution_count": 98,
   "metadata": {},
   "outputs": [
    {
     "data": {
      "image/png": "[encoded data removed]",
      "text/plain": [
       "<Figure size 1080x720 with 1 Axes>"
      ]
     },
     "metadata": {
      "needs_background": "light"
     },
     "output_type": "display_data"
    }
   ],
   "source": [
    "plt.figure(figsize=(15,10))\n",
    "sns.lineplot(\n",
    "    x=\"year_month\", \n",
    "    y=\"price\",\n",
    "    data=sales_of_different_segment,\n",
    "    hue='segment')\n",
    "plt.xticks(rotation=45)\n",
    "plt.title('Распределение продаж разных сегментов покупателей по месяцам')\n",
    "plt.xlabel('Дата')\n",
    "plt.ylabel('Прибыль от продаж');\n"
   ]
  },
  {
   "cell_type": "markdown",
   "metadata": {},
   "source": [
    "**Выводы:** Считаю, что распределение на сегменты сделано правильно, так как прибыль от продаж уходящиего сегмента резко начали падать и закончились в апреле 2018. Прибыль от продаж потерянного сегмента заканчиваются в ноябре 2017. У сегмента киты прибыль от продаж большая, но покупики данный сегмент совершает нестабильно. Лояльные клиенты тратят небольшие суммы еа покупки, но зато покупают постоянно. Самыми ценными является сегмент стратигически важных клиентов, так как прибыль от продаж неплохая и клиенты делают постоянные покупки."
   ]
  }
 ],
 "metadata": {
  "kernelspec": {
   "display_name": "Python 3",
   "language": "python",
   "name": "python3"
  },
  "language_info": {
   "codemirror_mode": {
    "name": "ipython",
    "version": 3
   },
   "file_extension": ".py",
   "mimetype": "text/x-python",
   "name": "python",
   "nbconvert_exporter": "python",
   "pygments_lexer": "ipython3",
   "version": "3.7.3"
  }
 },
 "nbformat": 4,
 "nbformat_minor": 4
}
