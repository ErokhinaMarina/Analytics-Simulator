{
 "cells": [
  {
   "cell_type": "markdown",
   "metadata": {},
   "source": [
    "# Проект: вариант 1"
   ]
  },
  {
   "cell_type": "markdown",
   "metadata": {},
   "source": [
    "Представьте, что вы работаете в компании, которая разрабатывает мобильные игры. К вам пришел менеджер с рядом задач по исследованию нескольких аспектов мобильного приложения:\n",
    "\n",
    "В первую очередь, его интересует показатель retention. Напишите функцию для его подсчета.\n",
    "Помимо этого, в компании провели A/B тестирование наборов акционных предложений. На основе имеющихся данных определите, какой набор можно считать лучшим и на основе каких метрик стоит принять правильное решение.\n",
    "Предложите метрики для оценки результатов последнего прошедшего тематического события в игре. "
   ]
  },
  {
   "cell_type": "markdown",
   "metadata": {},
   "source": [
    "## Задание 1"
   ]
  },
  {
   "cell_type": "markdown",
   "metadata": {},
   "source": [
    "Retention – один из самых важных показателей в компании. Задача – написать функцию, которая будет считать retention игроков (по дням от даты регистрации игрока)."
   ]
  },
  {
   "cell_type": "markdown",
   "metadata": {},
   "source": [
    "### Загрузка данных из файлов в датафреймы и изучение общей информации"
   ]
  },
  {
   "cell_type": "markdown",
   "metadata": {},
   "source": [
    "Импортируем все необходимые библиотеки."
   ]
  },
  {
   "cell_type": "code",
   "execution_count": 1,
   "metadata": {},
   "outputs": [],
   "source": [
    "import pandas as pd\n",
    "import datetime\n",
    "import matplotlib.pyplot as plt\n",
    "import seaborn as sns\n",
    "import numpy as np\n",
    "\n",
    "from scipy import stats\n",
    "from scipy.stats import chi2_contingency, chi2 \n",
    "from scipy.stats import norm\n",
    "from tqdm.auto import tqdm\n"
   ]
  },
  {
   "cell_type": "markdown",
   "metadata": {},
   "source": [
    "Данные о времени регистрации."
   ]
  },
  {
   "cell_type": "markdown",
   "metadata": {},
   "source": [
    "Откроем файл с данными и выведем на экран первые 5 строчек датафрейма reg_data."
   ]
  },
  {
   "cell_type": "code",
   "execution_count": 2,
   "metadata": {},
   "outputs": [],
   "source": [
    "reg_data = pd.read_csv('problem1-reg_data.csv',\\\n",
    "                       sep=';')"
   ]
  },
  {
   "cell_type": "code",
   "execution_count": 3,
   "metadata": {},
   "outputs": [
    {
     "data": {
      "text/html": [
       "<div>\n",
       "<style scoped>\n",
       "    .dataframe tbody tr th:only-of-type {\n",
       "        vertical-align: middle;\n",
       "    }\n",
       "\n",
       "    .dataframe tbody tr th {\n",
       "        vertical-align: top;\n",
       "    }\n",
       "\n",
       "    .dataframe thead th {\n",
       "        text-align: right;\n",
       "    }\n",
       "</style>\n",
       "<table border=\"1\" class=\"dataframe\">\n",
       "  <thead>\n",
       "    <tr style=\"text-align: right;\">\n",
       "      <th></th>\n",
       "      <th>reg_ts</th>\n",
       "      <th>uid</th>\n",
       "    </tr>\n",
       "  </thead>\n",
       "  <tbody>\n",
       "    <tr>\n",
       "      <th>0</th>\n",
       "      <td>911382223</td>\n",
       "      <td>1</td>\n",
       "    </tr>\n",
       "    <tr>\n",
       "      <th>1</th>\n",
       "      <td>932683089</td>\n",
       "      <td>2</td>\n",
       "    </tr>\n",
       "    <tr>\n",
       "      <th>2</th>\n",
       "      <td>947802447</td>\n",
       "      <td>3</td>\n",
       "    </tr>\n",
       "    <tr>\n",
       "      <th>3</th>\n",
       "      <td>959523541</td>\n",
       "      <td>4</td>\n",
       "    </tr>\n",
       "    <tr>\n",
       "      <th>4</th>\n",
       "      <td>969103313</td>\n",
       "      <td>5</td>\n",
       "    </tr>\n",
       "  </tbody>\n",
       "</table>\n",
       "</div>"
      ],
      "text/plain": [
       "      reg_ts  uid\n",
       "0  911382223    1\n",
       "1  932683089    2\n",
       "2  947802447    3\n",
       "3  959523541    4\n",
       "4  969103313    5"
      ]
     },
     "execution_count": 3,
     "metadata": {},
     "output_type": "execute_result"
    }
   ],
   "source": [
    "reg_data.head()"
   ]
  },
  {
   "cell_type": "markdown",
   "metadata": {},
   "source": [
    "Посмотрим количество строк и столбцов в датафрейме reg_data. А также какой тип данных в каждом столбце."
   ]
  },
  {
   "cell_type": "code",
   "execution_count": 4,
   "metadata": {},
   "outputs": [
    {
     "data": {
      "text/plain": [
       "(1000000, 2)"
      ]
     },
     "execution_count": 4,
     "metadata": {},
     "output_type": "execute_result"
    }
   ],
   "source": [
    "reg_data.shape"
   ]
  },
  {
   "cell_type": "code",
   "execution_count": 5,
   "metadata": {
    "scrolled": true
   },
   "outputs": [
    {
     "name": "stdout",
     "output_type": "stream",
     "text": [
      "<class 'pandas.core.frame.DataFrame'>\n",
      "RangeIndex: 1000000 entries, 0 to 999999\n",
      "Data columns (total 2 columns):\n",
      " #   Column  Non-Null Count    Dtype\n",
      "---  ------  --------------    -----\n",
      " 0   reg_ts  1000000 non-null  int64\n",
      " 1   uid     1000000 non-null  int64\n",
      "dtypes: int64(2)\n",
      "memory usage: 15.3 MB\n"
     ]
    }
   ],
   "source": [
    "reg_data.info()"
   ]
  },
  {
   "cell_type": "markdown",
   "metadata": {},
   "source": [
    "Проверим наличие пропусков в столбцах."
   ]
  },
  {
   "cell_type": "code",
   "execution_count": 6,
   "metadata": {},
   "outputs": [
    {
     "data": {
      "text/plain": [
       "reg_ts    0\n",
       "uid       0\n",
       "dtype: int64"
      ]
     },
     "execution_count": 6,
     "metadata": {},
     "output_type": "execute_result"
    }
   ],
   "source": [
    "reg_data.isna().sum()"
   ]
  },
  {
   "cell_type": "markdown",
   "metadata": {},
   "source": [
    "Данные о времени захода пользователей в игру."
   ]
  },
  {
   "cell_type": "markdown",
   "metadata": {},
   "source": [
    "Откроем файл с данными и выведем на экран первые 5 строчек датафрейма auth_data."
   ]
  },
  {
   "cell_type": "code",
   "execution_count": 7,
   "metadata": {},
   "outputs": [],
   "source": [
    "auth_data = pd.read_csv('problem1-auth_data.csv',\\\n",
    "                        sep=';')"
   ]
  },
  {
   "cell_type": "code",
   "execution_count": 8,
   "metadata": {
    "scrolled": true
   },
   "outputs": [
    {
     "data": {
      "text/html": [
       "<div>\n",
       "<style scoped>\n",
       "    .dataframe tbody tr th:only-of-type {\n",
       "        vertical-align: middle;\n",
       "    }\n",
       "\n",
       "    .dataframe tbody tr th {\n",
       "        vertical-align: top;\n",
       "    }\n",
       "\n",
       "    .dataframe thead th {\n",
       "        text-align: right;\n",
       "    }\n",
       "</style>\n",
       "<table border=\"1\" class=\"dataframe\">\n",
       "  <thead>\n",
       "    <tr style=\"text-align: right;\">\n",
       "      <th></th>\n",
       "      <th>auth_ts</th>\n",
       "      <th>uid</th>\n",
       "    </tr>\n",
       "  </thead>\n",
       "  <tbody>\n",
       "    <tr>\n",
       "      <th>0</th>\n",
       "      <td>911382223</td>\n",
       "      <td>1</td>\n",
       "    </tr>\n",
       "    <tr>\n",
       "      <th>1</th>\n",
       "      <td>932683089</td>\n",
       "      <td>2</td>\n",
       "    </tr>\n",
       "    <tr>\n",
       "      <th>2</th>\n",
       "      <td>932921206</td>\n",
       "      <td>2</td>\n",
       "    </tr>\n",
       "    <tr>\n",
       "      <th>3</th>\n",
       "      <td>933393015</td>\n",
       "      <td>2</td>\n",
       "    </tr>\n",
       "    <tr>\n",
       "      <th>4</th>\n",
       "      <td>933875379</td>\n",
       "      <td>2</td>\n",
       "    </tr>\n",
       "  </tbody>\n",
       "</table>\n",
       "</div>"
      ],
      "text/plain": [
       "     auth_ts  uid\n",
       "0  911382223    1\n",
       "1  932683089    2\n",
       "2  932921206    2\n",
       "3  933393015    2\n",
       "4  933875379    2"
      ]
     },
     "execution_count": 8,
     "metadata": {},
     "output_type": "execute_result"
    }
   ],
   "source": [
    "auth_data.head()"
   ]
  },
  {
   "cell_type": "markdown",
   "metadata": {},
   "source": [
    "Посмотрим количество строк и столбцов в датафрейме auth_data. А также какой тип данных в каждом столбце."
   ]
  },
  {
   "cell_type": "code",
   "execution_count": 9,
   "metadata": {},
   "outputs": [
    {
     "data": {
      "text/plain": [
       "(9601013, 2)"
      ]
     },
     "execution_count": 9,
     "metadata": {},
     "output_type": "execute_result"
    }
   ],
   "source": [
    "auth_data.shape"
   ]
  },
  {
   "cell_type": "code",
   "execution_count": 10,
   "metadata": {
    "scrolled": true
   },
   "outputs": [
    {
     "name": "stdout",
     "output_type": "stream",
     "text": [
      "<class 'pandas.core.frame.DataFrame'>\n",
      "RangeIndex: 9601013 entries, 0 to 9601012\n",
      "Data columns (total 2 columns):\n",
      " #   Column   Dtype\n",
      "---  ------   -----\n",
      " 0   auth_ts  int64\n",
      " 1   uid      int64\n",
      "dtypes: int64(2)\n",
      "memory usage: 146.5 MB\n"
     ]
    }
   ],
   "source": [
    "auth_data.info()"
   ]
  },
  {
   "cell_type": "markdown",
   "metadata": {},
   "source": [
    "Проверим наличие пропусков в столбцах."
   ]
  },
  {
   "cell_type": "code",
   "execution_count": 11,
   "metadata": {},
   "outputs": [
    {
     "data": {
      "text/plain": [
       "auth_ts    0\n",
       "uid        0\n",
       "dtype: int64"
      ]
     },
     "execution_count": 11,
     "metadata": {},
     "output_type": "execute_result"
    }
   ],
   "source": [
    "auth_data.isna().sum()"
   ]
  },
  {
   "cell_type": "markdown",
   "metadata": {},
   "source": [
    "### Основная часть"
   ]
  },
  {
   "cell_type": "markdown",
   "metadata": {},
   "source": [
    "Объединим датафремы по столбцу uid, чтобы все даты заходов в игру попали в новый датафрейм."
   ]
  },
  {
   "cell_type": "code",
   "execution_count": 12,
   "metadata": {},
   "outputs": [],
   "source": [
    "full_data = auth_data.merge(reg_data, how='left', on='uid')"
   ]
  },
  {
   "cell_type": "code",
   "execution_count": 13,
   "metadata": {},
   "outputs": [
    {
     "data": {
      "text/html": [
       "<div>\n",
       "<style scoped>\n",
       "    .dataframe tbody tr th:only-of-type {\n",
       "        vertical-align: middle;\n",
       "    }\n",
       "\n",
       "    .dataframe tbody tr th {\n",
       "        vertical-align: top;\n",
       "    }\n",
       "\n",
       "    .dataframe thead th {\n",
       "        text-align: right;\n",
       "    }\n",
       "</style>\n",
       "<table border=\"1\" class=\"dataframe\">\n",
       "  <thead>\n",
       "    <tr style=\"text-align: right;\">\n",
       "      <th></th>\n",
       "      <th>auth_ts</th>\n",
       "      <th>uid</th>\n",
       "      <th>reg_ts</th>\n",
       "    </tr>\n",
       "  </thead>\n",
       "  <tbody>\n",
       "    <tr>\n",
       "      <th>0</th>\n",
       "      <td>911382223</td>\n",
       "      <td>1</td>\n",
       "      <td>911382223</td>\n",
       "    </tr>\n",
       "    <tr>\n",
       "      <th>1</th>\n",
       "      <td>932683089</td>\n",
       "      <td>2</td>\n",
       "      <td>932683089</td>\n",
       "    </tr>\n",
       "    <tr>\n",
       "      <th>2</th>\n",
       "      <td>932921206</td>\n",
       "      <td>2</td>\n",
       "      <td>932683089</td>\n",
       "    </tr>\n",
       "    <tr>\n",
       "      <th>3</th>\n",
       "      <td>933393015</td>\n",
       "      <td>2</td>\n",
       "      <td>932683089</td>\n",
       "    </tr>\n",
       "    <tr>\n",
       "      <th>4</th>\n",
       "      <td>933875379</td>\n",
       "      <td>2</td>\n",
       "      <td>932683089</td>\n",
       "    </tr>\n",
       "  </tbody>\n",
       "</table>\n",
       "</div>"
      ],
      "text/plain": [
       "     auth_ts  uid     reg_ts\n",
       "0  911382223    1  911382223\n",
       "1  932683089    2  932683089\n",
       "2  932921206    2  932683089\n",
       "3  933393015    2  932683089\n",
       "4  933875379    2  932683089"
      ]
     },
     "execution_count": 13,
     "metadata": {},
     "output_type": "execute_result"
    }
   ],
   "source": [
    "full_data.head()"
   ]
  },
  {
   "cell_type": "code",
   "execution_count": 14,
   "metadata": {},
   "outputs": [
    {
     "data": {
      "text/plain": [
       "(9601013, 3)"
      ]
     },
     "execution_count": 14,
     "metadata": {},
     "output_type": "execute_result"
    }
   ],
   "source": [
    "full_data.shape"
   ]
  },
  {
   "cell_type": "markdown",
   "metadata": {},
   "source": [
    "Создадим два новых столбца в датафрейме full_data, в которых преобразуем время из секунд в объект datetime."
   ]
  },
  {
   "cell_type": "code",
   "execution_count": 15,
   "metadata": {},
   "outputs": [],
   "source": [
    "full_data['reg_time'] = pd.to_datetime(full_data['reg_ts'], unit='s')\n",
    "full_data['auth_time'] = pd.to_datetime(full_data['auth_ts'], unit='s')"
   ]
  },
  {
   "cell_type": "code",
   "execution_count": 16,
   "metadata": {},
   "outputs": [
    {
     "data": {
      "text/html": [
       "<div>\n",
       "<style scoped>\n",
       "    .dataframe tbody tr th:only-of-type {\n",
       "        vertical-align: middle;\n",
       "    }\n",
       "\n",
       "    .dataframe tbody tr th {\n",
       "        vertical-align: top;\n",
       "    }\n",
       "\n",
       "    .dataframe thead th {\n",
       "        text-align: right;\n",
       "    }\n",
       "</style>\n",
       "<table border=\"1\" class=\"dataframe\">\n",
       "  <thead>\n",
       "    <tr style=\"text-align: right;\">\n",
       "      <th></th>\n",
       "      <th>auth_ts</th>\n",
       "      <th>uid</th>\n",
       "      <th>reg_ts</th>\n",
       "      <th>reg_time</th>\n",
       "      <th>auth_time</th>\n",
       "    </tr>\n",
       "  </thead>\n",
       "  <tbody>\n",
       "    <tr>\n",
       "      <th>0</th>\n",
       "      <td>911382223</td>\n",
       "      <td>1</td>\n",
       "      <td>911382223</td>\n",
       "      <td>1998-11-18 09:43:43</td>\n",
       "      <td>1998-11-18 09:43:43</td>\n",
       "    </tr>\n",
       "    <tr>\n",
       "      <th>1</th>\n",
       "      <td>932683089</td>\n",
       "      <td>2</td>\n",
       "      <td>932683089</td>\n",
       "      <td>1999-07-22 22:38:09</td>\n",
       "      <td>1999-07-22 22:38:09</td>\n",
       "    </tr>\n",
       "    <tr>\n",
       "      <th>2</th>\n",
       "      <td>932921206</td>\n",
       "      <td>2</td>\n",
       "      <td>932683089</td>\n",
       "      <td>1999-07-22 22:38:09</td>\n",
       "      <td>1999-07-25 16:46:46</td>\n",
       "    </tr>\n",
       "    <tr>\n",
       "      <th>3</th>\n",
       "      <td>933393015</td>\n",
       "      <td>2</td>\n",
       "      <td>932683089</td>\n",
       "      <td>1999-07-22 22:38:09</td>\n",
       "      <td>1999-07-31 03:50:15</td>\n",
       "    </tr>\n",
       "    <tr>\n",
       "      <th>4</th>\n",
       "      <td>933875379</td>\n",
       "      <td>2</td>\n",
       "      <td>932683089</td>\n",
       "      <td>1999-07-22 22:38:09</td>\n",
       "      <td>1999-08-05 17:49:39</td>\n",
       "    </tr>\n",
       "  </tbody>\n",
       "</table>\n",
       "</div>"
      ],
      "text/plain": [
       "     auth_ts  uid     reg_ts            reg_time           auth_time\n",
       "0  911382223    1  911382223 1998-11-18 09:43:43 1998-11-18 09:43:43\n",
       "1  932683089    2  932683089 1999-07-22 22:38:09 1999-07-22 22:38:09\n",
       "2  932921206    2  932683089 1999-07-22 22:38:09 1999-07-25 16:46:46\n",
       "3  933393015    2  932683089 1999-07-22 22:38:09 1999-07-31 03:50:15\n",
       "4  933875379    2  932683089 1999-07-22 22:38:09 1999-08-05 17:49:39"
      ]
     },
     "execution_count": 16,
     "metadata": {},
     "output_type": "execute_result"
    }
   ],
   "source": [
    "full_data.head()"
   ]
  },
  {
   "cell_type": "markdown",
   "metadata": {},
   "source": [
    "Проверим тип данных."
   ]
  },
  {
   "cell_type": "code",
   "execution_count": 17,
   "metadata": {},
   "outputs": [
    {
     "name": "stdout",
     "output_type": "stream",
     "text": [
      "<class 'pandas.core.frame.DataFrame'>\n",
      "Int64Index: 9601013 entries, 0 to 9601012\n",
      "Data columns (total 5 columns):\n",
      " #   Column     Dtype         \n",
      "---  ------     -----         \n",
      " 0   auth_ts    int64         \n",
      " 1   uid        int64         \n",
      " 2   reg_ts     int64         \n",
      " 3   reg_time   datetime64[ns]\n",
      " 4   auth_time  datetime64[ns]\n",
      "dtypes: datetime64[ns](2), int64(3)\n",
      "memory usage: 439.5 MB\n"
     ]
    }
   ],
   "source": [
    "full_data.info()"
   ]
  },
  {
   "cell_type": "markdown",
   "metadata": {},
   "source": [
    "Посмотрим на первую и последнюю дату регистрации пользователей и первую и последнюю дату захода пользователей в игру."
   ]
  },
  {
   "cell_type": "code",
   "execution_count": 18,
   "metadata": {},
   "outputs": [
    {
     "name": "stdout",
     "output_type": "stream",
     "text": [
      "Первая дата регистрации: 1998-11-18 09:43:43\n",
      "Последняя дата регистрации: 2020-09-23 15:17:24\n",
      "Первая дата захода в игру: 1998-11-18 09:43:43\n",
      "Последняя дата захода в игру: 2020-09-23 15:17:24\n"
     ]
    }
   ],
   "source": [
    "reg_time_min = full_data['reg_time'].min()\n",
    "reg_time_max = full_data['reg_time'].max()\n",
    "auth_time_min = full_data['auth_time'].min()\n",
    "auth_time_max = full_data['auth_time'].max()\n",
    "\n",
    "print('Первая дата регистрации:', reg_time_min)\n",
    "print('Последняя дата регистрации:', reg_time_max)\n",
    "print('Первая дата захода в игру:', auth_time_min)\n",
    "print('Последняя дата захода в игру:', auth_time_max)"
   ]
  },
  {
   "cell_type": "markdown",
   "metadata": {},
   "source": [
    "Оставим только дату без времени, при этом будем помнить, что тип данных  в новых столбцах у нас будет object."
   ]
  },
  {
   "cell_type": "code",
   "execution_count": 19,
   "metadata": {},
   "outputs": [],
   "source": [
    "full_data['reg_date'] = full_data['reg_time'].dt.date\n",
    "full_data['auth_date'] = full_data['auth_time'].dt.date"
   ]
  },
  {
   "cell_type": "code",
   "execution_count": 20,
   "metadata": {},
   "outputs": [
    {
     "data": {
      "text/html": [
       "<div>\n",
       "<style scoped>\n",
       "    .dataframe tbody tr th:only-of-type {\n",
       "        vertical-align: middle;\n",
       "    }\n",
       "\n",
       "    .dataframe tbody tr th {\n",
       "        vertical-align: top;\n",
       "    }\n",
       "\n",
       "    .dataframe thead th {\n",
       "        text-align: right;\n",
       "    }\n",
       "</style>\n",
       "<table border=\"1\" class=\"dataframe\">\n",
       "  <thead>\n",
       "    <tr style=\"text-align: right;\">\n",
       "      <th></th>\n",
       "      <th>auth_ts</th>\n",
       "      <th>uid</th>\n",
       "      <th>reg_ts</th>\n",
       "      <th>reg_time</th>\n",
       "      <th>auth_time</th>\n",
       "      <th>reg_date</th>\n",
       "      <th>auth_date</th>\n",
       "    </tr>\n",
       "  </thead>\n",
       "  <tbody>\n",
       "    <tr>\n",
       "      <th>0</th>\n",
       "      <td>911382223</td>\n",
       "      <td>1</td>\n",
       "      <td>911382223</td>\n",
       "      <td>1998-11-18 09:43:43</td>\n",
       "      <td>1998-11-18 09:43:43</td>\n",
       "      <td>1998-11-18</td>\n",
       "      <td>1998-11-18</td>\n",
       "    </tr>\n",
       "    <tr>\n",
       "      <th>1</th>\n",
       "      <td>932683089</td>\n",
       "      <td>2</td>\n",
       "      <td>932683089</td>\n",
       "      <td>1999-07-22 22:38:09</td>\n",
       "      <td>1999-07-22 22:38:09</td>\n",
       "      <td>1999-07-22</td>\n",
       "      <td>1999-07-22</td>\n",
       "    </tr>\n",
       "    <tr>\n",
       "      <th>2</th>\n",
       "      <td>932921206</td>\n",
       "      <td>2</td>\n",
       "      <td>932683089</td>\n",
       "      <td>1999-07-22 22:38:09</td>\n",
       "      <td>1999-07-25 16:46:46</td>\n",
       "      <td>1999-07-22</td>\n",
       "      <td>1999-07-25</td>\n",
       "    </tr>\n",
       "    <tr>\n",
       "      <th>3</th>\n",
       "      <td>933393015</td>\n",
       "      <td>2</td>\n",
       "      <td>932683089</td>\n",
       "      <td>1999-07-22 22:38:09</td>\n",
       "      <td>1999-07-31 03:50:15</td>\n",
       "      <td>1999-07-22</td>\n",
       "      <td>1999-07-31</td>\n",
       "    </tr>\n",
       "    <tr>\n",
       "      <th>4</th>\n",
       "      <td>933875379</td>\n",
       "      <td>2</td>\n",
       "      <td>932683089</td>\n",
       "      <td>1999-07-22 22:38:09</td>\n",
       "      <td>1999-08-05 17:49:39</td>\n",
       "      <td>1999-07-22</td>\n",
       "      <td>1999-08-05</td>\n",
       "    </tr>\n",
       "  </tbody>\n",
       "</table>\n",
       "</div>"
      ],
      "text/plain": [
       "     auth_ts  uid     reg_ts            reg_time           auth_time  \\\n",
       "0  911382223    1  911382223 1998-11-18 09:43:43 1998-11-18 09:43:43   \n",
       "1  932683089    2  932683089 1999-07-22 22:38:09 1999-07-22 22:38:09   \n",
       "2  932921206    2  932683089 1999-07-22 22:38:09 1999-07-25 16:46:46   \n",
       "3  933393015    2  932683089 1999-07-22 22:38:09 1999-07-31 03:50:15   \n",
       "4  933875379    2  932683089 1999-07-22 22:38:09 1999-08-05 17:49:39   \n",
       "\n",
       "     reg_date   auth_date  \n",
       "0  1998-11-18  1998-11-18  \n",
       "1  1999-07-22  1999-07-22  \n",
       "2  1999-07-22  1999-07-25  \n",
       "3  1999-07-22  1999-07-31  \n",
       "4  1999-07-22  1999-08-05  "
      ]
     },
     "execution_count": 20,
     "metadata": {},
     "output_type": "execute_result"
    }
   ],
   "source": [
    "full_data.head()"
   ]
  },
  {
   "cell_type": "markdown",
   "metadata": {},
   "source": [
    "Добавим столбец с годом, чтобы построить график."
   ]
  },
  {
   "cell_type": "code",
   "execution_count": 21,
   "metadata": {},
   "outputs": [
    {
     "data": {
      "text/html": [
       "<div>\n",
       "<style scoped>\n",
       "    .dataframe tbody tr th:only-of-type {\n",
       "        vertical-align: middle;\n",
       "    }\n",
       "\n",
       "    .dataframe tbody tr th {\n",
       "        vertical-align: top;\n",
       "    }\n",
       "\n",
       "    .dataframe thead th {\n",
       "        text-align: right;\n",
       "    }\n",
       "</style>\n",
       "<table border=\"1\" class=\"dataframe\">\n",
       "  <thead>\n",
       "    <tr style=\"text-align: right;\">\n",
       "      <th></th>\n",
       "      <th>auth_ts</th>\n",
       "      <th>uid</th>\n",
       "      <th>reg_ts</th>\n",
       "      <th>reg_time</th>\n",
       "      <th>auth_time</th>\n",
       "      <th>reg_date</th>\n",
       "      <th>auth_date</th>\n",
       "      <th>year</th>\n",
       "    </tr>\n",
       "  </thead>\n",
       "  <tbody>\n",
       "    <tr>\n",
       "      <th>0</th>\n",
       "      <td>911382223</td>\n",
       "      <td>1</td>\n",
       "      <td>911382223</td>\n",
       "      <td>1998-11-18 09:43:43</td>\n",
       "      <td>1998-11-18 09:43:43</td>\n",
       "      <td>1998-11-18</td>\n",
       "      <td>1998-11-18</td>\n",
       "      <td>1998</td>\n",
       "    </tr>\n",
       "    <tr>\n",
       "      <th>1</th>\n",
       "      <td>932683089</td>\n",
       "      <td>2</td>\n",
       "      <td>932683089</td>\n",
       "      <td>1999-07-22 22:38:09</td>\n",
       "      <td>1999-07-22 22:38:09</td>\n",
       "      <td>1999-07-22</td>\n",
       "      <td>1999-07-22</td>\n",
       "      <td>1999</td>\n",
       "    </tr>\n",
       "    <tr>\n",
       "      <th>2</th>\n",
       "      <td>932921206</td>\n",
       "      <td>2</td>\n",
       "      <td>932683089</td>\n",
       "      <td>1999-07-22 22:38:09</td>\n",
       "      <td>1999-07-25 16:46:46</td>\n",
       "      <td>1999-07-22</td>\n",
       "      <td>1999-07-25</td>\n",
       "      <td>1999</td>\n",
       "    </tr>\n",
       "    <tr>\n",
       "      <th>3</th>\n",
       "      <td>933393015</td>\n",
       "      <td>2</td>\n",
       "      <td>932683089</td>\n",
       "      <td>1999-07-22 22:38:09</td>\n",
       "      <td>1999-07-31 03:50:15</td>\n",
       "      <td>1999-07-22</td>\n",
       "      <td>1999-07-31</td>\n",
       "      <td>1999</td>\n",
       "    </tr>\n",
       "    <tr>\n",
       "      <th>4</th>\n",
       "      <td>933875379</td>\n",
       "      <td>2</td>\n",
       "      <td>932683089</td>\n",
       "      <td>1999-07-22 22:38:09</td>\n",
       "      <td>1999-08-05 17:49:39</td>\n",
       "      <td>1999-07-22</td>\n",
       "      <td>1999-08-05</td>\n",
       "      <td>1999</td>\n",
       "    </tr>\n",
       "  </tbody>\n",
       "</table>\n",
       "</div>"
      ],
      "text/plain": [
       "     auth_ts  uid     reg_ts            reg_time           auth_time  \\\n",
       "0  911382223    1  911382223 1998-11-18 09:43:43 1998-11-18 09:43:43   \n",
       "1  932683089    2  932683089 1999-07-22 22:38:09 1999-07-22 22:38:09   \n",
       "2  932921206    2  932683089 1999-07-22 22:38:09 1999-07-25 16:46:46   \n",
       "3  933393015    2  932683089 1999-07-22 22:38:09 1999-07-31 03:50:15   \n",
       "4  933875379    2  932683089 1999-07-22 22:38:09 1999-08-05 17:49:39   \n",
       "\n",
       "     reg_date   auth_date  year  \n",
       "0  1998-11-18  1998-11-18  1998  \n",
       "1  1999-07-22  1999-07-22  1999  \n",
       "2  1999-07-22  1999-07-25  1999  \n",
       "3  1999-07-22  1999-07-31  1999  \n",
       "4  1999-07-22  1999-08-05  1999  "
      ]
     },
     "execution_count": 21,
     "metadata": {},
     "output_type": "execute_result"
    }
   ],
   "source": [
    "full_data['year'] = full_data['auth_time'].dt.strftime('%Y')\n",
    "full_data.head()"
   ]
  },
  {
   "cell_type": "markdown",
   "metadata": {},
   "source": [
    "Посмотрим распределение пользователей во времени."
   ]
  },
  {
   "cell_type": "code",
   "execution_count": 22,
   "metadata": {},
   "outputs": [],
   "source": [
    "count_users_reg_by_date = full_data.groupby('year', as_index=False).agg({'uid' : 'nunique'}).sort_values('year')"
   ]
  },
  {
   "cell_type": "code",
   "execution_count": 23,
   "metadata": {},
   "outputs": [
    {
     "data": {
      "text/html": [
       "<div>\n",
       "<style scoped>\n",
       "    .dataframe tbody tr th:only-of-type {\n",
       "        vertical-align: middle;\n",
       "    }\n",
       "\n",
       "    .dataframe tbody tr th {\n",
       "        vertical-align: top;\n",
       "    }\n",
       "\n",
       "    .dataframe thead th {\n",
       "        text-align: right;\n",
       "    }\n",
       "</style>\n",
       "<table border=\"1\" class=\"dataframe\">\n",
       "  <thead>\n",
       "    <tr style=\"text-align: right;\">\n",
       "      <th></th>\n",
       "      <th>year</th>\n",
       "      <th>uid</th>\n",
       "    </tr>\n",
       "  </thead>\n",
       "  <tbody>\n",
       "    <tr>\n",
       "      <th>0</th>\n",
       "      <td>1998</td>\n",
       "      <td>1</td>\n",
       "    </tr>\n",
       "    <tr>\n",
       "      <th>1</th>\n",
       "      <td>1999</td>\n",
       "      <td>1</td>\n",
       "    </tr>\n",
       "    <tr>\n",
       "      <th>2</th>\n",
       "      <td>2000</td>\n",
       "      <td>5</td>\n",
       "    </tr>\n",
       "    <tr>\n",
       "      <th>3</th>\n",
       "      <td>2001</td>\n",
       "      <td>7</td>\n",
       "    </tr>\n",
       "    <tr>\n",
       "      <th>4</th>\n",
       "      <td>2002</td>\n",
       "      <td>11</td>\n",
       "    </tr>\n",
       "    <tr>\n",
       "      <th>5</th>\n",
       "      <td>2003</td>\n",
       "      <td>21</td>\n",
       "    </tr>\n",
       "    <tr>\n",
       "      <th>6</th>\n",
       "      <td>2004</td>\n",
       "      <td>37</td>\n",
       "    </tr>\n",
       "    <tr>\n",
       "      <th>7</th>\n",
       "      <td>2005</td>\n",
       "      <td>66</td>\n",
       "    </tr>\n",
       "    <tr>\n",
       "      <th>8</th>\n",
       "      <td>2006</td>\n",
       "      <td>122</td>\n",
       "    </tr>\n",
       "    <tr>\n",
       "      <th>9</th>\n",
       "      <td>2007</td>\n",
       "      <td>227</td>\n",
       "    </tr>\n",
       "    <tr>\n",
       "      <th>10</th>\n",
       "      <td>2008</td>\n",
       "      <td>415</td>\n",
       "    </tr>\n",
       "    <tr>\n",
       "      <th>11</th>\n",
       "      <td>2009</td>\n",
       "      <td>754</td>\n",
       "    </tr>\n",
       "    <tr>\n",
       "      <th>12</th>\n",
       "      <td>2010</td>\n",
       "      <td>1376</td>\n",
       "    </tr>\n",
       "    <tr>\n",
       "      <th>13</th>\n",
       "      <td>2011</td>\n",
       "      <td>2531</td>\n",
       "    </tr>\n",
       "    <tr>\n",
       "      <th>14</th>\n",
       "      <td>2012</td>\n",
       "      <td>4638</td>\n",
       "    </tr>\n",
       "    <tr>\n",
       "      <th>15</th>\n",
       "      <td>2013</td>\n",
       "      <td>8448</td>\n",
       "    </tr>\n",
       "    <tr>\n",
       "      <th>16</th>\n",
       "      <td>2014</td>\n",
       "      <td>15422</td>\n",
       "    </tr>\n",
       "    <tr>\n",
       "      <th>17</th>\n",
       "      <td>2015</td>\n",
       "      <td>28128</td>\n",
       "    </tr>\n",
       "    <tr>\n",
       "      <th>18</th>\n",
       "      <td>2016</td>\n",
       "      <td>51461</td>\n",
       "    </tr>\n",
       "    <tr>\n",
       "      <th>19</th>\n",
       "      <td>2017</td>\n",
       "      <td>93667</td>\n",
       "    </tr>\n",
       "    <tr>\n",
       "      <th>20</th>\n",
       "      <td>2018</td>\n",
       "      <td>170777</td>\n",
       "    </tr>\n",
       "    <tr>\n",
       "      <th>21</th>\n",
       "      <td>2019</td>\n",
       "      <td>311202</td>\n",
       "    </tr>\n",
       "    <tr>\n",
       "      <th>22</th>\n",
       "      <td>2020</td>\n",
       "      <td>391646</td>\n",
       "    </tr>\n",
       "  </tbody>\n",
       "</table>\n",
       "</div>"
      ],
      "text/plain": [
       "    year     uid\n",
       "0   1998       1\n",
       "1   1999       1\n",
       "2   2000       5\n",
       "3   2001       7\n",
       "4   2002      11\n",
       "5   2003      21\n",
       "6   2004      37\n",
       "7   2005      66\n",
       "8   2006     122\n",
       "9   2007     227\n",
       "10  2008     415\n",
       "11  2009     754\n",
       "12  2010    1376\n",
       "13  2011    2531\n",
       "14  2012    4638\n",
       "15  2013    8448\n",
       "16  2014   15422\n",
       "17  2015   28128\n",
       "18  2016   51461\n",
       "19  2017   93667\n",
       "20  2018  170777\n",
       "21  2019  311202\n",
       "22  2020  391646"
      ]
     },
     "execution_count": 23,
     "metadata": {},
     "output_type": "execute_result"
    }
   ],
   "source": [
    "count_users_reg_by_date"
   ]
  },
  {
   "cell_type": "code",
   "execution_count": 24,
   "metadata": {},
   "outputs": [
    {
     "data": {
      "image/png": "[encoded data removed]",
      "text/plain": [
       "<Figure size 1080x720 with 1 Axes>"
      ]
     },
     "metadata": {
      "needs_background": "light"
     },
     "output_type": "display_data"
    }
   ],
   "source": [
    "count_users_reg_by_date.plot(figsize=(15, 10),\n",
    "kind='bar', \n",
    "x='year',\n",
    "y='uid')\n",
    "plt.title('Распределение пользователей во времени')\n",
    "plt.xlabel('Год')\n",
    "plt.ylabel('Количество пользователей');"
   ]
  },
  {
   "cell_type": "markdown",
   "metadata": {},
   "source": [
    "С начала первой активности 1998 до 2017 года количество пользователей очень маленькое, так что предлагаю сразу исключить их и рассматривать период с 2018 по 2020."
   ]
  },
  {
   "cell_type": "markdown",
   "metadata": {},
   "source": [
    "Прежде чем создавать функцию, пропишем каждый шаг отдельно, чтобы исключить ошибки."
   ]
  },
  {
   "cell_type": "markdown",
   "metadata": {},
   "source": [
    "Зададим временной интервал. Возьмем предпоследний месяц, за который у нас есть данные."
   ]
  },
  {
   "cell_type": "code",
   "execution_count": 25,
   "metadata": {},
   "outputs": [],
   "source": [
    "start_date = datetime.date(2020, 8, 1)\n",
    "end_date = datetime.date(2020, 8, 31)"
   ]
  },
  {
   "cell_type": "markdown",
   "metadata": {},
   "source": [
    "Добавим столбец с количеством дней, прошедших после регистрации."
   ]
  },
  {
   "cell_type": "code",
   "execution_count": 26,
   "metadata": {},
   "outputs": [],
   "source": [
    "full_data['period'] = ((full_data.auth_date - full_data.reg_date) / np.timedelta64(1, 'D')).astype(int)"
   ]
  },
  {
   "cell_type": "code",
   "execution_count": 27,
   "metadata": {},
   "outputs": [
    {
     "data": {
      "text/html": [
       "<div>\n",
       "<style scoped>\n",
       "    .dataframe tbody tr th:only-of-type {\n",
       "        vertical-align: middle;\n",
       "    }\n",
       "\n",
       "    .dataframe tbody tr th {\n",
       "        vertical-align: top;\n",
       "    }\n",
       "\n",
       "    .dataframe thead th {\n",
       "        text-align: right;\n",
       "    }\n",
       "</style>\n",
       "<table border=\"1\" class=\"dataframe\">\n",
       "  <thead>\n",
       "    <tr style=\"text-align: right;\">\n",
       "      <th></th>\n",
       "      <th>auth_ts</th>\n",
       "      <th>uid</th>\n",
       "      <th>reg_ts</th>\n",
       "      <th>reg_time</th>\n",
       "      <th>auth_time</th>\n",
       "      <th>reg_date</th>\n",
       "      <th>auth_date</th>\n",
       "      <th>year</th>\n",
       "      <th>period</th>\n",
       "    </tr>\n",
       "  </thead>\n",
       "  <tbody>\n",
       "    <tr>\n",
       "      <th>0</th>\n",
       "      <td>911382223</td>\n",
       "      <td>1</td>\n",
       "      <td>911382223</td>\n",
       "      <td>1998-11-18 09:43:43</td>\n",
       "      <td>1998-11-18 09:43:43</td>\n",
       "      <td>1998-11-18</td>\n",
       "      <td>1998-11-18</td>\n",
       "      <td>1998</td>\n",
       "      <td>0</td>\n",
       "    </tr>\n",
       "    <tr>\n",
       "      <th>1</th>\n",
       "      <td>932683089</td>\n",
       "      <td>2</td>\n",
       "      <td>932683089</td>\n",
       "      <td>1999-07-22 22:38:09</td>\n",
       "      <td>1999-07-22 22:38:09</td>\n",
       "      <td>1999-07-22</td>\n",
       "      <td>1999-07-22</td>\n",
       "      <td>1999</td>\n",
       "      <td>0</td>\n",
       "    </tr>\n",
       "    <tr>\n",
       "      <th>2</th>\n",
       "      <td>932921206</td>\n",
       "      <td>2</td>\n",
       "      <td>932683089</td>\n",
       "      <td>1999-07-22 22:38:09</td>\n",
       "      <td>1999-07-25 16:46:46</td>\n",
       "      <td>1999-07-22</td>\n",
       "      <td>1999-07-25</td>\n",
       "      <td>1999</td>\n",
       "      <td>3</td>\n",
       "    </tr>\n",
       "    <tr>\n",
       "      <th>3</th>\n",
       "      <td>933393015</td>\n",
       "      <td>2</td>\n",
       "      <td>932683089</td>\n",
       "      <td>1999-07-22 22:38:09</td>\n",
       "      <td>1999-07-31 03:50:15</td>\n",
       "      <td>1999-07-22</td>\n",
       "      <td>1999-07-31</td>\n",
       "      <td>1999</td>\n",
       "      <td>9</td>\n",
       "    </tr>\n",
       "    <tr>\n",
       "      <th>4</th>\n",
       "      <td>933875379</td>\n",
       "      <td>2</td>\n",
       "      <td>932683089</td>\n",
       "      <td>1999-07-22 22:38:09</td>\n",
       "      <td>1999-08-05 17:49:39</td>\n",
       "      <td>1999-07-22</td>\n",
       "      <td>1999-08-05</td>\n",
       "      <td>1999</td>\n",
       "      <td>14</td>\n",
       "    </tr>\n",
       "  </tbody>\n",
       "</table>\n",
       "</div>"
      ],
      "text/plain": [
       "     auth_ts  uid     reg_ts            reg_time           auth_time  \\\n",
       "0  911382223    1  911382223 1998-11-18 09:43:43 1998-11-18 09:43:43   \n",
       "1  932683089    2  932683089 1999-07-22 22:38:09 1999-07-22 22:38:09   \n",
       "2  932921206    2  932683089 1999-07-22 22:38:09 1999-07-25 16:46:46   \n",
       "3  933393015    2  932683089 1999-07-22 22:38:09 1999-07-31 03:50:15   \n",
       "4  933875379    2  932683089 1999-07-22 22:38:09 1999-08-05 17:49:39   \n",
       "\n",
       "     reg_date   auth_date  year  period  \n",
       "0  1998-11-18  1998-11-18  1998       0  \n",
       "1  1999-07-22  1999-07-22  1999       0  \n",
       "2  1999-07-22  1999-07-25  1999       3  \n",
       "3  1999-07-22  1999-07-31  1999       9  \n",
       "4  1999-07-22  1999-08-05  1999      14  "
      ]
     },
     "execution_count": 27,
     "metadata": {},
     "output_type": "execute_result"
    }
   ],
   "source": [
    "full_data.head()"
   ]
  },
  {
   "cell_type": "markdown",
   "metadata": {},
   "source": [
    "Возьмем данные за заданый временной интервал."
   ]
  },
  {
   "cell_type": "code",
   "execution_count": 28,
   "metadata": {},
   "outputs": [],
   "source": [
    "filtr_date = full_data.query('reg_date >= @start_date and auth_date <= @end_date')"
   ]
  },
  {
   "cell_type": "markdown",
   "metadata": {},
   "source": [
    "Вычислим размеры когорт по дате регистрации."
   ]
  },
  {
   "cell_type": "code",
   "execution_count": 29,
   "metadata": {},
   "outputs": [
    {
     "data": {
      "text/html": [
       "<div>\n",
       "<style scoped>\n",
       "    .dataframe tbody tr th:only-of-type {\n",
       "        vertical-align: middle;\n",
       "    }\n",
       "\n",
       "    .dataframe tbody tr th {\n",
       "        vertical-align: top;\n",
       "    }\n",
       "\n",
       "    .dataframe thead th {\n",
       "        text-align: right;\n",
       "    }\n",
       "</style>\n",
       "<table border=\"1\" class=\"dataframe\">\n",
       "  <thead>\n",
       "    <tr style=\"text-align: right;\">\n",
       "      <th>period</th>\n",
       "      <th>0</th>\n",
       "      <th>1</th>\n",
       "      <th>2</th>\n",
       "      <th>3</th>\n",
       "      <th>4</th>\n",
       "      <th>5</th>\n",
       "      <th>6</th>\n",
       "      <th>7</th>\n",
       "      <th>8</th>\n",
       "      <th>9</th>\n",
       "      <th>...</th>\n",
       "      <th>21</th>\n",
       "      <th>22</th>\n",
       "      <th>23</th>\n",
       "      <th>24</th>\n",
       "      <th>25</th>\n",
       "      <th>26</th>\n",
       "      <th>27</th>\n",
       "      <th>28</th>\n",
       "      <th>29</th>\n",
       "      <th>30</th>\n",
       "    </tr>\n",
       "    <tr>\n",
       "      <th>reg_date</th>\n",
       "      <th></th>\n",
       "      <th></th>\n",
       "      <th></th>\n",
       "      <th></th>\n",
       "      <th></th>\n",
       "      <th></th>\n",
       "      <th></th>\n",
       "      <th></th>\n",
       "      <th></th>\n",
       "      <th></th>\n",
       "      <th></th>\n",
       "      <th></th>\n",
       "      <th></th>\n",
       "      <th></th>\n",
       "      <th></th>\n",
       "      <th></th>\n",
       "      <th></th>\n",
       "      <th></th>\n",
       "      <th></th>\n",
       "      <th></th>\n",
       "      <th></th>\n",
       "    </tr>\n",
       "  </thead>\n",
       "  <tbody>\n",
       "    <tr>\n",
       "      <th>2020-08-01</th>\n",
       "      <td>1507.0</td>\n",
       "      <td>29.0</td>\n",
       "      <td>67.0</td>\n",
       "      <td>65.0</td>\n",
       "      <td>84.0</td>\n",
       "      <td>89.0</td>\n",
       "      <td>115.0</td>\n",
       "      <td>96.0</td>\n",
       "      <td>68.0</td>\n",
       "      <td>96.0</td>\n",
       "      <td>...</td>\n",
       "      <td>51.0</td>\n",
       "      <td>61.0</td>\n",
       "      <td>57.0</td>\n",
       "      <td>63.0</td>\n",
       "      <td>62.0</td>\n",
       "      <td>38.0</td>\n",
       "      <td>47.0</td>\n",
       "      <td>48.0</td>\n",
       "      <td>46.0</td>\n",
       "      <td>41.0</td>\n",
       "    </tr>\n",
       "    <tr>\n",
       "      <th>2020-08-02</th>\n",
       "      <td>1509.0</td>\n",
       "      <td>39.0</td>\n",
       "      <td>61.0</td>\n",
       "      <td>66.0</td>\n",
       "      <td>78.0</td>\n",
       "      <td>98.0</td>\n",
       "      <td>100.0</td>\n",
       "      <td>91.0</td>\n",
       "      <td>68.0</td>\n",
       "      <td>80.0</td>\n",
       "      <td>...</td>\n",
       "      <td>69.0</td>\n",
       "      <td>58.0</td>\n",
       "      <td>59.0</td>\n",
       "      <td>60.0</td>\n",
       "      <td>49.0</td>\n",
       "      <td>51.0</td>\n",
       "      <td>45.0</td>\n",
       "      <td>51.0</td>\n",
       "      <td>50.0</td>\n",
       "      <td>NaN</td>\n",
       "    </tr>\n",
       "    <tr>\n",
       "      <th>2020-08-03</th>\n",
       "      <td>1512.0</td>\n",
       "      <td>26.0</td>\n",
       "      <td>65.0</td>\n",
       "      <td>61.0</td>\n",
       "      <td>84.0</td>\n",
       "      <td>93.0</td>\n",
       "      <td>114.0</td>\n",
       "      <td>80.0</td>\n",
       "      <td>75.0</td>\n",
       "      <td>74.0</td>\n",
       "      <td>...</td>\n",
       "      <td>62.0</td>\n",
       "      <td>66.0</td>\n",
       "      <td>45.0</td>\n",
       "      <td>59.0</td>\n",
       "      <td>48.0</td>\n",
       "      <td>66.0</td>\n",
       "      <td>51.0</td>\n",
       "      <td>49.0</td>\n",
       "      <td>NaN</td>\n",
       "      <td>NaN</td>\n",
       "    </tr>\n",
       "    <tr>\n",
       "      <th>2020-08-04</th>\n",
       "      <td>1514.0</td>\n",
       "      <td>31.0</td>\n",
       "      <td>54.0</td>\n",
       "      <td>71.0</td>\n",
       "      <td>79.0</td>\n",
       "      <td>80.0</td>\n",
       "      <td>98.0</td>\n",
       "      <td>78.0</td>\n",
       "      <td>67.0</td>\n",
       "      <td>71.0</td>\n",
       "      <td>...</td>\n",
       "      <td>60.0</td>\n",
       "      <td>46.0</td>\n",
       "      <td>67.0</td>\n",
       "      <td>44.0</td>\n",
       "      <td>48.0</td>\n",
       "      <td>45.0</td>\n",
       "      <td>48.0</td>\n",
       "      <td>NaN</td>\n",
       "      <td>NaN</td>\n",
       "      <td>NaN</td>\n",
       "    </tr>\n",
       "    <tr>\n",
       "      <th>2020-08-05</th>\n",
       "      <td>1517.0</td>\n",
       "      <td>39.0</td>\n",
       "      <td>53.0</td>\n",
       "      <td>61.0</td>\n",
       "      <td>87.0</td>\n",
       "      <td>77.0</td>\n",
       "      <td>118.0</td>\n",
       "      <td>93.0</td>\n",
       "      <td>64.0</td>\n",
       "      <td>72.0</td>\n",
       "      <td>...</td>\n",
       "      <td>51.0</td>\n",
       "      <td>50.0</td>\n",
       "      <td>50.0</td>\n",
       "      <td>57.0</td>\n",
       "      <td>45.0</td>\n",
       "      <td>54.0</td>\n",
       "      <td>NaN</td>\n",
       "      <td>NaN</td>\n",
       "      <td>NaN</td>\n",
       "      <td>NaN</td>\n",
       "    </tr>\n",
       "  </tbody>\n",
       "</table>\n",
       "<p>5 rows × 31 columns</p>\n",
       "</div>"
      ],
      "text/plain": [
       "period          0     1     2     3     4     5      6     7     8     9   \\\n",
       "reg_date                                                                    \n",
       "2020-08-01  1507.0  29.0  67.0  65.0  84.0  89.0  115.0  96.0  68.0  96.0   \n",
       "2020-08-02  1509.0  39.0  61.0  66.0  78.0  98.0  100.0  91.0  68.0  80.0   \n",
       "2020-08-03  1512.0  26.0  65.0  61.0  84.0  93.0  114.0  80.0  75.0  74.0   \n",
       "2020-08-04  1514.0  31.0  54.0  71.0  79.0  80.0   98.0  78.0  67.0  71.0   \n",
       "2020-08-05  1517.0  39.0  53.0  61.0  87.0  77.0  118.0  93.0  64.0  72.0   \n",
       "\n",
       "period      ...    21    22    23    24    25    26    27    28    29    30  \n",
       "reg_date    ...                                                              \n",
       "2020-08-01  ...  51.0  61.0  57.0  63.0  62.0  38.0  47.0  48.0  46.0  41.0  \n",
       "2020-08-02  ...  69.0  58.0  59.0  60.0  49.0  51.0  45.0  51.0  50.0   NaN  \n",
       "2020-08-03  ...  62.0  66.0  45.0  59.0  48.0  66.0  51.0  49.0   NaN   NaN  \n",
       "2020-08-04  ...  60.0  46.0  67.0  44.0  48.0  45.0  48.0   NaN   NaN   NaN  \n",
       "2020-08-05  ...  51.0  50.0  50.0  57.0  45.0  54.0   NaN   NaN   NaN   NaN  \n",
       "\n",
       "[5 rows x 31 columns]"
      ]
     },
     "execution_count": 29,
     "metadata": {},
     "output_type": "execute_result"
    }
   ],
   "source": [
    "cohorts = filtr_date.groupby(['reg_date', 'period'], as_index=False).agg({'uid': 'nunique'})\\\n",
    "                    .pivot(index='reg_date', columns='period', values='uid')\n",
    "cohorts.head()"
   ]
  },
  {
   "cell_type": "markdown",
   "metadata": {},
   "source": [
    "Посчитаем retention."
   ]
  },
  {
   "cell_type": "code",
   "execution_count": 30,
   "metadata": {},
   "outputs": [
    {
     "data": {
      "text/html": [
       "<div>\n",
       "<style scoped>\n",
       "    .dataframe tbody tr th:only-of-type {\n",
       "        vertical-align: middle;\n",
       "    }\n",
       "\n",
       "    .dataframe tbody tr th {\n",
       "        vertical-align: top;\n",
       "    }\n",
       "\n",
       "    .dataframe thead th {\n",
       "        text-align: right;\n",
       "    }\n",
       "</style>\n",
       "<table border=\"1\" class=\"dataframe\">\n",
       "  <thead>\n",
       "    <tr style=\"text-align: right;\">\n",
       "      <th>period</th>\n",
       "      <th>0</th>\n",
       "      <th>1</th>\n",
       "      <th>2</th>\n",
       "      <th>3</th>\n",
       "      <th>4</th>\n",
       "      <th>5</th>\n",
       "      <th>6</th>\n",
       "      <th>7</th>\n",
       "      <th>8</th>\n",
       "      <th>9</th>\n",
       "      <th>...</th>\n",
       "      <th>21</th>\n",
       "      <th>22</th>\n",
       "      <th>23</th>\n",
       "      <th>24</th>\n",
       "      <th>25</th>\n",
       "      <th>26</th>\n",
       "      <th>27</th>\n",
       "      <th>28</th>\n",
       "      <th>29</th>\n",
       "      <th>30</th>\n",
       "    </tr>\n",
       "    <tr>\n",
       "      <th>reg_date</th>\n",
       "      <th></th>\n",
       "      <th></th>\n",
       "      <th></th>\n",
       "      <th></th>\n",
       "      <th></th>\n",
       "      <th></th>\n",
       "      <th></th>\n",
       "      <th></th>\n",
       "      <th></th>\n",
       "      <th></th>\n",
       "      <th></th>\n",
       "      <th></th>\n",
       "      <th></th>\n",
       "      <th></th>\n",
       "      <th></th>\n",
       "      <th></th>\n",
       "      <th></th>\n",
       "      <th></th>\n",
       "      <th></th>\n",
       "      <th></th>\n",
       "      <th></th>\n",
       "    </tr>\n",
       "  </thead>\n",
       "  <tbody>\n",
       "    <tr>\n",
       "      <th>2020-08-01</th>\n",
       "      <td>1.0</td>\n",
       "      <td>0.019244</td>\n",
       "      <td>0.044459</td>\n",
       "      <td>0.043132</td>\n",
       "      <td>0.055740</td>\n",
       "      <td>0.059058</td>\n",
       "      <td>0.076311</td>\n",
       "      <td>0.063703</td>\n",
       "      <td>0.045123</td>\n",
       "      <td>0.063703</td>\n",
       "      <td>...</td>\n",
       "      <td>0.033842</td>\n",
       "      <td>0.040478</td>\n",
       "      <td>0.037823</td>\n",
       "      <td>0.041805</td>\n",
       "      <td>0.041141</td>\n",
       "      <td>0.025216</td>\n",
       "      <td>0.031188</td>\n",
       "      <td>0.031851</td>\n",
       "      <td>0.030524</td>\n",
       "      <td>0.027206</td>\n",
       "    </tr>\n",
       "    <tr>\n",
       "      <th>2020-08-02</th>\n",
       "      <td>1.0</td>\n",
       "      <td>0.025845</td>\n",
       "      <td>0.040424</td>\n",
       "      <td>0.043738</td>\n",
       "      <td>0.051690</td>\n",
       "      <td>0.064944</td>\n",
       "      <td>0.066269</td>\n",
       "      <td>0.060305</td>\n",
       "      <td>0.045063</td>\n",
       "      <td>0.053015</td>\n",
       "      <td>...</td>\n",
       "      <td>0.045726</td>\n",
       "      <td>0.038436</td>\n",
       "      <td>0.039099</td>\n",
       "      <td>0.039761</td>\n",
       "      <td>0.032472</td>\n",
       "      <td>0.033797</td>\n",
       "      <td>0.029821</td>\n",
       "      <td>0.033797</td>\n",
       "      <td>0.033135</td>\n",
       "      <td>NaN</td>\n",
       "    </tr>\n",
       "    <tr>\n",
       "      <th>2020-08-03</th>\n",
       "      <td>1.0</td>\n",
       "      <td>0.017196</td>\n",
       "      <td>0.042989</td>\n",
       "      <td>0.040344</td>\n",
       "      <td>0.055556</td>\n",
       "      <td>0.061508</td>\n",
       "      <td>0.075397</td>\n",
       "      <td>0.052910</td>\n",
       "      <td>0.049603</td>\n",
       "      <td>0.048942</td>\n",
       "      <td>...</td>\n",
       "      <td>0.041005</td>\n",
       "      <td>0.043651</td>\n",
       "      <td>0.029762</td>\n",
       "      <td>0.039021</td>\n",
       "      <td>0.031746</td>\n",
       "      <td>0.043651</td>\n",
       "      <td>0.033730</td>\n",
       "      <td>0.032407</td>\n",
       "      <td>NaN</td>\n",
       "      <td>NaN</td>\n",
       "    </tr>\n",
       "    <tr>\n",
       "      <th>2020-08-04</th>\n",
       "      <td>1.0</td>\n",
       "      <td>0.020476</td>\n",
       "      <td>0.035667</td>\n",
       "      <td>0.046896</td>\n",
       "      <td>0.052180</td>\n",
       "      <td>0.052840</td>\n",
       "      <td>0.064729</td>\n",
       "      <td>0.051519</td>\n",
       "      <td>0.044254</td>\n",
       "      <td>0.046896</td>\n",
       "      <td>...</td>\n",
       "      <td>0.039630</td>\n",
       "      <td>0.030383</td>\n",
       "      <td>0.044254</td>\n",
       "      <td>0.029062</td>\n",
       "      <td>0.031704</td>\n",
       "      <td>0.029723</td>\n",
       "      <td>0.031704</td>\n",
       "      <td>NaN</td>\n",
       "      <td>NaN</td>\n",
       "      <td>NaN</td>\n",
       "    </tr>\n",
       "    <tr>\n",
       "      <th>2020-08-05</th>\n",
       "      <td>1.0</td>\n",
       "      <td>0.025709</td>\n",
       "      <td>0.034937</td>\n",
       "      <td>0.040211</td>\n",
       "      <td>0.057350</td>\n",
       "      <td>0.050758</td>\n",
       "      <td>0.077785</td>\n",
       "      <td>0.061305</td>\n",
       "      <td>0.042189</td>\n",
       "      <td>0.047462</td>\n",
       "      <td>...</td>\n",
       "      <td>0.033619</td>\n",
       "      <td>0.032960</td>\n",
       "      <td>0.032960</td>\n",
       "      <td>0.037574</td>\n",
       "      <td>0.029664</td>\n",
       "      <td>0.035597</td>\n",
       "      <td>NaN</td>\n",
       "      <td>NaN</td>\n",
       "      <td>NaN</td>\n",
       "      <td>NaN</td>\n",
       "    </tr>\n",
       "  </tbody>\n",
       "</table>\n",
       "<p>5 rows × 31 columns</p>\n",
       "</div>"
      ],
      "text/plain": [
       "period       0         1         2         3         4         5         6   \\\n",
       "reg_date                                                                      \n",
       "2020-08-01  1.0  0.019244  0.044459  0.043132  0.055740  0.059058  0.076311   \n",
       "2020-08-02  1.0  0.025845  0.040424  0.043738  0.051690  0.064944  0.066269   \n",
       "2020-08-03  1.0  0.017196  0.042989  0.040344  0.055556  0.061508  0.075397   \n",
       "2020-08-04  1.0  0.020476  0.035667  0.046896  0.052180  0.052840  0.064729   \n",
       "2020-08-05  1.0  0.025709  0.034937  0.040211  0.057350  0.050758  0.077785   \n",
       "\n",
       "period            7         8         9   ...        21        22        23  \\\n",
       "reg_date                                  ...                                 \n",
       "2020-08-01  0.063703  0.045123  0.063703  ...  0.033842  0.040478  0.037823   \n",
       "2020-08-02  0.060305  0.045063  0.053015  ...  0.045726  0.038436  0.039099   \n",
       "2020-08-03  0.052910  0.049603  0.048942  ...  0.041005  0.043651  0.029762   \n",
       "2020-08-04  0.051519  0.044254  0.046896  ...  0.039630  0.030383  0.044254   \n",
       "2020-08-05  0.061305  0.042189  0.047462  ...  0.033619  0.032960  0.032960   \n",
       "\n",
       "period            24        25        26        27        28        29  \\\n",
       "reg_date                                                                 \n",
       "2020-08-01  0.041805  0.041141  0.025216  0.031188  0.031851  0.030524   \n",
       "2020-08-02  0.039761  0.032472  0.033797  0.029821  0.033797  0.033135   \n",
       "2020-08-03  0.039021  0.031746  0.043651  0.033730  0.032407       NaN   \n",
       "2020-08-04  0.029062  0.031704  0.029723  0.031704       NaN       NaN   \n",
       "2020-08-05  0.037574  0.029664  0.035597       NaN       NaN       NaN   \n",
       "\n",
       "period            30  \n",
       "reg_date              \n",
       "2020-08-01  0.027206  \n",
       "2020-08-02       NaN  \n",
       "2020-08-03       NaN  \n",
       "2020-08-04       NaN  \n",
       "2020-08-05       NaN  \n",
       "\n",
       "[5 rows x 31 columns]"
      ]
     },
     "execution_count": 30,
     "metadata": {},
     "output_type": "execute_result"
    }
   ],
   "source": [
    "result_grouped = cohorts.div(cohorts[0], axis=0)\n",
    "result_grouped.head()"
   ]
  },
  {
   "cell_type": "markdown",
   "metadata": {},
   "source": [
    "Убираем нулевой день."
   ]
  },
  {
   "cell_type": "code",
   "execution_count": 31,
   "metadata": {},
   "outputs": [],
   "source": [
    "result_grouped = result_grouped.drop(columns=[0])"
   ]
  },
  {
   "cell_type": "markdown",
   "metadata": {},
   "source": [
    "Построим тепловую карту."
   ]
  },
  {
   "cell_type": "code",
   "execution_count": 32,
   "metadata": {
    "scrolled": false
   },
   "outputs": [
    {
     "data": {
      "image/png": "[encoded data removed]",
      "text/plain": [
       "<Figure size 1440x1440 with 2 Axes>"
      ]
     },
     "metadata": {
      "needs_background": "light"
     },
     "output_type": "display_data"
    }
   ],
   "source": [
    "plt.figure(figsize=(20, 20))\n",
    "sns.heatmap(result_grouped, vmin=0.0, vmax=0.1, cmap=\"YlGnBu\", \n",
    "            fmt='.1%', annot=True, linewidths=1, linecolor='white', square=True)\n",
    "plt.title('Retention Rate')\n",
    "plt.ylabel('Дата регистрации')\n",
    "plt.xlabel('Количество дней после регистрации');"
   ]
  },
  {
   "cell_type": "markdown",
   "metadata": {},
   "source": [
    "Отдельно все этапы работают нормально. Напишем функцию, которая будет считать retention игроков (по дням от даты регистрации игрока)."
   ]
  },
  {
   "cell_type": "code",
   "execution_count": 33,
   "metadata": {},
   "outputs": [],
   "source": [
    "def get_retention(reg_data, auth_data, start_date, end_date):\n",
    "    \"\"\"\n",
    "    Вычисляет коэффициент удержания пользователей на основе данных о регистрации и авторизации.\n",
    "\n",
    "    Параметры:\n",
    "    reg_data (DataFrame): Данные о регистрации пользователей.\n",
    "    auth_data (DataFrame): Данные о авторизации пользователей.\n",
    "    start_date (datetime): Дата начала фильтрации.\n",
    "    end_date (datetime): Дата окончания фильтрации.\n",
    "    \n",
    "    Шаги:\n",
    "    Вычисление разницы между датой регистрации и датой захода пользователя в игру в днях.\n",
    "    Фильтрация пользователей по необходимым датам.\n",
    "    Вычисление размеров когорт и расчет retention.\n",
    "    Построение графика.\n",
    "\n",
    "    Возвращает:\n",
    "    DataFrame: Коэффициент удержания пользователей по когортам.\n",
    "    \"\"\"\n",
    "    \n",
    "    \n",
    "    start_date = start_date\n",
    "    end_date = end_date\n",
    "        \n",
    "    \n",
    "    full_data['period'] = ((full_data.auth_date - full_data.reg_date) / np.timedelta64(1, 'D')).astype(int)\n",
    "    \n",
    "    \n",
    "    filtr_date = full_data.query('reg_date >= @start_date and auth_date <= @end_date')\n",
    "\n",
    "    \n",
    "    cohorts = filtr_date.groupby(['reg_date', 'period'], as_index=False).agg({'uid': 'nunique'})\\\n",
    "                        .pivot(index='reg_date', columns='period', values='uid')\n",
    "    result_grouped = cohorts.div(cohorts[0], axis=0)\n",
    "    \n",
    "    \n",
    "    result_grouped = result_grouped.drop(columns=[0])\n",
    "    \n",
    "    \n",
    "    plt.figure(figsize=(20, 20))\n",
    "    sns.heatmap(result_grouped, vmin=0.0, vmax=0.1, cmap=\"YlGnBu\", \n",
    "                fmt='.1%', annot=True, linewidths=1, linecolor='white', square=True)\n",
    "    plt.title('Retention Rate')\n",
    "    plt.ylabel('Дата регистрации')\n",
    "    plt.xlabel('Количество дней после регистрации')\n",
    "    \n",
    "    \n",
    "    return result_grouped"
   ]
  },
  {
   "cell_type": "code",
   "execution_count": 34,
   "metadata": {
    "scrolled": false
   },
   "outputs": [
    {
     "data": {
      "text/html": [
       "<div>\n",
       "<style scoped>\n",
       "    .dataframe tbody tr th:only-of-type {\n",
       "        vertical-align: middle;\n",
       "    }\n",
       "\n",
       "    .dataframe tbody tr th {\n",
       "        vertical-align: top;\n",
       "    }\n",
       "\n",
       "    .dataframe thead th {\n",
       "        text-align: right;\n",
       "    }\n",
       "</style>\n",
       "<table border=\"1\" class=\"dataframe\">\n",
       "  <thead>\n",
       "    <tr style=\"text-align: right;\">\n",
       "      <th>period</th>\n",
       "      <th>1</th>\n",
       "      <th>2</th>\n",
       "      <th>3</th>\n",
       "      <th>4</th>\n",
       "      <th>5</th>\n",
       "      <th>6</th>\n",
       "      <th>7</th>\n",
       "      <th>8</th>\n",
       "      <th>9</th>\n",
       "      <th>10</th>\n",
       "      <th>11</th>\n",
       "      <th>12</th>\n",
       "      <th>13</th>\n",
       "      <th>14</th>\n",
       "      <th>15</th>\n",
       "      <th>16</th>\n",
       "      <th>17</th>\n",
       "      <th>18</th>\n",
       "      <th>19</th>\n",
       "    </tr>\n",
       "    <tr>\n",
       "      <th>reg_date</th>\n",
       "      <th></th>\n",
       "      <th></th>\n",
       "      <th></th>\n",
       "      <th></th>\n",
       "      <th></th>\n",
       "      <th></th>\n",
       "      <th></th>\n",
       "      <th></th>\n",
       "      <th></th>\n",
       "      <th></th>\n",
       "      <th></th>\n",
       "      <th></th>\n",
       "      <th></th>\n",
       "      <th></th>\n",
       "      <th></th>\n",
       "      <th></th>\n",
       "      <th></th>\n",
       "      <th></th>\n",
       "      <th></th>\n",
       "    </tr>\n",
       "  </thead>\n",
       "  <tbody>\n",
       "    <tr>\n",
       "      <th>2019-01-01</th>\n",
       "      <td>0.020583</td>\n",
       "      <td>0.037736</td>\n",
       "      <td>0.049743</td>\n",
       "      <td>0.044597</td>\n",
       "      <td>0.063465</td>\n",
       "      <td>0.082333</td>\n",
       "      <td>0.058319</td>\n",
       "      <td>0.054889</td>\n",
       "      <td>0.060034</td>\n",
       "      <td>0.060034</td>\n",
       "      <td>0.046312</td>\n",
       "      <td>0.056604</td>\n",
       "      <td>0.034305</td>\n",
       "      <td>0.048027</td>\n",
       "      <td>0.046312</td>\n",
       "      <td>0.056604</td>\n",
       "      <td>0.048027</td>\n",
       "      <td>0.039451</td>\n",
       "      <td>0.046312</td>\n",
       "    </tr>\n",
       "    <tr>\n",
       "      <th>2019-01-02</th>\n",
       "      <td>0.017153</td>\n",
       "      <td>0.049743</td>\n",
       "      <td>0.036021</td>\n",
       "      <td>0.049743</td>\n",
       "      <td>0.080617</td>\n",
       "      <td>0.054889</td>\n",
       "      <td>0.070326</td>\n",
       "      <td>0.030875</td>\n",
       "      <td>0.041166</td>\n",
       "      <td>0.042882</td>\n",
       "      <td>0.058319</td>\n",
       "      <td>0.054889</td>\n",
       "      <td>0.049743</td>\n",
       "      <td>0.044597</td>\n",
       "      <td>0.046312</td>\n",
       "      <td>0.027444</td>\n",
       "      <td>0.048027</td>\n",
       "      <td>0.049743</td>\n",
       "      <td>NaN</td>\n",
       "    </tr>\n",
       "    <tr>\n",
       "      <th>2019-01-03</th>\n",
       "      <td>0.017094</td>\n",
       "      <td>0.030769</td>\n",
       "      <td>0.044444</td>\n",
       "      <td>0.059829</td>\n",
       "      <td>0.063248</td>\n",
       "      <td>0.064957</td>\n",
       "      <td>0.058120</td>\n",
       "      <td>0.022222</td>\n",
       "      <td>0.049573</td>\n",
       "      <td>0.047863</td>\n",
       "      <td>0.068376</td>\n",
       "      <td>0.034188</td>\n",
       "      <td>0.046154</td>\n",
       "      <td>0.039316</td>\n",
       "      <td>0.049573</td>\n",
       "      <td>0.042735</td>\n",
       "      <td>0.044444</td>\n",
       "      <td>NaN</td>\n",
       "      <td>NaN</td>\n",
       "    </tr>\n",
       "    <tr>\n",
       "      <th>2019-01-04</th>\n",
       "      <td>0.027350</td>\n",
       "      <td>0.037607</td>\n",
       "      <td>0.042735</td>\n",
       "      <td>0.054701</td>\n",
       "      <td>0.054701</td>\n",
       "      <td>0.080342</td>\n",
       "      <td>0.052991</td>\n",
       "      <td>0.042735</td>\n",
       "      <td>0.052991</td>\n",
       "      <td>0.056410</td>\n",
       "      <td>0.064957</td>\n",
       "      <td>0.059829</td>\n",
       "      <td>0.041026</td>\n",
       "      <td>0.041026</td>\n",
       "      <td>0.056410</td>\n",
       "      <td>0.039316</td>\n",
       "      <td>NaN</td>\n",
       "      <td>NaN</td>\n",
       "      <td>NaN</td>\n",
       "    </tr>\n",
       "    <tr>\n",
       "      <th>2019-01-05</th>\n",
       "      <td>0.018771</td>\n",
       "      <td>0.040956</td>\n",
       "      <td>0.046075</td>\n",
       "      <td>0.049488</td>\n",
       "      <td>0.081911</td>\n",
       "      <td>0.071672</td>\n",
       "      <td>0.069966</td>\n",
       "      <td>0.059727</td>\n",
       "      <td>0.040956</td>\n",
       "      <td>0.047782</td>\n",
       "      <td>0.064846</td>\n",
       "      <td>0.051195</td>\n",
       "      <td>0.058020</td>\n",
       "      <td>0.052901</td>\n",
       "      <td>0.040956</td>\n",
       "      <td>NaN</td>\n",
       "      <td>NaN</td>\n",
       "      <td>NaN</td>\n",
       "      <td>NaN</td>\n",
       "    </tr>\n",
       "    <tr>\n",
       "      <th>2019-01-06</th>\n",
       "      <td>0.017007</td>\n",
       "      <td>0.037415</td>\n",
       "      <td>0.052721</td>\n",
       "      <td>0.047619</td>\n",
       "      <td>0.059524</td>\n",
       "      <td>0.056122</td>\n",
       "      <td>0.057823</td>\n",
       "      <td>0.052721</td>\n",
       "      <td>0.047619</td>\n",
       "      <td>0.051020</td>\n",
       "      <td>0.061224</td>\n",
       "      <td>0.049320</td>\n",
       "      <td>0.039116</td>\n",
       "      <td>0.049320</td>\n",
       "      <td>NaN</td>\n",
       "      <td>NaN</td>\n",
       "      <td>NaN</td>\n",
       "      <td>NaN</td>\n",
       "      <td>NaN</td>\n",
       "    </tr>\n",
       "    <tr>\n",
       "      <th>2019-01-07</th>\n",
       "      <td>0.017007</td>\n",
       "      <td>0.042517</td>\n",
       "      <td>0.040816</td>\n",
       "      <td>0.054422</td>\n",
       "      <td>0.073129</td>\n",
       "      <td>0.073129</td>\n",
       "      <td>0.066327</td>\n",
       "      <td>0.054422</td>\n",
       "      <td>0.054422</td>\n",
       "      <td>0.034014</td>\n",
       "      <td>0.068027</td>\n",
       "      <td>0.047619</td>\n",
       "      <td>0.052721</td>\n",
       "      <td>NaN</td>\n",
       "      <td>NaN</td>\n",
       "      <td>NaN</td>\n",
       "      <td>NaN</td>\n",
       "      <td>NaN</td>\n",
       "      <td>NaN</td>\n",
       "    </tr>\n",
       "    <tr>\n",
       "      <th>2019-01-08</th>\n",
       "      <td>0.030560</td>\n",
       "      <td>0.040747</td>\n",
       "      <td>0.050934</td>\n",
       "      <td>0.057725</td>\n",
       "      <td>0.071307</td>\n",
       "      <td>0.071307</td>\n",
       "      <td>0.066214</td>\n",
       "      <td>0.057725</td>\n",
       "      <td>0.039049</td>\n",
       "      <td>0.049236</td>\n",
       "      <td>0.052632</td>\n",
       "      <td>0.050934</td>\n",
       "      <td>NaN</td>\n",
       "      <td>NaN</td>\n",
       "      <td>NaN</td>\n",
       "      <td>NaN</td>\n",
       "      <td>NaN</td>\n",
       "      <td>NaN</td>\n",
       "      <td>NaN</td>\n",
       "    </tr>\n",
       "    <tr>\n",
       "      <th>2019-01-09</th>\n",
       "      <td>0.010169</td>\n",
       "      <td>0.027119</td>\n",
       "      <td>0.042373</td>\n",
       "      <td>0.052542</td>\n",
       "      <td>0.059322</td>\n",
       "      <td>0.064407</td>\n",
       "      <td>0.044068</td>\n",
       "      <td>0.057627</td>\n",
       "      <td>0.050847</td>\n",
       "      <td>0.044068</td>\n",
       "      <td>0.044068</td>\n",
       "      <td>NaN</td>\n",
       "      <td>NaN</td>\n",
       "      <td>NaN</td>\n",
       "      <td>NaN</td>\n",
       "      <td>NaN</td>\n",
       "      <td>NaN</td>\n",
       "      <td>NaN</td>\n",
       "      <td>NaN</td>\n",
       "    </tr>\n",
       "    <tr>\n",
       "      <th>2019-01-10</th>\n",
       "      <td>0.030457</td>\n",
       "      <td>0.032149</td>\n",
       "      <td>0.050761</td>\n",
       "      <td>0.071066</td>\n",
       "      <td>0.047377</td>\n",
       "      <td>0.059222</td>\n",
       "      <td>0.052453</td>\n",
       "      <td>0.067682</td>\n",
       "      <td>0.038917</td>\n",
       "      <td>0.054146</td>\n",
       "      <td>NaN</td>\n",
       "      <td>NaN</td>\n",
       "      <td>NaN</td>\n",
       "      <td>NaN</td>\n",
       "      <td>NaN</td>\n",
       "      <td>NaN</td>\n",
       "      <td>NaN</td>\n",
       "      <td>NaN</td>\n",
       "      <td>NaN</td>\n",
       "    </tr>\n",
       "    <tr>\n",
       "      <th>2019-01-11</th>\n",
       "      <td>0.021922</td>\n",
       "      <td>0.042159</td>\n",
       "      <td>0.050590</td>\n",
       "      <td>0.077572</td>\n",
       "      <td>0.057336</td>\n",
       "      <td>0.075885</td>\n",
       "      <td>0.075885</td>\n",
       "      <td>0.040472</td>\n",
       "      <td>0.042159</td>\n",
       "      <td>NaN</td>\n",
       "      <td>NaN</td>\n",
       "      <td>NaN</td>\n",
       "      <td>NaN</td>\n",
       "      <td>NaN</td>\n",
       "      <td>NaN</td>\n",
       "      <td>NaN</td>\n",
       "      <td>NaN</td>\n",
       "      <td>NaN</td>\n",
       "      <td>NaN</td>\n",
       "    </tr>\n",
       "    <tr>\n",
       "      <th>2019-01-12</th>\n",
       "      <td>0.021922</td>\n",
       "      <td>0.037099</td>\n",
       "      <td>0.045531</td>\n",
       "      <td>0.057336</td>\n",
       "      <td>0.067454</td>\n",
       "      <td>0.064081</td>\n",
       "      <td>0.069140</td>\n",
       "      <td>0.067454</td>\n",
       "      <td>NaN</td>\n",
       "      <td>NaN</td>\n",
       "      <td>NaN</td>\n",
       "      <td>NaN</td>\n",
       "      <td>NaN</td>\n",
       "      <td>NaN</td>\n",
       "      <td>NaN</td>\n",
       "      <td>NaN</td>\n",
       "      <td>NaN</td>\n",
       "      <td>NaN</td>\n",
       "      <td>NaN</td>\n",
       "    </tr>\n",
       "    <tr>\n",
       "      <th>2019-01-13</th>\n",
       "      <td>0.025253</td>\n",
       "      <td>0.042088</td>\n",
       "      <td>0.058923</td>\n",
       "      <td>0.048822</td>\n",
       "      <td>0.058923</td>\n",
       "      <td>0.099327</td>\n",
       "      <td>0.082492</td>\n",
       "      <td>NaN</td>\n",
       "      <td>NaN</td>\n",
       "      <td>NaN</td>\n",
       "      <td>NaN</td>\n",
       "      <td>NaN</td>\n",
       "      <td>NaN</td>\n",
       "      <td>NaN</td>\n",
       "      <td>NaN</td>\n",
       "      <td>NaN</td>\n",
       "      <td>NaN</td>\n",
       "      <td>NaN</td>\n",
       "      <td>NaN</td>\n",
       "    </tr>\n",
       "    <tr>\n",
       "      <th>2019-01-14</th>\n",
       "      <td>0.018487</td>\n",
       "      <td>0.040336</td>\n",
       "      <td>0.043697</td>\n",
       "      <td>0.038655</td>\n",
       "      <td>0.070588</td>\n",
       "      <td>0.068908</td>\n",
       "      <td>NaN</td>\n",
       "      <td>NaN</td>\n",
       "      <td>NaN</td>\n",
       "      <td>NaN</td>\n",
       "      <td>NaN</td>\n",
       "      <td>NaN</td>\n",
       "      <td>NaN</td>\n",
       "      <td>NaN</td>\n",
       "      <td>NaN</td>\n",
       "      <td>NaN</td>\n",
       "      <td>NaN</td>\n",
       "      <td>NaN</td>\n",
       "      <td>NaN</td>\n",
       "    </tr>\n",
       "    <tr>\n",
       "      <th>2019-01-15</th>\n",
       "      <td>0.015101</td>\n",
       "      <td>0.038591</td>\n",
       "      <td>0.062081</td>\n",
       "      <td>0.053691</td>\n",
       "      <td>0.070470</td>\n",
       "      <td>NaN</td>\n",
       "      <td>NaN</td>\n",
       "      <td>NaN</td>\n",
       "      <td>NaN</td>\n",
       "      <td>NaN</td>\n",
       "      <td>NaN</td>\n",
       "      <td>NaN</td>\n",
       "      <td>NaN</td>\n",
       "      <td>NaN</td>\n",
       "      <td>NaN</td>\n",
       "      <td>NaN</td>\n",
       "      <td>NaN</td>\n",
       "      <td>NaN</td>\n",
       "      <td>NaN</td>\n",
       "    </tr>\n",
       "    <tr>\n",
       "      <th>2019-01-16</th>\n",
       "      <td>0.020101</td>\n",
       "      <td>0.045226</td>\n",
       "      <td>0.061977</td>\n",
       "      <td>0.067002</td>\n",
       "      <td>NaN</td>\n",
       "      <td>NaN</td>\n",
       "      <td>NaN</td>\n",
       "      <td>NaN</td>\n",
       "      <td>NaN</td>\n",
       "      <td>NaN</td>\n",
       "      <td>NaN</td>\n",
       "      <td>NaN</td>\n",
       "      <td>NaN</td>\n",
       "      <td>NaN</td>\n",
       "      <td>NaN</td>\n",
       "      <td>NaN</td>\n",
       "      <td>NaN</td>\n",
       "      <td>NaN</td>\n",
       "      <td>NaN</td>\n",
       "    </tr>\n",
       "    <tr>\n",
       "      <th>2019-01-17</th>\n",
       "      <td>0.018395</td>\n",
       "      <td>0.041806</td>\n",
       "      <td>0.048495</td>\n",
       "      <td>NaN</td>\n",
       "      <td>NaN</td>\n",
       "      <td>NaN</td>\n",
       "      <td>NaN</td>\n",
       "      <td>NaN</td>\n",
       "      <td>NaN</td>\n",
       "      <td>NaN</td>\n",
       "      <td>NaN</td>\n",
       "      <td>NaN</td>\n",
       "      <td>NaN</td>\n",
       "      <td>NaN</td>\n",
       "      <td>NaN</td>\n",
       "      <td>NaN</td>\n",
       "      <td>NaN</td>\n",
       "      <td>NaN</td>\n",
       "      <td>NaN</td>\n",
       "    </tr>\n",
       "    <tr>\n",
       "      <th>2019-01-18</th>\n",
       "      <td>0.013356</td>\n",
       "      <td>0.041736</td>\n",
       "      <td>NaN</td>\n",
       "      <td>NaN</td>\n",
       "      <td>NaN</td>\n",
       "      <td>NaN</td>\n",
       "      <td>NaN</td>\n",
       "      <td>NaN</td>\n",
       "      <td>NaN</td>\n",
       "      <td>NaN</td>\n",
       "      <td>NaN</td>\n",
       "      <td>NaN</td>\n",
       "      <td>NaN</td>\n",
       "      <td>NaN</td>\n",
       "      <td>NaN</td>\n",
       "      <td>NaN</td>\n",
       "      <td>NaN</td>\n",
       "      <td>NaN</td>\n",
       "      <td>NaN</td>\n",
       "    </tr>\n",
       "    <tr>\n",
       "      <th>2019-01-19</th>\n",
       "      <td>0.008333</td>\n",
       "      <td>NaN</td>\n",
       "      <td>NaN</td>\n",
       "      <td>NaN</td>\n",
       "      <td>NaN</td>\n",
       "      <td>NaN</td>\n",
       "      <td>NaN</td>\n",
       "      <td>NaN</td>\n",
       "      <td>NaN</td>\n",
       "      <td>NaN</td>\n",
       "      <td>NaN</td>\n",
       "      <td>NaN</td>\n",
       "      <td>NaN</td>\n",
       "      <td>NaN</td>\n",
       "      <td>NaN</td>\n",
       "      <td>NaN</td>\n",
       "      <td>NaN</td>\n",
       "      <td>NaN</td>\n",
       "      <td>NaN</td>\n",
       "    </tr>\n",
       "    <tr>\n",
       "      <th>2019-01-20</th>\n",
       "      <td>NaN</td>\n",
       "      <td>NaN</td>\n",
       "      <td>NaN</td>\n",
       "      <td>NaN</td>\n",
       "      <td>NaN</td>\n",
       "      <td>NaN</td>\n",
       "      <td>NaN</td>\n",
       "      <td>NaN</td>\n",
       "      <td>NaN</td>\n",
       "      <td>NaN</td>\n",
       "      <td>NaN</td>\n",
       "      <td>NaN</td>\n",
       "      <td>NaN</td>\n",
       "      <td>NaN</td>\n",
       "      <td>NaN</td>\n",
       "      <td>NaN</td>\n",
       "      <td>NaN</td>\n",
       "      <td>NaN</td>\n",
       "      <td>NaN</td>\n",
       "    </tr>\n",
       "  </tbody>\n",
       "</table>\n",
       "</div>"
      ],
      "text/plain": [
       "period            1         2         3         4         5         6   \\\n",
       "reg_date                                                                 \n",
       "2019-01-01  0.020583  0.037736  0.049743  0.044597  0.063465  0.082333   \n",
       "2019-01-02  0.017153  0.049743  0.036021  0.049743  0.080617  0.054889   \n",
       "2019-01-03  0.017094  0.030769  0.044444  0.059829  0.063248  0.064957   \n",
       "2019-01-04  0.027350  0.037607  0.042735  0.054701  0.054701  0.080342   \n",
       "2019-01-05  0.018771  0.040956  0.046075  0.049488  0.081911  0.071672   \n",
       "2019-01-06  0.017007  0.037415  0.052721  0.047619  0.059524  0.056122   \n",
       "2019-01-07  0.017007  0.042517  0.040816  0.054422  0.073129  0.073129   \n",
       "2019-01-08  0.030560  0.040747  0.050934  0.057725  0.071307  0.071307   \n",
       "2019-01-09  0.010169  0.027119  0.042373  0.052542  0.059322  0.064407   \n",
       "2019-01-10  0.030457  0.032149  0.050761  0.071066  0.047377  0.059222   \n",
       "2019-01-11  0.021922  0.042159  0.050590  0.077572  0.057336  0.075885   \n",
       "2019-01-12  0.021922  0.037099  0.045531  0.057336  0.067454  0.064081   \n",
       "2019-01-13  0.025253  0.042088  0.058923  0.048822  0.058923  0.099327   \n",
       "2019-01-14  0.018487  0.040336  0.043697  0.038655  0.070588  0.068908   \n",
       "2019-01-15  0.015101  0.038591  0.062081  0.053691  0.070470       NaN   \n",
       "2019-01-16  0.020101  0.045226  0.061977  0.067002       NaN       NaN   \n",
       "2019-01-17  0.018395  0.041806  0.048495       NaN       NaN       NaN   \n",
       "2019-01-18  0.013356  0.041736       NaN       NaN       NaN       NaN   \n",
       "2019-01-19  0.008333       NaN       NaN       NaN       NaN       NaN   \n",
       "2019-01-20       NaN       NaN       NaN       NaN       NaN       NaN   \n",
       "\n",
       "period            7         8         9         10        11        12  \\\n",
       "reg_date                                                                 \n",
       "2019-01-01  0.058319  0.054889  0.060034  0.060034  0.046312  0.056604   \n",
       "2019-01-02  0.070326  0.030875  0.041166  0.042882  0.058319  0.054889   \n",
       "2019-01-03  0.058120  0.022222  0.049573  0.047863  0.068376  0.034188   \n",
       "2019-01-04  0.052991  0.042735  0.052991  0.056410  0.064957  0.059829   \n",
       "2019-01-05  0.069966  0.059727  0.040956  0.047782  0.064846  0.051195   \n",
       "2019-01-06  0.057823  0.052721  0.047619  0.051020  0.061224  0.049320   \n",
       "2019-01-07  0.066327  0.054422  0.054422  0.034014  0.068027  0.047619   \n",
       "2019-01-08  0.066214  0.057725  0.039049  0.049236  0.052632  0.050934   \n",
       "2019-01-09  0.044068  0.057627  0.050847  0.044068  0.044068       NaN   \n",
       "2019-01-10  0.052453  0.067682  0.038917  0.054146       NaN       NaN   \n",
       "2019-01-11  0.075885  0.040472  0.042159       NaN       NaN       NaN   \n",
       "2019-01-12  0.069140  0.067454       NaN       NaN       NaN       NaN   \n",
       "2019-01-13  0.082492       NaN       NaN       NaN       NaN       NaN   \n",
       "2019-01-14       NaN       NaN       NaN       NaN       NaN       NaN   \n",
       "2019-01-15       NaN       NaN       NaN       NaN       NaN       NaN   \n",
       "2019-01-16       NaN       NaN       NaN       NaN       NaN       NaN   \n",
       "2019-01-17       NaN       NaN       NaN       NaN       NaN       NaN   \n",
       "2019-01-18       NaN       NaN       NaN       NaN       NaN       NaN   \n",
       "2019-01-19       NaN       NaN       NaN       NaN       NaN       NaN   \n",
       "2019-01-20       NaN       NaN       NaN       NaN       NaN       NaN   \n",
       "\n",
       "period            13        14        15        16        17        18  \\\n",
       "reg_date                                                                 \n",
       "2019-01-01  0.034305  0.048027  0.046312  0.056604  0.048027  0.039451   \n",
       "2019-01-02  0.049743  0.044597  0.046312  0.027444  0.048027  0.049743   \n",
       "2019-01-03  0.046154  0.039316  0.049573  0.042735  0.044444       NaN   \n",
       "2019-01-04  0.041026  0.041026  0.056410  0.039316       NaN       NaN   \n",
       "2019-01-05  0.058020  0.052901  0.040956       NaN       NaN       NaN   \n",
       "2019-01-06  0.039116  0.049320       NaN       NaN       NaN       NaN   \n",
       "2019-01-07  0.052721       NaN       NaN       NaN       NaN       NaN   \n",
       "2019-01-08       NaN       NaN       NaN       NaN       NaN       NaN   \n",
       "2019-01-09       NaN       NaN       NaN       NaN       NaN       NaN   \n",
       "2019-01-10       NaN       NaN       NaN       NaN       NaN       NaN   \n",
       "2019-01-11       NaN       NaN       NaN       NaN       NaN       NaN   \n",
       "2019-01-12       NaN       NaN       NaN       NaN       NaN       NaN   \n",
       "2019-01-13       NaN       NaN       NaN       NaN       NaN       NaN   \n",
       "2019-01-14       NaN       NaN       NaN       NaN       NaN       NaN   \n",
       "2019-01-15       NaN       NaN       NaN       NaN       NaN       NaN   \n",
       "2019-01-16       NaN       NaN       NaN       NaN       NaN       NaN   \n",
       "2019-01-17       NaN       NaN       NaN       NaN       NaN       NaN   \n",
       "2019-01-18       NaN       NaN       NaN       NaN       NaN       NaN   \n",
       "2019-01-19       NaN       NaN       NaN       NaN       NaN       NaN   \n",
       "2019-01-20       NaN       NaN       NaN       NaN       NaN       NaN   \n",
       "\n",
       "period            19  \n",
       "reg_date              \n",
       "2019-01-01  0.046312  \n",
       "2019-01-02       NaN  \n",
       "2019-01-03       NaN  \n",
       "2019-01-04       NaN  \n",
       "2019-01-05       NaN  \n",
       "2019-01-06       NaN  \n",
       "2019-01-07       NaN  \n",
       "2019-01-08       NaN  \n",
       "2019-01-09       NaN  \n",
       "2019-01-10       NaN  \n",
       "2019-01-11       NaN  \n",
       "2019-01-12       NaN  \n",
       "2019-01-13       NaN  \n",
       "2019-01-14       NaN  \n",
       "2019-01-15       NaN  \n",
       "2019-01-16       NaN  \n",
       "2019-01-17       NaN  \n",
       "2019-01-18       NaN  \n",
       "2019-01-19       NaN  \n",
       "2019-01-20       NaN  "
      ]
     },
     "execution_count": 34,
     "metadata": {},
     "output_type": "execute_result"
    },
    {
     "data": {
      "image/png": "[encoded data removed]",
      "text/plain": [
       "<Figure size 1440x1440 with 2 Axes>"
      ]
     },
     "metadata": {
      "needs_background": "light"
     },
     "output_type": "display_data"
    }
   ],
   "source": [
    "retention = get_retention(\n",
    "    reg_data, auth_data, start_date=datetime.date(2019, 1, 1), end_date=datetime.date(2019, 1, 20))\n",
    "\n",
    "retention"
   ]
  },
  {
   "cell_type": "markdown",
   "metadata": {},
   "source": [
    "**Вывод**: На основе наших данных была написана функция для расчета Retention."
   ]
  },
  {
   "cell_type": "markdown",
   "metadata": {},
   "source": [
    "## Задание 2"
   ]
  },
  {
   "cell_type": "markdown",
   "metadata": {},
   "source": [
    "Имеются результаты A/B теста, в котором двум группам пользователей предлагались различные наборы акционных предложений. Известно, что ARPU в тестовой группе выше на 5%, чем в контрольной. При этом в контрольной группе 1928 игроков из 202103 оказались платящими, а в тестовой – 1805 из 202667.\n",
    "\n",
    "Какой набор предложений можно считать лучшим? Какие метрики стоит проанализировать для принятия правильного решения и как?"
   ]
  },
  {
   "cell_type": "markdown",
   "metadata": {},
   "source": [
    "Откроем файл с данными и выведем на экран первые 5 строчек датафрейма data_ab."
   ]
  },
  {
   "cell_type": "code",
   "execution_count": 35,
   "metadata": {},
   "outputs": [],
   "source": [
    "data_ab = pd.read_csv('Проект_1_Задание_2.csv', sep=';')"
   ]
  },
  {
   "cell_type": "code",
   "execution_count": 36,
   "metadata": {},
   "outputs": [
    {
     "data": {
      "text/html": [
       "<div>\n",
       "<style scoped>\n",
       "    .dataframe tbody tr th:only-of-type {\n",
       "        vertical-align: middle;\n",
       "    }\n",
       "\n",
       "    .dataframe tbody tr th {\n",
       "        vertical-align: top;\n",
       "    }\n",
       "\n",
       "    .dataframe thead th {\n",
       "        text-align: right;\n",
       "    }\n",
       "</style>\n",
       "<table border=\"1\" class=\"dataframe\">\n",
       "  <thead>\n",
       "    <tr style=\"text-align: right;\">\n",
       "      <th></th>\n",
       "      <th>user_id</th>\n",
       "      <th>revenue</th>\n",
       "      <th>testgroup</th>\n",
       "    </tr>\n",
       "  </thead>\n",
       "  <tbody>\n",
       "    <tr>\n",
       "      <th>0</th>\n",
       "      <td>1</td>\n",
       "      <td>0</td>\n",
       "      <td>b</td>\n",
       "    </tr>\n",
       "    <tr>\n",
       "      <th>1</th>\n",
       "      <td>2</td>\n",
       "      <td>0</td>\n",
       "      <td>a</td>\n",
       "    </tr>\n",
       "    <tr>\n",
       "      <th>2</th>\n",
       "      <td>3</td>\n",
       "      <td>0</td>\n",
       "      <td>a</td>\n",
       "    </tr>\n",
       "    <tr>\n",
       "      <th>3</th>\n",
       "      <td>4</td>\n",
       "      <td>0</td>\n",
       "      <td>b</td>\n",
       "    </tr>\n",
       "    <tr>\n",
       "      <th>4</th>\n",
       "      <td>5</td>\n",
       "      <td>0</td>\n",
       "      <td>b</td>\n",
       "    </tr>\n",
       "  </tbody>\n",
       "</table>\n",
       "</div>"
      ],
      "text/plain": [
       "   user_id  revenue testgroup\n",
       "0        1        0         b\n",
       "1        2        0         a\n",
       "2        3        0         a\n",
       "3        4        0         b\n",
       "4        5        0         b"
      ]
     },
     "execution_count": 36,
     "metadata": {},
     "output_type": "execute_result"
    }
   ],
   "source": [
    "data_ab.head()"
   ]
  },
  {
   "cell_type": "markdown",
   "metadata": {},
   "source": [
    "Посмотрим количество строк и столбцов в датафрейме data_ab. А также какой тип данных в каждом столбце."
   ]
  },
  {
   "cell_type": "code",
   "execution_count": 37,
   "metadata": {},
   "outputs": [
    {
     "data": {
      "text/plain": [
       "(404770, 3)"
      ]
     },
     "execution_count": 37,
     "metadata": {},
     "output_type": "execute_result"
    }
   ],
   "source": [
    "data_ab.shape"
   ]
  },
  {
   "cell_type": "code",
   "execution_count": 38,
   "metadata": {},
   "outputs": [
    {
     "name": "stdout",
     "output_type": "stream",
     "text": [
      "<class 'pandas.core.frame.DataFrame'>\n",
      "RangeIndex: 404770 entries, 0 to 404769\n",
      "Data columns (total 3 columns):\n",
      " #   Column     Non-Null Count   Dtype \n",
      "---  ------     --------------   ----- \n",
      " 0   user_id    404770 non-null  int64 \n",
      " 1   revenue    404770 non-null  int64 \n",
      " 2   testgroup  404770 non-null  object\n",
      "dtypes: int64(2), object(1)\n",
      "memory usage: 9.3+ MB\n"
     ]
    }
   ],
   "source": [
    "data_ab.info()"
   ]
  },
  {
   "cell_type": "markdown",
   "metadata": {},
   "source": [
    "Проверим наличие пропусков в столбцах."
   ]
  },
  {
   "cell_type": "code",
   "execution_count": 39,
   "metadata": {},
   "outputs": [
    {
     "data": {
      "text/plain": [
       "user_id      0\n",
       "revenue      0\n",
       "testgroup    0\n",
       "dtype: int64"
      ]
     },
     "execution_count": 39,
     "metadata": {},
     "output_type": "execute_result"
    }
   ],
   "source": [
    "data_ab.isna().sum()"
   ]
  },
  {
   "cell_type": "markdown",
   "metadata": {},
   "source": [
    "Посмотрим на количество уникальных пользователей."
   ]
  },
  {
   "cell_type": "code",
   "execution_count": 40,
   "metadata": {},
   "outputs": [
    {
     "data": {
      "text/plain": [
       "404770"
      ]
     },
     "execution_count": 40,
     "metadata": {},
     "output_type": "execute_result"
    }
   ],
   "source": [
    "data_ab.user_id.nunique()"
   ]
  },
  {
   "cell_type": "markdown",
   "metadata": {},
   "source": [
    "В датафрейме data_ab все пользователи уникальны и не встречаются сразу в двух группах. "
   ]
  },
  {
   "cell_type": "markdown",
   "metadata": {},
   "source": [
    "### Основная часть"
   ]
  },
  {
   "cell_type": "markdown",
   "metadata": {},
   "source": [
    "Посмотрим на количество пользователей, количество платящих пользователей, выручку, конверсию и ARPU в разрезе групп и сравним их."
   ]
  },
  {
   "cell_type": "markdown",
   "metadata": {},
   "source": [
    "#### Количество пользователей на группу"
   ]
  },
  {
   "cell_type": "code",
   "execution_count": 41,
   "metadata": {},
   "outputs": [
    {
     "name": "stdout",
     "output_type": "stream",
     "text": [
      "Количество уникальных пользователей контрольной группы: 202103\n"
     ]
    }
   ],
   "source": [
    "counts_users_a = data_ab.query('testgroup == \"a\"').user_id.nunique()\n",
    "print('Количество уникальных пользователей контрольной группы:', counts_users_a)"
   ]
  },
  {
   "cell_type": "code",
   "execution_count": 42,
   "metadata": {},
   "outputs": [
    {
     "name": "stdout",
     "output_type": "stream",
     "text": [
      "Количество уникальных пользователей тестовой группы: 202667\n"
     ]
    }
   ],
   "source": [
    "counts_users_b = data_ab.query('testgroup == \"b\"').user_id.nunique()\n",
    "print('Количество уникальных пользователей тестовой группы:', counts_users_b)"
   ]
  },
  {
   "cell_type": "code",
   "execution_count": 43,
   "metadata": {
    "scrolled": true
   },
   "outputs": [
    {
     "name": "stdout",
     "output_type": "stream",
     "text": [
      "Разница между группами: 564 пользователей\n"
     ]
    }
   ],
   "source": [
    "print('Разница между группами:', counts_users_b - counts_users_a, 'пользователей')"
   ]
  },
  {
   "cell_type": "code",
   "execution_count": 44,
   "metadata": {},
   "outputs": [
    {
     "data": {
      "text/plain": [
       "0.14"
      ]
     },
     "execution_count": 44,
     "metadata": {},
     "output_type": "execute_result"
    }
   ],
   "source": [
    "round((counts_users_b - counts_users_a) / (counts_users_b + counts_users_a) * 100, 2)"
   ]
  },
  {
   "cell_type": "markdown",
   "metadata": {},
   "source": [
    "Тестовая и контрольная группы почти одинаковы, разница меньше 1%."
   ]
  },
  {
   "cell_type": "markdown",
   "metadata": {},
   "source": [
    "#### Количество платящих пользователей в группах"
   ]
  },
  {
   "cell_type": "code",
   "execution_count": 45,
   "metadata": {},
   "outputs": [
    {
     "name": "stdout",
     "output_type": "stream",
     "text": [
      "Количество уникальных платящих пользователей контрольной группы: 1928\n"
     ]
    }
   ],
   "source": [
    "count_paying_users_a = data_ab.query('testgroup == \"a\" and revenue > 0').user_id.nunique()\n",
    "print('Количество уникальных платящих пользователей контрольной группы:', count_paying_users_a)"
   ]
  },
  {
   "cell_type": "code",
   "execution_count": 46,
   "metadata": {},
   "outputs": [
    {
     "name": "stdout",
     "output_type": "stream",
     "text": [
      "Количество уникальных платящих пользователей тестовой группы: 1805\n"
     ]
    }
   ],
   "source": [
    "count_paying_users_b = data_ab.query('testgroup == \"b\" and revenue > 0').user_id.nunique()\n",
    "print('Количество уникальных платящих пользователей тестовой группы:', count_paying_users_b)"
   ]
  },
  {
   "cell_type": "code",
   "execution_count": 47,
   "metadata": {},
   "outputs": [
    {
     "name": "stdout",
     "output_type": "stream",
     "text": [
      "Разница между группами: 123 платящих пользователя\n"
     ]
    }
   ],
   "source": [
    "print('Разница между группами:', count_paying_users_a - count_paying_users_b, 'платящих пользователя')"
   ]
  },
  {
   "cell_type": "code",
   "execution_count": 48,
   "metadata": {},
   "outputs": [
    {
     "data": {
      "text/plain": [
       "3.29"
      ]
     },
     "execution_count": 48,
     "metadata": {},
     "output_type": "execute_result"
    }
   ],
   "source": [
    "round((count_paying_users_a - count_paying_users_b) / (count_paying_users_a + count_paying_users_b) * 100, 2)"
   ]
  },
  {
   "cell_type": "markdown",
   "metadata": {},
   "source": [
    "Тестовая и контрольная группы отличаются примерно на 3.5%."
   ]
  },
  {
   "cell_type": "markdown",
   "metadata": {},
   "source": [
    "#### Выручка"
   ]
  },
  {
   "cell_type": "code",
   "execution_count": 49,
   "metadata": {},
   "outputs": [
    {
     "name": "stdout",
     "output_type": "stream",
     "text": [
      "Выручка контрольной группы: 5136189\n"
     ]
    }
   ],
   "source": [
    "revenue_a = data_ab.query('testgroup == \"a\"').revenue.sum()\n",
    "print('Выручка контрольной группы:', revenue_a)"
   ]
  },
  {
   "cell_type": "code",
   "execution_count": 50,
   "metadata": {},
   "outputs": [
    {
     "name": "stdout",
     "output_type": "stream",
     "text": [
      "Выручка тестовой группы: 5421603\n"
     ]
    }
   ],
   "source": [
    "revenue_b = data_ab.query('testgroup == \"b\"').revenue.sum()\n",
    "print('Выручка тестовой группы:', revenue_b)"
   ]
  },
  {
   "cell_type": "code",
   "execution_count": 51,
   "metadata": {},
   "outputs": [
    {
     "name": "stdout",
     "output_type": "stream",
     "text": [
      "Разница в выручке между группами: 285414\n"
     ]
    }
   ],
   "source": [
    "print('Разница в выручке между группами:', revenue_b - revenue_a)"
   ]
  },
  {
   "cell_type": "code",
   "execution_count": 52,
   "metadata": {},
   "outputs": [
    {
     "data": {
      "text/plain": [
       "2.7"
      ]
     },
     "execution_count": 52,
     "metadata": {},
     "output_type": "execute_result"
    }
   ],
   "source": [
    "round((revenue_b - revenue_a) / (revenue_b + revenue_a) * 100, 2)"
   ]
  },
  {
   "cell_type": "markdown",
   "metadata": {},
   "source": [
    "Выручка между тестовой и контрольной группами отличаются на 2.7%."
   ]
  },
  {
   "cell_type": "markdown",
   "metadata": {},
   "source": [
    "#### Конверсия"
   ]
  },
  {
   "cell_type": "code",
   "execution_count": 53,
   "metadata": {},
   "outputs": [
    {
     "name": "stdout",
     "output_type": "stream",
     "text": [
      "Конверсия в контрольной группе: 0.95\n"
     ]
    }
   ],
   "source": [
    "conversion_a = round((count_paying_users_a / counts_users_a) * 100, 2)\n",
    "print('Конверсия в контрольной группе:', conversion_a)"
   ]
  },
  {
   "cell_type": "code",
   "execution_count": 54,
   "metadata": {},
   "outputs": [
    {
     "name": "stdout",
     "output_type": "stream",
     "text": [
      "Конверсия в тестовой группе: 0.89\n"
     ]
    }
   ],
   "source": [
    "conversion_b = round((count_paying_users_b / counts_users_b) * 100, 2)\n",
    "print('Конверсия в тестовой группе:', conversion_b)"
   ]
  },
  {
   "cell_type": "markdown",
   "metadata": {},
   "source": [
    "#### ARPU"
   ]
  },
  {
   "cell_type": "code",
   "execution_count": 55,
   "metadata": {},
   "outputs": [
    {
     "name": "stdout",
     "output_type": "stream",
     "text": [
      "ARPU в контрольной группе: 25.41\n"
     ]
    }
   ],
   "source": [
    "arpu_a = round(revenue_a / counts_users_a, 2)\n",
    "print('ARPU в контрольной группе:', arpu_a)"
   ]
  },
  {
   "cell_type": "code",
   "execution_count": 56,
   "metadata": {},
   "outputs": [
    {
     "name": "stdout",
     "output_type": "stream",
     "text": [
      "ARPU в тестовой группе: 26.75\n"
     ]
    }
   ],
   "source": [
    "arpu_b = round(revenue_b / counts_users_b, 2)\n",
    "print('ARPU в тестовой группе:', arpu_b)"
   ]
  },
  {
   "cell_type": "markdown",
   "metadata": {},
   "source": [
    "проверим, что ARPU в тестовой группе выше на 5% чем в контрольной."
   ]
  },
  {
   "cell_type": "code",
   "execution_count": 57,
   "metadata": {},
   "outputs": [
    {
     "data": {
      "text/plain": [
       "5.27"
      ]
     },
     "execution_count": 57,
     "metadata": {},
     "output_type": "execute_result"
    }
   ],
   "source": [
    "round(((arpu_b / arpu_a * 100) - 100), 2)"
   ]
  },
  {
   "cell_type": "markdown",
   "metadata": {},
   "source": [
    "#### ARPPU"
   ]
  },
  {
   "cell_type": "code",
   "execution_count": 58,
   "metadata": {},
   "outputs": [
    {
     "name": "stdout",
     "output_type": "stream",
     "text": [
      "ARPPU в контрольной группе: 2664.0\n"
     ]
    }
   ],
   "source": [
    "arppu_a = round(revenue_a / count_paying_users_a, 2)\n",
    "print('ARPPU в контрольной группе:', arppu_a)"
   ]
  },
  {
   "cell_type": "code",
   "execution_count": 59,
   "metadata": {},
   "outputs": [
    {
     "name": "stdout",
     "output_type": "stream",
     "text": [
      "ARPPU в тестовой группе: 3003.66\n"
     ]
    }
   ],
   "source": [
    "arppu_b = round(revenue_b / count_paying_users_b, 2)\n",
    "print('ARPPU в тестовой группе:', arppu_b)"
   ]
  },
  {
   "cell_type": "code",
   "execution_count": 60,
   "metadata": {},
   "outputs": [
    {
     "data": {
      "text/plain": [
       "12.75"
      ]
     },
     "execution_count": 60,
     "metadata": {},
     "output_type": "execute_result"
    }
   ],
   "source": [
    "round(((arppu_b / arppu_a * 100) - 100), 2)"
   ]
  },
  {
   "cell_type": "markdown",
   "metadata": {},
   "source": [
    "ARPPU в тестовой группе больше на 12.75% чем в контрольной."
   ]
  },
  {
   "cell_type": "markdown",
   "metadata": {},
   "source": [
    "Создадим два датафрейма, разделив данные на тестовую и контрольную группы."
   ]
  },
  {
   "cell_type": "code",
   "execution_count": 61,
   "metadata": {},
   "outputs": [],
   "source": [
    "group_a = data_ab.query('testgroup == \"a\"')"
   ]
  },
  {
   "cell_type": "code",
   "execution_count": 62,
   "metadata": {},
   "outputs": [],
   "source": [
    "group_b = data_ab.query('testgroup == \"b\"')"
   ]
  },
  {
   "cell_type": "markdown",
   "metadata": {},
   "source": [
    "Посмотрим на описательную статистику."
   ]
  },
  {
   "cell_type": "code",
   "execution_count": 63,
   "metadata": {},
   "outputs": [
    {
     "data": {
      "text/plain": [
       "count    202103.000000\n",
       "mean         25.413720\n",
       "std         920.768137\n",
       "min           0.000000\n",
       "25%           0.000000\n",
       "50%           0.000000\n",
       "75%           0.000000\n",
       "max       37433.000000\n",
       "Name: revenue, dtype: float64"
      ]
     },
     "execution_count": 63,
     "metadata": {},
     "output_type": "execute_result"
    }
   ],
   "source": [
    "group_a['revenue'].describe()"
   ]
  },
  {
   "cell_type": "code",
   "execution_count": 64,
   "metadata": {
    "scrolled": true
   },
   "outputs": [
    {
     "data": {
      "text/plain": [
       "count    202667.000000\n",
       "mean         26.751287\n",
       "std         287.324162\n",
       "min           0.000000\n",
       "25%           0.000000\n",
       "50%           0.000000\n",
       "75%           0.000000\n",
       "max        4000.000000\n",
       "Name: revenue, dtype: float64"
      ]
     },
     "execution_count": 64,
     "metadata": {},
     "output_type": "execute_result"
    }
   ],
   "source": [
    "group_b['revenue'].describe()"
   ]
  },
  {
   "cell_type": "markdown",
   "metadata": {},
   "source": [
    "Средние значения в группах 25.41 и 26.75. Так как многие пользователи не совершали покупок, то медианное значение в двух группах равняется нулю."
   ]
  },
  {
   "cell_type": "markdown",
   "metadata": {},
   "source": [
    "Нарисуем boxplot."
   ]
  },
  {
   "cell_type": "code",
   "execution_count": 65,
   "metadata": {
    "scrolled": false
   },
   "outputs": [
    {
     "data": {
      "image/png": "[encoded data removed]",
      "text/plain": [
       "<Figure size 1080x720 with 1 Axes>"
      ]
     },
     "metadata": {
      "needs_background": "light"
     },
     "output_type": "display_data"
    }
   ],
   "source": [
    "plt.figure(figsize=(15, 10))\n",
    "sns.boxplot(data=data_ab, x='testgroup', y='revenue');"
   ]
  },
  {
   "cell_type": "code",
   "execution_count": 66,
   "metadata": {
    "scrolled": false
   },
   "outputs": [
    {
     "data": {
      "image/png": "[encoded data removed]",
      "text/plain": [
       "<Figure size 1080x720 with 1 Axes>"
      ]
     },
     "metadata": {
      "needs_background": "light"
     },
     "output_type": "display_data"
    }
   ],
   "source": [
    "plt.figure(figsize=(15, 10))\n",
    "groups = sns.histplot(data=data_ab, \n",
    "             x='revenue', \n",
    "             hue='testgroup', \n",
    "             palette=['r', 'b'],\n",
    "             alpha=0.5,\n",
    "             kde=False)\n",
    "plt.title('Сравнение выручки между группами')\n",
    "plt.xlabel('Выручка')\n",
    "plt.ylabel('Количество');"
   ]
  },
  {
   "cell_type": "markdown",
   "metadata": {},
   "source": [
    "Многие пользователи не совершали никаких покупок, но так как на данном этапе нас интересует выручка, то исключим тех пользователей, которые не совершали покупки(так как картина не совсем понятна), и снова посмотрим на описательную статистику."
   ]
  },
  {
   "cell_type": "code",
   "execution_count": 67,
   "metadata": {},
   "outputs": [],
   "source": [
    "group_a_paying_users = data_ab.query('testgroup == \"a\" and revenue > 0')"
   ]
  },
  {
   "cell_type": "code",
   "execution_count": 68,
   "metadata": {},
   "outputs": [],
   "source": [
    "group_b_paying_users = data_ab.query('testgroup == \"b\" and revenue > 0')"
   ]
  },
  {
   "cell_type": "code",
   "execution_count": 69,
   "metadata": {},
   "outputs": [
    {
     "data": {
      "text/plain": [
       "count     1928.000000\n",
       "mean      2663.998444\n",
       "std       9049.039763\n",
       "min        200.000000\n",
       "25%        257.000000\n",
       "50%        311.000000\n",
       "75%        361.000000\n",
       "max      37433.000000\n",
       "Name: revenue, dtype: float64"
      ]
     },
     "execution_count": 69,
     "metadata": {},
     "output_type": "execute_result"
    }
   ],
   "source": [
    "group_a_paying_users['revenue'].describe()"
   ]
  },
  {
   "cell_type": "code",
   "execution_count": 70,
   "metadata": {},
   "outputs": [
    {
     "data": {
      "text/plain": [
       "count    1805.000000\n",
       "mean     3003.658172\n",
       "std       572.619709\n",
       "min      2000.000000\n",
       "25%      2513.000000\n",
       "50%      3022.000000\n",
       "75%      3478.000000\n",
       "max      4000.000000\n",
       "Name: revenue, dtype: float64"
      ]
     },
     "execution_count": 70,
     "metadata": {},
     "output_type": "execute_result"
    }
   ],
   "source": [
    "group_b_paying_users['revenue'].describe()"
   ]
  },
  {
   "cell_type": "markdown",
   "metadata": {},
   "source": [
    "Видим, что среднее теперь отличается прилично между группами, 2664 и 3004, также медианные значения очень сильно отличаются между группами. В контрольной группе среднее значение значительно выше медианы. Это указывает на влияние высоких выбросов, которые подтягивают среднее значение вверх. В группе B среднее и медианная значения близки друг к другу, что сигнализирует о более равномерном распределении выручки. "
   ]
  },
  {
   "cell_type": "markdown",
   "metadata": {},
   "source": [
    "Почему мы рассматриваем медиану?"
   ]
  },
  {
   "cell_type": "markdown",
   "metadata": {},
   "source": [
    "Медианная выручка контрольной группы составляет 311, а тестовой 3022. Это означает, что 50% пользователей генерируют выручку ниже этого значения, а 50% — выше. Мы наблюдаем, что наличие нескольких высокоплатящих клиентов в контрольной группе может искажать среднее значение, но медианная выручка дает более точное представление о том, как выглядит типичная ситуация среди большинства пользователей."
   ]
  },
  {
   "cell_type": "markdown",
   "metadata": {},
   "source": [
    "Различие между средним и медианной помогает оценить целостность данных. Высокое стандартное отклонение и значительная разница между средним и медианой могут указывать на наличие выбросов и необходимость дальнейшего анализа."
   ]
  },
  {
   "cell_type": "markdown",
   "metadata": {},
   "source": [
    "Визуализация распределения выручки\n",
    "\n",
    "Графики помогут наглядно представить данные. Для визуализации распределения выручки используем гистограмму и boxplot для понимания тенденции и разброса значений."
   ]
  },
  {
   "cell_type": "markdown",
   "metadata": {},
   "source": [
    "Нарисуем boxplot."
   ]
  },
  {
   "cell_type": "code",
   "execution_count": 71,
   "metadata": {},
   "outputs": [],
   "source": [
    "data_paying_users = data_ab.query('revenue != 0')"
   ]
  },
  {
   "cell_type": "code",
   "execution_count": 72,
   "metadata": {
    "scrolled": false
   },
   "outputs": [
    {
     "data": {
      "image/png": "[encoded data removed]",
      "text/plain": [
       "<Figure size 1080x720 with 1 Axes>"
      ]
     },
     "metadata": {
      "needs_background": "light"
     },
     "output_type": "display_data"
    }
   ],
   "source": [
    "plt.figure(figsize=(15, 10))\n",
    "sns.boxplot(data=data_paying_users, x='testgroup', y='revenue');"
   ]
  },
  {
   "cell_type": "markdown",
   "metadata": {},
   "source": [
    "Наблюдаем огромные выбросы в контрольной группе."
   ]
  },
  {
   "cell_type": "markdown",
   "metadata": {},
   "source": [
    "Сравним выручки между группами при помощи графика."
   ]
  },
  {
   "cell_type": "code",
   "execution_count": 73,
   "metadata": {
    "scrolled": false
   },
   "outputs": [
    {
     "data": {
      "image/png": "[encoded data removed]",
      "text/plain": [
       "<Figure size 1080x720 with 1 Axes>"
      ]
     },
     "metadata": {
      "needs_background": "light"
     },
     "output_type": "display_data"
    }
   ],
   "source": [
    "plt.figure(figsize=(15, 10))\n",
    "groups = sns.histplot(data=data_paying_users, \n",
    "             x='revenue', \n",
    "             hue='testgroup', \n",
    "             palette=['r', 'b'],\n",
    "             alpha=0.5,\n",
    "             kde=False)\n",
    "plt.title('Сравнение выручки между группами')\n",
    "plt.xlabel('Выручка')\n",
    "plt.ylabel('Количество');"
   ]
  },
  {
   "cell_type": "markdown",
   "metadata": {},
   "source": [
    "Наблюдаем, что в контрольной группе большая часть данных находится около 300, при этом наблюдаются выбросы. В тестовой группе все данные находятся в промежутке от 2000 до 4000."
   ]
  },
  {
   "cell_type": "markdown",
   "metadata": {},
   "source": [
    "Такие выбросы могут указывать на сезонные изменения(праздники или специальные акции), маркетинговые усилия(хорошая реклама), оплата подписки. Возможно, эти выбросы никак не связаны с проведенным ab-тестом."
   ]
  },
  {
   "cell_type": "markdown",
   "metadata": {},
   "source": [
    "Посмотрим на количество пользователей, у которых revenue > 35000."
   ]
  },
  {
   "cell_type": "code",
   "execution_count": 74,
   "metadata": {},
   "outputs": [
    {
     "data": {
      "text/html": [
       "<div>\n",
       "<style scoped>\n",
       "    .dataframe tbody tr th:only-of-type {\n",
       "        vertical-align: middle;\n",
       "    }\n",
       "\n",
       "    .dataframe tbody tr th {\n",
       "        vertical-align: top;\n",
       "    }\n",
       "\n",
       "    .dataframe thead th {\n",
       "        text-align: right;\n",
       "    }\n",
       "</style>\n",
       "<table border=\"1\" class=\"dataframe\">\n",
       "  <thead>\n",
       "    <tr style=\"text-align: right;\">\n",
       "      <th></th>\n",
       "      <th>user_id</th>\n",
       "      <th>revenue</th>\n",
       "      <th>testgroup</th>\n",
       "    </tr>\n",
       "  </thead>\n",
       "  <tbody>\n",
       "    <tr>\n",
       "      <th>416</th>\n",
       "      <td>417</td>\n",
       "      <td>37324</td>\n",
       "      <td>a</td>\n",
       "    </tr>\n",
       "    <tr>\n",
       "      <th>4428</th>\n",
       "      <td>4429</td>\n",
       "      <td>37304</td>\n",
       "      <td>a</td>\n",
       "    </tr>\n",
       "    <tr>\n",
       "      <th>5777</th>\n",
       "      <td>5778</td>\n",
       "      <td>37315</td>\n",
       "      <td>a</td>\n",
       "    </tr>\n",
       "    <tr>\n",
       "      <th>8065</th>\n",
       "      <td>8066</td>\n",
       "      <td>37307</td>\n",
       "      <td>a</td>\n",
       "    </tr>\n",
       "    <tr>\n",
       "      <th>8743</th>\n",
       "      <td>8744</td>\n",
       "      <td>37334</td>\n",
       "      <td>a</td>\n",
       "    </tr>\n",
       "    <tr>\n",
       "      <th>...</th>\n",
       "      <td>...</td>\n",
       "      <td>...</td>\n",
       "      <td>...</td>\n",
       "    </tr>\n",
       "    <tr>\n",
       "      <th>360696</th>\n",
       "      <td>360697</td>\n",
       "      <td>37347</td>\n",
       "      <td>a</td>\n",
       "    </tr>\n",
       "    <tr>\n",
       "      <th>378668</th>\n",
       "      <td>378669</td>\n",
       "      <td>37297</td>\n",
       "      <td>a</td>\n",
       "    </tr>\n",
       "    <tr>\n",
       "      <th>389341</th>\n",
       "      <td>389342</td>\n",
       "      <td>37298</td>\n",
       "      <td>a</td>\n",
       "    </tr>\n",
       "    <tr>\n",
       "      <th>394580</th>\n",
       "      <td>394581</td>\n",
       "      <td>37302</td>\n",
       "      <td>a</td>\n",
       "    </tr>\n",
       "    <tr>\n",
       "      <th>399294</th>\n",
       "      <td>399295</td>\n",
       "      <td>37321</td>\n",
       "      <td>a</td>\n",
       "    </tr>\n",
       "  </tbody>\n",
       "</table>\n",
       "<p>123 rows × 3 columns</p>\n",
       "</div>"
      ],
      "text/plain": [
       "        user_id  revenue testgroup\n",
       "416         417    37324         a\n",
       "4428       4429    37304         a\n",
       "5777       5778    37315         a\n",
       "8065       8066    37307         a\n",
       "8743       8744    37334         a\n",
       "...         ...      ...       ...\n",
       "360696   360697    37347         a\n",
       "378668   378669    37297         a\n",
       "389341   389342    37298         a\n",
       "394580   394581    37302         a\n",
       "399294   399295    37321         a\n",
       "\n",
       "[123 rows x 3 columns]"
      ]
     },
     "execution_count": 74,
     "metadata": {},
     "output_type": "execute_result"
    }
   ],
   "source": [
    "group_a_paying_users.query('revenue > 35000')"
   ]
  },
  {
   "cell_type": "markdown",
   "metadata": {},
   "source": [
    "Посчитаем процент от всех платящих пользователей контрольной группы."
   ]
  },
  {
   "cell_type": "code",
   "execution_count": 75,
   "metadata": {},
   "outputs": [
    {
     "data": {
      "text/plain": [
       "6.379668049792531"
      ]
     },
     "execution_count": 75,
     "metadata": {},
     "output_type": "execute_result"
    }
   ],
   "source": [
    "group_a_paying_users.query('revenue > 35000').user_id.count() / group_a_paying_users.user_id.count() * 100"
   ]
  },
  {
   "cell_type": "markdown",
   "metadata": {},
   "source": [
    "6.4% достаточно много. Эти данные мы не можем удалить, так как эти пользователи могут быть большими фанатами игры и тратить большие суммы на нее."
   ]
  },
  {
   "cell_type": "markdown",
   "metadata": {},
   "source": [
    "Но из-за этих выбросов мы не можем воспользоваться t-тестом."
   ]
  },
  {
   "cell_type": "markdown",
   "metadata": {},
   "source": [
    "Размер выборки нормальный, но распределение не нормальное, поэтому будем использовать bootstrap. Для этого пропишем функцию для работы с bootstrap."
   ]
  },
  {
   "cell_type": "code",
   "execution_count": 76,
   "metadata": {},
   "outputs": [],
   "source": [
    "def get_bootstrap(\n",
    "    data_column_1,\n",
    "    data_column_2,\n",
    "    boot_it=1000,\n",
    "    statistic=np.mean,\n",
    "    bootstrap_conf_level=0.95\n",
    "):\n",
    "    \"\"\"\n",
    "    Выполняет бутстрэппинг для оценки разницы между двумя выборками.\n",
    "\n",
    "    Параметры:\n",
    "    data_column_1: Первая выборка данных.\n",
    "    data_column_2: Вторая выборка данных.\n",
    "    boot_it: Количество бутстрэп-подвыборок.\n",
    "    statistic: Функция для вычисления интересующей статистики (по умолчанию - среднее).\n",
    "    bootstrap_conf_level: Уровень значимости(по умолчанию 0.95).\n",
    "\n",
    "    Возвращает:\n",
    "    Словарь, с бутстрэп-данными, доверительным интервалом и p-значением.\n",
    "    \"\"\"\n",
    "    \n",
    "    boot_len = max([len(data_column_1), len(data_column_2)])\n",
    "    boot_data = []\n",
    "    for i in tqdm(range(boot_it)):\n",
    "        samples_1 = data_column_1.sample(\n",
    "            boot_len, \n",
    "            replace=True\n",
    "        ).values\n",
    "        \n",
    "        samples_2 = data_column_2.sample(\n",
    "            boot_len, \n",
    "            replace=True\n",
    "        ).values\n",
    "        \n",
    "        boot_data.append(statistic(samples_1 - samples_2))\n",
    "        \n",
    "    pd_boot_data = pd.DataFrame(boot_data)\n",
    "        \n",
    "    left_quant = (1 - bootstrap_conf_level) / 2\n",
    "    right_quant = 1 - (1 - bootstrap_conf_level) / 2\n",
    "    ci = pd_boot_data.quantile([left_quant, right_quant])\n",
    "        \n",
    "    p_1 = norm.cdf(\n",
    "        x=0, \n",
    "        loc=np.mean(boot_data), \n",
    "        scale=np.std(boot_data)\n",
    "    )\n",
    "    p_2 = norm.cdf(\n",
    "        x=0, \n",
    "        loc=-np.mean(boot_data), \n",
    "        scale=np.std(boot_data)\n",
    "    )\n",
    "    p_value = min(p_1, p_2) * 2\n",
    "        \n",
    "    \n",
    "    plt.hist(pd_boot_data[0], bins=50)\n",
    "    \n",
    "    plt.style.use('ggplot')\n",
    "    plt.vlines(ci, ymin=0, ymax=50, linestyle='--')\n",
    "    plt.xlabel('boot_data')\n",
    "    plt.ylabel('frequency')\n",
    "    plt.title('Histogram of boot_data')\n",
    "    plt.show()\n",
    "       \n",
    "    return {'boot_data': boot_data, \n",
    "            'ci': ci, \n",
    "            'p_value': p_value}"
   ]
  },
  {
   "cell_type": "markdown",
   "metadata": {},
   "source": [
    "Проверим следующие метрики на статзначимые различия:\n",
    "* ARPU\n",
    "* ARRPU\n",
    "* Конверсия\n",
    "* Медианные значения выручки"
   ]
  },
  {
   "cell_type": "markdown",
   "metadata": {},
   "source": [
    "Так как в контрольной группе у нас есть выбросы, то медианные значения сильно отличаются, при этом средние значения между группами у платящих пользователей отличаются не так сильно. Думаю, что стоит сравнить между собой ARRPU и медианные значения выручки, чтобы понять, как эти метрики соотносятся друг с другом и сделать выводы."
   ]
  },
  {
   "cell_type": "markdown",
   "metadata": {},
   "source": [
    "#### Формулировка и проверка гипотез"
   ]
  },
  {
   "cell_type": "markdown",
   "metadata": {},
   "source": [
    "#### ARPU"
   ]
  },
  {
   "cell_type": "markdown",
   "metadata": {},
   "source": [
    "Проверим есть ли различия между группами в средних значениях выручки, не исключая пользователей, которые не совершали покупки."
   ]
  },
  {
   "cell_type": "markdown",
   "metadata": {},
   "source": [
    "Сформулируем гипотезы:\n",
    "* Нулевая гипотеза(H0): статистически значимых различий в средних значениях выручки между группами нет\n",
    "* Альтернативная гипотеза(H1): статистически значимые различия в средних значениях выручки между группами есть"
   ]
  },
  {
   "cell_type": "code",
   "execution_count": 77,
   "metadata": {},
   "outputs": [
    {
     "data": {
      "application/vnd.jupyter.widget-view+json": {
       "model_id": "076d614b077e47ac9226cc9d2940beaf",
       "version_major": 2,
       "version_minor": 0
      },
      "text/plain": [
       "HBox(children=(FloatProgress(value=0.0, max=1000.0), HTML(value='')))"
      ]
     },
     "metadata": {},
     "output_type": "display_data"
    },
    {
     "name": "stdout",
     "output_type": "stream",
     "text": [
      "\n"
     ]
    },
    {
     "data": {
      "image/png": "[encoded data removed]",
      "text/plain": [
       "<Figure size 1080x720 with 1 Axes>"
      ]
     },
     "metadata": {
      "needs_background": "light"
     },
     "output_type": "display_data"
    }
   ],
   "source": [
    "plt.figure(figsize=(15, 10))\n",
    "booted_data_all_users = get_bootstrap(\n",
    "    group_a.revenue,\n",
    "    group_b.revenue,\n",
    "    statistic=np.mean)"
   ]
  },
  {
   "cell_type": "code",
   "execution_count": 78,
   "metadata": {},
   "outputs": [
    {
     "data": {
      "text/plain": [
       "0.5424016999221312"
      ]
     },
     "execution_count": 78,
     "metadata": {},
     "output_type": "execute_result"
    }
   ],
   "source": [
    "booted_data_all_users['p_value']"
   ]
  },
  {
   "cell_type": "markdown",
   "metadata": {},
   "source": [
    "p-value > 0.05, поэтому мы не можем отклонить нулевую гипотезу."
   ]
  },
  {
   "cell_type": "markdown",
   "metadata": {},
   "source": [
    "#### ARRPU"
   ]
  },
  {
   "cell_type": "markdown",
   "metadata": {},
   "source": [
    "Сформулируем гипотезы:\n",
    "* Нулевая гипотеза(H0): статистически значимых различий в средних значениях выручки между группами нет\n",
    "* Альтернативная гипотеза(H1): статистически значимые различия в средних значениях выручки между группами есть"
   ]
  },
  {
   "cell_type": "code",
   "execution_count": 79,
   "metadata": {},
   "outputs": [
    {
     "data": {
      "application/vnd.jupyter.widget-view+json": {
       "model_id": "60d4be47431345ee84eb426520a243c1",
       "version_major": 2,
       "version_minor": 0
      },
      "text/plain": [
       "HBox(children=(FloatProgress(value=0.0, max=1000.0), HTML(value='')))"
      ]
     },
     "metadata": {},
     "output_type": "display_data"
    },
    {
     "name": "stdout",
     "output_type": "stream",
     "text": [
      "\n"
     ]
    },
    {
     "data": {
      "image/png": "[encoded data removed]",
      "text/plain": [
       "<Figure size 1080x720 with 1 Axes>"
      ]
     },
     "metadata": {},
     "output_type": "display_data"
    }
   ],
   "source": [
    "plt.figure(figsize=(15, 10))\n",
    "booted_data_paying_users_mean = get_bootstrap(\n",
    "    group_a_paying_users.revenue,\n",
    "    group_b_paying_users.revenue,\n",
    "    statistic=np.mean)"
   ]
  },
  {
   "cell_type": "code",
   "execution_count": 80,
   "metadata": {},
   "outputs": [
    {
     "data": {
      "text/plain": [
       "0.10893309976239157"
      ]
     },
     "execution_count": 80,
     "metadata": {},
     "output_type": "execute_result"
    }
   ],
   "source": [
    "booted_data_paying_users_mean['p_value']"
   ]
  },
  {
   "cell_type": "markdown",
   "metadata": {},
   "source": [
    "p-value > 0.05, поэтому мы не можем отклонить нулевую гипотезу."
   ]
  },
  {
   "cell_type": "markdown",
   "metadata": {},
   "source": [
    "#### Конверсия"
   ]
  },
  {
   "cell_type": "markdown",
   "metadata": {},
   "source": [
    "Посмотрим на конверсию. "
   ]
  },
  {
   "cell_type": "markdown",
   "metadata": {},
   "source": [
    "Проверим, есть ли различия в конверсии между группами.\n",
    "\n",
    "Так как у нас две категориальные переменные (принадлежность к группе и наличие покупки), будем использовать хи-квадрат."
   ]
  },
  {
   "cell_type": "markdown",
   "metadata": {},
   "source": [
    "Сформулируем гипотезы:\n",
    "\n",
    "* Нулевая гипотеза(H0): статистически значимых различий между группами нет\n",
    "* Альтернативная гипотеза(H1): статистически значимые различия между группами есть"
   ]
  },
  {
   "cell_type": "markdown",
   "metadata": {},
   "source": [
    "Создадим таблицу, в которой отобразим распределение значений в наборе данных, путем подсчета числа вхождений каждого значения, т.е. таблицу с разбивкой пользователей по группам и покупкам(или их отсутсвия)."
   ]
  },
  {
   "cell_type": "code",
   "execution_count": 81,
   "metadata": {},
   "outputs": [
    {
     "data": {
      "text/html": [
       "<div>\n",
       "<style scoped>\n",
       "    .dataframe tbody tr th:only-of-type {\n",
       "        vertical-align: middle;\n",
       "    }\n",
       "\n",
       "    .dataframe tbody tr th {\n",
       "        vertical-align: top;\n",
       "    }\n",
       "\n",
       "    .dataframe thead th {\n",
       "        text-align: right;\n",
       "    }\n",
       "</style>\n",
       "<table border=\"1\" class=\"dataframe\">\n",
       "  <thead>\n",
       "    <tr style=\"text-align: right;\">\n",
       "      <th></th>\n",
       "      <th>not_payers</th>\n",
       "      <th>payers</th>\n",
       "    </tr>\n",
       "    <tr>\n",
       "      <th>testgroup</th>\n",
       "      <th></th>\n",
       "      <th></th>\n",
       "    </tr>\n",
       "  </thead>\n",
       "  <tbody>\n",
       "    <tr>\n",
       "      <th>a</th>\n",
       "      <td>200175</td>\n",
       "      <td>1928</td>\n",
       "    </tr>\n",
       "    <tr>\n",
       "      <th>b</th>\n",
       "      <td>200862</td>\n",
       "      <td>1805</td>\n",
       "    </tr>\n",
       "  </tbody>\n",
       "</table>\n",
       "</div>"
      ],
      "text/plain": [
       "           not_payers  payers\n",
       "testgroup                    \n",
       "a              200175    1928\n",
       "b              200862    1805"
      ]
     },
     "execution_count": 81,
     "metadata": {},
     "output_type": "execute_result"
    }
   ],
   "source": [
    "data_ab['payers'] = data_ab['revenue'].apply(lambda x: 1 if x > 0 else 0)\n",
    "conv_data_ab = data_ab.groupby('testgroup').agg({'user_id': 'count', 'payers': 'sum'})\n",
    "conv_data_ab['user_id'] = conv_data_ab['user_id'] - conv_data_ab['payers']\n",
    "conv_data_ab = conv_data_ab.rename(columns={'user_id': 'not_payers'})\n",
    "conv_data_ab"
   ]
  },
  {
   "cell_type": "markdown",
   "metadata": {},
   "source": [
    "Визуализируем данные при помощи тепловой карты."
   ]
  },
  {
   "cell_type": "code",
   "execution_count": 82,
   "metadata": {
    "scrolled": true
   },
   "outputs": [
    {
     "data": {
      "image/png": "[encoded data removed]",
      "text/plain": [
       "<Figure size 432x288 with 2 Axes>"
      ]
     },
     "metadata": {},
     "output_type": "display_data"
    }
   ],
   "source": [
    "sns.heatmap(conv_data_ab, cmap=\"crest\", annot=True, fmt=\".1f\");"
   ]
  },
  {
   "cell_type": "markdown",
   "metadata": {},
   "source": [
    "Как и было написано ранее, количество пользователей в группах примерно одинаковое количество, количество платящих пользователей отличиется примерно на 3%.\n",
    "\n",
    "alpha = 0.05 - критический уровень статистической значимости. Если p-value окажется меньше него - отклоняем гипотезу.\n",
    "\n",
    "Выполним тест независимости хи-квадрат, чтобы определить, существует ли значительная связь между двумя категориальными переменными, при помощи функции chi2_contingency из библиотеки SciPy."
   ]
  },
  {
   "cell_type": "code",
   "execution_count": 83,
   "metadata": {},
   "outputs": [],
   "source": [
    "stat, p, dof, expected = chi2_contingency(conv_data_ab)"
   ]
  },
  {
   "cell_type": "code",
   "execution_count": 84,
   "metadata": {},
   "outputs": [
    {
     "data": {
      "text/plain": [
       "(4.374729521260405, 0.03647561892312613)"
      ]
     },
     "execution_count": 84,
     "metadata": {},
     "output_type": "execute_result"
    }
   ],
   "source": [
    "stat, p"
   ]
  },
  {
   "cell_type": "markdown",
   "metadata": {},
   "source": [
    "Так как p-value меньше уровня значимости, то мы отклоняем нулевую гипотезу. Наборы акционных предложений для контрольной группы оказали влияние на желание пользователей совершать покупки."
   ]
  },
  {
   "cell_type": "markdown",
   "metadata": {},
   "source": [
    "Теперь проверим есть ли различия между группами в медианных значениях выручки, исключая пользователей, которые не совершали покупки. Используем медианные значения, так как в тестовой группе у нас есть выбросы."
   ]
  },
  {
   "cell_type": "markdown",
   "metadata": {},
   "source": [
    "#### Медианное значение"
   ]
  },
  {
   "cell_type": "markdown",
   "metadata": {},
   "source": [
    "Рассмотрим медианные значения, потому что:\n",
    "\n",
    "* Устойчивость к выбросам: Медиана не подвержена влиянию крайне высоких или низких значений, что делает ее более надежной метрикой для оценки типичной выручки пользователей.\n",
    "  \n",
    "* Отражение распределения: Медиана позволяет понять, где сосредоточена большая часть выручки, что может быть более информативным, чем среднее значение, которое может искажаться выбросами."
   ]
  },
  {
   "cell_type": "markdown",
   "metadata": {},
   "source": [
    "Так как у нас уже проведен статистический анализ ARRPU, то мы можем провести статистический анализ медианных значений, чтобы понять, как эти метрики соотносятся друг с другом и сделать выводы."
   ]
  },
  {
   "cell_type": "markdown",
   "metadata": {},
   "source": [
    "Сформулируем гипотезы:\n",
    "* Нулевая гипотеза(H0): статистически значимых различий в медианных значениях выручки между группами нет\n",
    "* Альтернативная гипотеза(H1): статистически значимые различия в медианных значениях выручки между группами есть"
   ]
  },
  {
   "cell_type": "code",
   "execution_count": 85,
   "metadata": {},
   "outputs": [
    {
     "data": {
      "application/vnd.jupyter.widget-view+json": {
       "model_id": "82f7b546c1c944968e7d5674d3e532b0",
       "version_major": 2,
       "version_minor": 0
      },
      "text/plain": [
       "HBox(children=(FloatProgress(value=0.0, max=1000.0), HTML(value='')))"
      ]
     },
     "metadata": {},
     "output_type": "display_data"
    },
    {
     "name": "stdout",
     "output_type": "stream",
     "text": [
      "\n"
     ]
    },
    {
     "data": {
      "image/png": "[encoded data removed]",
      "text/plain": [
       "<Figure size 1080x720 with 1 Axes>"
      ]
     },
     "metadata": {},
     "output_type": "display_data"
    }
   ],
   "source": [
    "plt.figure(figsize=(15, 10))\n",
    "booted_data_paying_users_median = get_bootstrap(\n",
    "    group_a_paying_users.revenue,\n",
    "    group_b_paying_users.revenue,\n",
    "    statistic=np.median)"
   ]
  },
  {
   "cell_type": "code",
   "execution_count": 86,
   "metadata": {},
   "outputs": [
    {
     "data": {
      "text/plain": [
       "0.0"
      ]
     },
     "execution_count": 86,
     "metadata": {},
     "output_type": "execute_result"
    }
   ],
   "source": [
    "booted_data_paying_users_median['p_value']"
   ]
  },
  {
   "cell_type": "markdown",
   "metadata": {},
   "source": [
    "p-value < 0.05, и 0 не входит в доверительный интервал, а это значит, что статистически значимые различия в медианных значениях выручки между группами есть."
   ]
  },
  {
   "cell_type": "markdown",
   "metadata": {},
   "source": [
    "**Вывод:** пользователи на группы разбиты примерно одинаково, количество платящих пользователей в группах отличается на 3,5% (в контрольной группе больше чем тестовой), выручка между тестовой и контрольной группами отличаются на 2.7% (в тестовой группе больше чем контрольной), ARPU в тестовой группе выше на 5% чем в контрольной, ARPPU в тестовой группе больше на 12.75% чем в контрольной.\n",
    "В контрольной группе есть выбросы. Поэтому для проверки гипотезы использовали bootstrap, кроме конверсии, так как там две категориальные переменные (принадлежность к группе и наличие покупки) - использовали хи-квадрат.\n",
    "\n",
    "Выводы по статанализу: \n",
    "\n",
    "* ARPU и ARRPU не продемонстрировали статистически значимых различий между группами, однако, конверсия показала, что определенные акционные предложения оказали влияние на повышение покупательской активности пользователей.\n",
    "\n",
    "* При рассмотрении медианных значений выручки было обнаружено значимое различие, что подчеркивает важность медианы в контексте наличия выбросов.\n",
    "\n",
    "* Эти результаты подчеркивают, что при планировании акционных предложений и оценке их эффективности важным аспектом является как средняя, так и медианная выручка, а также уровень конверсии.\n",
    "\n",
    "Сложно дать однозначный ответ какие наборы акционных предложений лучше, так как у нас нет никакой информации про дорогие покупки в контрольной группе(выбросы). Возможно это был какой-то сезонный всплеск или событие, которое никак не связано с проведением ab-теста. А возможно, что в контрольную группу попали пользователи из определенного сегмента. Но то, что в одну группу попали пользователи с большими покупками, а во вторую нет, может говорить о том, что изначально пользователи неправильно были разделены на группы.\n",
    "\n",
    "На основании этих данных можно рекомендовать провести ab-тест заново, уделить больше времени к подговке, более тщательному разделению пользователей на группы, дальнейшей проверке групп на корректность, более глубокий анализ и потенциальную корректировку стратегий, направленных на увеличение конверсии и выручки, а также дальнейшие эксперименты для более точной настройки акционных предложений.\n"
   ]
  },
  {
   "cell_type": "markdown",
   "metadata": {},
   "source": [
    "## Задание 3"
   ]
  },
  {
   "cell_type": "markdown",
   "metadata": {},
   "source": [
    "В игре Plants & Gardens каждый месяц проводятся тематические события, ограниченные по времени. В них игроки могут получить уникальные предметы для сада и персонажей, дополнительные монеты или бонусы. Для получения награды требуется пройти ряд уровней за определенное время. С помощью каких метрик можно оценить результаты последнего прошедшего события?\n",
    "\n",
    "Предположим, в другом событии мы усложнили механику событий так, что при каждой неудачной попытке выполнения уровня игрок будет откатываться на несколько уровней назад. Изменится ли набор метрик оценки результата? Если да, то как?"
   ]
  },
  {
   "cell_type": "markdown",
   "metadata": {},
   "source": [
    "Приоритизация и классификация метрик:\n",
    "\n",
    "Метрики роста:\n",
    "\n",
    "1. DAU, WAU, MAU. Для начала нужно посчитать количество активных пользователей в период проведения тематического события. Как пользователи будут вести себя от начала до конца события(DAU, WAU, MAU). А также необходимо сравнить как вели себя пользователи всех прошедших событий по сравнению с последним (нами оцениваемым). С помощью этой метрики можно оценить на сколько пользователям было интересно данное событие. \n",
    "\n",
    "2. Новые пользователи. Разбить пользователей на сегменты, чтобы посмотреть количество новых, старых и ушедших пользователей. Если событие было интересно пользователям, то количество новых и старых пользователей будет расти, а ушедших будет небольшой процент.\n",
    "\n",
    "Метрики продукта:\n",
    "\n",
    "3. Retention Rate. Необходимо посмотреть на Retention, чтобы понять как событие повлияло на удержание пользователей. Стало ли их больше после проведения тематического события.\n",
    "\n",
    "4. Время в игре. Сколько времени пользователь провел в игре, изменилось ли его времяпрепровождение с началом проведения тематического события и после окончания.\n",
    "\n",
    "5. Уровни «отказа», откаты. Можно проверить, нет ли таких уровней, на которых отваливается большая часть пользователей.\n",
    "\n",
    "Метрики вовлеченности:\n",
    "\n",
    "6. Частота завершения уровней. Какое количество пользователей переходит на следующий уровень игры, сколько пользователей проходят все уровни за определенное время. \n",
    "\n",
    "7. Количество предметов и бонусов. Активность и интерес пользователей можно оценить с помощью количества предметов и бонусов, которые пользователь может получить во время проведения тематического события.\n",
    "\n",
    "Метрики дохода:\n",
    "\n",
    "8. Revenue. Если в игре на момент проведения тематического события есть платные услуги, то посмотреть как событие влияет на revenue.\n",
    "\n",
    "При усложнении механики следует смотреть:\n",
    "\n",
    "1. Какое количество пользователей возвращаются в игру. Тут есть риск, что вместо мотивации пользователей можно получить их раздраженность, которая приведет к потере пользователей.\n",
    "\n",
    "2. Как часто пользователи откатываются назад, после какой попытки пройти уровень они продвигаются дальше или перестают играть.\n",
    "\n",
    "3. Активность пользователей.\n",
    "\n",
    "4. Время, которое пользователь проводит в игре."
   ]
  },
  {
   "cell_type": "markdown",
   "metadata": {},
   "source": [
    "Использование этих метрик поможет глубже понять зависимость между механиками событий и поведением пользователей. Это позволит не только оценить эффективность текущих событий, но и принимать более обоснованные решения о будущем игровом контенте."
   ]
  }
 ],
 "metadata": {
  "kernelspec": {
   "display_name": "Python 3",
   "language": "python",
   "name": "python3"
  },
  "language_info": {
   "codemirror_mode": {
    "name": "ipython",
    "version": 3
   },
   "file_extension": ".py",
   "mimetype": "text/x-python",
   "name": "python",
   "nbconvert_exporter": "python",
   "pygments_lexer": "ipython3",
   "version": "3.7.3"
  }
 },
 "nbformat": 4,
 "nbformat_minor": 4
}
