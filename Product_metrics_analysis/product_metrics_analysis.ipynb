{
 "cells": [
  {
   "cell_type": "markdown",
   "id": "b7cf04d5",
   "metadata": {
    "toc": true
   },
   "source": [
    "<h1>Table of Contents<span class=\"tocSkip\"></span></h1>\n",
    "<div class=\"toc\"><ul class=\"toc-item\"><li><span><a href=\"#Анализ-пользователей-ленты-новостей\" data-toc-modified-id=\"Анализ-пользователей-ленты-новостей-1\"><span class=\"toc-item-num\">1&nbsp;&nbsp;</span>Анализ пользователей ленты новостей</a></span><ul class=\"toc-item\"><li><span><a href=\"#Аудиторные-данные\" data-toc-modified-id=\"Аудиторные-данные-1.1\"><span class=\"toc-item-num\">1.1&nbsp;&nbsp;</span>Аудиторные данные</a></span><ul class=\"toc-item\"><li><span><a href=\"#DAU\" data-toc-modified-id=\"DAU-1.1.1\"><span class=\"toc-item-num\">1.1.1&nbsp;&nbsp;</span>DAU</a></span></li></ul></li><li><span><a href=\"#Характер-Retention-пользователей\" data-toc-modified-id=\"Характер-Retention-пользователей-1.2\"><span class=\"toc-item-num\">1.2&nbsp;&nbsp;</span>Характер Retention пользователей</a></span><ul class=\"toc-item\"><li><span><a href=\"#Активные-пользователи,-привлеченные-рекламной-компанией\" data-toc-modified-id=\"Активные-пользователи,-привлеченные-рекламной-компанией-1.2.1\"><span class=\"toc-item-num\">1.2.1&nbsp;&nbsp;</span>Активные пользователи, привлеченные рекламной компанией</a></span></li><li><span><a href=\"#Активные-органические-пользователи\" data-toc-modified-id=\"Активные-органические-пользователи-1.2.2\"><span class=\"toc-item-num\">1.2.2&nbsp;&nbsp;</span>Активные органические пользователи</a></span></li></ul></li><li><span><a href=\"#Пользователи,-которые-не-смогли-воспользоваться-лентой\" data-toc-modified-id=\"Пользователи,-которые-не-смогли-воспользоваться-лентой-1.3\"><span class=\"toc-item-num\">1.3&nbsp;&nbsp;</span>Пользователи, которые не смогли воспользоваться лентой</a></span><ul class=\"toc-item\"><li><span><a href=\"#Распределение-пользователей-по-странам\" data-toc-modified-id=\"Распределение-пользователей-по-странам-1.3.1\"><span class=\"toc-item-num\">1.3.1&nbsp;&nbsp;</span>Распределение пользователей по странам</a></span></li><li><span><a href=\"#Распределение-пользователей-по-городам\" data-toc-modified-id=\"Распределение-пользователей-по-городам-1.3.2\"><span class=\"toc-item-num\">1.3.2&nbsp;&nbsp;</span>Распределение пользователей по городам</a></span></li></ul></li></ul></li><li><span><a href=\"#Активность-аудитории\" data-toc-modified-id=\"Активность-аудитории-2\"><span class=\"toc-item-num\">2&nbsp;&nbsp;</span>Активность аудитории</a></span><ul class=\"toc-item\"><li><span><a href=\"#Аудитория-по-неделям-в-разрезе-пользователей\" data-toc-modified-id=\"Аудитория-по-неделям-в-разрезе-пользователей-2.1\"><span class=\"toc-item-num\">2.1&nbsp;&nbsp;</span>Аудитория по неделям в разрезе пользователей</a></span></li><li><span><a href=\"#Активная-аудитория-по-неделям\" data-toc-modified-id=\"Активная-аудитория-по-неделям-2.2\"><span class=\"toc-item-num\">2.2&nbsp;&nbsp;</span>Активная аудитория по неделям</a></span></li></ul></li></ul></div>"
   ]
  },
  {
   "cell_type": "markdown",
   "id": "c885a1a7",
   "metadata": {},
   "source": [
    "# Анализ продуктовых метрик"
   ]
  },
  {
   "cell_type": "markdown",
   "id": "2feca8ad",
   "metadata": {},
   "source": [
    "## Анализ пользователей ленты новостей"
   ]
  },
  {
   "cell_type": "markdown",
   "id": "f25fe041",
   "metadata": {},
   "source": [
    "### Аудиторные данные"
   ]
  },
  {
   "cell_type": "markdown",
   "id": "73e5df89",
   "metadata": {},
   "source": [
    "#### DAU"
   ]
  },
  {
   "cell_type": "code",
   "execution_count": null,
   "id": "d4b24b54",
   "metadata": {},
   "outputs": [],
   "source": [
    "SELECT toStartOfDay(toDateTime(time)) AS __timestamp,\n",
    "       count(DISTINCT user_id) AS \"Уникальные пользователи\"\n",
    "FROM feed_actions\n",
    "GROUP BY toStartOfDay(toDateTime(time))\n",
    "ORDER BY \"Уникальные пользователи\" DESC\n",
    "LIMIT 50000;"
   ]
  },
  {
   "cell_type": "markdown",
   "id": "be7bf62d",
   "metadata": {},
   "source": [
    "### Характер Retention пользователей"
   ]
  },
  {
   "cell_type": "markdown",
   "id": "f1780282",
   "metadata": {},
   "source": [
    "#### Активные пользователи, привлеченные рекламной компанией"
   ]
  },
  {
   "cell_type": "code",
   "execution_count": null,
   "id": "ea08e6b4",
   "metadata": {},
   "outputs": [],
   "source": [
    "SELECT toStartOfDay(toDateTime(date)) AS __timestamp,\n",
    "       count(user_id) AS \"Активные пользователи\"\n",
    "FROM\n",
    "  (SELECT date, user_id,\n",
    "                source\n",
    "   FROM\n",
    "     (SELECT user_id\n",
    "      FROM feed_actions\n",
    "      GROUP BY user_id\n",
    "      HAVING min(toDate(time)) = '2024-10-10') t1\n",
    "   JOIN\n",
    "     (SELECT DISTINCT user_id,\n",
    "                      toDate(time) AS date,\n",
    "                      source\n",
    "      FROM feed_actions) t2 USING user_id) AS virtual_table\n",
    "WHERE ((source = 'ads'))\n",
    "GROUP BY toStartOfDay(toDateTime(date))\n",
    "ORDER BY \"Активные пользователи\" DESC\n",
    "LIMIT 1000;"
   ]
  },
  {
   "cell_type": "markdown",
   "id": "65014d57",
   "metadata": {},
   "source": [
    "#### Активные органические пользователи"
   ]
  },
  {
   "cell_type": "code",
   "execution_count": null,
   "id": "4c6a2a59",
   "metadata": {},
   "outputs": [],
   "source": [
    "SELECT toStartOfDay(toDateTime(date)) AS __timestamp,\n",
    "       count(user_id) AS \"Активные пользователи\"\n",
    "FROM\n",
    "  (SELECT date, user_id,\n",
    "                source\n",
    "   FROM\n",
    "     (SELECT user_id\n",
    "      FROM feed_actions\n",
    "      GROUP BY user_id\n",
    "      HAVING min(toDate(time)) = '2024-10-10') t1\n",
    "   JOIN\n",
    "     (SELECT DISTINCT user_id,\n",
    "                      toDate(time) AS date,\n",
    "                      source\n",
    "      FROM feed_actions) t2 USING user_id) AS virtual_table\n",
    "WHERE ((source = 'organic'))\n",
    "GROUP BY toStartOfDay(toDateTime(date))\n",
    "ORDER BY \"Активные пользователи\" DESC\n",
    "LIMIT 1000;"
   ]
  },
  {
   "cell_type": "markdown",
   "id": "638a660f",
   "metadata": {},
   "source": [
    "### Пользователи, которые не смогли воспользоваться лентой"
   ]
  },
  {
   "cell_type": "markdown",
   "id": "e5f6b0f5",
   "metadata": {},
   "source": [
    "#### Распределение пользователей по странам"
   ]
  },
  {
   "cell_type": "code",
   "execution_count": null,
   "id": "22e9ed92",
   "metadata": {},
   "outputs": [],
   "source": [
    "SELECT toStartOfDay(toDateTime(time)) AS __timestamp,\n",
    "       country AS country,\n",
    "       count(DISTINCT user_id) AS \"COUNT_DISTINCT(user_id)\"\n",
    "FROM\n",
    "  (SELECT *\n",
    "   FROM feed_actions\n",
    "   WHERE toDate(time) >= '2024-10-17'\n",
    "     AND toDate(time) <= '2024-10-21') AS virtual_table\n",
    "GROUP BY country,\n",
    "         toStartOfDay(toDateTime(time))\n",
    "ORDER BY \"COUNT_DISTINCT(user_id)\" DESC\n",
    "LIMIT 1000;"
   ]
  },
  {
   "cell_type": "markdown",
   "id": "471ef7af",
   "metadata": {},
   "source": [
    "#### Распределение пользователей по городам"
   ]
  },
  {
   "cell_type": "code",
   "execution_count": null,
   "id": "0910244d",
   "metadata": {},
   "outputs": [],
   "source": [
    "SELECT toStartOfDay(toDateTime(time)) AS __timestamp,\n",
    "       city AS city,\n",
    "       count(DISTINCT user_id) AS \"COUNT_DISTINCT(user_id)\"\n",
    "FROM\n",
    "  (SELECT *\n",
    "   FROM feed_actions\n",
    "   WHERE toDate(time) >= '2024-10-17'\n",
    "     AND toDate(time) <= '2024-10-21') AS virtual_table\n",
    "WHERE city IN ('Novosibirsk',\n",
    "               'Yekaterinburg',\n",
    "               'Moscow',\n",
    "               'Saint Petersburg',\n",
    "               'Chelyabinsk',\n",
    "               'Nizhniy Novgorod')\n",
    "GROUP BY city,\n",
    "         toStartOfDay(toDateTime(time))\n",
    "ORDER BY \"COUNT_DISTINCT(user_id)\" DESC\n",
    "LIMIT 1000;"
   ]
  },
  {
   "cell_type": "markdown",
   "id": "91da3da3",
   "metadata": {},
   "source": [
    "## Активность аудитории"
   ]
  },
  {
   "cell_type": "markdown",
   "id": "1329c91f",
   "metadata": {},
   "source": [
    "### Аудитория по неделям в разрезе пользователей"
   ]
  },
  {
   "cell_type": "code",
   "execution_count": null,
   "id": "42bbcea8",
   "metadata": {},
   "outputs": [],
   "source": [
    "SELECT toStartOfDay(toDateTime(this_week)) AS __timestamp,\n",
    "       status AS status,\n",
    "       AVG(count_users) AS \"AVG(count_users)\"\n",
    "FROM\n",
    "  (SELECT this_week, -COUNT(DISTINCT user_id) AS count_users,\n",
    "                      status\n",
    "   FROM\n",
    "     (SELECT user_id,\n",
    "             groupUniqArray(toMonday(toDate(time))) AS week_visited,\n",
    "             addWeeks(arrayJoin(week_visited), +1) AS this_week,\n",
    "             addWeeks(this_week, -1) AS previous_week,\n",
    "             if(has(week_visited, this_week) = 0, 'gone', 'retained') AS status\n",
    "      FROM feed_actions\n",
    "      GROUP BY user_id)\n",
    "   WHERE status = 'gone'\n",
    "   GROUP BY this_week,\n",
    "            status\n",
    "   UNION ALL SELECT this_week,\n",
    "                    toInt64(COUNT(DISTINCT user_id)) AS count_users,\n",
    "                    status\n",
    "   FROM\n",
    "     (SELECT user_id,\n",
    "             groupUniqArray(toMonday(toDate(time))) AS week_visited,\n",
    "             arrayJoin(week_visited) AS this_week,\n",
    "             addWeeks(this_week, -1) AS previous_week,\n",
    "             if(has(week_visited, addWeeks(this_week, -1)) = 0, 'new', 'retained') AS status\n",
    "      FROM feed_actions\n",
    "      GROUP BY user_id)\n",
    "   GROUP BY this_week,\n",
    "            status) AS virtual_table\n",
    "GROUP BY status,\n",
    "         toStartOfDay(toDateTime(this_week))\n",
    "ORDER BY \"AVG(count_users)\" DESC\n",
    "LIMIT 1000;"
   ]
  },
  {
   "cell_type": "markdown",
   "id": "9ce7d9ca",
   "metadata": {},
   "source": [
    "### Активная аудитория по неделям"
   ]
  },
  {
   "cell_type": "code",
   "execution_count": null,
   "id": "57e322d3",
   "metadata": {},
   "outputs": [],
   "source": [
    "SELECT toMonday(toDateTime(time)) AS __timestamp,\n",
    "       count(DISTINCT user_id) AS \"Уникальные пользователи\"\n",
    "FROM feed_actions\n",
    "GROUP BY toMonday(toDateTime(time))\n",
    "ORDER BY \"Уникальные пользователи\" DESC\n",
    "LIMIT 10000;"
   ]
  }
 ],
 "metadata": {
  "kernelspec": {
   "display_name": "Python 3 (ipykernel)",
   "language": "python",
   "name": "python3"
  },
  "language_info": {
   "codemirror_mode": {
    "name": "ipython",
    "version": 3
   },
   "file_extension": ".py",
   "mimetype": "text/x-python",
   "name": "python",
   "nbconvert_exporter": "python",
   "pygments_lexer": "ipython3",
   "version": "3.11.3"
  },
  "toc": {
   "base_numbering": 1,
   "nav_menu": {},
   "number_sections": true,
   "sideBar": true,
   "skip_h1_title": true,
   "title_cell": "Table of Contents",
   "title_sidebar": "Contents",
   "toc_cell": true,
   "toc_position": {},
   "toc_section_display": true,
   "toc_window_display": false
  }
 },
 "nbformat": 4,
 "nbformat_minor": 5
}
